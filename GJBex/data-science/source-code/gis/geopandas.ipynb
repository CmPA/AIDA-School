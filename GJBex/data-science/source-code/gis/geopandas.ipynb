{
 "cells": [
  {
   "cell_type": "markdown",
   "metadata": {},
   "source": [
    "# GeoPandas"
   ]
  },
  {
   "cell_type": "markdown",
   "metadata": {},
   "source": [
    "## Reading files"
   ]
  },
  {
   "cell_type": "markdown",
   "metadata": {},
   "source": [
    "Load the required modules"
   ]
  },
  {
   "cell_type": "code",
   "execution_count": 1,
   "metadata": {
    "collapsed": true
   },
   "outputs": [],
   "source": [
    "import geopandas as gpd\n",
    "%matplotlib inline"
   ]
  },
  {
   "cell_type": "markdown",
   "metadata": {},
   "source": [
    "Load a GeoJSON file containing GeoJSON file."
   ]
  },
  {
   "cell_type": "code",
   "execution_count": 2,
   "metadata": {
    "collapsed": true
   },
   "outputs": [],
   "source": [
    "countries = gpd.read_file('Data/countries.geo.json')"
   ]
  },
  {
   "cell_type": "markdown",
   "metadata": {},
   "source": [
    "Get info on the dataframe."
   ]
  },
  {
   "cell_type": "code",
   "execution_count": 3,
   "metadata": {
    "scrolled": true
   },
   "outputs": [
    {
     "name": "stdout",
     "output_type": "stream",
     "text": [
      "<class 'geopandas.geodataframe.GeoDataFrame'>\n",
      "RangeIndex: 180 entries, 0 to 179\n",
      "Data columns (total 3 columns):\n",
      "id          180 non-null object\n",
      "name        180 non-null object\n",
      "geometry    180 non-null object\n",
      "dtypes: object(3)\n",
      "memory usage: 4.3+ KB\n"
     ]
    }
   ],
   "source": [
    "countries.info()"
   ]
  },
  {
   "cell_type": "markdown",
   "metadata": {},
   "source": [
    "Set the country (ISO) ID as the index for the dataframe."
   ]
  },
  {
   "cell_type": "code",
   "execution_count": 5,
   "metadata": {},
   "outputs": [],
   "source": [
    "countries.set_index('id', inplace=True)"
   ]
  },
  {
   "cell_type": "markdown",
   "metadata": {},
   "source": [
    "Get the geomerty for Belgium. It is returned as a Shapely object, a `Polygon` in this case."
   ]
  },
  {
   "cell_type": "code",
   "execution_count": 6,
   "metadata": {
    "collapsed": true
   },
   "outputs": [],
   "source": [
    "belgium_shape = countries.at['BEL', 'geometry']"
   ]
  },
  {
   "cell_type": "code",
   "execution_count": 7,
   "metadata": {},
   "outputs": [
    {
     "data": {
      "text/plain": [
       "shapely.geometry.polygon.Polygon"
      ]
     },
     "execution_count": 7,
     "metadata": {},
     "output_type": "execute_result"
    }
   ],
   "source": [
    "type(belgium_shape)"
   ]
  },
  {
   "cell_type": "code",
   "execution_count": 8,
   "metadata": {
    "scrolled": true
   },
   "outputs": [
    {
     "data": {
      "image/svg+xml": [
       "<svg xmlns=\"http://www.w3.org/2000/svg\" xmlns:xlink=\"http://www.w3.org/1999/xlink\" width=\"100.0\" height=\"100.0\" viewBox=\"2.3678496 49.383760599999995 3.9345318 2.236986800000004\" preserveAspectRatio=\"xMinYMin meet\"><g transform=\"matrix(1,0,0,-1,0,101.00450799999999)\"><path fill-rule=\"evenodd\" fill=\"#66cc99\" stroke=\"#555555\" stroke-width=\"0.078690636\" opacity=\"0.6\" d=\"M 3.314971,51.345781 L 4.047071,51.267259 L 4.973991,51.475024 L 5.606976,51.037298 L 6.156658,50.803721 L 6.043073,50.128052 L 5.782417,50.090328 L 5.674052,49.529484 L 4.799222,49.985373 L 4.286023,49.907497 L 3.588184,50.378992 L 3.123252,50.780363 L 2.658422,50.796848 L 2.513573,51.148506 L 3.314971,51.345781 z\" /></g></svg>"
      ],
      "text/plain": [
       "<shapely.geometry.polygon.Polygon at 0x7f707ad9bdd8>"
      ]
     },
     "execution_count": 8,
     "metadata": {},
     "output_type": "execute_result"
    }
   ],
   "source": [
    "belgium_shape"
   ]
  },
  {
   "cell_type": "markdown",
   "metadata": {},
   "source": [
    "## Spatial selection"
   ]
  },
  {
   "cell_type": "markdown",
   "metadata": {},
   "source": [
    "Spatial selections can be made using the `cx` method.  The latter takes a range of $x$ and $y$ coordinates (or longitude and lattitude, depending on the coordinate reference system), and returns all shapes that intersect that region."
   ]
  },
  {
   "cell_type": "code",
   "execution_count": 9,
   "metadata": {
    "collapsed": true
   },
   "outputs": [],
   "source": [
    "benelux = countries.cx[5.0:6.0, 50.0:51.0]"
   ]
  },
  {
   "cell_type": "code",
   "execution_count": 10,
   "metadata": {},
   "outputs": [
    {
     "data": {
      "image/png": "[encoded data removed]",
      "text/plain": [
       "<matplotlib.figure.Figure at 0x7f707adbf710>"
      ]
     },
     "metadata": {},
     "output_type": "display_data"
    }
   ],
   "source": [
    "benelux.plot();"
   ]
  },
  {
   "cell_type": "code",
   "execution_count": 11,
   "metadata": {},
   "outputs": [
    {
     "data": {
      "text/html": [
       "<div>\n",
       "<style>\n",
       "    .dataframe thead tr:only-child th {\n",
       "        text-align: right;\n",
       "    }\n",
       "\n",
       "    .dataframe thead th {\n",
       "        text-align: left;\n",
       "    }\n",
       "\n",
       "    .dataframe tbody tr th {\n",
       "        vertical-align: top;\n",
       "    }\n",
       "</style>\n",
       "<table border=\"1\" class=\"dataframe\">\n",
       "  <thead>\n",
       "    <tr style=\"text-align: right;\">\n",
       "      <th></th>\n",
       "      <th>name</th>\n",
       "      <th>geometry</th>\n",
       "    </tr>\n",
       "    <tr>\n",
       "      <th>id</th>\n",
       "      <th></th>\n",
       "      <th></th>\n",
       "    </tr>\n",
       "  </thead>\n",
       "  <tbody>\n",
       "    <tr>\n",
       "      <th>BEL</th>\n",
       "      <td>Belgium</td>\n",
       "      <td>POLYGON ((3.314971 51.345781, 4.047071 51.2672...</td>\n",
       "    </tr>\n",
       "    <tr>\n",
       "      <th>LUX</th>\n",
       "      <td>Luxembourg</td>\n",
       "      <td>POLYGON ((6.043073 50.128052, 6.242751 49.9022...</td>\n",
       "    </tr>\n",
       "    <tr>\n",
       "      <th>NLD</th>\n",
       "      <td>Netherlands</td>\n",
       "      <td>POLYGON ((6.074183 53.510403, 6.90514 53.48216...</td>\n",
       "    </tr>\n",
       "  </tbody>\n",
       "</table>\n",
       "</div>"
      ],
      "text/plain": [
       "            name                                           geometry\n",
       "id                                                                 \n",
       "BEL      Belgium  POLYGON ((3.314971 51.345781, 4.047071 51.2672...\n",
       "LUX   Luxembourg  POLYGON ((6.043073 50.128052, 6.242751 49.9022...\n",
       "NLD  Netherlands  POLYGON ((6.074183 53.510403, 6.90514 53.48216..."
      ]
     },
     "execution_count": 11,
     "metadata": {},
     "output_type": "execute_result"
    }
   ],
   "source": [
    "benelux"
   ]
  },
  {
   "cell_type": "markdown",
   "metadata": {},
   "source": [
    "This dataframe can be converted into a Shapely object."
   ]
  },
  {
   "cell_type": "code",
   "execution_count": 12,
   "metadata": {},
   "outputs": [
    {
     "data": {
      "image/svg+xml": [
       "<svg xmlns=\"http://www.w3.org/2000/svg\" xmlns:xlink=\"http://www.w3.org/1999/xlink\" width=\"100.0\" height=\"100.0\" viewBox=\"2.3304338 49.2595278 4.9447583999999996 4.434014399999995\" preserveAspectRatio=\"xMinYMin meet\"><g transform=\"matrix(1,0,0,-1,0,102.95307)\"><path fill-rule=\"evenodd\" fill=\"#66cc99\" stroke=\"#555555\" stroke-width=\"0.09889516799999999\" opacity=\"0.6\" d=\"M 6.043073,50.128052 L 6.242751,49.902226 L 6.18632,49.463803 L 5.897759,49.442667 L 5.674052,49.529484 L 4.799222,49.985373 L 4.286023,49.907497 L 3.588184,50.378992 L 3.123252,50.780363 L 2.658422,50.796848 L 2.513573,51.148506 L 3.314971,51.345781 L 3.315011593325167,51.34577664612884 L 3.830289,51.620545 L 4.705997,53.091798 L 6.074183,53.510403 L 6.90514,53.482162 L 7.092053,53.144043 L 6.84287,52.22844 L 6.589397,51.852029 L 5.988658,51.851616 L 6.156658,50.803721 L 6.043073,50.128052 z\" /></g></svg>"
      ],
      "text/plain": [
       "<shapely.geometry.polygon.Polygon at 0x7f7078388908>"
      ]
     },
     "execution_count": 12,
     "metadata": {},
     "output_type": "execute_result"
    }
   ],
   "source": [
    "benelux_shape = benelux.unary_union\n",
    "benelux_shape"
   ]
  },
  {
   "cell_type": "code",
   "execution_count": 13,
   "metadata": {},
   "outputs": [
    {
     "data": {
      "text/plain": [
       "shapely.geometry.polygon.Polygon"
      ]
     },
     "execution_count": 13,
     "metadata": {},
     "output_type": "execute_result"
    }
   ],
   "source": [
    "type(benelux_shape)"
   ]
  },
  {
   "cell_type": "markdown",
   "metadata": {},
   "source": [
    "The coordinate reference system of the original data is an attribute of the dataframe."
   ]
  },
  {
   "cell_type": "markdown",
   "metadata": {},
   "source": [
    "## Coordinate system"
   ]
  },
  {
   "cell_type": "code",
   "execution_count": 14,
   "metadata": {},
   "outputs": [
    {
     "data": {
      "text/plain": [
       "{'init': 'epsg:4326'}"
      ]
     },
     "execution_count": 14,
     "metadata": {},
     "output_type": "execute_result"
    }
   ],
   "source": [
    "countries.crs"
   ]
  },
  {
   "cell_type": "markdown",
   "metadata": {},
   "source": [
    "Many of the operations that work on Shapely objects have their counterpart on GeoPandas `GeoSeries` and `GeoDataFrame`. The result of computing the boundary on our dataframe is a `GeoSeries` of `LineString` shapes."
   ]
  },
  {
   "cell_type": "markdown",
   "metadata": {},
   "source": [
    "## Constructive operations"
   ]
  },
  {
   "cell_type": "code",
   "execution_count": 15,
   "metadata": {
    "collapsed": true
   },
   "outputs": [],
   "source": [
    "boundaries = countries.boundary"
   ]
  },
  {
   "cell_type": "code",
   "execution_count": 16,
   "metadata": {},
   "outputs": [
    {
     "data": {
      "image/png": "[encoded data removed]",
      "text/plain": [
       "<matplotlib.figure.Figure at 0x7f707832f400>"
      ]
     },
     "metadata": {},
     "output_type": "display_data"
    }
   ],
   "source": [
    "boundaries.plot();"
   ]
  },
  {
   "cell_type": "code",
   "execution_count": 49,
   "metadata": {},
   "outputs": [
    {
     "data": {
      "text/plain": [
       "count                                                   180\n",
       "unique                                                  180\n",
       "top       LINESTRING (-61.2 -51.85, -60 -51.25, -59.15 -...\n",
       "freq                                                      1\n",
       "dtype: object"
      ]
     },
     "execution_count": 49,
     "metadata": {},
     "output_type": "execute_result"
    }
   ],
   "source": [
    "boundaries.describe()"
   ]
  },
  {
   "cell_type": "markdown",
   "metadata": {},
   "source": [
    "## Set-theoretic operations"
   ]
  },
  {
   "cell_type": "markdown",
   "metadata": {},
   "source": [
    "Overlay operations allow set-theoretic operations on two `GeoDataFrame` objects. Consider \"Western Europe\" and \"Southern Europe\", we can compute the union and the intersection of those dataframes."
   ]
  },
  {
   "cell_type": "code",
   "execution_count": 17,
   "metadata": {
    "collapsed": true
   },
   "outputs": [],
   "source": [
    "western_europe = countries.cx[0:10, 50:55]"
   ]
  },
  {
   "cell_type": "code",
   "execution_count": 18,
   "metadata": {},
   "outputs": [
    {
     "name": "stdout",
     "output_type": "stream",
     "text": [
      "id\n",
      "BEL           Belgium\n",
      "DEU           Germany\n",
      "DNK           Denmark\n",
      "FRA            France\n",
      "GBR    United Kingdom\n",
      "LUX        Luxembourg\n",
      "NLD       Netherlands\n",
      "Name: name, dtype: object\n"
     ]
    }
   ],
   "source": [
    "print(western_europe['name'])"
   ]
  },
  {
   "cell_type": "code",
   "execution_count": 19,
   "metadata": {
    "scrolled": true
   },
   "outputs": [
    {
     "data": {
      "image/png": "[encoded data removed]",
      "text/plain": [
       "<matplotlib.figure.Figure at 0x7f70782387b8>"
      ]
     },
     "metadata": {},
     "output_type": "display_data"
    }
   ],
   "source": [
    "western_europe.plot();"
   ]
  },
  {
   "cell_type": "code",
   "execution_count": 20,
   "metadata": {
    "collapsed": true
   },
   "outputs": [],
   "source": [
    "southern_europe = countries.cx[-10:20, 40:45]"
   ]
  },
  {
   "cell_type": "code",
   "execution_count": 21,
   "metadata": {},
   "outputs": [
    {
     "data": {
      "image/png": "[encoded data removed]",
      "text/plain": [
       "<matplotlib.figure.Figure at 0x7f70782556d8>"
      ]
     },
     "metadata": {},
     "output_type": "display_data"
    }
   ],
   "source": [
    "southern_europe.plot();"
   ]
  },
  {
   "cell_type": "code",
   "execution_count": 22,
   "metadata": {
    "collapsed": true
   },
   "outputs": [],
   "source": [
    "union = gpd.overlay(western_europe, southern_europe, how='union', use_sindex=False)"
   ]
  },
  {
   "cell_type": "code",
   "execution_count": 23,
   "metadata": {},
   "outputs": [
    {
     "data": {
      "image/png": "[encoded data removed]",
      "text/plain": [
       "<matplotlib.figure.Figure at 0x7f707825d5c0>"
      ]
     },
     "metadata": {},
     "output_type": "display_data"
    }
   ],
   "source": [
    "union.plot();"
   ]
  },
  {
   "cell_type": "code",
   "execution_count": 24,
   "metadata": {
    "scrolled": true
   },
   "outputs": [
    {
     "data": {
      "text/html": [
       "<div>\n",
       "<style>\n",
       "    .dataframe thead tr:only-child th {\n",
       "        text-align: right;\n",
       "    }\n",
       "\n",
       "    .dataframe thead th {\n",
       "        text-align: left;\n",
       "    }\n",
       "\n",
       "    .dataframe tbody tr th {\n",
       "        vertical-align: top;\n",
       "    }\n",
       "</style>\n",
       "<table border=\"1\" class=\"dataframe\">\n",
       "  <thead>\n",
       "    <tr style=\"text-align: right;\">\n",
       "      <th></th>\n",
       "      <th>name</th>\n",
       "      <th>name_2</th>\n",
       "      <th>geometry</th>\n",
       "    </tr>\n",
       "  </thead>\n",
       "  <tbody>\n",
       "    <tr>\n",
       "      <th>0</th>\n",
       "      <td>None</td>\n",
       "      <td>Portugal</td>\n",
       "      <td>POLYGON ((-9.034818 41.880571, -8.671946 42.13...</td>\n",
       "    </tr>\n",
       "    <tr>\n",
       "      <th>1</th>\n",
       "      <td>None</td>\n",
       "      <td>Spain</td>\n",
       "      <td>POLYGON ((-8.671946 42.134689, -9.034818 41.88...</td>\n",
       "    </tr>\n",
       "    <tr>\n",
       "      <th>2</th>\n",
       "      <td>None</td>\n",
       "      <td>Albania</td>\n",
       "      <td>POLYGON ((20.590247 41.855404, 20.463175 41.51...</td>\n",
       "    </tr>\n",
       "    <tr>\n",
       "      <th>3</th>\n",
       "      <td>None</td>\n",
       "      <td>Albania</td>\n",
       "      <td>POLYGON ((19.3717684562836 41.87755057136166, ...</td>\n",
       "    </tr>\n",
       "    <tr>\n",
       "      <th>4</th>\n",
       "      <td>None</td>\n",
       "      <td>Montenegro</td>\n",
       "      <td>POLYGON ((19.738051 42.688247, 19.304486 42.19...</td>\n",
       "    </tr>\n",
       "    <tr>\n",
       "      <th>5</th>\n",
       "      <td>None</td>\n",
       "      <td>Republic of Serbia</td>\n",
       "      <td>POLYGON ((19.390476 45.236516, 19.072769 45.52...</td>\n",
       "    </tr>\n",
       "    <tr>\n",
       "      <th>6</th>\n",
       "      <td>None</td>\n",
       "      <td>Croatia</td>\n",
       "      <td>POLYGON ((19.072769 45.521511, 19.390476 45.23...</td>\n",
       "    </tr>\n",
       "    <tr>\n",
       "      <th>7</th>\n",
       "      <td>None</td>\n",
       "      <td>Croatia</td>\n",
       "      <td>POLYGON ((19.072769 45.521511, 18.829824610773...</td>\n",
       "    </tr>\n",
       "    <tr>\n",
       "      <th>8</th>\n",
       "      <td>None</td>\n",
       "      <td>Croatia</td>\n",
       "      <td>POLYGON ((18.45001682335878 42.47999227271605,...</td>\n",
       "    </tr>\n",
       "    <tr>\n",
       "      <th>9</th>\n",
       "      <td>None</td>\n",
       "      <td>Bosnia and Herzegovina</td>\n",
       "      <td>POLYGON ((18.70648 43.20011, 18.56 42.65, 17.6...</td>\n",
       "    </tr>\n",
       "    <tr>\n",
       "      <th>10</th>\n",
       "      <td>None</td>\n",
       "      <td>Bosnia and Herzegovina</td>\n",
       "      <td>POLYGON ((19.005486 44.860234, 19.36803 44.863...</td>\n",
       "    </tr>\n",
       "    <tr>\n",
       "      <th>11</th>\n",
       "      <td>None</td>\n",
       "      <td>Croatia</td>\n",
       "      <td>POLYGON ((19.005486 44.860234, 19.005484729036...</td>\n",
       "    </tr>\n",
       "    <tr>\n",
       "      <th>12</th>\n",
       "      <td>None</td>\n",
       "      <td>Italy</td>\n",
       "      <td>POLYGON ((15.520376 38.231155, 15.160243 37.44...</td>\n",
       "    </tr>\n",
       "    <tr>\n",
       "      <th>13</th>\n",
       "      <td>None</td>\n",
       "      <td>Italy</td>\n",
       "      <td>POLYGON ((9.210012000000001 41.209991, 9.80997...</td>\n",
       "    </tr>\n",
       "    <tr>\n",
       "      <th>14</th>\n",
       "      <td>France</td>\n",
       "      <td>France</td>\n",
       "      <td>POLYGON ((9.560015999999999 42.152492, 9.22975...</td>\n",
       "    </tr>\n",
       "    <tr>\n",
       "      <th>15</th>\n",
       "      <td>Germany</td>\n",
       "      <td>None</td>\n",
       "      <td>POLYGON ((5.988658 51.851616, 6.589397 51.8520...</td>\n",
       "    </tr>\n",
       "    <tr>\n",
       "      <th>16</th>\n",
       "      <td>Netherlands</td>\n",
       "      <td>None</td>\n",
       "      <td>POLYGON ((6.589397 51.852029, 5.988658 51.8516...</td>\n",
       "    </tr>\n",
       "    <tr>\n",
       "      <th>17</th>\n",
       "      <td>United Kingdom</td>\n",
       "      <td>None</td>\n",
       "      <td>POLYGON ((-5.661949 54.554603, -6.197885 53.86...</td>\n",
       "    </tr>\n",
       "    <tr>\n",
       "      <th>18</th>\n",
       "      <td>Denmark</td>\n",
       "      <td>None</td>\n",
       "      <td>POLYGON ((9.282049000000001 54.830865, 8.52622...</td>\n",
       "    </tr>\n",
       "    <tr>\n",
       "      <th>19</th>\n",
       "      <td>Denmark</td>\n",
       "      <td>None</td>\n",
       "      <td>POLYGON ((12.690006 55.609991, 12.089991 54.80...</td>\n",
       "    </tr>\n",
       "    <tr>\n",
       "      <th>20</th>\n",
       "      <td>France</td>\n",
       "      <td>France</td>\n",
       "      <td>POLYGON ((6.65823 49.201958, 8.099278999999999...</td>\n",
       "    </tr>\n",
       "    <tr>\n",
       "      <th>21</th>\n",
       "      <td>Belgium</td>\n",
       "      <td>None</td>\n",
       "      <td>POLYGON ((4.286023 49.907497, 3.588184 50.3789...</td>\n",
       "    </tr>\n",
       "    <tr>\n",
       "      <th>22</th>\n",
       "      <td>Luxembourg</td>\n",
       "      <td>None</td>\n",
       "      <td>POLYGON ((5.897759 49.442667, 5.674052 49.5294...</td>\n",
       "    </tr>\n",
       "    <tr>\n",
       "      <th>23</th>\n",
       "      <td>Belgium</td>\n",
       "      <td>None</td>\n",
       "      <td>POLYGON ((3.315011593325167 51.34577664612884,...</td>\n",
       "    </tr>\n",
       "    <tr>\n",
       "      <th>24</th>\n",
       "      <td>United Kingdom</td>\n",
       "      <td>None</td>\n",
       "      <td>POLYGON ((-3.005005 58.635, -4.073828 57.55302...</td>\n",
       "    </tr>\n",
       "    <tr>\n",
       "      <th>25</th>\n",
       "      <td>None</td>\n",
       "      <td>Italy</td>\n",
       "      <td>POLYGON ((12.376485 46.767559, 13.806475 46.50...</td>\n",
       "    </tr>\n",
       "  </tbody>\n",
       "</table>\n",
       "</div>"
      ],
      "text/plain": [
       "              name                  name_2  \\\n",
       "0             None                Portugal   \n",
       "1             None                   Spain   \n",
       "2             None                 Albania   \n",
       "3             None                 Albania   \n",
       "4             None              Montenegro   \n",
       "5             None      Republic of Serbia   \n",
       "6             None                 Croatia   \n",
       "7             None                 Croatia   \n",
       "8             None                 Croatia   \n",
       "9             None  Bosnia and Herzegovina   \n",
       "10            None  Bosnia and Herzegovina   \n",
       "11            None                 Croatia   \n",
       "12            None                   Italy   \n",
       "13            None                   Italy   \n",
       "14          France                  France   \n",
       "15         Germany                    None   \n",
       "16     Netherlands                    None   \n",
       "17  United Kingdom                    None   \n",
       "18         Denmark                    None   \n",
       "19         Denmark                    None   \n",
       "20          France                  France   \n",
       "21         Belgium                    None   \n",
       "22      Luxembourg                    None   \n",
       "23         Belgium                    None   \n",
       "24  United Kingdom                    None   \n",
       "25            None                   Italy   \n",
       "\n",
       "                                             geometry  \n",
       "0   POLYGON ((-9.034818 41.880571, -8.671946 42.13...  \n",
       "1   POLYGON ((-8.671946 42.134689, -9.034818 41.88...  \n",
       "2   POLYGON ((20.590247 41.855404, 20.463175 41.51...  \n",
       "3   POLYGON ((19.3717684562836 41.87755057136166, ...  \n",
       "4   POLYGON ((19.738051 42.688247, 19.304486 42.19...  \n",
       "5   POLYGON ((19.390476 45.236516, 19.072769 45.52...  \n",
       "6   POLYGON ((19.072769 45.521511, 19.390476 45.23...  \n",
       "7   POLYGON ((19.072769 45.521511, 18.829824610773...  \n",
       "8   POLYGON ((18.45001682335878 42.47999227271605,...  \n",
       "9   POLYGON ((18.70648 43.20011, 18.56 42.65, 17.6...  \n",
       "10  POLYGON ((19.005486 44.860234, 19.36803 44.863...  \n",
       "11  POLYGON ((19.005486 44.860234, 19.005484729036...  \n",
       "12  POLYGON ((15.520376 38.231155, 15.160243 37.44...  \n",
       "13  POLYGON ((9.210012000000001 41.209991, 9.80997...  \n",
       "14  POLYGON ((9.560015999999999 42.152492, 9.22975...  \n",
       "15  POLYGON ((5.988658 51.851616, 6.589397 51.8520...  \n",
       "16  POLYGON ((6.589397 51.852029, 5.988658 51.8516...  \n",
       "17  POLYGON ((-5.661949 54.554603, -6.197885 53.86...  \n",
       "18  POLYGON ((9.282049000000001 54.830865, 8.52622...  \n",
       "19  POLYGON ((12.690006 55.609991, 12.089991 54.80...  \n",
       "20  POLYGON ((6.65823 49.201958, 8.099278999999999...  \n",
       "21  POLYGON ((4.286023 49.907497, 3.588184 50.3789...  \n",
       "22  POLYGON ((5.897759 49.442667, 5.674052 49.5294...  \n",
       "23  POLYGON ((3.315011593325167 51.34577664612884,...  \n",
       "24  POLYGON ((-3.005005 58.635, -4.073828 57.55302...  \n",
       "25  POLYGON ((12.376485 46.767559, 13.806475 46.50...  "
      ]
     },
     "execution_count": 24,
     "metadata": {},
     "output_type": "execute_result"
    }
   ],
   "source": [
    "union"
   ]
  },
  {
   "cell_type": "code",
   "execution_count": 25,
   "metadata": {
    "collapsed": true
   },
   "outputs": [],
   "source": [
    "intersection = gpd.overlay(western_europe, southern_europe, how='intersection', use_sindex=False)"
   ]
  },
  {
   "cell_type": "code",
   "execution_count": 26,
   "metadata": {},
   "outputs": [
    {
     "data": {
      "image/png": "[encoded data removed]",
      "text/plain": [
       "<matplotlib.figure.Figure at 0x7f70781ff828>"
      ]
     },
     "metadata": {},
     "output_type": "display_data"
    }
   ],
   "source": [
    "intersection.plot();"
   ]
  },
  {
   "cell_type": "code",
   "execution_count": 27,
   "metadata": {},
   "outputs": [
    {
     "name": "stdout",
     "output_type": "stream",
     "text": [
      "<class 'geopandas.geodataframe.GeoDataFrame'>\n",
      "RangeIndex: 2 entries, 0 to 1\n",
      "Data columns (total 3 columns):\n",
      "name        2 non-null object\n",
      "name_2      2 non-null object\n",
      "geometry    2 non-null object\n",
      "dtypes: object(3)\n",
      "memory usage: 128.0+ bytes\n"
     ]
    }
   ],
   "source": [
    "intersection.info()"
   ]
  },
  {
   "cell_type": "code",
   "execution_count": 28,
   "metadata": {},
   "outputs": [
    {
     "data": {
      "text/html": [
       "<div>\n",
       "<style>\n",
       "    .dataframe thead tr:only-child th {\n",
       "        text-align: right;\n",
       "    }\n",
       "\n",
       "    .dataframe thead th {\n",
       "        text-align: left;\n",
       "    }\n",
       "\n",
       "    .dataframe tbody tr th {\n",
       "        vertical-align: top;\n",
       "    }\n",
       "</style>\n",
       "<table border=\"1\" class=\"dataframe\">\n",
       "  <thead>\n",
       "    <tr style=\"text-align: right;\">\n",
       "      <th></th>\n",
       "      <th>name</th>\n",
       "      <th>name_2</th>\n",
       "      <th>geometry</th>\n",
       "    </tr>\n",
       "  </thead>\n",
       "  <tbody>\n",
       "    <tr>\n",
       "      <th>0</th>\n",
       "      <td>France</td>\n",
       "      <td>France</td>\n",
       "      <td>POLYGON ((9.560015999999999 42.152492, 9.22975...</td>\n",
       "    </tr>\n",
       "    <tr>\n",
       "      <th>1</th>\n",
       "      <td>France</td>\n",
       "      <td>France</td>\n",
       "      <td>POLYGON ((6.65823 49.201958, 8.099278999999999...</td>\n",
       "    </tr>\n",
       "  </tbody>\n",
       "</table>\n",
       "</div>"
      ],
      "text/plain": [
       "     name  name_2                                           geometry\n",
       "0  France  France  POLYGON ((9.560015999999999 42.152492, 9.22975...\n",
       "1  France  France  POLYGON ((6.65823 49.201958, 8.099278999999999..."
      ]
     },
     "execution_count": 28,
     "metadata": {},
     "output_type": "execute_result"
    }
   ],
   "source": [
    "intersection"
   ]
  },
  {
   "cell_type": "markdown",
   "metadata": {},
   "source": [
    "Note that France was a `Multipolygon` of two regions, France on the continent, and Sardinia, overlay operations decompose multi-objects into their parts, i.e., `Polygon` in this case."
   ]
  },
  {
   "cell_type": "code",
   "execution_count": 30,
   "metadata": {},
   "outputs": [
    {
     "data": {
      "image/svg+xml": [
       "<svg xmlns=\"http://www.w3.org/2000/svg\" xmlns:xlink=\"http://www.w3.org/1999/xlink\" width=\"100.0\" height=\"100.0\" viewBox=\"-5.15844464 40.813912359999996 15.28455528 10.900688280000004\" preserveAspectRatio=\"xMinYMin meet\"><g transform=\"matrix(1,0,0,-1,0,92.528513)\"><g><path fill-rule=\"evenodd\" fill=\"#66cc99\" stroke=\"#555555\" stroke-width=\"0.3056911056\" opacity=\"0.6\" d=\"M 9.560016,42.152492 L 9.229752,41.380007 L 8.775723,41.583612 L 8.544213,42.256517 L 8.746009,42.628122 L 9.390001,43.009985 L 9.560016,42.152492 z\" /><path fill-rule=\"evenodd\" fill=\"#66cc99\" stroke=\"#555555\" stroke-width=\"0.3056911056\" opacity=\"0.6\" d=\"M 6.65823,49.201958 L 8.099279,49.017784 L 7.593676,48.333019 L 7.466759,47.620582 L 7.192202,47.449766 L 6.736571,47.541801 L 6.768714,47.287708 L 6.037389,46.725779 L 6.022609,46.27299 L 6.5001,46.429673 L 6.843593,45.991147 L 6.802355,45.70858 L 7.096652,45.333099 L 6.749955,45.028518 L 7.007562,44.254767 L 7.549596,44.127901 L 7.435185,43.693845 L 6.529245,43.128892 L 4.556963,43.399651 L 3.100411,43.075201 L 2.985999,42.473015 L 1.826793,42.343385 L 0.701591,42.795734 L 0.338047,42.579546 L -1.502771,43.034014 L -1.901351,43.422802 L -1.384225,44.02261 L -1.193798,46.014918 L -2.225724,47.064363 L -2.963276,47.570327 L -4.491555,47.954954 L -4.59235,48.68416 L -3.295814,48.901692 L -1.616511,48.644421 L -1.933494,49.776342 L -0.989469,49.347376 L 1.338761,50.127173 L 1.639001,50.946606 L 2.513573,51.148506 L 2.658422,50.796848 L 3.123252,50.780363 L 3.588184,50.378992 L 4.286023,49.907497 L 4.799222,49.985373 L 5.674052,49.529484 L 5.897759,49.442667 L 6.18632,49.463803 L 6.65823,49.201958 z\" /></g></g></svg>"
      ],
      "text/plain": [
       "<shapely.geometry.multipolygon.MultiPolygon at 0x7f70782c2be0>"
      ]
     },
     "execution_count": 30,
     "metadata": {},
     "output_type": "execute_result"
    }
   ],
   "source": [
    "france = intersection.unary_union\n",
    "france"
   ]
  },
  {
   "cell_type": "code",
   "execution_count": 31,
   "metadata": {},
   "outputs": [
    {
     "data": {
      "text/plain": [
       "shapely.geometry.multipolygon.MultiPolygon"
      ]
     },
     "execution_count": 31,
     "metadata": {},
     "output_type": "execute_result"
    }
   ],
   "source": [
    "type(france)"
   ]
  },
  {
   "cell_type": "markdown",
   "metadata": {},
   "source": [
    "## Merging data"
   ]
  },
  {
   "cell_type": "markdown",
   "metadata": {},
   "source": [
    "Import the required modules."
   ]
  },
  {
   "cell_type": "code",
   "execution_count": 32,
   "metadata": {
    "collapsed": true
   },
   "outputs": [],
   "source": [
    "import pandas as pd"
   ]
  },
  {
   "cell_type": "markdown",
   "metadata": {},
   "source": [
    "Read the World Happiness data set as an ordinary Pandas `DataFrame`."
   ]
  },
  {
   "cell_type": "code",
   "execution_count": 53,
   "metadata": {},
   "outputs": [
    {
     "name": "stdout",
     "output_type": "stream",
     "text": [
      "<class 'pandas.core.frame.DataFrame'>\n",
      "RangeIndex: 157 entries, 0 to 156\n",
      "Data columns (total 13 columns):\n",
      "Country                          157 non-null object\n",
      "Region                           157 non-null object\n",
      "Happiness Rank                   157 non-null int64\n",
      "Happiness Score                  157 non-null float64\n",
      "Lower Confidence Interval        157 non-null float64\n",
      "Upper Confidence Interval        157 non-null float64\n",
      "Economy (GDP per Capita)         157 non-null float64\n",
      "Family                           157 non-null float64\n",
      "Health (Life Expectancy)         157 non-null float64\n",
      "Freedom                          157 non-null float64\n",
      "Trust (Government Corruption)    157 non-null float64\n",
      "Generosity                       157 non-null float64\n",
      "Dystopia Residual                157 non-null float64\n",
      "dtypes: float64(10), int64(1), object(2)\n",
      "memory usage: 16.0+ KB\n"
     ]
    }
   ],
   "source": [
    "happiness = pd.read_csv('Data/world_happiness_2016.csv')\n",
    "happiness.info()"
   ]
  },
  {
   "cell_type": "markdown",
   "metadata": {},
   "source": [
    "The country name is in the `name` column of the `countries` `GeoDataFrame`, but in the `Country` column of the `happiness` `DataFrame`. We simply rename the latter to `name`."
   ]
  },
  {
   "cell_type": "code",
   "execution_count": 55,
   "metadata": {},
   "outputs": [],
   "source": [
    "happiness.rename(columns={'Country': 'name'}, inplace=True)"
   ]
  },
  {
   "cell_type": "markdown",
   "metadata": {},
   "source": [
    "Now we can merge the dataframes on `name`."
   ]
  },
  {
   "cell_type": "code",
   "execution_count": 56,
   "metadata": {},
   "outputs": [
    {
     "name": "stdout",
     "output_type": "stream",
     "text": [
      "<class 'geopandas.geodataframe.GeoDataFrame'>\n",
      "Int64Index: 144 entries, 0 to 143\n",
      "Data columns (total 14 columns):\n",
      "name                             144 non-null object\n",
      "geometry                         144 non-null object\n",
      "Region                           144 non-null object\n",
      "Happiness Rank                   144 non-null int64\n",
      "Happiness Score                  144 non-null float64\n",
      "Lower Confidence Interval        144 non-null float64\n",
      "Upper Confidence Interval        144 non-null float64\n",
      "Economy (GDP per Capita)         144 non-null float64\n",
      "Family                           144 non-null float64\n",
      "Health (Life Expectancy)         144 non-null float64\n",
      "Freedom                          144 non-null float64\n",
      "Trust (Government Corruption)    144 non-null float64\n",
      "Generosity                       144 non-null float64\n",
      "Dystopia Residual                144 non-null float64\n",
      "dtypes: float64(10), int64(1), object(3)\n",
      "memory usage: 16.9+ KB\n"
     ]
    }
   ],
   "source": [
    "geo_happiness = countries.merge(happiness, on='name')\n",
    "geo_happiness.info()"
   ]
  },
  {
   "cell_type": "markdown",
   "metadata": {},
   "source": [
    "Creating a chloropleth is now pretty trivial."
   ]
  },
  {
   "cell_type": "code",
   "execution_count": 57,
   "metadata": {},
   "outputs": [
    {
     "data": {
      "image/png": "[encoded data removed]",
      "text/plain": [
       "<matplotlib.figure.Figure at 0x7f7078232710>"
      ]
     },
     "metadata": {},
     "output_type": "display_data"
    }
   ],
   "source": [
    "geo_happiness.plot(column='Happiness Score', cmap='OrRd');"
   ]
  },
  {
   "cell_type": "markdown",
   "metadata": {},
   "source": [
    "Note that there is quite some missing data due to a data linkage issue.  The country names in both dataframes are not always exactly the same."
   ]
  },
  {
   "cell_type": "markdown",
   "metadata": {},
   "source": [
    "Since the new `GeoDataFrame` now has a region attribute, we can use that to aggregate on that basis."
   ]
  },
  {
   "cell_type": "code",
   "execution_count": 58,
   "metadata": {},
   "outputs": [
    {
     "name": "stdout",
     "output_type": "stream",
     "text": [
      "<class 'geopandas.geodataframe.GeoDataFrame'>\n",
      "Int64Index: 144 entries, 0 to 143\n",
      "Data columns (total 3 columns):\n",
      "name        144 non-null object\n",
      "Region      144 non-null object\n",
      "geometry    144 non-null object\n",
      "dtypes: object(3)\n",
      "memory usage: 4.5+ KB\n"
     ]
    }
   ],
   "source": [
    "world = geo_happiness[['name', 'Region', 'geometry']]\n",
    "world.info()"
   ]
  },
  {
   "cell_type": "code",
   "execution_count": 59,
   "metadata": {},
   "outputs": [
    {
     "name": "stdout",
     "output_type": "stream",
     "text": [
      "<class 'geopandas.geodataframe.GeoDataFrame'>\n",
      "Index: 10 entries, Australia and New Zealand to Western Europe\n",
      "Data columns (total 2 columns):\n",
      "geometry    10 non-null object\n",
      "name        10 non-null object\n",
      "dtypes: object(2)\n",
      "memory usage: 560.0+ bytes\n"
     ]
    }
   ],
   "source": [
    "regions = world.dissolve(by='Region')\n",
    "regions.info()"
   ]
  },
  {
   "cell_type": "code",
   "execution_count": 60,
   "metadata": {},
   "outputs": [
    {
     "data": {
      "text/html": [
       "<div>\n",
       "<style>\n",
       "    .dataframe thead tr:only-child th {\n",
       "        text-align: right;\n",
       "    }\n",
       "\n",
       "    .dataframe thead th {\n",
       "        text-align: left;\n",
       "    }\n",
       "\n",
       "    .dataframe tbody tr th {\n",
       "        vertical-align: top;\n",
       "    }\n",
       "</style>\n",
       "<table border=\"1\" class=\"dataframe\">\n",
       "  <thead>\n",
       "    <tr style=\"text-align: right;\">\n",
       "      <th></th>\n",
       "      <th>geometry</th>\n",
       "      <th>name</th>\n",
       "    </tr>\n",
       "    <tr>\n",
       "      <th>Region</th>\n",
       "      <th></th>\n",
       "      <th></th>\n",
       "    </tr>\n",
       "  </thead>\n",
       "  <tbody>\n",
       "    <tr>\n",
       "      <th>Australia and New Zealand</th>\n",
       "      <td>(POLYGON ((143.561811 -13.763656, 143.922099 -...</td>\n",
       "      <td>Australia</td>\n",
       "    </tr>\n",
       "    <tr>\n",
       "      <th>Central and Eastern Europe</th>\n",
       "      <td>(POLYGON ((-175.01425 66.58435, -174.33983 66....</td>\n",
       "      <td>Albania</td>\n",
       "    </tr>\n",
       "    <tr>\n",
       "      <th>Eastern Asia</th>\n",
       "      <td>(POLYGON ((110.339188 18.678395, 109.47521 18....</td>\n",
       "      <td>China</td>\n",
       "    </tr>\n",
       "    <tr>\n",
       "      <th>Latin America and Caribbean</th>\n",
       "      <td>(POLYGON ((-66.95992 -54.89681, -67.2910300000...</td>\n",
       "      <td>Argentina</td>\n",
       "    </tr>\n",
       "    <tr>\n",
       "      <th>Middle East and Northern Africa</th>\n",
       "      <td>(POLYGON ((27.192377 40.690566, 26.358009 40.1...</td>\n",
       "      <td>United Arab Emirates</td>\n",
       "    </tr>\n",
       "    <tr>\n",
       "      <th>North America</th>\n",
       "      <td>(POLYGON ((-132.710008 54.040009, -131.74999 5...</td>\n",
       "      <td>Canada</td>\n",
       "    </tr>\n",
       "    <tr>\n",
       "      <th>Southeastern Asia</th>\n",
       "      <td>(POLYGON ((120.715609 -10.239581, 120.295014 -...</td>\n",
       "      <td>Indonesia</td>\n",
       "    </tr>\n",
       "    <tr>\n",
       "      <th>Southern Asia</th>\n",
       "      <td>(POLYGON ((81.787959 7.523055, 81.637322 6.481...</td>\n",
       "      <td>Afghanistan</td>\n",
       "    </tr>\n",
       "    <tr>\n",
       "      <th>Sub-Saharan Africa</th>\n",
       "      <td>(POLYGON ((49.543519 -12.469833, 49.808981 -12...</td>\n",
       "      <td>Angola</td>\n",
       "    </tr>\n",
       "    <tr>\n",
       "      <th>Western Europe</th>\n",
       "      <td>(POLYGON ((33.973617 35.058506, 34.004881 34.9...</td>\n",
       "      <td>Austria</td>\n",
       "    </tr>\n",
       "  </tbody>\n",
       "</table>\n",
       "</div>"
      ],
      "text/plain": [
       "                                                                          geometry  \\\n",
       "Region                                                                               \n",
       "Australia and New Zealand        (POLYGON ((143.561811 -13.763656, 143.922099 -...   \n",
       "Central and Eastern Europe       (POLYGON ((-175.01425 66.58435, -174.33983 66....   \n",
       "Eastern Asia                     (POLYGON ((110.339188 18.678395, 109.47521 18....   \n",
       "Latin America and Caribbean      (POLYGON ((-66.95992 -54.89681, -67.2910300000...   \n",
       "Middle East and Northern Africa  (POLYGON ((27.192377 40.690566, 26.358009 40.1...   \n",
       "North America                    (POLYGON ((-132.710008 54.040009, -131.74999 5...   \n",
       "Southeastern Asia                (POLYGON ((120.715609 -10.239581, 120.295014 -...   \n",
       "Southern Asia                    (POLYGON ((81.787959 7.523055, 81.637322 6.481...   \n",
       "Sub-Saharan Africa               (POLYGON ((49.543519 -12.469833, 49.808981 -12...   \n",
       "Western Europe                   (POLYGON ((33.973617 35.058506, 34.004881 34.9...   \n",
       "\n",
       "                                                 name  \n",
       "Region                                                 \n",
       "Australia and New Zealand                   Australia  \n",
       "Central and Eastern Europe                    Albania  \n",
       "Eastern Asia                                    China  \n",
       "Latin America and Caribbean                 Argentina  \n",
       "Middle East and Northern Africa  United Arab Emirates  \n",
       "North America                                  Canada  \n",
       "Southeastern Asia                           Indonesia  \n",
       "Southern Asia                             Afghanistan  \n",
       "Sub-Saharan Africa                             Angola  \n",
       "Western Europe                                Austria  "
      ]
     },
     "execution_count": 60,
     "metadata": {},
     "output_type": "execute_result"
    }
   ],
   "source": [
    "regions"
   ]
  },
  {
   "cell_type": "code",
   "execution_count": 61,
   "metadata": {},
   "outputs": [
    {
     "data": {
      "image/svg+xml": [
       "<svg xmlns=\"http://www.w3.org/2000/svg\" xmlns:xlink=\"http://www.w3.org/1999/xlink\" width=\"100.0\" height=\"100.0\" viewBox=\"-26.6594266 32.2386264 62.99755019999999 50.75176020000001\" preserveAspectRatio=\"xMinYMin meet\"><g transform=\"matrix(1,0,0,-1,0,115.22901300000001)\"><g><path fill-rule=\"evenodd\" fill=\"#66cc99\" stroke=\"#555555\" stroke-width=\"1.259951004\" opacity=\"0.6\" d=\"M 33.973617,35.058506 L 34.004881,34.978098 L 32.979827,34.571869 L 32.490296,34.701655 L 32.256667,35.103232 L 32.73178,35.140026 L 32.919572,35.087833 L 33.190977,35.173125 L 33.383833,35.162712 L 33.455922,35.101424 L 33.475817,35.000345 L 33.525685,35.038688 L 33.675392,35.017863 L 33.86644,35.093595 L 33.973617,35.058506 z\" /><path fill-rule=\"evenodd\" fill=\"#66cc99\" stroke=\"#555555\" stroke-width=\"1.259951004\" opacity=\"0.6\" d=\"M 23.69998,35.705004 L 24.246665,35.368022 L 25.025015,35.424996 L 25.769208,35.354018 L 25.745023,35.179998 L 26.290003,35.29999 L 26.164998,35.004995 L 24.724982,34.919988 L 24.735007,35.084991 L 23.514978,35.279992 L 23.69998,35.705004 z\" /><path fill-rule=\"evenodd\" fill=\"#66cc99\" stroke=\"#555555\" stroke-width=\"1.259951004\" opacity=\"0.6\" d=\"M 26.604196,41.562115 L 26.294602,40.936261 L 26.056942,40.824123 L 25.447677,40.852545 L 24.925848,40.947062 L 23.714811,40.687129 L 24.407999,40.124993 L 23.899968,39.962006 L 23.342999,39.960998 L 22.813988,40.476005 L 22.626299,40.256561 L 22.849748,39.659311 L 23.350027,39.190011 L 22.973099,38.970903 L 23.530016,38.510001 L 24.025025,38.219993 L 24.040011,37.655015 L 23.115003,37.920011 L 23.409972,37.409991 L 22.774972,37.30501 L 23.154225,36.422506 L 22.490028,36.41 L 21.670026,36.844986 L 21.295011,37.644989 L 21.120034,38.310323 L 20.730032,38.769985 L 20.217712,39.340235 L 20.150016,39.624998 L 20.615,40.110007 L 20.674997,40.435 L 20.99999,40.580004 L 21.02004,40.842727 L 21.674161,40.931275 L 22.055378,41.149866 L 22.597308,41.130487 L 22.76177,41.3048 L 22.952377,41.337994 L 23.692074,41.309081 L 24.492645,41.583896 L 25.197201,41.234486 L 26.106138,41.328899 L 26.117042,41.826905 L 26.604196,41.562115 z\" /><path fill-rule=\"evenodd\" fill=\"#66cc99\" stroke=\"#555555\" stroke-width=\"1.259951004\" opacity=\"0.6\" d=\"M 14.566171,35.852721 L 14.532684,35.820191 L 14.436463,35.821664 L 14.352334,35.872281 L 14.3513,35.978399 L 14.448348,35.957444 L 14.537025,35.886285 L 14.566171,35.852721 z\" /><path fill-rule=\"evenodd\" fill=\"#66cc99\" stroke=\"#555555\" stroke-width=\"1.259951004\" opacity=\"0.6\" d=\"M 14.313473,36.027569 L 14.253632,36.012143 L 14.194204,36.042245 L 14.180354,36.060383 L 14.263243,36.075809 L 14.303758,36.062295 L 14.320914,36.03625 L 14.313473,36.027569 z\" /><path fill-rule=\"evenodd\" fill=\"#66cc99\" stroke=\"#555555\" stroke-width=\"1.259951004\" opacity=\"0.6\" d=\"M 15.520376,38.231155 L 15.160243,37.444046 L 15.309898,37.134219 L 15.099988,36.619987 L 14.335229,36.996631 L 13.826733,37.104531 L 12.431004,37.61295 L 12.570944,38.126381 L 13.741156,38.034966 L 14.761249,38.143874 L 15.520376,38.231155 z\" /><path fill-rule=\"evenodd\" fill=\"#66cc99\" stroke=\"#555555\" stroke-width=\"1.259951004\" opacity=\"0.6\" d=\"M 9.210012,41.209991 L 9.809975,40.500009 L 9.669519,39.177376 L 9.214818,39.240473 L 8.806936,38.906618 L 8.428302,39.171847 L 8.388253,40.378311 L 8.159998,40.950007 L 8.709991,40.899984 L 9.210012,41.209991 z\" /><path fill-rule=\"evenodd\" fill=\"#66cc99\" stroke=\"#555555\" stroke-width=\"1.259951004\" opacity=\"0.6\" d=\"M 9.560016,42.152492 L 9.229752,41.380007 L 8.775723,41.583612 L 8.544213,42.256517 L 8.746009,42.628122 L 9.390001,43.009985 L 9.560016,42.152492 z\" /><path fill-rule=\"evenodd\" fill=\"#66cc99\" stroke=\"#555555\" stroke-width=\"1.259951004\" opacity=\"0.6\" d=\"M 19.35791,57.958588 L 18.8031,57.651279 L 18.825073,57.444949 L 18.995361,57.441993 L 18.951416,57.370976 L 18.693237,57.305756 L 18.709716,57.204734 L 18.462524,57.127295 L 18.319702,56.926992 L 18.105468,56.891003 L 18.187866,57.109402 L 18.072509,57.267163 L 18.154907,57.394664 L 18.094482,57.545312 L 18.660278,57.929434 L 19.039306,57.941098 L 19.105224,57.993543 L 19.374389,57.996454 L 19.35791,57.958588 z\" /><path fill-rule=\"evenodd\" fill=\"#66cc99\" stroke=\"#555555\" stroke-width=\"1.259951004\" opacity=\"0.6\" d=\"M 17.061767,57.385783 L 17.210083,57.326521 L 16.430053,56.179196 L 16.364135,56.556455 L 17.061767,57.385783 z\" /><path fill-rule=\"evenodd\" fill=\"#66cc99\" stroke=\"#555555\" stroke-width=\"1.259951004\" opacity=\"0.6\" d=\"M -14.508695,66.455892 L -14.739637,65.808748 L -13.609732,65.126671 L -14.909834,64.364082 L -17.794438,63.678749 L -18.656246,63.496383 L -19.972755,63.643635 L -22.762972,63.960179 L -21.778484,64.402116 L -23.955044,64.89113 L -22.184403,65.084968 L -22.227423,65.378594 L -24.326184,65.611189 L -23.650515,66.262519 L -22.134922,66.410469 L -20.576284,65.732112 L -19.056842,66.276601 L -17.798624,65.993853 L -16.167819,66.526792 L -14.508695,66.455892 z\" /><path fill-rule=\"evenodd\" fill=\"#66cc99\" stroke=\"#555555\" stroke-width=\"1.259951004\" opacity=\"0.6\" d=\"M 25.447625,80.40734 L 27.407506,80.056406 L 25.924651,79.517834 L 23.024466,79.400012 L 20.075188,79.566823 L 19.897266,79.842362 L 18.462264,79.85988 L 17.368015,80.318896 L 20.455992,80.598156 L 21.907945,80.357679 L 22.919253,80.657144 L 25.447625,80.40734 z\" /><path fill-rule=\"evenodd\" fill=\"#66cc99\" stroke=\"#555555\" stroke-width=\"1.259951004\" opacity=\"0.6\" d=\"M 24.72412,77.85385 L 22.49032,77.44493 L 20.72601,77.67704 L 21.41611,77.93504 L 20.8119,78.25463 L 22.88426,78.45494 L 23.28134,78.07954 L 24.72412,77.85385 z\" /><path fill-rule=\"evenodd\" fill=\"#66cc99\" stroke=\"#555555\" stroke-width=\"1.259951004\" opacity=\"0.6\" d=\"M 18.25183,79.70175 L 21.54383,78.95611 L 19.02737,78.5626 L 18.47172,77.82669 L 17.59441,77.63796 L 17.1182,76.80941 L 15.91315,76.77045 L 13.76259,77.38035 L 14.66956,77.73565 L 13.1706,78.02493 L 11.22231,78.8693 L 10.44453,79.65239 L 13.17077,80.01046 L 13.71852,79.66039 L 15.14282,79.67431 L 15.52255,80.01608 L 16.99085,80.05086 L 18.25183,79.70175 z\" /><path fill-rule=\"evenodd\" fill=\"#66cc99\" stroke=\"#555555\" stroke-width=\"1.259951004\" opacity=\"0.6\" d=\"M 22.183173,65.723741 L 21.213517,65.026005 L 21.369631,64.413588 L 19.778876,63.609554 L 17.847779,62.7494 L 17.119555,61.341166 L 17.831346,60.636583 L 18.787722,60.081914 L 17.869225,58.953766 L 16.829185,58.719827 L 16.44771,57.041118 L 15.879786,56.104302 L 14.666681,56.200885 L 14.100721,55.407781 L 12.942911,55.361737 L 12.625101,56.30708 L 11.787942,57.441817 L 11.027369,58.856149 L 10.356557,59.469807 L 8.382,58.313288 L 7.048748,58.078884 L 5.665835,58.588155 L 5.308234,59.663232 L 4.992078,61.970998 L 5.9129,62.614473 L 8.553411,63.454008 L 10.527709,64.486038 L 12.358347,65.879726 L 14.761146,67.810642 L 16.435927,68.563205 L 19.184028,69.817444 L 21.378416,70.255169 L 23.023742,70.202072 L 24.546543,71.030497 L 26.37005,70.986262 L 28.165547,71.185474 L 31.293418,70.453788 L 30.005435,70.186259 L 31.101079,69.55808 L 29.399581,69.156916 L 28.59193,69.064777 L 28.445944,68.364613 L 29.977426,67.698297 L 29.054589,66.944286 L 30.21765,65.80598 L 29.54443,64.948672 L 30.444685,64.204453 L 30.035872,63.552814 L 31.516092,62.867687 L 31.139991,62.357693 L 30.211107,61.780028 L 28.069998,60.503517 L 26.255173,60.423961 L 24.496624,60.057316 L 22.869695,59.846373 L 22.290764,60.391921 L 21.322244,60.72017 L 21.544866,61.705329 L 21.059211,62.607393 L 21.536029,63.189735 L 22.442744,63.81781 L 24.730512,64.902344 L 25.398068,65.111427 L 25.294043,65.534346 L 23.903379,66.006927 L 22.183173,65.723741 z\" /><path fill-rule=\"evenodd\" fill=\"#66cc99\" stroke=\"#555555\" stroke-width=\"1.259951004\" opacity=\"0.6\" d=\"M 20.846557,63.82371 L 21.066284,63.829768 L 20.9729,63.71567 L 20.824584,63.579121 L 20.695495,63.59134 L 20.819091,63.714454 L 20.799865,63.780059 L 20.846557,63.82371 z\" /><path fill-rule=\"evenodd\" fill=\"#66cc99\" stroke=\"#555555\" stroke-width=\"1.259951004\" opacity=\"0.6\" d=\"M -6.197885,53.867565 L -6.032985,53.153164 L -6.788857,52.260118 L -8.561617,51.669301 L -9.977086,51.820455 L -9.166283,52.864629 L -9.688525,53.881363 L -8.327987,54.664519 L -7.572168,55.131622 L -6.733847,55.17286 L -5.661949,54.554603 L -6.197885,53.867565 z\" /><path fill-rule=\"evenodd\" fill=\"#66cc99\" stroke=\"#555555\" stroke-width=\"1.259951004\" opacity=\"0.6\" d=\"M 12.690006,55.609991 L 12.089991,54.800015 L 11.043543,55.364864 L 10.903914,55.779955 L 12.370904,56.111407 L 12.690006,55.609991 z\" /><path fill-rule=\"evenodd\" fill=\"#66cc99\" stroke=\"#555555\" stroke-width=\"1.259951004\" opacity=\"0.6\" d=\"M -7.453726,37.097788 L -7.855613,36.838269 L -8.382816,36.97888 L -8.898857,36.868809 L -8.746101,37.651346 L -8.839998,38.266243 L -9.287464,38.358486 L -9.526571,38.737429 L -9.446989,39.392066 L -9.048305,39.755093 L -8.977353,40.159306 L -8.768684,40.760639 L -8.790853,41.184334 L -8.990789,41.543459 L -9.034818,41.880571 L -8.984433,42.592775 L -9.392884,43.026625 L -7.97819,43.748338 L -6.754492,43.567909 L -5.411886,43.57424 L -4.347843,43.403449 L -3.517532,43.455901 L -1.901351,43.422802 L -1.384225,44.02261 L -1.193798,46.014918 L -2.225724,47.064363 L -2.963276,47.570327 L -4.491555,47.954954 L -4.59235,48.68416 L -3.295814,48.901692 L -1.616511,48.644421 L -1.933494,49.776342 L -0.989469,49.347376 L 1.338761,50.127173 L 1.639001,50.946606 L 2.513573,51.148506 L 3.314971,51.345781 L 3.315011593325167,51.34577664612884 L 3.830289,51.620545 L 4.705997,53.091798 L 6.074183,53.510403 L 6.90514,53.482162 L 7.100425,53.693932 L 7.936239,53.748296 L 8.121706,53.527792 L 8.800734,54.020786 L 8.572118,54.395646 L 8.526229,54.962744 L 8.120311,55.517723 L 8.089977,56.540012 L 8.256582,56.809969 L 8.543438,57.110003 L 9.424469,57.172066 L 9.775559,57.447941 L 10.580006,57.730017 L 10.546106,57.215733 L 10.25,56.890016 L 10.369993,56.609982 L 10.912182,56.458621 L 10.667804,56.081383 L 10.369993,56.190007 L 9.649985,55.469999 L 9.921906,54.983104 L 9.93958,54.596642 L 10.950112,54.363607 L 10.939467,54.008693 L 11.956252,54.196486 L 12.51844,54.470371 L 13.647467,54.075511 L 14.119686,53.757029 L 14.353315,53.248171 L 14.074521,52.981263 L 14.4376,52.62485 L 14.685026,52.089947 L 14.607098,51.745188 L 15.016996,51.106674 L 14.570718,51.002339 L 14.307013,51.117268 L 14.056228,50.926918 L 13.338132,50.733234 L 12.966837,50.484076 L 12.240111,50.266338 L 12.415191,49.969121 L 12.521024,49.547415 L 13.031329,49.307068 L 13.595946,48.877172 L 14.338898,48.555305 L 14.901447,48.964402 L 15.253416,49.039074 L 16.029647,48.733899 L 16.499283,48.785808 L 16.960288,48.596982 L 16.879983,48.470013 L 16.979667,48.123497 L 16.903754,47.714866 L 16.340584,47.712902 L 16.534268,47.496171 L 16.202298,46.852386 L 16.011664,46.683611 L 15.137092,46.658703 L 14.632472,46.431817 L 13.806475,46.509306 L 13.69811,46.016778 L 13.93763,45.591016 L 13.141606,45.736692 L 12.328581,45.381778 L 12.383875,44.885374 L 12.261453,44.600482 L 12.589237,44.091366 L 13.526906,43.587727 L 14.029821,42.761008 L 15.14257,41.95514 L 15.926191,41.961315 L 16.169897,41.740295 L 15.889346,41.541082 L 16.785002,41.179606 L 17.519169,40.877143 L 18.376687,40.355625 L 18.480247,40.168866 L 18.293385,39.810774 L 17.73838,40.277671 L 16.869596,40.442235 L 16.448743,39.795401 L 17.17149,39.4247 L 17.052841,38.902871 L 16.635088,38.843572 L 16.100961,37.985899 L 15.684087,37.908849 L 15.687963,38.214593 L 15.891981,38.750942 L 16.109332,38.964547 L 15.718814,39.544072 L 15.413613,40.048357 L 14.998496,40.172949 L 14.703268,40.60455 L 14.060672,40.786348 L 13.627985,41.188287 L 12.888082,41.25309 L 12.106683,41.704535 L 11.191906,42.355425 L 10.511948,42.931463 L 10.200029,43.920007 L 9.702488,44.036279 L 8.888946,44.366336 L 8.428561,44.231228 L 7.850767,43.767148 L 7.435185,43.693845 L 6.529245,43.128892 L 4.556963,43.399651 L 3.100411,43.075201 L 2.985999,42.473015 L 3.039484,41.89212 L 2.091842,41.226089 L 0.810525,41.014732 L 0.721331,40.678318 L 0.106692,40.123934 L -0.278711,39.309978 L 0.111291,38.738514 L -0.467124,38.292366 L -0.683389,37.642354 L -1.438382,37.443064 L -2.146453,36.674144 L -3.415781,36.6589 L -4.368901,36.677839 L -4.995219,36.324708 L -5.37716,35.94685 L -5.866432,36.029817 L -6.236694,36.367677 L -6.520191,36.942913 L -7.453726,37.097788 z\" /><path fill-rule=\"evenodd\" fill=\"#66cc99\" stroke=\"#555555\" stroke-width=\"1.259951004\" opacity=\"0.6\" d=\"M -3.005005,58.635 L -4.073828,57.553025 L -3.055002,57.690019 L -1.959281,57.6848 L -2.219988,56.870017 L -3.119003,55.973793 L -2.085009,55.909998 L -2.005676,55.804903 L -1.114991,54.624986 L -0.430485,54.464376 L 0.184981,53.325014 L 0.469977,52.929999 L 1.681531,52.73952 L 1.559988,52.099998 L 1.050562,51.806761 L 1.449865,51.289428 L 0.550334,50.765739 L -0.787517,50.774989 L -2.489998,50.500019 L -2.956274,50.69688 L -3.617448,50.228356 L -4.542508,50.341837 L -5.245023,49.96 L -5.776567,50.159678 L -4.30999,51.210001 L -3.414851,51.426009 L -3.422719,51.426848 L -4.984367,51.593466 L -5.267296,51.9914 L -4.222347,52.301356 L -4.770013,52.840005 L -4.579999,53.495004 L -3.093831,53.404547 L -3.09208,53.404441 L -2.945009,53.985 L -3.614701,54.600937 L -3.630005,54.615013 L -4.844169,54.790971 L -5.082527,55.061601 L -4.719112,55.508473 L -5.047981,55.783986 L -5.586398,55.311146 L -5.644999,56.275015 L -6.149981,56.78501 L -5.786825,57.818848 L -5.009999,58.630013 L -4.211495,58.550845 L -3.005005,58.635 z\" /></g></g></svg>"
      ],
      "text/plain": [
       "<shapely.geometry.multipolygon.MultiPolygon at 0x7f70782a9da0>"
      ]
     },
     "execution_count": 61,
     "metadata": {},
     "output_type": "execute_result"
    }
   ],
   "source": [
    "regions.at['Western Europe', 'geometry']"
   ]
  }
 ],
 "metadata": {
  "kernelspec": {
   "display_name": "Python 3",
   "language": "python",
   "name": "python3"
  },
  "language_info": {
   "codemirror_mode": {
    "name": "ipython",
    "version": 3
   },
   "file_extension": ".py",
   "mimetype": "text/x-python",
   "name": "python",
   "nbconvert_exporter": "python",
   "pygments_lexer": "ipython3",
   "version": "3.5.4"
  }
 },
 "nbformat": 4,
 "nbformat_minor": 2
}

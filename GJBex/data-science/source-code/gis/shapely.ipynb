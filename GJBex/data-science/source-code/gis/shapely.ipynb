{
 "cells": [
  {
   "cell_type": "markdown",
   "metadata": {},
   "source": [
    "# Shapely: computing with geometric objects"
   ]
  },
  {
   "cell_type": "markdown",
   "metadata": {},
   "source": [
    "## Preparation"
   ]
  },
  {
   "cell_type": "markdown",
   "metadata": {},
   "source": [
    "Load the required modules."
   ]
  },
  {
   "cell_type": "code",
   "execution_count": 61,
   "metadata": {
    "collapsed": true
   },
   "outputs": [],
   "source": [
    "import matplotlib.pyplot as plt\n",
    "from shapely.geometry import Point, MultiPoint\n",
    "from shapely.geometry import LineString, MultiLineString, LinearRing\n",
    "from shapely.geometry import Polygon, MultiPolygon\n",
    "from shapely.geometry import CAP_STYLE, JOIN_STYLE\n",
    "%matplotlib inline"
   ]
  },
  {
   "cell_type": "markdown",
   "metadata": {},
   "source": [
    "## Shapes and spatial analysis"
   ]
  },
  {
   "cell_type": "markdown",
   "metadata": {},
   "source": [
    "Create a simple polygon, represented as a `Polygon`.  This shape could also be represented as a `LinearRing`."
   ]
  },
  {
   "cell_type": "code",
   "execution_count": 4,
   "metadata": {
    "collapsed": true
   },
   "outputs": [],
   "source": [
    "polygon1 = Polygon([(1.0, 1.0), (1.0, 3.0), (3.0, 2.0), (3.0, 1.0)])"
   ]
  },
  {
   "cell_type": "code",
   "execution_count": 5,
   "metadata": {},
   "outputs": [
    {
     "data": {
      "image/svg+xml": [
       "<svg xmlns=\"http://www.w3.org/2000/svg\" xmlns:xlink=\"http://www.w3.org/1999/xlink\" width=\"100.0\" height=\"100.0\" viewBox=\"0.92 0.92 2.16 2.16\" preserveAspectRatio=\"xMinYMin meet\"><g transform=\"matrix(1,0,0,-1,0,4.0)\"><path fill-rule=\"evenodd\" fill=\"#66cc99\" stroke=\"#555555\" stroke-width=\"0.0432\" opacity=\"0.6\" d=\"M 1.0,1.0 L 1.0,3.0 L 3.0,2.0 L 3.0,1.0 L 1.0,1.0 z\" /></g></svg>"
      ],
      "text/plain": [
       "<shapely.geometry.polygon.Polygon at 0x7fa5ac99feb8>"
      ]
     },
     "execution_count": 5,
     "metadata": {},
     "output_type": "execute_result"
    }
   ],
   "source": [
    "polygon1"
   ]
  },
  {
   "cell_type": "code",
   "execution_count": 6,
   "metadata": {},
   "outputs": [
    {
     "data": {
      "text/plain": [
       "'POLYGON ((1 1, 1 3, 3 2, 3 1, 1 1))'"
      ]
     },
     "execution_count": 6,
     "metadata": {},
     "output_type": "execute_result"
    }
   ],
   "source": [
    "polygon1.wkt"
   ]
  },
  {
   "cell_type": "markdown",
   "metadata": {},
   "source": [
    "Create a second polygon with a hole."
   ]
  },
  {
   "cell_type": "code",
   "execution_count": 7,
   "metadata": {
    "collapsed": true
   },
   "outputs": [],
   "source": [
    "polygon2 = Polygon([(1.5, 1.5), (1.5, 4.0), (4.5, 3.0), (4.5, 1.0)],\n",
    "                   [[(2.0, 2.0), (2.5, 2.5), (2.8, 2.0)]])"
   ]
  },
  {
   "cell_type": "code",
   "execution_count": 8,
   "metadata": {},
   "outputs": [
    {
     "data": {
      "image/svg+xml": [
       "<svg xmlns=\"http://www.w3.org/2000/svg\" xmlns:xlink=\"http://www.w3.org/1999/xlink\" width=\"100.0\" height=\"100.0\" viewBox=\"1.38 0.88 3.24 3.24\" preserveAspectRatio=\"xMinYMin meet\"><g transform=\"matrix(1,0,0,-1,0,5.0)\"><path fill-rule=\"evenodd\" fill=\"#66cc99\" stroke=\"#555555\" stroke-width=\"0.06480000000000001\" opacity=\"0.6\" d=\"M 1.5,1.5 L 1.5,4.0 L 4.5,3.0 L 4.5,1.0 L 1.5,1.5 z M 2.0,2.0 L 2.5,2.5 L 2.8,2.0 L 2.0,2.0 z\" /></g></svg>"
      ],
      "text/plain": [
       "<shapely.geometry.polygon.Polygon at 0x7fa5ac9326a0>"
      ]
     },
     "execution_count": 8,
     "metadata": {},
     "output_type": "execute_result"
    }
   ],
   "source": [
    "polygon2"
   ]
  },
  {
   "cell_type": "markdown",
   "metadata": {},
   "source": [
    "Compute the area of the polygon."
   ]
  },
  {
   "cell_type": "code",
   "execution_count": 9,
   "metadata": {},
   "outputs": [
    {
     "data": {
      "text/plain": [
       "6.55"
      ]
     },
     "execution_count": 9,
     "metadata": {},
     "output_type": "execute_result"
    }
   ],
   "source": [
    "polygon2.area"
   ]
  },
  {
   "cell_type": "markdown",
   "metadata": {},
   "source": [
    "Compute the intersection between the two polygons."
   ]
  },
  {
   "cell_type": "code",
   "execution_count": 10,
   "metadata": {
    "collapsed": true
   },
   "outputs": [],
   "source": [
    "intersection = polygon1.intersection(polygon2)"
   ]
  },
  {
   "cell_type": "code",
   "execution_count": 11,
   "metadata": {},
   "outputs": [
    {
     "data": {
      "image/svg+xml": [
       "<svg xmlns=\"http://www.w3.org/2000/svg\" xmlns:xlink=\"http://www.w3.org/1999/xlink\" width=\"100.0\" height=\"100.0\" viewBox=\"1.44 1.19 1.62 1.62\" preserveAspectRatio=\"xMinYMin meet\"><g transform=\"matrix(1,0,0,-1,0,4.0)\"><path fill-rule=\"evenodd\" fill=\"#66cc99\" stroke=\"#555555\" stroke-width=\"0.032400000000000005\" opacity=\"0.6\" d=\"M 1.5,2.75 L 2.3333333333333335,2.3333333333333335 L 2.0,2.0 L 2.8,2.0 L 2.714285714285714,2.142857142857143 L 3.0,2.0 L 3.0,1.25 L 1.5,1.5 L 1.5,2.75 z\" /></g></svg>"
      ],
      "text/plain": [
       "<shapely.geometry.polygon.Polygon at 0x7fa5ac9320f0>"
      ]
     },
     "execution_count": 11,
     "metadata": {},
     "output_type": "execute_result"
    }
   ],
   "source": [
    "intersection"
   ]
  },
  {
   "cell_type": "code",
   "execution_count": 12,
   "metadata": {},
   "outputs": [
    {
     "data": {
      "text/plain": [
       "'POLYGON ((1.5 2.75, 2.333333333333333 2.333333333333333, 2 2, 2.8 2, 2.714285714285714 2.142857142857143, 3 2, 3 1.25, 1.5 1.5, 1.5 2.75))'"
      ]
     },
     "execution_count": 12,
     "metadata": {},
     "output_type": "execute_result"
    }
   ],
   "source": [
    "intersection.wkt"
   ]
  },
  {
   "cell_type": "markdown",
   "metadata": {},
   "source": [
    "Compute the union of the two polygons."
   ]
  },
  {
   "cell_type": "code",
   "execution_count": 13,
   "metadata": {
    "collapsed": true
   },
   "outputs": [],
   "source": [
    "union = polygon1.union(polygon2)"
   ]
  },
  {
   "cell_type": "code",
   "execution_count": 14,
   "metadata": {},
   "outputs": [
    {
     "data": {
      "image/svg+xml": [
       "<svg xmlns=\"http://www.w3.org/2000/svg\" xmlns:xlink=\"http://www.w3.org/1999/xlink\" width=\"100.0\" height=\"100.0\" viewBox=\"0.86 0.86 3.78 3.28\" preserveAspectRatio=\"xMinYMin meet\"><g transform=\"matrix(1,0,0,-1,0,5.0)\"><path fill-rule=\"evenodd\" fill=\"#66cc99\" stroke=\"#555555\" stroke-width=\"0.0756\" opacity=\"0.6\" d=\"M 1.0,1.0 L 1.0,3.0 L 1.5,2.75 L 1.5,4.0 L 4.5,3.0 L 4.5,1.0 L 3.0,1.25 L 3.0,1.0 L 1.0,1.0 z M 2.3333333333333335,2.3333333333333335 L 2.714285714285714,2.142857142857143 L 2.5,2.5 L 2.3333333333333335,2.3333333333333335 z\" /></g></svg>"
      ],
      "text/plain": [
       "<shapely.geometry.polygon.Polygon at 0x7fa5ac932240>"
      ]
     },
     "execution_count": 14,
     "metadata": {},
     "output_type": "execute_result"
    }
   ],
   "source": [
    "union"
   ]
  },
  {
   "cell_type": "code",
   "execution_count": 15,
   "metadata": {},
   "outputs": [
    {
     "data": {
      "text/plain": [
       "'POLYGON ((1 1, 1 3, 1.5 2.75, 1.5 4, 4.5 3, 4.5 1, 3 1.25, 3 1, 1 1), (2.333333333333333 2.333333333333333, 2.714285714285714 2.142857142857143, 2.5 2.5, 2.333333333333333 2.333333333333333))'"
      ]
     },
     "execution_count": 15,
     "metadata": {},
     "output_type": "execute_result"
    }
   ],
   "source": [
    "union.wkt"
   ]
  },
  {
   "cell_type": "markdown",
   "metadata": {},
   "source": [
    "Check whether the area of the union is the sum of the areas of the polygons minus the area of their intersection."
   ]
  },
  {
   "cell_type": "code",
   "execution_count": 16,
   "metadata": {},
   "outputs": [
    {
     "data": {
      "text/plain": [
       "8.202380952380953"
      ]
     },
     "execution_count": 16,
     "metadata": {},
     "output_type": "execute_result"
    }
   ],
   "source": [
    "polygon1.area + polygon2.area - intersection.area"
   ]
  },
  {
   "cell_type": "code",
   "execution_count": 17,
   "metadata": {},
   "outputs": [
    {
     "data": {
      "text/plain": [
       "8.202380952380953"
      ]
     },
     "execution_count": 17,
     "metadata": {},
     "output_type": "execute_result"
    }
   ],
   "source": [
    "union.area"
   ]
  },
  {
   "cell_type": "markdown",
   "metadata": {},
   "source": [
    "Create a point."
   ]
  },
  {
   "cell_type": "code",
   "execution_count": 18,
   "metadata": {
    "collapsed": true
   },
   "outputs": [],
   "source": [
    "point1 = Point((2.1, 2.1))"
   ]
  },
  {
   "cell_type": "markdown",
   "metadata": {},
   "source": [
    "Check whether the point lies within the first polygon."
   ]
  },
  {
   "cell_type": "code",
   "execution_count": 19,
   "metadata": {},
   "outputs": [
    {
     "data": {
      "text/plain": [
       "True"
      ]
     },
     "execution_count": 19,
     "metadata": {},
     "output_type": "execute_result"
    }
   ],
   "source": [
    "point1.within(polygon1)"
   ]
  },
  {
   "cell_type": "markdown",
   "metadata": {},
   "source": [
    "For the second polygon, the point is within the hole."
   ]
  },
  {
   "cell_type": "code",
   "execution_count": 20,
   "metadata": {},
   "outputs": [
    {
     "data": {
      "text/plain": [
       "False"
      ]
     },
     "execution_count": 20,
     "metadata": {},
     "output_type": "execute_result"
    }
   ],
   "source": [
    "point1.within(polygon2)"
   ]
  },
  {
   "cell_type": "markdown",
   "metadata": {},
   "source": [
    "Create a horizontal line."
   ]
  },
  {
   "cell_type": "code",
   "execution_count": 21,
   "metadata": {
    "collapsed": true
   },
   "outputs": [],
   "source": [
    "line1 = LineString([(0.5, 2.1), (5.0, 2.1)])"
   ]
  },
  {
   "cell_type": "markdown",
   "metadata": {},
   "source": [
    "Compute the intersection between the line and the second polygon."
   ]
  },
  {
   "cell_type": "code",
   "execution_count": 22,
   "metadata": {},
   "outputs": [
    {
     "data": {
      "image/svg+xml": [
       "<svg xmlns=\"http://www.w3.org/2000/svg\" xmlns:xlink=\"http://www.w3.org/1999/xlink\" width=\"100.0\" height=\"100.0\" viewBox=\"1.38 1.98 3.24 0.2400000000000002\" preserveAspectRatio=\"xMinYMin meet\"><g transform=\"matrix(1,0,0,-1,0,4.2)\"><g><polyline fill=\"none\" stroke=\"#66cc99\" stroke-width=\"0.06480000000000001\" points=\"1.5,2.1 2.1,2.1\" opacity=\"0.8\" /><polyline fill=\"none\" stroke=\"#66cc99\" stroke-width=\"0.06480000000000001\" points=\"2.7399999999999998,2.1 4.5,2.1\" opacity=\"0.8\" /></g></g></svg>"
      ],
      "text/plain": [
       "<shapely.geometry.multilinestring.MultiLineString at 0x7fa5ac932978>"
      ]
     },
     "execution_count": 22,
     "metadata": {},
     "output_type": "execute_result"
    }
   ],
   "source": [
    "line2 = polygon2.intersection(line1)\n",
    "line2"
   ]
  },
  {
   "cell_type": "code",
   "execution_count": 23,
   "metadata": {},
   "outputs": [
    {
     "data": {
      "text/plain": [
       "(array('d', [1.5, 2.1]), array('d', [2.1, 2.1]))"
      ]
     },
     "execution_count": 23,
     "metadata": {},
     "output_type": "execute_result"
    }
   ],
   "source": [
    "line2[0].coords.xy"
   ]
  },
  {
   "cell_type": "code",
   "execution_count": 24,
   "metadata": {},
   "outputs": [
    {
     "data": {
      "text/plain": [
       "(array('d', [2.7399999999999998, 4.5]), array('d', [2.1, 2.1]))"
      ]
     },
     "execution_count": 24,
     "metadata": {},
     "output_type": "execute_result"
    }
   ],
   "source": [
    "line2[1].coords.xy"
   ]
  },
  {
   "cell_type": "code",
   "execution_count": 25,
   "metadata": {},
   "outputs": [
    {
     "data": {
      "text/plain": [
       "shapely.geometry.multilinestring.MultiLineString"
      ]
     },
     "execution_count": 25,
     "metadata": {},
     "output_type": "execute_result"
    }
   ],
   "source": [
    "type(line2)"
   ]
  },
  {
   "cell_type": "markdown",
   "metadata": {},
   "source": [
    "Check whether the line intersects with the first polygon."
   ]
  },
  {
   "cell_type": "code",
   "execution_count": 26,
   "metadata": {},
   "outputs": [
    {
     "data": {
      "text/plain": [
       "True"
      ]
     },
     "execution_count": 26,
     "metadata": {},
     "output_type": "execute_result"
    }
   ],
   "source": [
    "line1.intersects(polygon1)"
   ]
  },
  {
   "cell_type": "markdown",
   "metadata": {},
   "source": [
    "A line can be turned into an object with a finite width by creating a buffer around it of the specifie size. The result is a `Polygon`."
   ]
  },
  {
   "cell_type": "markdown",
   "metadata": {},
   "source": [
    "### Collections of objects"
   ]
  },
  {
   "cell_type": "markdown",
   "metadata": {},
   "source": [
    "Create two lines, and a `MultiLineString` out of them."
   ]
  },
  {
   "cell_type": "code",
   "execution_count": 27,
   "metadata": {},
   "outputs": [
    {
     "data": {
      "image/svg+xml": [
       "<svg xmlns=\"http://www.w3.org/2000/svg\" xmlns:xlink=\"http://www.w3.org/1999/xlink\" width=\"100.0\" height=\"100.0\" viewBox=\"-0.08 -0.08 2.16 1.1600000000000001\" preserveAspectRatio=\"xMinYMin meet\"><g transform=\"matrix(1,0,0,-1,0,1.0)\"><polyline fill=\"none\" stroke=\"#66cc99\" stroke-width=\"0.0432\" points=\"0.0,0.0 1.0,1.0 2.0,0.5\" opacity=\"0.8\" /></g></svg>"
      ],
      "text/plain": [
       "<shapely.geometry.linestring.LineString at 0x7fa5ac932f98>"
      ]
     },
     "execution_count": 27,
     "metadata": {},
     "output_type": "execute_result"
    }
   ],
   "source": [
    "line3 = LineString([(0.0, 0.0), (1.0, 1.0), (2.0, 0.5)])\n",
    "line3"
   ]
  },
  {
   "cell_type": "code",
   "execution_count": 28,
   "metadata": {},
   "outputs": [
    {
     "data": {
      "image/svg+xml": [
       "<svg xmlns=\"http://www.w3.org/2000/svg\" xmlns:xlink=\"http://www.w3.org/1999/xlink\" width=\"100.0\" height=\"100.0\" viewBox=\"-0.58 -0.08 2.16 0.6599999999999999\" preserveAspectRatio=\"xMinYMin meet\"><g transform=\"matrix(1,0,0,-1,0,0.49999999999999994)\"><polyline fill=\"none\" stroke=\"#66cc99\" stroke-width=\"0.0432\" points=\"1.5,0.5 -0.5,0.5 -0.5,0.0\" opacity=\"0.8\" /></g></svg>"
      ],
      "text/plain": [
       "<shapely.geometry.linestring.LineString at 0x7fa5ac943160>"
      ]
     },
     "execution_count": 28,
     "metadata": {},
     "output_type": "execute_result"
    }
   ],
   "source": [
    "line4 = LineString([(1.5, 0.5), (-0.5, 0.5), (-0.5, 0.0)])\n",
    "line4"
   ]
  },
  {
   "cell_type": "code",
   "execution_count": 29,
   "metadata": {},
   "outputs": [
    {
     "data": {
      "image/svg+xml": [
       "<svg xmlns=\"http://www.w3.org/2000/svg\" xmlns:xlink=\"http://www.w3.org/1999/xlink\" width=\"100.0\" height=\"100.0\" viewBox=\"-0.6 -0.1 2.7 1.2000000000000002\" preserveAspectRatio=\"xMinYMin meet\"><g transform=\"matrix(1,0,0,-1,0,1.0)\"><g><polyline fill=\"none\" stroke=\"#66cc99\" stroke-width=\"0.054000000000000006\" points=\"0.0,0.0 1.0,1.0 2.0,0.5\" opacity=\"0.8\" /><polyline fill=\"none\" stroke=\"#66cc99\" stroke-width=\"0.054000000000000006\" points=\"1.5,0.5 -0.5,0.5 -0.5,0.0\" opacity=\"0.8\" /></g></g></svg>"
      ],
      "text/plain": [
       "<shapely.geometry.multilinestring.MultiLineString at 0x7fa5ac932e48>"
      ]
     },
     "execution_count": 29,
     "metadata": {},
     "output_type": "execute_result"
    }
   ],
   "source": [
    "mline = MultiLineString([line3, line4])\n",
    "mline"
   ]
  },
  {
   "cell_type": "markdown",
   "metadata": {},
   "source": [
    "Create two polygons, and a new `MultiPolygon` containing them."
   ]
  },
  {
   "cell_type": "code",
   "execution_count": 30,
   "metadata": {},
   "outputs": [
    {
     "data": {
      "image/svg+xml": [
       "<svg xmlns=\"http://www.w3.org/2000/svg\" xmlns:xlink=\"http://www.w3.org/1999/xlink\" width=\"100.0\" height=\"100.0\" viewBox=\"0.92 0.92 1.1600000000000001 2.16\" preserveAspectRatio=\"xMinYMin meet\"><g transform=\"matrix(1,0,0,-1,0,4.0)\"><path fill-rule=\"evenodd\" fill=\"#66cc99\" stroke=\"#555555\" stroke-width=\"0.0432\" opacity=\"0.6\" d=\"M 1.0,1.0 L 1.0,3.0 L 2.0,2.0 L 2.0,1.0 L 1.0,1.0 z M 1.4,1.4 L 1.4,2.4 L 1.6,1.6 L 1.6,1.4 L 1.4,1.4 z\" /></g></svg>"
      ],
      "text/plain": [
       "<shapely.geometry.polygon.Polygon at 0x7fa5ac943668>"
      ]
     },
     "execution_count": 30,
     "metadata": {},
     "output_type": "execute_result"
    }
   ],
   "source": [
    "polygon3 = Polygon([(1.0, 1.0), (1.0, 3.0), (2.0, 2.0), (2.0, 1.0)],\n",
    "                   [[(1.4, 1.4), (1.4, 2.4), (1.6, 1.6), (1.6, 1.4)]])\n",
    "polygon3"
   ]
  },
  {
   "cell_type": "code",
   "execution_count": 31,
   "metadata": {
    "collapsed": true
   },
   "outputs": [],
   "source": [
    "line4_outer = LinearRing([(3.0, 2.0), (3.0, 5.0), (6.0, 5.0), (6.0, 2.0)])"
   ]
  },
  {
   "cell_type": "code",
   "execution_count": 32,
   "metadata": {
    "collapsed": true
   },
   "outputs": [],
   "source": [
    "line4_inner1 = LinearRing([(3.5, 2.5), (3.5, 4.5), (4.5, 4.5), (4.5, 2.5)])"
   ]
  },
  {
   "cell_type": "code",
   "execution_count": 33,
   "metadata": {
    "collapsed": true
   },
   "outputs": [],
   "source": [
    "line4_inner2 = LinearRing([(5.0, 2.5), (5.0, 4.5), (5.5, 4.5), (5.5, 2.5)])"
   ]
  },
  {
   "cell_type": "code",
   "execution_count": 34,
   "metadata": {
    "collapsed": true
   },
   "outputs": [],
   "source": [
    "polygon4 = Polygon(line4_outer, [line4_inner1, line4_inner2])"
   ]
  },
  {
   "cell_type": "code",
   "execution_count": 35,
   "metadata": {},
   "outputs": [
    {
     "data": {
      "image/svg+xml": [
       "<svg xmlns=\"http://www.w3.org/2000/svg\" xmlns:xlink=\"http://www.w3.org/1999/xlink\" width=\"100.0\" height=\"100.0\" viewBox=\"2.88 1.88 3.24 3.24\" preserveAspectRatio=\"xMinYMin meet\"><g transform=\"matrix(1,0,0,-1,0,7.0)\"><path fill-rule=\"evenodd\" fill=\"#66cc99\" stroke=\"#555555\" stroke-width=\"0.06480000000000001\" opacity=\"0.6\" d=\"M 3.0,2.0 L 3.0,5.0 L 6.0,5.0 L 6.0,2.0 L 3.0,2.0 z M 3.5,2.5 L 3.5,4.5 L 4.5,4.5 L 4.5,2.5 L 3.5,2.5 z M 5.0,2.5 L 5.0,4.5 L 5.5,4.5 L 5.5,2.5 L 5.0,2.5 z\" /></g></svg>"
      ],
      "text/plain": [
       "<shapely.geometry.polygon.Polygon at 0x7fa5ac9431d0>"
      ]
     },
     "execution_count": 35,
     "metadata": {},
     "output_type": "execute_result"
    }
   ],
   "source": [
    "polygon4"
   ]
  },
  {
   "cell_type": "code",
   "execution_count": 36,
   "metadata": {
    "collapsed": true
   },
   "outputs": [],
   "source": [
    "multi_polygon = MultiPolygon([polygon3, polygon4])"
   ]
  },
  {
   "cell_type": "code",
   "execution_count": 37,
   "metadata": {},
   "outputs": [
    {
     "data": {
      "image/svg+xml": [
       "<svg xmlns=\"http://www.w3.org/2000/svg\" xmlns:xlink=\"http://www.w3.org/1999/xlink\" width=\"100.0\" height=\"100.0\" viewBox=\"0.8 0.8 5.4 4.4\" preserveAspectRatio=\"xMinYMin meet\"><g transform=\"matrix(1,0,0,-1,0,6.0)\"><g><path fill-rule=\"evenodd\" fill=\"#66cc99\" stroke=\"#555555\" stroke-width=\"0.10800000000000001\" opacity=\"0.6\" d=\"M 1.0,1.0 L 1.0,3.0 L 2.0,2.0 L 2.0,1.0 L 1.0,1.0 z M 1.4,1.4 L 1.4,2.4 L 1.6,1.6 L 1.6,1.4 L 1.4,1.4 z\" /><path fill-rule=\"evenodd\" fill=\"#66cc99\" stroke=\"#555555\" stroke-width=\"0.10800000000000001\" opacity=\"0.6\" d=\"M 3.0,2.0 L 3.0,5.0 L 6.0,5.0 L 6.0,2.0 L 3.0,2.0 z M 3.5,2.5 L 3.5,4.5 L 4.5,4.5 L 4.5,2.5 L 3.5,2.5 z M 5.0,2.5 L 5.0,4.5 L 5.5,4.5 L 5.5,2.5 L 5.0,2.5 z\" /></g></g></svg>"
      ],
      "text/plain": [
       "<shapely.geometry.multipolygon.MultiPolygon at 0x7fa5ac9434a8>"
      ]
     },
     "execution_count": 37,
     "metadata": {},
     "output_type": "execute_result"
    }
   ],
   "source": [
    "multi_polygon"
   ]
  },
  {
   "cell_type": "markdown",
   "metadata": {},
   "source": [
    "## Predicates"
   ]
  },
  {
   "cell_type": "markdown",
   "metadata": {},
   "source": [
    "Create an invalid `LinearRing`."
   ]
  },
  {
   "cell_type": "code",
   "execution_count": 38,
   "metadata": {
    "collapsed": true
   },
   "outputs": [],
   "source": [
    "ring = LinearRing([(0.0, 0.0), (1.0, 1.0), (2.0, 0.5), (0.0, 0.5)])"
   ]
  },
  {
   "cell_type": "code",
   "execution_count": 39,
   "metadata": {},
   "outputs": [
    {
     "name": "stderr",
     "output_type": "stream",
     "text": [
      "Ring Self-intersection at or near point 0.5 0.5\n"
     ]
    },
    {
     "data": {
      "text/plain": [
       "False"
      ]
     },
     "execution_count": 39,
     "metadata": {},
     "output_type": "execute_result"
    }
   ],
   "source": [
    "ring.is_valid"
   ]
  },
  {
   "cell_type": "markdown",
   "metadata": {},
   "source": [
    "Create a `Polygon` with a hole and check the semantics of contains."
   ]
  },
  {
   "cell_type": "code",
   "execution_count": 40,
   "metadata": {
    "scrolled": true
   },
   "outputs": [
    {
     "data": {
      "image/svg+xml": [
       "<svg xmlns=\"http://www.w3.org/2000/svg\" xmlns:xlink=\"http://www.w3.org/1999/xlink\" width=\"100.0\" height=\"100.0\" viewBox=\"-3.24 -3.24 6.48 6.48\" preserveAspectRatio=\"xMinYMin meet\"><g transform=\"matrix(1,0,0,-1,0,0.0)\"><path fill-rule=\"evenodd\" fill=\"#66cc99\" stroke=\"#555555\" stroke-width=\"0.12960000000000002\" opacity=\"0.6\" d=\"M -3.0,-3.0 L -3.0,3.0 L 3.0,3.0 L 3.0,-3.0 L -3.0,-3.0 z M -1.0,-1.0 L -1.0,1.0 L 1.0,1.0 L 1.0,-1.0 L -1.0,-1.0 z\" /></g></svg>"
      ],
      "text/plain": [
       "<shapely.geometry.polygon.Polygon at 0x7fa5ac943e10>"
      ]
     },
     "execution_count": 40,
     "metadata": {},
     "output_type": "execute_result"
    }
   ],
   "source": [
    "large_polygon = Polygon([(-3.0, -3.0), (-3.0, 3.0), (3.0, 3.0), (3.0, -3.0)],\n",
    "                        [[(-1.0, -1.0), (-1.0, 1.0), (1.0, 1.0), (1.0, -1.0)]])\n",
    "large_polygon"
   ]
  },
  {
   "cell_type": "code",
   "execution_count": 41,
   "metadata": {},
   "outputs": [
    {
     "data": {
      "image/svg+xml": [
       "<svg xmlns=\"http://www.w3.org/2000/svg\" xmlns:xlink=\"http://www.w3.org/1999/xlink\" width=\"100.0\" height=\"100.0\" viewBox=\"-2.16 -2.16 4.32 4.32\" preserveAspectRatio=\"xMinYMin meet\"><g transform=\"matrix(1,0,0,-1,0,0.0)\"><path fill-rule=\"evenodd\" fill=\"#66cc99\" stroke=\"#555555\" stroke-width=\"0.0864\" opacity=\"0.6\" d=\"M -2.0,-2.0 L -2.0,2.0 L 2.0,2.0 L 2.0,-2.0 L -2.0,-2.0 z\" /></g></svg>"
      ],
      "text/plain": [
       "<shapely.geometry.polygon.Polygon at 0x7fa5ac943a90>"
      ]
     },
     "execution_count": 41,
     "metadata": {},
     "output_type": "execute_result"
    }
   ],
   "source": [
    "small_polygon = Polygon([(-2.0, -2.0), (-2.0, 2.0), (2.0, 2.0), (2.0, -2.0)])\n",
    "small_polygon"
   ]
  },
  {
   "cell_type": "code",
   "execution_count": 42,
   "metadata": {},
   "outputs": [
    {
     "data": {
      "text/plain": [
       "False"
      ]
     },
     "execution_count": 42,
     "metadata": {},
     "output_type": "execute_result"
    }
   ],
   "source": [
    "large_polygon.contains(small_polygon)"
   ]
  },
  {
   "cell_type": "code",
   "execution_count": 43,
   "metadata": {},
   "outputs": [
    {
     "data": {
      "text/plain": [
       "False"
      ]
     },
     "execution_count": 43,
     "metadata": {},
     "output_type": "execute_result"
    }
   ],
   "source": [
    "small_polygon.within(large_polygon)"
   ]
  },
  {
   "cell_type": "code",
   "execution_count": 44,
   "metadata": {},
   "outputs": [
    {
     "data": {
      "text/plain": [
       "False"
      ]
     },
     "execution_count": 44,
     "metadata": {},
     "output_type": "execute_result"
    }
   ],
   "source": [
    "small_polygon.crosses(large_polygon)"
   ]
  },
  {
   "cell_type": "code",
   "execution_count": 45,
   "metadata": {},
   "outputs": [
    {
     "data": {
      "image/svg+xml": [
       "<svg xmlns=\"http://www.w3.org/2000/svg\" xmlns:xlink=\"http://www.w3.org/1999/xlink\" width=\"100.0\" height=\"100.0\" viewBox=\"-1.08 -1.08 2.16 2.16\" preserveAspectRatio=\"xMinYMin meet\"><g transform=\"matrix(1,0,0,-1,0,0.0)\"><path fill-rule=\"evenodd\" fill=\"#66cc99\" stroke=\"#555555\" stroke-width=\"0.0432\" opacity=\"0.6\" d=\"M -1.0,-1.0 L -1.0,1.0 L 1.0,1.0 L 1.0,-1.0 L -1.0,-1.0 z\" /></g></svg>"
      ],
      "text/plain": [
       "<shapely.geometry.polygon.Polygon at 0x7fa5ac943c88>"
      ]
     },
     "execution_count": 45,
     "metadata": {},
     "output_type": "execute_result"
    }
   ],
   "source": [
    "smaller_polygon = Polygon([(-1.0, -1.0), (-1.0, 1.0), (1.0, 1.0), (1.0, -1.0)])\n",
    "smaller_polygon"
   ]
  },
  {
   "cell_type": "code",
   "execution_count": 46,
   "metadata": {},
   "outputs": [
    {
     "data": {
      "text/plain": [
       "True"
      ]
     },
     "execution_count": 46,
     "metadata": {},
     "output_type": "execute_result"
    }
   ],
   "source": [
    "small_polygon.contains(smaller_polygon)"
   ]
  },
  {
   "cell_type": "code",
   "execution_count": 47,
   "metadata": {},
   "outputs": [
    {
     "data": {
      "text/plain": [
       "True"
      ]
     },
     "execution_count": 47,
     "metadata": {},
     "output_type": "execute_result"
    }
   ],
   "source": [
    "smaller_polygon.within(small_polygon)"
   ]
  },
  {
   "cell_type": "code",
   "execution_count": 48,
   "metadata": {},
   "outputs": [
    {
     "data": {
      "text/plain": [
       "True"
      ]
     },
     "execution_count": 48,
     "metadata": {},
     "output_type": "execute_result"
    }
   ],
   "source": [
    "smaller_polygon.touches(large_polygon)"
   ]
  },
  {
   "cell_type": "markdown",
   "metadata": {},
   "source": [
    "## Constructive methods"
   ]
  },
  {
   "cell_type": "markdown",
   "metadata": {},
   "source": [
    "### Buffers"
   ]
  },
  {
   "cell_type": "markdown",
   "metadata": {},
   "source": [
    "Buffers make 2D objects from `Point` or `LineString`."
   ]
  },
  {
   "cell_type": "code",
   "execution_count": 49,
   "metadata": {
    "collapsed": true
   },
   "outputs": [],
   "source": [
    "line = LineString([(0.0, 1.0), (3.0, 1.0)])\n",
    "buffer1 = line.buffer(0.1)"
   ]
  },
  {
   "cell_type": "code",
   "execution_count": 50,
   "metadata": {
    "scrolled": true
   },
   "outputs": [
    {
     "data": {
      "image/svg+xml": [
       "<svg xmlns=\"http://www.w3.org/2000/svg\" xmlns:xlink=\"http://www.w3.org/1999/xlink\" width=\"100.0\" height=\"100.0\" viewBox=\"-0.228 0.772 3.4560000000000004 0.4560000000000002\" preserveAspectRatio=\"xMinYMin meet\"><g transform=\"matrix(1,0,0,-1,0,2.0)\"><path fill-rule=\"evenodd\" fill=\"#66cc99\" stroke=\"#555555\" stroke-width=\"0.06912000000000001\" opacity=\"0.6\" d=\"M 3.0,1.1 L 3.0098017140329563,1.0995184726672196 L 3.019509032201613,1.0980785280403231 L 3.029028467725446,1.0956940335732208 L 3.038268343236509,1.0923879532511287 L 3.0471396736826,1.0881921264348355 L 3.05555702330196,1.0831469612302544 L 3.0634393284163646,1.0773010453362737 L 3.0707106781186546,1.0707106781186546 L 3.0773010453362737,1.0634393284163646 L 3.0831469612302547,1.0555570233019602 L 3.0881921264348353,1.0471396736825997 L 3.0923879532511287,1.038268343236509 L 3.095694033573221,1.0290284677254462 L 3.098078528040323,1.0195090322016127 L 3.09951847266722,1.009801714032956 L 3.1,1.0 L 3.09951847266722,0.990198285967044 L 3.098078528040323,0.9804909677983872 L 3.095694033573221,0.9709715322745538 L 3.0923879532511287,0.961731656763491 L 3.0881921264348353,0.9528603263174003 L 3.0831469612302547,0.9444429766980398 L 3.0773010453362737,0.9365606715836354 L 3.0707106781186546,0.9292893218813453 L 3.0634393284163646,0.9226989546637263 L 3.05555702330196,0.9168530387697454 L 3.0471396736826,0.9118078735651645 L 3.038268343236509,0.9076120467488713 L 3.029028467725446,0.9043059664267791 L 3.0195090322016127,0.901921471959677 L 3.009801714032956,0.9004815273327803 L 3.0,0.9 L 0.0,0.9 L -0.009801714032956222,0.9004815273327803 L -0.019509032201612955,0.901921471959677 L -0.029028467725446414,0.9043059664267792 L -0.03826834323650912,0.9076120467488714 L -0.04713967368259987,0.9118078735651646 L -0.055557023301960363,0.9168530387697456 L -0.06343932841636467,0.9226989546637264 L -0.07071067811865482,0.9292893218813453 L -0.07730104533627374,0.9365606715836355 L -0.08314696123025457,0.9444429766980399 L -0.08819212643483555,0.9528603263174003 L -0.0923879532511287,0.961731656763491 L -0.0956940335732209,0.9709715322745538 L -0.09807852804032306,0.9804909677983872 L -0.09951847266721969,0.990198285967044 L -0.1,1.0 L -0.09951847266721969,1.009801714032956 L -0.09807852804032305,1.0195090322016127 L -0.09569403357322089,1.0290284677254462 L -0.0923879532511287,1.038268343236509 L -0.08819212643483554,1.0471396736825997 L -0.08314696123025458,1.0555570233019602 L -0.07730104533627379,1.0634393284163643 L -0.07071067811865488,1.0707106781186546 L -0.06343932841636471,1.0773010453362737 L -0.05555702330196042,1.0831469612302544 L -0.047139673682600004,1.0881921264348353 L -0.03826834323650926,1.0923879532511285 L -0.029028467725446563,1.0956940335732208 L -0.019509032201613194,1.098078528040323 L -0.009801714032956464,1.0995184726672196 L -4.379659758543259e-16,1.1 L 3.0,1.1 z\" /></g></svg>"
      ],
      "text/plain": [
       "<shapely.geometry.polygon.Polygon at 0x7fa5ac943e48>"
      ]
     },
     "execution_count": 50,
     "metadata": {},
     "output_type": "execute_result"
    }
   ],
   "source": [
    "buffer1"
   ]
  },
  {
   "cell_type": "code",
   "execution_count": 51,
   "metadata": {},
   "outputs": [
    {
     "data": {
      "text/plain": [
       "'POLYGON ((3 1.1, 3.009801714032956 1.09951847266722, 3.019509032201613 1.098078528040323, 3.029028467725446 1.095694033573221, 3.038268343236509 1.092387953251129, 3.0471396736826 1.088192126434836, 3.05555702330196 1.083146961230254, 3.063439328416365 1.077301045336274, 3.070710678118655 1.070710678118655, 3.077301045336274 1.063439328416365, 3.083146961230255 1.05555702330196, 3.088192126434835 1.0471396736826, 3.092387953251129 1.038268343236509, 3.095694033573221 1.029028467725446, 3.098078528040323 1.019509032201613, 3.09951847266722 1.009801714032956, 3.1 1, 3.09951847266722 0.990198285967044, 3.098078528040323 0.9804909677983872, 3.095694033573221 0.9709715322745538, 3.092387953251129 0.961731656763491, 3.088192126434835 0.9528603263174003, 3.083146961230255 0.9444429766980398, 3.077301045336274 0.9365606715836354, 3.070710678118655 0.9292893218813453, 3.063439328416365 0.9226989546637263, 3.05555702330196 0.9168530387697454, 3.0471396736826 0.9118078735651645, 3.038268343236509 0.9076120467488713, 3.029028467725446 0.9043059664267791, 3.019509032201613 0.901921471959677, 3.009801714032956 0.9004815273327803, 3 0.9, 0 0.9, -0.009801714032956222 0.9004815273327803, -0.01950903220161295 0.901921471959677, -0.02902846772544641 0.9043059664267792, -0.03826834323650912 0.9076120467488714, -0.04713967368259987 0.9118078735651646, -0.05555702330196036 0.9168530387697456, -0.06343932841636467 0.9226989546637264, -0.07071067811865482 0.9292893218813453, -0.07730104533627374 0.9365606715836355, -0.08314696123025457 0.9444429766980399, -0.08819212643483555 0.9528603263174003, -0.0923879532511287 0.961731656763491, -0.0956940335732209 0.9709715322745538, -0.09807852804032306 0.9804909677983872, -0.09951847266721969 0.990198285967044, -0.1 1, -0.09951847266721969 1.009801714032956, -0.09807852804032305 1.019509032201613, -0.09569403357322089 1.029028467725446, -0.0923879532511287 1.038268343236509, -0.08819212643483554 1.0471396736826, -0.08314696123025458 1.05555702330196, -0.07730104533627379 1.063439328416364, -0.07071067811865488 1.070710678118655, -0.06343932841636471 1.077301045336274, -0.05555702330196042 1.083146961230254, -0.0471396736826 1.088192126434835, -0.03826834323650926 1.092387953251128, -0.02902846772544656 1.095694033573221, -0.01950903220161319 1.098078528040323, -0.009801714032956464 1.09951847266722, -4.379659758543259e-16 1.1, 3 1.1))'"
      ]
     },
     "execution_count": 51,
     "metadata": {},
     "output_type": "execute_result"
    }
   ],
   "source": [
    "buffer1.wkt"
   ]
  },
  {
   "cell_type": "markdown",
   "metadata": {},
   "source": [
    "Create a `MultilineString` to illustrate a buffer operation."
   ]
  },
  {
   "cell_type": "code",
   "execution_count": 52,
   "metadata": {},
   "outputs": [
    {
     "data": {
      "image/svg+xml": [
       "<svg xmlns=\"http://www.w3.org/2000/svg\" xmlns:xlink=\"http://www.w3.org/1999/xlink\" width=\"100.0\" height=\"100.0\" viewBox=\"-1.6400000000000001 0.36 3.7800000000000002 1.7800000000000002\" preserveAspectRatio=\"xMinYMin meet\"><g transform=\"matrix(1,0,0,-1,0,2.5)\"><g><polyline fill=\"none\" stroke=\"#66cc99\" stroke-width=\"0.0756\" points=\"0.0,1.0 1.0,0.5 2.0,1.5\" opacity=\"0.8\" /><polyline fill=\"none\" stroke=\"#66cc99\" stroke-width=\"0.0756\" points=\"1.0,0.5 0.0,2.0 -1.5,1.0\" opacity=\"0.8\" /></g></g></svg>"
      ],
      "text/plain": [
       "<shapely.geometry.multilinestring.MultiLineString at 0x7fa5ac932b00>"
      ]
     },
     "execution_count": 52,
     "metadata": {},
     "output_type": "execute_result"
    }
   ],
   "source": [
    "line1 = LineString([(0.0, 1.0), (1.0, 0.5), (2.0, 1.5)])\n",
    "line2 = LineString([(1.0, 0.5), (0.0, 2.0), ((-1.5, 1.0))])\n",
    "multi_line = MultiLineString([line1, line2])\n",
    "multi_line"
   ]
  },
  {
   "cell_type": "code",
   "execution_count": 53,
   "metadata": {},
   "outputs": [
    {
     "data": {
      "image/svg+xml": [
       "<svg xmlns=\"http://www.w3.org/2000/svg\" xmlns:xlink=\"http://www.w3.org/1999/xlink\" width=\"100.0\" height=\"100.0\" viewBox=\"-1.7479999431039062 0.2520000568960938 3.995999940915595 1.9959998862078123\" preserveAspectRatio=\"xMinYMin meet\"><g transform=\"matrix(1,0,0,-1,0,2.5)\"><path fill-rule=\"evenodd\" fill=\"#66cc99\" stroke=\"#555555\" stroke-width=\"0.0799199988183119\" opacity=\"0.6\" d=\"M -0.027735009811261497,1.8613249509436929 L -1.4445299803774772,0.9167949705662156 L -1.4529526027295947,0.9117586128277628 L -1.4618283172361497,0.9075720678854278 L -1.471071645914485,0.9042756544556032 L -1.4805935704565107,0.9019011188016215 L -1.4903023895236738,0.9004713289998834 L -1.500104601880977,0.9000000547077824 L -1.5099058068649849,0.9004918345543763 L -1.5196116135138185,0.901941932430908 L -1.5291285496037155,0.9043363831021224 L -1.5383649618376436,0.9076521266991159 L -1.547231898516654,0.9118572307984795 L -1.5556439661933665,0.9169111979489928 L -1.5635201520575512,0.9227653556842166 L -1.5707846041337743,0.9293633252649528 L -1.5773673617773885,0.9366415646373216 L -1.5832050294337843,0.944529980377477 L -1.5882413871722372,0.9529526027295946 L -1.5924279321145722,0.9618283172361496 L -1.5957243455443968,0.9710716459144848 L -1.5980988811983785,0.9805935704565105 L -1.5995286710001166,0.9903023895236736 L -1.5999999452922176,1.0001046018809767 L -1.5995081654456238,1.0099058068649849 L -1.598058067569092,1.0196116135138185 L -1.5956636168978777,1.0291285496037155 L -1.5923478733008842,1.0383649618376436 L -1.5881427692015204,1.047231898516654 L -1.5830888020510072,1.0556439661933665 L -1.5772346443157834,1.0635201520575512 L -1.5706366747350473,1.0707846041337743 L -1.5633584353626784,1.0773673617773885 L -1.5554700196225228,1.0832050294337843 L -0.05547001962252292,2.0832050294337843 L -0.04704739727040545,2.088241387172237 L -0.038171682763850454,2.092427932114572 L -0.028928354085515185,2.095724345544397 L -0.01940642954348947,2.0980988811983785 L -0.009697610476326446,2.0995286710001166 L 0.00010460188097673823,2.0999999452922173 L 0.009905806864984911,2.0995081654456236 L 0.019611613513818422,2.098058067569092 L 0.029128549603715387,2.0956636168978777 L 0.03836496183764363,2.0923478733008842 L 0.047231898516653874,2.0881427692015206 L 0.055643966193366645,2.0830888020510074 L 0.06352015205755122,2.077234644315783 L 0.07078460413377434,2.0706366747350473 L 0.07736736177738854,2.0633584353626784 L 0.08320502943378438,2.055470019622523 L 1.015542483014356,0.6569638392516653 L 1.9292893218813452,1.5707106781186548 L 1.9365606715836357,1.5773010453362737 L 1.94444297669804,1.5831469612302547 L 1.9528603263174005,1.5881921264348355 L 1.961731656763491,1.5923879532511287 L 1.9709715322745538,1.595694033573221 L 1.9804909677983873,1.5980785280403231 L 1.990198285967044,1.5995184726672198 L 2.0,1.6 L 2.0098017140329563,1.5995184726672198 L 2.0195090322016127,1.5980785280403231 L 2.029028467725446,1.5956940335732208 L 2.038268343236509,1.5923879532511287 L 2.0471396736826,1.5881921264348355 L 2.05555702330196,1.5831469612302544 L 2.0634393284163646,1.5773010453362737 L 2.0707106781186546,1.5707106781186548 L 2.0773010453362737,1.5634393284163646 L 2.0831469612302547,1.5555570233019602 L 2.0881921264348353,1.5471396736825997 L 2.0923879532511287,1.538268343236509 L 2.095694033573221,1.5290284677254462 L 2.098078528040323,1.519509032201613 L 2.09951847266722,1.5098017140329563 L 2.1,1.5000000000000002 L 2.09951847266722,1.4901982859670442 L 2.098078528040323,1.4804909677983875 L 2.095694033573221,1.470971532274554 L 2.0923879532511287,1.4617316567634913 L 2.0881921264348358,1.4528603263174005 L 2.0831469612302547,1.44444297669804 L 2.077301045336274,1.4365606715836359 L 2.070710678118655,1.4292893218813456 L 1.0707106781186548,0.4292893218813453 L 1.0706714956475762,0.429253734153061 L 1.0706366747350473,0.4292153958662257 L 1.068876234783984,0.427623177068369 L 1.0636010827887132,0.4228319867555005 L 1.0634737184257892,0.4227369052611143 L 1.0633584353626784,0.4226326382226115 L 1.060558139409307,0.42056033401682313 L 1.055904808666483,0.41708647656766773 L 1.0556782326610274,0.4169490545496866 L 1.0554700196225228,0.4167949705662156 L 1.0522224944583387,0.41485309334464615 L 1.0476928488956214,0.4121057899277807 L 1.0473585564521548,0.4119446723336244 L 1.0470473972704055,0.4117586128277629 L 1.0435367723210167,0.41010270229622825 L 1.039040953485868,0.4079358704439438 L 1.03859314131022,0.4077708637282193 L 1.0381716827638505,0.4075720678854278 L 1.0344998334734887,0.40626259012754934 L 1.0300289305682704,0.4046151829224064 L 1.0294646329804504,0.40446690557442805 L 1.0289283540855152,0.4042756544556033 L 1.025168802460016,0.4033381140100419 L 1.0207399102168708,0.40217435855464 L 1.020059092844287,0.4020638771044151 L 1.0194064295434895,0.4019011188016215 L 1.0156193825299495,0.401343411302779 L 1.0112595776276179,0.40063591236443796 L 1.0104651872356267,0.40058436781695345 L 1.0096976104763264,0.40047132899988347 L 1.0059353121490036,0.4002904438674 L 1.0016753827279357,0.40001403552140463 L 1.0007733523070006,0.40004226530507975 L 0.9998953981190233,0.4000000547077825 L 0.9962042816806507,0.400185258127034 L 0.9920757335077866,0.40031446443660756 L 0.9910749423112252,0.40044262502552647 L 0.9900941931350151,0.4004918345543763 L 0.9865157812791461,0.4010264678539357 L 0.9825491805132296,0.4015344278479013 L 0.9814613693199643,0.4017816232278589 L 0.9803883864861817,0.401941932430908 L 0.9769596508824888,0.40280459854425876 L 0.9731836000249892,0.4036626723830257 L 0.9720232424810648,0.4040465934781877 L 0.9708714503962846,0.4043363831021224 L 0.9676249280574715,0.4055018394919827 L 0.9640653834566858,0.40667956636467567 L 0.9628495149209273,0.4072161464251804 L 0.9616350381623564,0.4076521266991158 L 0.9585988431838872,0.40909202825842783 L 0.9552786404500042,0.4105572809000084 L -0.044721359549995794,0.9105572809000084 L -0.053272933529653094,0.9153714318143975 L -0.061311460037471954,0.9210006021030952 L -0.06875952366887654,0.9273905797790039 L -0.07554539549957073,0.9344798258639873 L -0.08160372387429012,0.942200067042871 L -0.08687616377896695,0.9504769531727892 L -0.09131193873511036,0.9592307733157047 L -0.09486832980505142,0.9683772233983163 L -0.0975110869986655,0.9778282181063702 L -0.09921475911950006,0.9874927391943886 L -0.09996293887370954,0.9972777120411294 L -0.09974842088126425,1.007088902009068 L -0.0985732710676989,1.0168318219754713 L -0.09644880676812034,1.0264126422950408 L -0.09339548773508388,1.0357390944306903 L -0.08944271909999159,1.0447213595499958 L -0.08462856818560255,1.053272933529653 L -0.07899939789690491,1.0613114600374718 L -0.0726094202209963,1.0687595236688765 L -0.06552017413601291,1.0755453954995706 L -0.05779993295712921,1.08160372387429 L -0.049523046827210974,1.0868761637789668 L -0.04076922668429551,1.0913119387351102 L -0.03162277660168395,1.0948683298050512 L -0.022171781893630067,1.0975110869986655 L -0.012507260805611653,1.0992147591195 L -0.002722287958870962,1.0999629388737096 L 0.007088902009067631,1.0997484208812642 L 0.016831821975470878,1.098573271067699 L 0.026412642295040496,1.0964488067681204 L 0.03573909443068989,1.093395487735084 L 0.044721359549995406,1.0894427190999918 L 0.7079190373518112,0.7578438801990839 L -0.027735009811261497,1.8613249509436929 z\" /></g></svg>"
      ],
      "text/plain": [
       "<shapely.geometry.polygon.Polygon at 0x7fa5ac943be0>"
      ]
     },
     "execution_count": 53,
     "metadata": {},
     "output_type": "execute_result"
    }
   ],
   "source": [
    "multi_line.buffer(0.1)"
   ]
  },
  {
   "cell_type": "code",
   "execution_count": 54,
   "metadata": {
    "scrolled": true
   },
   "outputs": [
    {
     "data": {
      "image/svg+xml": [
       "<svg xmlns=\"http://www.w3.org/2000/svg\" xmlns:xlink=\"http://www.w3.org/1999/xlink\" width=\"100.0\" height=\"100.0\" viewBox=\"-1.70051724753217 0.2332767207612567 3.9162751535604716 2.0504455562046977\" preserveAspectRatio=\"xMinYMin meet\"><g transform=\"matrix(1,0,0,-1,0,2.5169989977272107)\"><path fill-rule=\"evenodd\" fill=\"#66cc99\" stroke=\"#555555\" stroke-width=\"0.07832550307120943\" opacity=\"0.6\" d=\"M -0.027735009811261497,1.8613249509436929 L -1.4445299803774772,0.9167949705662156 L -1.5554700196225228,1.0832050294337843 L 0.0277350098112618,2.138675049056307 L 1.015542483014356,0.6569638392516655 L 1.9292893218813452,1.5707106781186548 L 2.0707106781186546,1.4292893218813452 L 1.0197453049082135,0.3783239486709038 L -0.044721359549995794,0.9105572809000084 L 0.044721359549995794,1.0894427190999916 L 0.7079190373518112,0.7578438801990839 L -0.027735009811261497,1.8613249509436929 z\" /></g></svg>"
      ],
      "text/plain": [
       "<shapely.geometry.polygon.Polygon at 0x7fa5ac943f98>"
      ]
     },
     "execution_count": 54,
     "metadata": {},
     "output_type": "execute_result"
    }
   ],
   "source": [
    "multi_line.buffer(0.1, cap_style=CAP_STYLE.flat, join_style=JOIN_STYLE.mitre)"
   ]
  },
  {
   "cell_type": "markdown",
   "metadata": {},
   "source": [
    "### Convex hull"
   ]
  },
  {
   "cell_type": "code",
   "execution_count": 55,
   "metadata": {},
   "outputs": [
    {
     "data": {
      "image/svg+xml": [
       "<svg xmlns=\"http://www.w3.org/2000/svg\" xmlns:xlink=\"http://www.w3.org/1999/xlink\" width=\"100.0\" height=\"100.0\" viewBox=\"0.92 0.92 2.16 2.16\" preserveAspectRatio=\"xMinYMin meet\"><g transform=\"matrix(1,0,0,-1,0,4.0)\"><g><circle cx=\"1.0\" cy=\"2.0\" r=\"0.0648\" stroke=\"#555555\" stroke-width=\"0.0216\" fill=\"#66cc99\" opacity=\"0.6\" /><circle cx=\"3.0\" cy=\"1.0\" r=\"0.0648\" stroke=\"#555555\" stroke-width=\"0.0216\" fill=\"#66cc99\" opacity=\"0.6\" /><circle cx=\"1.0\" cy=\"3.0\" r=\"0.0648\" stroke=\"#555555\" stroke-width=\"0.0216\" fill=\"#66cc99\" opacity=\"0.6\" /><circle cx=\"2.5\" cy=\"1.5\" r=\"0.0648\" stroke=\"#555555\" stroke-width=\"0.0216\" fill=\"#66cc99\" opacity=\"0.6\" /><circle cx=\"2.0\" cy=\"2.0\" r=\"0.0648\" stroke=\"#555555\" stroke-width=\"0.0216\" fill=\"#66cc99\" opacity=\"0.6\" /><circle cx=\"2.0\" cy=\"1.5\" r=\"0.0648\" stroke=\"#555555\" stroke-width=\"0.0216\" fill=\"#66cc99\" opacity=\"0.6\" /><circle cx=\"2.5\" cy=\"2.5\" r=\"0.0648\" stroke=\"#555555\" stroke-width=\"0.0216\" fill=\"#66cc99\" opacity=\"0.6\" /></g></g></svg>"
      ],
      "text/plain": [
       "<shapely.geometry.multipoint.MultiPoint at 0x7fa5ac953400>"
      ]
     },
     "execution_count": 55,
     "metadata": {},
     "output_type": "execute_result"
    }
   ],
   "source": [
    "points = MultiPoint([(1.0, 2.0), (3.0, 1.0), (1.0, 3.0), (2.5, 1.5), (2.0, 2.0), (2.0, 1.5), (2.5, 2.5)])\n",
    "points"
   ]
  },
  {
   "cell_type": "code",
   "execution_count": 56,
   "metadata": {},
   "outputs": [
    {
     "data": {
      "image/svg+xml": [
       "<svg xmlns=\"http://www.w3.org/2000/svg\" xmlns:xlink=\"http://www.w3.org/1999/xlink\" width=\"100.0\" height=\"100.0\" viewBox=\"0.92 0.92 2.16 2.16\" preserveAspectRatio=\"xMinYMin meet\"><g transform=\"matrix(1,0,0,-1,0,4.0)\"><path fill-rule=\"evenodd\" fill=\"#66cc99\" stroke=\"#555555\" stroke-width=\"0.0432\" opacity=\"0.6\" d=\"M 3.0,1.0 L 1.0,2.0 L 1.0,3.0 L 2.5,2.5 L 3.0,1.0 z\" /></g></svg>"
      ],
      "text/plain": [
       "<shapely.geometry.polygon.Polygon at 0x7fa5ac943f60>"
      ]
     },
     "execution_count": 56,
     "metadata": {},
     "output_type": "execute_result"
    }
   ],
   "source": [
    "points.convex_hull"
   ]
  },
  {
   "cell_type": "markdown",
   "metadata": {},
   "source": [
    "Convex hull of a `Polygon`."
   ]
  },
  {
   "cell_type": "code",
   "execution_count": 57,
   "metadata": {},
   "outputs": [
    {
     "data": {
      "image/svg+xml": [
       "<svg xmlns=\"http://www.w3.org/2000/svg\" xmlns:xlink=\"http://www.w3.org/1999/xlink\" width=\"100.0\" height=\"100.0\" viewBox=\"-0.08 -0.08 2.16 1.6600000000000001\" preserveAspectRatio=\"xMinYMin meet\"><g transform=\"matrix(1,0,0,-1,0,1.5)\"><path fill-rule=\"evenodd\" fill=\"#66cc99\" stroke=\"#555555\" stroke-width=\"0.0432\" opacity=\"0.6\" d=\"M 0.0,0.0 L 0.5,0.5 L 0.0,1.0 L 1.0,0.7 L 2.0,1.5 L 2.0,0.0 L 0.0,0.0 z\" /></g></svg>"
      ],
      "text/plain": [
       "<shapely.geometry.polygon.Polygon at 0x7fa5ac953898>"
      ]
     },
     "execution_count": 57,
     "metadata": {},
     "output_type": "execute_result"
    }
   ],
   "source": [
    "polygon = Polygon([(0.0, 0.0), (0.5, 0.5), (0.0, 1.0), (1.0, 0.7), (2.0, 1.5), (2.0, 0.0)])\n",
    "polygon"
   ]
  },
  {
   "cell_type": "code",
   "execution_count": 58,
   "metadata": {
    "scrolled": true
   },
   "outputs": [
    {
     "data": {
      "image/svg+xml": [
       "<svg xmlns=\"http://www.w3.org/2000/svg\" xmlns:xlink=\"http://www.w3.org/1999/xlink\" width=\"100.0\" height=\"100.0\" viewBox=\"-0.08 -0.08 2.16 1.6600000000000001\" preserveAspectRatio=\"xMinYMin meet\"><g transform=\"matrix(1,0,0,-1,0,1.5)\"><path fill-rule=\"evenodd\" fill=\"#66cc99\" stroke=\"#555555\" stroke-width=\"0.0432\" opacity=\"0.6\" d=\"M 0.0,0.0 L 0.0,1.0 L 2.0,1.5 L 2.0,0.0 L 0.0,0.0 z\" /></g></svg>"
      ],
      "text/plain": [
       "<shapely.geometry.polygon.Polygon at 0x7fa5ac9430b8>"
      ]
     },
     "execution_count": 58,
     "metadata": {},
     "output_type": "execute_result"
    }
   ],
   "source": [
    "polygon.convex_hull"
   ]
  },
  {
   "cell_type": "markdown",
   "metadata": {},
   "source": [
    "### Parallel offset"
   ]
  },
  {
   "cell_type": "code",
   "execution_count": 59,
   "metadata": {
    "collapsed": true
   },
   "outputs": [],
   "source": [
    "line = LineString([(0.0, 1.0), (1.0, 0.5), (2.0, 1.5), (3.0, -1.0)])\n",
    "parallel = line.parallel_offset(0.5, 'left', join_style=JOIN_STYLE.mitre)"
   ]
  },
  {
   "cell_type": "code",
   "execution_count": 62,
   "metadata": {},
   "outputs": [
    {
     "data": {
      "text/plain": [
       "[<matplotlib.lines.Line2D at 0x7fa5cc3f6588>]"
      ]
     },
     "execution_count": 62,
     "metadata": {},
     "output_type": "execute_result"
    },
    {
     "data": {
      "image/png": "[encoded data removed]",
      "text/plain": [
       "<matplotlib.figure.Figure at 0x7fa5a46b1710>"
      ]
     },
     "metadata": {},
     "output_type": "display_data"
    }
   ],
   "source": [
    "plt.plot([t[0] for t in line.coords], [t[1] for t in line.coords])\n",
    "plt.plot([t[0] for t in parallel.coords], [t[1] for t in parallel.coords])"
   ]
  },
  {
   "cell_type": "markdown",
   "metadata": {},
   "source": [
    "## Splitting a polygon"
   ]
  },
  {
   "cell_type": "markdown",
   "metadata": {},
   "source": [
    "The latter can be used to split a polygon along the line by computing the difference between the polygon and the buffer created out of the line.  The result is a `MultiPolygon`."
   ]
  },
  {
   "cell_type": "code",
   "execution_count": 63,
   "metadata": {
    "collapsed": true
   },
   "outputs": [],
   "source": [
    "split = polygon1.difference(buffer1)"
   ]
  },
  {
   "cell_type": "code",
   "execution_count": 64,
   "metadata": {},
   "outputs": [
    {
     "data": {
      "image/svg+xml": [
       "<svg xmlns=\"http://www.w3.org/2000/svg\" xmlns:xlink=\"http://www.w3.org/1999/xlink\" width=\"100.0\" height=\"100.0\" viewBox=\"0.92 1.02 2.16 2.06\" preserveAspectRatio=\"xMinYMin meet\"><g transform=\"matrix(1,0,0,-1,0,4.1)\"><path fill-rule=\"evenodd\" fill=\"#66cc99\" stroke=\"#555555\" stroke-width=\"0.0432\" opacity=\"0.6\" d=\"M 1.0,1.1 L 1.0,3.0 L 3.0,2.0 L 3.0,1.1 L 1.0,1.1 z\" /></g></svg>"
      ],
      "text/plain": [
       "<shapely.geometry.polygon.Polygon at 0x7fa5ac953f28>"
      ]
     },
     "execution_count": 64,
     "metadata": {},
     "output_type": "execute_result"
    }
   ],
   "source": [
    "split"
   ]
  },
  {
   "cell_type": "code",
   "execution_count": 65,
   "metadata": {},
   "outputs": [
    {
     "ename": "TypeError",
     "evalue": "'Polygon' object does not support indexing",
     "output_type": "error",
     "traceback": [
      "\u001b[0;31m---------------------------------------------------------------------------\u001b[0m",
      "\u001b[0;31mTypeError\u001b[0m                                 Traceback (most recent call last)",
      "\u001b[0;32m<ipython-input-65-6797f170fdb0>\u001b[0m in \u001b[0;36m<module>\u001b[0;34m()\u001b[0m\n\u001b[0;32m----> 1\u001b[0;31m \u001b[0msplit\u001b[0m\u001b[0;34m[\u001b[0m\u001b[0;36m0\u001b[0m\u001b[0;34m]\u001b[0m\u001b[0;34m\u001b[0m\u001b[0m\n\u001b[0m",
      "\u001b[0;31mTypeError\u001b[0m: 'Polygon' object does not support indexing"
     ]
    }
   ],
   "source": [
    "split[0]"
   ]
  },
  {
   "cell_type": "code",
   "execution_count": 66,
   "metadata": {},
   "outputs": [
    {
     "ename": "TypeError",
     "evalue": "'Polygon' object does not support indexing",
     "output_type": "error",
     "traceback": [
      "\u001b[0;31m---------------------------------------------------------------------------\u001b[0m",
      "\u001b[0;31mTypeError\u001b[0m                                 Traceback (most recent call last)",
      "\u001b[0;32m<ipython-input-66-e914f78dd4b9>\u001b[0m in \u001b[0;36m<module>\u001b[0;34m()\u001b[0m\n\u001b[0;32m----> 1\u001b[0;31m \u001b[0msplit\u001b[0m\u001b[0;34m[\u001b[0m\u001b[0;36m1\u001b[0m\u001b[0;34m]\u001b[0m\u001b[0;34m\u001b[0m\u001b[0m\n\u001b[0m",
      "\u001b[0;31mTypeError\u001b[0m: 'Polygon' object does not support indexing"
     ]
    }
   ],
   "source": [
    "split[1]"
   ]
  },
  {
   "cell_type": "markdown",
   "metadata": {},
   "source": [
    "### Interpolation"
   ]
  },
  {
   "cell_type": "markdown",
   "metadata": {},
   "source": [
    "Create a line out of two points, and use interpolation to tet a point on that line at a specified distance from the first."
   ]
  },
  {
   "cell_type": "code",
   "execution_count": 67,
   "metadata": {},
   "outputs": [],
   "source": [
    "point1 = Point((1.0, 1.0))\n",
    "point2 = Point((3.0, 3.0))\n",
    "line12 = LineString([point1, point2])"
   ]
  },
  {
   "cell_type": "code",
   "execution_count": 68,
   "metadata": {},
   "outputs": [],
   "source": [
    "point3 = line12.interpolate(1.0)"
   ]
  },
  {
   "cell_type": "markdown",
   "metadata": {},
   "source": [
    "Verify that the distance between the first and the new point is 1."
   ]
  },
  {
   "cell_type": "code",
   "execution_count": 69,
   "metadata": {},
   "outputs": [
    {
     "data": {
      "text/plain": [
       "0.9999999999999999"
      ]
     },
     "execution_count": 69,
     "metadata": {},
     "output_type": "execute_result"
    }
   ],
   "source": [
    "point1.distance(point3)"
   ]
  },
  {
   "cell_type": "markdown",
   "metadata": {},
   "source": [
    "Check whether the new point is on the line defined by the first and second point."
   ]
  },
  {
   "cell_type": "code",
   "execution_count": 70,
   "metadata": {},
   "outputs": [
    {
     "data": {
      "text/plain": [
       "True"
      ]
     },
     "execution_count": 70,
     "metadata": {},
     "output_type": "execute_result"
    }
   ],
   "source": [
    "line12.contains(point3)"
   ]
  },
  {
   "cell_type": "code",
   "execution_count": 71,
   "metadata": {
    "collapsed": true
   },
   "outputs": [],
   "source": [
    "point4 = Point((3.1, 3.2))"
   ]
  },
  {
   "cell_type": "code",
   "execution_count": 72,
   "metadata": {},
   "outputs": [
    {
     "data": {
      "text/plain": [
       "False"
      ]
     },
     "execution_count": 72,
     "metadata": {},
     "output_type": "execute_result"
    }
   ],
   "source": [
    "line12.contains(point4)"
   ]
  },
  {
   "cell_type": "code",
   "execution_count": 80,
   "metadata": {},
   "outputs": [
    {
     "data": {
      "image/png": "[encoded data removed]",
      "text/plain": [
       "<matplotlib.figure.Figure at 0x7fa5a15b1d30>"
      ]
     },
     "metadata": {},
     "output_type": "display_data"
    }
   ],
   "source": [
    "plt.axes().set_aspect('equal')\n",
    "plt.plot([1.0, 3.0], [1.0, 3.0], 'k-', linewidth=0.8)\n",
    "plt.plot([1.0, 3.0], [1.0, 3.0], 'bo')\n",
    "plt.plot([point3.coords[0][0]], [point3.coords[0][1]], 'ro');"
   ]
  },
  {
   "cell_type": "markdown",
   "metadata": {
    "collapsed": true
   },
   "source": [
    "## Affine transformations"
   ]
  },
  {
   "cell_type": "markdown",
   "metadata": {},
   "source": [
    "Import modules."
   ]
  },
  {
   "cell_type": "code",
   "execution_count": 69,
   "metadata": {
    "collapsed": true
   },
   "outputs": [],
   "source": [
    "from math import cos, sin, pi\n",
    "import matplotlib.pyplot as plt\n",
    "from shapely import affinity\n",
    "%matplotlib inline"
   ]
  },
  {
   "cell_type": "markdown",
   "metadata": {},
   "source": [
    "Define a function to plot a polygon."
   ]
  },
  {
   "cell_type": "code",
   "execution_count": 70,
   "metadata": {
    "collapsed": true
   },
   "outputs": [],
   "source": [
    "def plot_polygons(*polygons):\n",
    "    plt.xlim(-10.0, 10.0)\n",
    "    plt.ylim(-10.0, 10.0)\n",
    "    plt.grid()\n",
    "    plt.axes().set_aspect('equal')\n",
    "    for polygon in polygons:\n",
    "        boundary = polygon.boundary.xy\n",
    "        plt.plot(boundary[0], boundary[1])"
   ]
  },
  {
   "cell_type": "markdown",
   "metadata": {},
   "source": [
    "Create a rectangle to transform."
   ]
  },
  {
   "cell_type": "code",
   "execution_count": 71,
   "metadata": {},
   "outputs": [
    {
     "data": {
      "image/png": "[encoded data removed]",
      "text/plain": [
       "<matplotlib.figure.Figure at 0x7f7a892ff7b8>"
      ]
     },
     "metadata": {},
     "output_type": "display_data"
    }
   ],
   "source": [
    "rectangle = Polygon([(0.0, 0.0), (0.0, 2.0), (3.0, 2.0), (3.0, 0.0)])\n",
    "plot_polygons(rectangle)"
   ]
  },
  {
   "cell_type": "markdown",
   "metadata": {},
   "source": [
    "Perform a rotation over 45 degrees."
   ]
  },
  {
   "cell_type": "code",
   "execution_count": 72,
   "metadata": {
    "scrolled": true
   },
   "outputs": [
    {
     "data": {
      "image/png": "[encoded data removed]",
      "text/plain": [
       "<matplotlib.figure.Figure at 0x7f7a8926a400>"
      ]
     },
     "metadata": {},
     "output_type": "display_data"
    }
   ],
   "source": [
    "plot_polygons(rectangle, affinity.rotate(rectangle, 45))"
   ]
  },
  {
   "cell_type": "markdown",
   "metadata": {},
   "source": [
    "Or over $\\pi/4$ radians."
   ]
  },
  {
   "cell_type": "code",
   "execution_count": 73,
   "metadata": {},
   "outputs": [
    {
     "data": {
      "image/png": "[encoded data removed]",
      "text/plain": [
       "<matplotlib.figure.Figure at 0x7f7a8939aa20>"
      ]
     },
     "metadata": {},
     "output_type": "display_data"
    }
   ],
   "source": [
    "plot_polygons(rectangle, affinity.rotate(rectangle, pi/4, use_radians=True))"
   ]
  },
  {
   "cell_type": "markdown",
   "metadata": {},
   "source": [
    "By default, the rotation's center is that of the shape to be rotated, however, it can be set explicitly."
   ]
  },
  {
   "cell_type": "code",
   "execution_count": 74,
   "metadata": {
    "scrolled": false
   },
   "outputs": [
    {
     "data": {
      "image/png": "[encoded data removed]",
      "text/plain": [
       "<matplotlib.figure.Figure at 0x7f7a892750f0>"
      ]
     },
     "metadata": {},
     "output_type": "display_data"
    }
   ],
   "source": [
    "plot_polygons(rectangle, affinity.rotate(rectangle, 45, origin=(0.0, 0.0)))"
   ]
  },
  {
   "cell_type": "markdown",
   "metadata": {},
   "source": [
    "Scale the rectangle."
   ]
  },
  {
   "cell_type": "code",
   "execution_count": 75,
   "metadata": {},
   "outputs": [
    {
     "data": {
      "image/png": "[encoded data removed]",
      "text/plain": [
       "<matplotlib.figure.Figure at 0x7f7a89157a20>"
      ]
     },
     "metadata": {},
     "output_type": "display_data"
    }
   ],
   "source": [
    "plot_polygons(rectangle, affinity.scale(rectangle, 2.5, 2.5))"
   ]
  },
  {
   "cell_type": "markdown",
   "metadata": {},
   "source": [
    "Scale only along the $y$-axis."
   ]
  },
  {
   "cell_type": "code",
   "execution_count": 76,
   "metadata": {},
   "outputs": [
    {
     "data": {
      "image/png": "[encoded data removed]",
      "text/plain": [
       "<matplotlib.figure.Figure at 0x7f7a890bf8d0>"
      ]
     },
     "metadata": {},
     "output_type": "display_data"
    }
   ],
   "source": [
    "plot_polygons(rectangle, affinity.scale(rectangle, yfact=2.5))"
   ]
  },
  {
   "cell_type": "markdown",
   "metadata": {},
   "source": [
    "Skewing the rectangle in the $x$-direction."
   ]
  },
  {
   "cell_type": "code",
   "execution_count": 77,
   "metadata": {},
   "outputs": [
    {
     "data": {
      "image/png": "[encoded data removed]",
      "text/plain": [
       "<matplotlib.figure.Figure at 0x7f7a8902c208>"
      ]
     },
     "metadata": {},
     "output_type": "display_data"
    }
   ],
   "source": [
    "plot_polygons(rectangle, affinity.skew(rectangle, xs=30.0))"
   ]
  },
  {
   "cell_type": "markdown",
   "metadata": {},
   "source": [
    "Skewing in both $x$ and $y$ direction."
   ]
  },
  {
   "cell_type": "code",
   "execution_count": 78,
   "metadata": {},
   "outputs": [
    {
     "data": {
      "image/png": "[encoded data removed]",
      "text/plain": [
       "<matplotlib.figure.Figure at 0x7f7a89057cc0>"
      ]
     },
     "metadata": {},
     "output_type": "display_data"
    }
   ],
   "source": [
    "plot_polygons(rectangle, affinity.skew(rectangle, xs=30.0, ys=30.0))"
   ]
  },
  {
   "cell_type": "markdown",
   "metadata": {},
   "source": [
    "Setting the origin explicitly for the skew."
   ]
  },
  {
   "cell_type": "code",
   "execution_count": 79,
   "metadata": {
    "scrolled": true
   },
   "outputs": [
    {
     "data": {
      "image/png": "[encoded data removed]",
      "text/plain": [
       "<matplotlib.figure.Figure at 0x7f7a891fb4a8>"
      ]
     },
     "metadata": {},
     "output_type": "display_data"
    }
   ],
   "source": [
    "plot_polygons(rectangle, affinity.skew(rectangle, xs=20.0, origin=Point((0.0, 0.0))))"
   ]
  }
 ],
 "metadata": {
  "kernelspec": {
   "display_name": "Python 3",
   "language": "python",
   "name": "python3"
  },
  "language_info": {
   "codemirror_mode": {
    "name": "ipython",
    "version": 3
   },
   "file_extension": ".py",
   "mimetype": "text/x-python",
   "name": "python",
   "nbconvert_exporter": "python",
   "pygments_lexer": "ipython3",
   "version": "3.5.4"
  }
 },
 "nbformat": 4,
 "nbformat_minor": 2
}

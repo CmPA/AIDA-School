{
 "cells": [
  {
   "cell_type": "markdown",
   "metadata": {
    "toc-hr-collapsed": false
   },
   "source": [
    "# xarray package"
   ]
  },
  {
   "cell_type": "markdown",
   "metadata": {},
   "source": [
    "xarray is a crossbreed between numpy and pandas. It allows to annotate pure numerical (numpy-like) data with indices, attributes and so on."
   ]
  },
  {
   "cell_type": "markdown",
   "metadata": {},
   "source": [
    "## Required imports"
   ]
  },
  {
   "cell_type": "code",
   "execution_count": 1,
   "metadata": {
    "ExecuteTime": {
     "end_time": "2019-07-03T04:57:31.798225Z",
     "start_time": "2019-07-03T04:57:31.776706Z"
    }
   },
   "outputs": [],
   "source": [
    "import matplotlib.pyplot as plt\n",
    "%matplotlib inline\n",
    "import numpy as np\n",
    "import pandas as pd\n",
    "from pandas.plotting import register_matplotlib_converters\n",
    "register_matplotlib_converters()\n",
    "import sys\n",
    "import xarray as xr"
   ]
  },
  {
   "cell_type": "markdown",
   "metadata": {},
   "source": [
    "## Running example"
   ]
  },
  {
   "cell_type": "markdown",
   "metadata": {},
   "source": [
    "Create a 2D array of floating point values that represent temperatures of a plane. The dimensions are named `x` and `y`, and the coordinates for those dimensions are provided."
   ]
  },
  {
   "cell_type": "code",
   "execution_count": 2,
   "metadata": {
    "ExecuteTime": {
     "end_time": "2019-07-03T04:48:30.222457Z",
     "start_time": "2019-07-03T04:48:29.895908Z"
    },
    "scrolled": true
   },
   "outputs": [
    {
     "data": {
      "text/html": [
       "<pre>&lt;xarray.DataArray (x: 11, y: 11)&gt;\n",
       "array([[25.4988448 , 23.39724357, 20.24712019, 22.38314038, 20.00306701,\n",
       "        25.11999731, 25.45432341, 23.80026017, 20.54738093, 21.03097739,\n",
       "        18.92687934],\n",
       "       [22.00398794, 20.27192054, 17.63385599, 18.72612225, 20.8484745 ,\n",
       "        19.46559613, 18.42510929, 23.39567238, 19.25841855, 21.58056126,\n",
       "        21.07231794],\n",
       "       [18.61106092, 20.61739919, 20.53950365, 21.3798843 , 23.10975021,\n",
       "        20.98018569, 21.34124172, 19.11502555, 17.58268715, 22.60328183,\n",
       "        21.47545328],\n",
       "       [19.67391651, 24.60202868, 19.7119848 , 23.0457134 , 22.18027301,\n",
       "        19.93193015, 19.13480027, 18.64597415, 17.14602559, 18.27688404,\n",
       "        19.95926802],\n",
       "       [21.61161322, 21.05803646, 26.47579387, 19.28301912, 20.73629081,\n",
       "        17.81248346, 21.97240871, 24.87112386, 21.17473823, 22.45417057,\n",
       "        22.5146855 ],\n",
       "       [21.3706365 , 21.17411047, 20.71771189, 21.32629413, 25.27117325,\n",
       "        20.96454022, 16.50840133, 20.06063499, 17.64608346, 18.76171914,\n",
       "        17.94025172],\n",
       "       [19.63364958, 23.44396645, 19.26329555, 21.42314903, 24.00175585,\n",
       "        15.86963786, 18.1071366 , 16.18780383, 19.01908846, 20.82975735,\n",
       "        22.93974614],\n",
       "       [23.30177657, 19.98747409, 21.95324933, 22.0727039 , 24.35636834,\n",
       "        20.23531303, 20.71016625, 23.02026373, 23.55531591, 18.54822844,\n",
       "        21.53877195],\n",
       "       [20.52278161, 23.84750023, 19.01413235, 21.7909608 , 20.23068922,\n",
       "        23.2231657 , 19.86638471, 24.61156825, 18.67185945, 22.82834313,\n",
       "        21.77832921],\n",
       "       [18.82637942, 19.37653728, 18.5068343 , 24.01998162, 16.6866677 ,\n",
       "        20.93781913, 18.81118506, 22.78353883, 20.94002675, 22.99034824,\n",
       "        19.76267955],\n",
       "       [22.73095447, 21.43357868, 20.0418187 , 18.06314775, 14.91345132,\n",
       "        23.3997994 , 19.56048114, 16.63938592, 20.70636447, 23.96504051,\n",
       "        22.42441984]])\n",
       "Coordinates:\n",
       "  * x        (x) float64 0.0 0.1 0.2 0.3 0.4 0.5 0.6 0.7 0.8 0.9 1.0\n",
       "  * y        (y) float64 0.0 0.1 0.2 0.3 0.4 0.5 0.6 0.7 0.8 0.9 1.0</pre>"
      ],
      "text/plain": [
       "<xarray.DataArray (x: 11, y: 11)>\n",
       "array([[25.4988448 , 23.39724357, 20.24712019, 22.38314038, 20.00306701,\n",
       "        25.11999731, 25.45432341, 23.80026017, 20.54738093, 21.03097739,\n",
       "        18.92687934],\n",
       "       [22.00398794, 20.27192054, 17.63385599, 18.72612225, 20.8484745 ,\n",
       "        19.46559613, 18.42510929, 23.39567238, 19.25841855, 21.58056126,\n",
       "        21.07231794],\n",
       "       [18.61106092, 20.61739919, 20.53950365, 21.3798843 , 23.10975021,\n",
       "        20.98018569, 21.34124172, 19.11502555, 17.58268715, 22.60328183,\n",
       "        21.47545328],\n",
       "       [19.67391651, 24.60202868, 19.7119848 , 23.0457134 , 22.18027301,\n",
       "        19.93193015, 19.13480027, 18.64597415, 17.14602559, 18.27688404,\n",
       "        19.95926802],\n",
       "       [21.61161322, 21.05803646, 26.47579387, 19.28301912, 20.73629081,\n",
       "        17.81248346, 21.97240871, 24.87112386, 21.17473823, 22.45417057,\n",
       "        22.5146855 ],\n",
       "       [21.3706365 , 21.17411047, 20.71771189, 21.32629413, 25.27117325,\n",
       "        20.96454022, 16.50840133, 20.06063499, 17.64608346, 18.76171914,\n",
       "        17.94025172],\n",
       "       [19.63364958, 23.44396645, 19.26329555, 21.42314903, 24.00175585,\n",
       "        15.86963786, 18.1071366 , 16.18780383, 19.01908846, 20.82975735,\n",
       "        22.93974614],\n",
       "       [23.30177657, 19.98747409, 21.95324933, 22.0727039 , 24.35636834,\n",
       "        20.23531303, 20.71016625, 23.02026373, 23.55531591, 18.54822844,\n",
       "        21.53877195],\n",
       "       [20.52278161, 23.84750023, 19.01413235, 21.7909608 , 20.23068922,\n",
       "        23.2231657 , 19.86638471, 24.61156825, 18.67185945, 22.82834313,\n",
       "        21.77832921],\n",
       "       [18.82637942, 19.37653728, 18.5068343 , 24.01998162, 16.6866677 ,\n",
       "        20.93781913, 18.81118506, 22.78353883, 20.94002675, 22.99034824,\n",
       "        19.76267955],\n",
       "       [22.73095447, 21.43357868, 20.0418187 , 18.06314775, 14.91345132,\n",
       "        23.3997994 , 19.56048114, 16.63938592, 20.70636447, 23.96504051,\n",
       "        22.42441984]])\n",
       "Coordinates:\n",
       "  * x        (x) float64 0.0 0.1 0.2 0.3 0.4 0.5 0.6 0.7 0.8 0.9 1.0\n",
       "  * y        (y) float64 0.0 0.1 0.2 0.3 0.4 0.5 0.6 0.7 0.8 0.9 1.0"
      ]
     },
     "execution_count": 2,
     "metadata": {},
     "output_type": "execute_result"
    }
   ],
   "source": [
    "grid_size = 11\n",
    "temperature = xr.DataArray(np.random.normal(loc=21.0, scale=2.0, size=(grid_size, grid_size)),\n",
    "                           dims=('x', 'y'), coords={'x': np.linspace(0.0, 1.0, grid_size),\n",
    "                                                    'y': np.linspace(0.0, 1.0, grid_size)})\n",
    "temperature"
   ]
  },
  {
   "cell_type": "markdown",
   "metadata": {},
   "source": [
    "## Accessing data"
   ]
  },
  {
   "cell_type": "markdown",
   "metadata": {},
   "source": [
    "The elements can be accessed as you would do for a numpy array as well."
   ]
  },
  {
   "cell_type": "code",
   "execution_count": 3,
   "metadata": {
    "ExecuteTime": {
     "end_time": "2019-07-03T05:01:08.509437Z",
     "start_time": "2019-07-03T05:01:08.480251Z"
    }
   },
   "outputs": [
    {
     "data": {
      "text/html": [
       "<pre>&lt;xarray.DataArray ()&gt;\n",
       "array(17.63385599)\n",
       "Coordinates:\n",
       "    x        float64 0.1\n",
       "    y        float64 0.2</pre>"
      ],
      "text/plain": [
       "<xarray.DataArray ()>\n",
       "array(17.63385599)\n",
       "Coordinates:\n",
       "    x        float64 0.1\n",
       "    y        float64 0.2"
      ]
     },
     "execution_count": 3,
     "metadata": {},
     "output_type": "execute_result"
    }
   ],
   "source": [
    "temperature[1, 2]"
   ]
  },
  {
   "cell_type": "markdown",
   "metadata": {},
   "source": [
    "Note however that the result is a new xarray, althought it contains only a single element.  An advantage of this is that the coordinates are part of the result."
   ]
  },
  {
   "cell_type": "markdown",
   "metadata": {},
   "source": [
    "The values of the xarray `temperature` can now be accessed by index, i.e., the value of the coordinates, e.g., the temperature at $x = 0.1$ and $y = 0.2$ is given by:"
   ]
  },
  {
   "cell_type": "code",
   "execution_count": 4,
   "metadata": {
    "ExecuteTime": {
     "end_time": "2019-07-02T14:46:35.996918Z",
     "start_time": "2019-07-02T14:46:35.966369Z"
    }
   },
   "outputs": [
    {
     "data": {
      "text/html": [
       "<pre>&lt;xarray.DataArray ()&gt;\n",
       "array(17.63385599)\n",
       "Coordinates:\n",
       "    x        float64 0.1\n",
       "    y        float64 0.2</pre>"
      ],
      "text/plain": [
       "<xarray.DataArray ()>\n",
       "array(17.63385599)\n",
       "Coordinates:\n",
       "    x        float64 0.1\n",
       "    y        float64 0.2"
      ]
     },
     "execution_count": 4,
     "metadata": {},
     "output_type": "execute_result"
    }
   ],
   "source": [
    "temperature.sel(x=0.1, y=0.2)"
   ]
  },
  {
   "cell_type": "markdown",
   "metadata": {},
   "source": [
    "Note that using `float` coordinates may lead to unexpected results due to round off errors."
   ]
  },
  {
   "cell_type": "code",
   "execution_count": 5,
   "metadata": {
    "ExecuteTime": {
     "end_time": "2019-07-03T04:59:13.433341Z",
     "start_time": "2019-07-03T04:59:13.409876Z"
    }
   },
   "outputs": [
    {
     "name": "stderr",
     "output_type": "stream",
     "text": [
      "KeyError for 0.200000000001\n"
     ]
    }
   ],
   "source": [
    "try:\n",
    "    temperature.sel(x=0.1, y=0.200000000001)\n",
    "except KeyError as e:\n",
    "    print(f'KeyError for {e}', file=sys.stderr)"
   ]
  },
  {
   "cell_type": "markdown",
   "metadata": {},
   "source": [
    "It is straightforward to interpolate, as we'll discuss in a [later section](#Interpolation)."
   ]
  },
  {
   "cell_type": "markdown",
   "metadata": {},
   "source": [
    "xarrays can be indexed by slicing as well.  Note that you need to use the `slice` function."
   ]
  },
  {
   "cell_type": "code",
   "execution_count": 6,
   "metadata": {
    "ExecuteTime": {
     "end_time": "2019-07-03T07:08:20.915039Z",
     "start_time": "2019-07-03T07:08:20.841836Z"
    }
   },
   "outputs": [
    {
     "data": {
      "text/plain": [
       "<xarray.DataArray (x: 7, y: 2)>\n",
       "array([[21.843564, 22.611372],\n",
       "       [21.494013, 20.76477 ],\n",
       "       [22.899617, 21.14046 ],\n",
       "       [21.542768, 21.069173],\n",
       "       [20.546089, 21.234935],\n",
       "       [23.706478, 23.973886],\n",
       "       [22.172344, 20.169168]])\n",
       "Coordinates:\n",
       "  * x        (x) float64 0.2 0.3 0.4 0.5 0.6 0.7 0.8\n",
       "  * y        (y) float64 0.1 0.2"
      ]
     },
     "execution_count": 6,
     "metadata": {},
     "output_type": "execute_result"
    }
   ],
   "source": [
    "temperature.sel(x=slice(0.2, 0.8), y=slice(0.1, 0.3))"
   ]
  },
  {
   "cell_type": "markdown",
   "metadata": {},
   "source": [
    "It is also possible to select values from an xarray using integer location indices on specific dimensions without worrying about the layout of the array."
   ]
  },
  {
   "cell_type": "code",
   "execution_count": 7,
   "metadata": {
    "ExecuteTime": {
     "end_time": "2019-07-03T05:00:57.912906Z",
     "start_time": "2019-07-03T05:00:57.892762Z"
    }
   },
   "outputs": [
    {
     "data": {
      "text/plain": [
       "<xarray.DataArray ()>\n",
       "array(19.472503)\n",
       "Coordinates:\n",
       "    x        float64 0.1\n",
       "    y        float64 0.2"
      ]
     },
     "execution_count": 7,
     "metadata": {},
     "output_type": "execute_result"
    }
   ],
   "source": [
    "temperature.isel(x=1, y=2)"
   ]
  },
  {
   "cell_type": "markdown",
   "metadata": {},
   "source": [
    "A scalar value can be obtained using the `float` constructor."
   ]
  },
  {
   "cell_type": "code",
   "execution_count": 8,
   "metadata": {
    "ExecuteTime": {
     "end_time": "2019-07-02T14:47:41.855378Z",
     "start_time": "2019-07-02T14:47:41.842593Z"
    },
    "scrolled": true
   },
   "outputs": [
    {
     "data": {
      "text/plain": [
       "19.47250344542894"
      ]
     },
     "execution_count": 8,
     "metadata": {},
     "output_type": "execute_result"
    }
   ],
   "source": [
    "float(temperature.isel(x=1, y=2))"
   ]
  },
  {
   "cell_type": "markdown",
   "metadata": {
    "ExecuteTime": {
     "end_time": "2019-07-03T07:21:03.186815Z",
     "start_time": "2019-07-03T07:21:03.145478Z"
    }
   },
   "source": [
    "As in pandas, direct access to the underlying numpy array is available as well."
   ]
  },
  {
   "cell_type": "code",
   "execution_count": 9,
   "metadata": {
    "ExecuteTime": {
     "end_time": "2019-07-03T08:57:01.034727Z",
     "start_time": "2019-07-03T08:57:01.021467Z"
    }
   },
   "outputs": [
    {
     "name": "stdout",
     "output_type": "stream",
     "text": [
      "<class 'numpy.ndarray'> float64 (11, 11)\n"
     ]
    }
   ],
   "source": [
    "print(type(temperature.values), temperature.values.dtype, temperature.values.shape)"
   ]
  },
  {
   "cell_type": "markdown",
   "metadata": {},
   "source": [
    "## Metadata"
   ]
  },
  {
   "cell_type": "markdown",
   "metadata": {},
   "source": [
    "Like a numpy array, the data type and shape of an xarray can be easily obtained."
   ]
  },
  {
   "cell_type": "code",
   "execution_count": 10,
   "metadata": {
    "ExecuteTime": {
     "end_time": "2019-07-03T08:59:03.230436Z",
     "start_time": "2019-07-03T08:59:03.220621Z"
    }
   },
   "outputs": [
    {
     "name": "stdout",
     "output_type": "stream",
     "text": [
      "float64 (11, 11)\n"
     ]
    }
   ],
   "source": [
    "print(temperature.dtype, temperature.shape)"
   ]
  },
  {
   "cell_type": "markdown",
   "metadata": {},
   "source": [
    "The dimensions can be retrieved."
   ]
  },
  {
   "cell_type": "code",
   "execution_count": 11,
   "metadata": {
    "ExecuteTime": {
     "end_time": "2019-07-03T07:37:15.883407Z",
     "start_time": "2019-07-03T07:37:15.866205Z"
    }
   },
   "outputs": [
    {
     "data": {
      "text/plain": [
       "('x', 'y')"
      ]
     },
     "execution_count": 11,
     "metadata": {},
     "output_type": "execute_result"
    }
   ],
   "source": [
    "temperature.dims"
   ]
  },
  {
   "cell_type": "markdown",
   "metadata": {},
   "source": [
    "The coordinates associated with an xarray can be retrieved as well."
   ]
  },
  {
   "cell_type": "code",
   "execution_count": 12,
   "metadata": {
    "ExecuteTime": {
     "end_time": "2019-07-02T14:50:47.268531Z",
     "start_time": "2019-07-02T14:50:47.235440Z"
    }
   },
   "outputs": [
    {
     "data": {
      "text/plain": [
       "<xarray.DataArray 'x' (x: 11)>\n",
       "array([0. , 0.1, 0.2, 0.3, 0.4, 0.5, 0.6, 0.7, 0.8, 0.9, 1. ])\n",
       "Coordinates:\n",
       "  * x        (x) float64 0.0 0.1 0.2 0.3 0.4 0.5 0.6 0.7 0.8 0.9 1.0"
      ]
     },
     "execution_count": 12,
     "metadata": {},
     "output_type": "execute_result"
    }
   ],
   "source": [
    "temperature.coords['x']"
   ]
  },
  {
   "cell_type": "markdown",
   "metadata": {},
   "source": [
    "This can be quite convenient to reuse the same coordinates in a new xarray."
   ]
  },
  {
   "cell_type": "code",
   "execution_count": 13,
   "metadata": {
    "ExecuteTime": {
     "end_time": "2019-07-03T08:49:44.720587Z",
     "start_time": "2019-07-03T08:49:44.684016Z"
    }
   },
   "outputs": [
    {
     "data": {
      "text/plain": [
       "<xarray.DataArray (x: 11, y: 11)>\n",
       "array([[109803.901687, 111194.942097, 106939.167658, 112581.874272,\n",
       "        107370.597966, 105990.707104, 108363.976396, 108281.687394,\n",
       "        108297.235189, 106382.832734, 112961.88931 ],\n",
       "       [112114.749396, 108240.793539, 110317.588222, 107689.300553,\n",
       "        107170.169005, 113727.759334, 112912.602492, 108662.417573,\n",
       "        108979.043578, 110881.459251, 109537.660465],\n",
       "       [114448.795784, 113890.2084  , 109816.770953, 107244.877409,\n",
       "        115312.077125, 112965.096044, 109341.333989, 107943.288417,\n",
       "        110509.904344, 105628.91408 , 106418.331646],\n",
       "       [114010.615513, 106956.531226, 108299.370573, 110975.497546,\n",
       "        106520.564208, 111651.127518, 101847.271629, 116306.012856,\n",
       "        111397.074496, 109540.241678, 109143.121065],\n",
       "       [110049.49687 , 107936.742192, 107434.442844, 115632.805702,\n",
       "        109784.092756, 108326.291986, 107648.332703, 109537.84201 ,\n",
       "        111955.490243, 117289.281604, 111938.231942],\n",
       "       [109036.981589, 111276.218667, 109480.238689, 109990.723774,\n",
       "        105906.014259, 113752.314063, 113778.474798, 114352.465532,\n",
       "        113912.991754, 111868.071263, 111647.648043],\n",
       "       [112503.207902, 111035.125763, 112945.937548, 108078.118731,\n",
       "        110619.820137, 106188.445109, 106251.923299, 108532.503972,\n",
       "        111566.93586 , 108094.394825, 114581.376521],\n",
       "       [109996.721371, 111432.970377, 104036.708686, 107003.138241,\n",
       "        105864.432574, 109950.195308, 112531.99177 , 111031.868949,\n",
       "        113551.299462, 105762.103719, 109664.405794],\n",
       "       [106083.659377, 108460.784923, 112097.037422, 104353.900532,\n",
       "        114795.443989, 112120.590723, 108551.006769, 117160.64281 ,\n",
       "        107194.373911, 104396.319343, 107328.274884],\n",
       "       [107695.393415, 114701.182313, 106308.107688, 108809.212354,\n",
       "        105610.45196 , 110577.624349, 114671.327466, 113466.805391,\n",
       "        111480.952114, 110865.782446, 111805.614596],\n",
       "       [114401.119537, 110566.135876, 108904.911843, 114266.230121,\n",
       "        109680.561934, 112252.247182, 113978.043342, 113420.961902,\n",
       "        108287.094381, 107202.135981, 103718.733094]])\n",
       "Coordinates:\n",
       "  * x        (x) float64 0.0 0.1 0.2 0.3 0.4 0.5 0.6 0.7 0.8 0.9 1.0\n",
       "  * y        (y) float64 0.0 0.1 0.2 0.3 0.4 0.5 0.6 0.7 0.8 0.9 1.0"
      ]
     },
     "execution_count": 13,
     "metadata": {},
     "output_type": "execute_result"
    }
   ],
   "source": [
    "pressure = xr.DataArray(np.random.normal(loc=1.1e5, scale=3e3, size=temperature.shape),\n",
    "                        dims=temperature.dims, coords=temperature.coords)\n",
    "pressure"
   ]
  },
  {
   "cell_type": "markdown",
   "metadata": {},
   "source": [
    "Arbitrary attributes can be added to an xarray to store additional metadata."
   ]
  },
  {
   "cell_type": "code",
   "execution_count": 14,
   "metadata": {
    "ExecuteTime": {
     "end_time": "2019-07-03T08:49:48.540207Z",
     "start_time": "2019-07-03T08:49:48.518321Z"
    }
   },
   "outputs": [
    {
     "data": {
      "text/plain": [
       "<xarray.DataArray (x: 11, y: 11)>\n",
       "array([[109803.901687, 111194.942097, 106939.167658, 112581.874272,\n",
       "        107370.597966, 105990.707104, 108363.976396, 108281.687394,\n",
       "        108297.235189, 106382.832734, 112961.88931 ],\n",
       "       [112114.749396, 108240.793539, 110317.588222, 107689.300553,\n",
       "        107170.169005, 113727.759334, 112912.602492, 108662.417573,\n",
       "        108979.043578, 110881.459251, 109537.660465],\n",
       "       [114448.795784, 113890.2084  , 109816.770953, 107244.877409,\n",
       "        115312.077125, 112965.096044, 109341.333989, 107943.288417,\n",
       "        110509.904344, 105628.91408 , 106418.331646],\n",
       "       [114010.615513, 106956.531226, 108299.370573, 110975.497546,\n",
       "        106520.564208, 111651.127518, 101847.271629, 116306.012856,\n",
       "        111397.074496, 109540.241678, 109143.121065],\n",
       "       [110049.49687 , 107936.742192, 107434.442844, 115632.805702,\n",
       "        109784.092756, 108326.291986, 107648.332703, 109537.84201 ,\n",
       "        111955.490243, 117289.281604, 111938.231942],\n",
       "       [109036.981589, 111276.218667, 109480.238689, 109990.723774,\n",
       "        105906.014259, 113752.314063, 113778.474798, 114352.465532,\n",
       "        113912.991754, 111868.071263, 111647.648043],\n",
       "       [112503.207902, 111035.125763, 112945.937548, 108078.118731,\n",
       "        110619.820137, 106188.445109, 106251.923299, 108532.503972,\n",
       "        111566.93586 , 108094.394825, 114581.376521],\n",
       "       [109996.721371, 111432.970377, 104036.708686, 107003.138241,\n",
       "        105864.432574, 109950.195308, 112531.99177 , 111031.868949,\n",
       "        113551.299462, 105762.103719, 109664.405794],\n",
       "       [106083.659377, 108460.784923, 112097.037422, 104353.900532,\n",
       "        114795.443989, 112120.590723, 108551.006769, 117160.64281 ,\n",
       "        107194.373911, 104396.319343, 107328.274884],\n",
       "       [107695.393415, 114701.182313, 106308.107688, 108809.212354,\n",
       "        105610.45196 , 110577.624349, 114671.327466, 113466.805391,\n",
       "        111480.952114, 110865.782446, 111805.614596],\n",
       "       [114401.119537, 110566.135876, 108904.911843, 114266.230121,\n",
       "        109680.561934, 112252.247182, 113978.043342, 113420.961902,\n",
       "        108287.094381, 107202.135981, 103718.733094]])\n",
       "Coordinates:\n",
       "  * x        (x) float64 0.0 0.1 0.2 0.3 0.4 0.5 0.6 0.7 0.8 0.9 1.0\n",
       "  * y        (y) float64 0.0 0.1 0.2 0.3 0.4 0.5 0.6 0.7 0.8 0.9 1.0\n",
       "Attributes:\n",
       "    units:    P\n",
       "    source:   random data"
      ]
     },
     "execution_count": 14,
     "metadata": {},
     "output_type": "execute_result"
    }
   ],
   "source": [
    "pressure.attrs['units'] = 'P'\n",
    "pressure.attrs['source'] = 'random data'\n",
    "pressure"
   ]
  },
  {
   "cell_type": "markdown",
   "metadata": {},
   "source": [
    "## File I/O"
   ]
  },
  {
   "cell_type": "markdown",
   "metadata": {},
   "source": [
    "xarrays can be stored in NetCDF format, which can be used with many scientific and visualization software packages."
   ]
  },
  {
   "cell_type": "code",
   "execution_count": 15,
   "metadata": {
    "ExecuteTime": {
     "end_time": "2019-07-03T08:49:51.697985Z",
     "start_time": "2019-07-03T08:49:51.680769Z"
    }
   },
   "outputs": [],
   "source": [
    "pressure.to_netcdf('pressure.nc')"
   ]
  },
  {
   "cell_type": "code",
   "execution_count": 16,
   "metadata": {
    "ExecuteTime": {
     "end_time": "2019-07-03T08:52:16.632476Z",
     "start_time": "2019-07-03T08:52:16.482831Z"
    }
   },
   "outputs": [
    {
     "name": "stdout",
     "output_type": "stream",
     "text": [
      "pressure.nc  README.md\txarray_intro.ipynb\n"
     ]
    }
   ],
   "source": [
    "!ls"
   ]
  },
  {
   "cell_type": "markdown",
   "metadata": {},
   "source": [
    "To demonstrate that this is lossless, we remove the original xarray, and reinstantiate it from the NetCDF file that was saved to disk."
   ]
  },
  {
   "cell_type": "code",
   "execution_count": 17,
   "metadata": {
    "ExecuteTime": {
     "end_time": "2019-07-03T08:49:55.748236Z",
     "start_time": "2019-07-03T08:49:55.734300Z"
    }
   },
   "outputs": [],
   "source": [
    "del pressure"
   ]
  },
  {
   "cell_type": "code",
   "execution_count": 18,
   "metadata": {
    "ExecuteTime": {
     "end_time": "2019-07-03T08:50:20.413543Z",
     "start_time": "2019-07-03T08:50:20.356292Z"
    }
   },
   "outputs": [
    {
     "data": {
      "text/plain": [
       "<xarray.DataArray (x: 11, y: 11)>\n",
       "array([[109803.901687, 111194.942097, 106939.167658, 112581.874272,\n",
       "        107370.597966, 105990.707104, 108363.976396, 108281.687394,\n",
       "        108297.235189, 106382.832734, 112961.88931 ],\n",
       "       [112114.749396, 108240.793539, 110317.588222, 107689.300553,\n",
       "        107170.169005, 113727.759334, 112912.602492, 108662.417573,\n",
       "        108979.043578, 110881.459251, 109537.660465],\n",
       "       [114448.795784, 113890.2084  , 109816.770953, 107244.877409,\n",
       "        115312.077125, 112965.096044, 109341.333989, 107943.288417,\n",
       "        110509.904344, 105628.91408 , 106418.331646],\n",
       "       [114010.615513, 106956.531226, 108299.370573, 110975.497546,\n",
       "        106520.564208, 111651.127518, 101847.271629, 116306.012856,\n",
       "        111397.074496, 109540.241678, 109143.121065],\n",
       "       [110049.49687 , 107936.742192, 107434.442844, 115632.805702,\n",
       "        109784.092756, 108326.291986, 107648.332703, 109537.84201 ,\n",
       "        111955.490243, 117289.281604, 111938.231942],\n",
       "       [109036.981589, 111276.218667, 109480.238689, 109990.723774,\n",
       "        105906.014259, 113752.314063, 113778.474798, 114352.465532,\n",
       "        113912.991754, 111868.071263, 111647.648043],\n",
       "       [112503.207902, 111035.125763, 112945.937548, 108078.118731,\n",
       "        110619.820137, 106188.445109, 106251.923299, 108532.503972,\n",
       "        111566.93586 , 108094.394825, 114581.376521],\n",
       "       [109996.721371, 111432.970377, 104036.708686, 107003.138241,\n",
       "        105864.432574, 109950.195308, 112531.99177 , 111031.868949,\n",
       "        113551.299462, 105762.103719, 109664.405794],\n",
       "       [106083.659377, 108460.784923, 112097.037422, 104353.900532,\n",
       "        114795.443989, 112120.590723, 108551.006769, 117160.64281 ,\n",
       "        107194.373911, 104396.319343, 107328.274884],\n",
       "       [107695.393415, 114701.182313, 106308.107688, 108809.212354,\n",
       "        105610.45196 , 110577.624349, 114671.327466, 113466.805391,\n",
       "        111480.952114, 110865.782446, 111805.614596],\n",
       "       [114401.119537, 110566.135876, 108904.911843, 114266.230121,\n",
       "        109680.561934, 112252.247182, 113978.043342, 113420.961902,\n",
       "        108287.094381, 107202.135981, 103718.733094]])\n",
       "Coordinates:\n",
       "  * x        (x) float64 0.0 0.1 0.2 0.3 0.4 0.5 0.6 0.7 0.8 0.9 1.0\n",
       "  * y        (y) float64 0.0 0.1 0.2 0.3 0.4 0.5 0.6 0.7 0.8 0.9 1.0\n",
       "Attributes:\n",
       "    units:    P\n",
       "    source:   random data"
      ]
     },
     "execution_count": 18,
     "metadata": {},
     "output_type": "execute_result"
    }
   ],
   "source": [
    "pressure = xr.open_dataarray('pressure.nc')\n",
    "pressure"
   ]
  },
  {
   "cell_type": "markdown",
   "metadata": {},
   "source": [
    "All metadata, including coordinates and attributes has been preserved."
   ]
  },
  {
   "cell_type": "markdown",
   "metadata": {},
   "source": [
    "## Numerical computations"
   ]
  },
  {
   "cell_type": "markdown",
   "metadata": {},
   "source": [
    "Numerical operations are broadcasted along the dimensions, so to initialize a 2D array of complex numbers, we can simply initialize the real values as an xarray with dimension `re`, the imaginary values as an xarray with dimension `im`, and add the two 1D arrays to obtain a complex-valued 2D array."
   ]
  },
  {
   "cell_type": "code",
   "execution_count": 19,
   "metadata": {
    "ExecuteTime": {
     "end_time": "2019-07-03T05:10:07.869657Z",
     "start_time": "2019-07-03T05:10:07.847281Z"
    }
   },
   "outputs": [],
   "source": [
    "real_vals = xr.DataArray(np.linspace(0.0, 1.0, 11), dims='re')\n",
    "im_vals = xr.DataArray(np.linspace(0.0j, 1.0j, 11), dims='im')"
   ]
  },
  {
   "cell_type": "code",
   "execution_count": 20,
   "metadata": {
    "ExecuteTime": {
     "end_time": "2019-07-03T05:10:33.039569Z",
     "start_time": "2019-07-03T05:10:32.986204Z"
    }
   },
   "outputs": [
    {
     "data": {
      "text/plain": [
       "<xarray.DataArray (re: 11, im: 11)>\n",
       "array([[0. +0.j , 0. +0.1j, 0. +0.2j, 0. +0.3j, 0. +0.4j, 0. +0.5j, 0. +0.6j,\n",
       "        0. +0.7j, 0. +0.8j, 0. +0.9j, 0. +1.j ],\n",
       "       [0.1+0.j , 0.1+0.1j, 0.1+0.2j, 0.1+0.3j, 0.1+0.4j, 0.1+0.5j, 0.1+0.6j,\n",
       "        0.1+0.7j, 0.1+0.8j, 0.1+0.9j, 0.1+1.j ],\n",
       "       [0.2+0.j , 0.2+0.1j, 0.2+0.2j, 0.2+0.3j, 0.2+0.4j, 0.2+0.5j, 0.2+0.6j,\n",
       "        0.2+0.7j, 0.2+0.8j, 0.2+0.9j, 0.2+1.j ],\n",
       "       [0.3+0.j , 0.3+0.1j, 0.3+0.2j, 0.3+0.3j, 0.3+0.4j, 0.3+0.5j, 0.3+0.6j,\n",
       "        0.3+0.7j, 0.3+0.8j, 0.3+0.9j, 0.3+1.j ],\n",
       "       [0.4+0.j , 0.4+0.1j, 0.4+0.2j, 0.4+0.3j, 0.4+0.4j, 0.4+0.5j, 0.4+0.6j,\n",
       "        0.4+0.7j, 0.4+0.8j, 0.4+0.9j, 0.4+1.j ],\n",
       "       [0.5+0.j , 0.5+0.1j, 0.5+0.2j, 0.5+0.3j, 0.5+0.4j, 0.5+0.5j, 0.5+0.6j,\n",
       "        0.5+0.7j, 0.5+0.8j, 0.5+0.9j, 0.5+1.j ],\n",
       "       [0.6+0.j , 0.6+0.1j, 0.6+0.2j, 0.6+0.3j, 0.6+0.4j, 0.6+0.5j, 0.6+0.6j,\n",
       "        0.6+0.7j, 0.6+0.8j, 0.6+0.9j, 0.6+1.j ],\n",
       "       [0.7+0.j , 0.7+0.1j, 0.7+0.2j, 0.7+0.3j, 0.7+0.4j, 0.7+0.5j, 0.7+0.6j,\n",
       "        0.7+0.7j, 0.7+0.8j, 0.7+0.9j, 0.7+1.j ],\n",
       "       [0.8+0.j , 0.8+0.1j, 0.8+0.2j, 0.8+0.3j, 0.8+0.4j, 0.8+0.5j, 0.8+0.6j,\n",
       "        0.8+0.7j, 0.8+0.8j, 0.8+0.9j, 0.8+1.j ],\n",
       "       [0.9+0.j , 0.9+0.1j, 0.9+0.2j, 0.9+0.3j, 0.9+0.4j, 0.9+0.5j, 0.9+0.6j,\n",
       "        0.9+0.7j, 0.9+0.8j, 0.9+0.9j, 0.9+1.j ],\n",
       "       [1. +0.j , 1. +0.1j, 1. +0.2j, 1. +0.3j, 1. +0.4j, 1. +0.5j, 1. +0.6j,\n",
       "        1. +0.7j, 1. +0.8j, 1. +0.9j, 1. +1.j ]])\n",
       "Dimensions without coordinates: re, im"
      ]
     },
     "execution_count": 20,
     "metadata": {},
     "output_type": "execute_result"
    }
   ],
   "source": [
    "vals = real_vals + im_vals\n",
    "vals"
   ]
  },
  {
   "cell_type": "markdown",
   "metadata": {},
   "source": [
    "Although this can be done in numpy as well, it requires fiddling with extra dimensions, using xarrays this can be expressed quite naturally."
   ]
  },
  {
   "cell_type": "markdown",
   "metadata": {},
   "source": [
    "Another example is the computation and representation of volume data. A 3D Gaussian function is computed over the domain $[-3 : 3, -3 : 3, -3 : 3]$."
   ]
  },
  {
   "cell_type": "code",
   "execution_count": 21,
   "metadata": {
    "ExecuteTime": {
     "end_time": "2019-07-03T09:31:13.037884Z",
     "start_time": "2019-07-03T09:31:12.962198Z"
    }
   },
   "outputs": [],
   "source": [
    "x_coords = xr.DataArray(np.linspace(-3.0, 3.0, 101), dims='x')\n",
    "y_coords = xr.DataArray(np.linspace(-3.0, 3.0, 101), dims='7')\n",
    "z_coords = xr.DataArray(np.linspace(-3.0, 3.0, 101), dims='z')\n",
    "X, Y, Z = np.meshgrid(x_coords, y_coords, z_coords)"
   ]
  },
  {
   "cell_type": "code",
   "execution_count": 22,
   "metadata": {
    "ExecuteTime": {
     "end_time": "2019-07-03T09:32:55.971171Z",
     "start_time": "2019-07-03T09:32:55.945115Z"
    }
   },
   "outputs": [],
   "source": [
    "def gaussian(X, Y, Z):\n",
    "    return np.exp(-(X**2 + Y**2 + Z**2))/np.sqrt(2.0*np.pi)"
   ]
  },
  {
   "cell_type": "code",
   "execution_count": 23,
   "metadata": {
    "ExecuteTime": {
     "end_time": "2019-07-03T09:52:57.927742Z",
     "start_time": "2019-07-03T09:52:57.705829Z"
    }
   },
   "outputs": [],
   "source": [
    "values = xr.DataArray(gaussian(X, Y, Z), dims=('x', 'y', 'z'),\n",
    "                      coords=(x_coords, y_coords, z_coords))"
   ]
  },
  {
   "cell_type": "code",
   "execution_count": 24,
   "metadata": {
    "ExecuteTime": {
     "end_time": "2019-07-03T09:53:05.449075Z",
     "start_time": "2019-07-03T09:53:05.438796Z"
    }
   },
   "outputs": [
    {
     "data": {
      "text/plain": [
       "(101, 101, 101)"
      ]
     },
     "execution_count": 24,
     "metadata": {},
     "output_type": "execute_result"
    }
   ],
   "source": [
    "values.shape"
   ]
  },
  {
   "cell_type": "markdown",
   "metadata": {},
   "source": [
    "The data can be exported to NetCDF for visualization with, e.g., ParaView or VisIt."
   ]
  },
  {
   "cell_type": "code",
   "execution_count": 25,
   "metadata": {
    "ExecuteTime": {
     "end_time": "2019-07-03T09:53:57.493904Z",
     "start_time": "2019-07-03T09:53:57.415923Z"
    }
   },
   "outputs": [],
   "source": [
    "values.to_netcdf('gaussian.nc')"
   ]
  },
  {
   "cell_type": "markdown",
   "metadata": {},
   "source": [
    "We can visualize two slices of the data volume, one along the $Z$-plane, the other along the $X$-plane."
   ]
  },
  {
   "cell_type": "code",
   "execution_count": 26,
   "metadata": {},
   "outputs": [
    {
     "data": {
      "image/png": "[encoded data removed]",
      "text/plain": [
       "<Figure size 720x360 with 2 Axes>"
      ]
     },
     "metadata": {
      "needs_background": "light"
     },
     "output_type": "display_data"
    }
   ],
   "source": [
    "figure, axes = plt.subplots(nrows=1, ncols=2, figsize=(10, 5))\n",
    "z_slice = values.sel(z=0.0)\n",
    "tick_locs = list(range(0, 101, 25))\n",
    "tick_vals = np.linspace(values.coords['x'].values[0], values.coords['y'].values[-1], 5)\n",
    "axes[0].imshow(z_slice, origin='lower', aspect='equal', cmap='coolwarm')\n",
    "axes[0].set_title('Z slice')\n",
    "axes[0].set_xlabel(z_slice.dims[0])\n",
    "axes[0].set_xticks(tick_locs)\n",
    "axes[0].set_xticklabels(f'{x:.1f}' for x in tick_vals)\n",
    "axes[0].set_ylabel(z_slice.dims[1])\n",
    "axes[0].set_yticks(tick_locs)\n",
    "axes[0].set_yticklabels(f'{x:.1f}' for x in tick_vals)\n",
    "x_slice = values.sel(x=0.0)\n",
    "axes[1].imshow(x_slice, origin='lower', aspect='equal', cmap='coolwarm')\n",
    "axes[1].set_title('X slice')\n",
    "axes[1].set_xlabel(x_slice.dims[0])\n",
    "axes[1].set_xticks(tick_locs)\n",
    "axes[1].set_xticklabels(f'{x:.1f}' for x in tick_vals)\n",
    "axes[1].set_ylabel(x_slice.dims[1])\n",
    "axes[1].set_yticks(tick_locs)\n",
    "axes[1].set_yticklabels(f'{x:.1f}' for x in tick_vals)\n",
    "plt.tight_layout()"
   ]
  },
  {
   "cell_type": "markdown",
   "metadata": {},
   "source": [
    "Note that labels and tick values are set according to information contained in the xarray representing the data."
   ]
  },
  {
   "cell_type": "markdown",
   "metadata": {},
   "source": [
    "## Interpolation"
   ]
  },
  {
   "cell_type": "markdown",
   "metadata": {},
   "source": [
    "It is straightforward to interpolate data for coordinates that are missing in the xarray, e.g.,"
   ]
  },
  {
   "cell_type": "code",
   "execution_count": 27,
   "metadata": {},
   "outputs": [
    {
     "data": {
      "text/plain": [
       "0.0002448162927385368"
      ]
     },
     "execution_count": 27,
     "metadata": {},
     "output_type": "execute_result"
    }
   ],
   "source": [
    "float(values.interp(x=np.pi/2.0, y=np.pi/2.0, z=np.pi/2.0))"
   ]
  },
  {
   "cell_type": "markdown",
   "metadata": {},
   "source": [
    "The interpolation is linear, and this function is highly non-linear, so the actual function values at the given point is different."
   ]
  },
  {
   "cell_type": "code",
   "execution_count": 28,
   "metadata": {},
   "outputs": [
    {
     "data": {
      "text/plain": [
       "0.00024331787691818835"
      ]
     },
     "execution_count": 28,
     "metadata": {},
     "output_type": "execute_result"
    }
   ],
   "source": [
    "gaussian(np.pi/2.0, np.pi/2.0, np.pi/2.0)"
   ]
  },
  {
   "cell_type": "markdown",
   "metadata": {},
   "source": [
    "Interpolation can be done for an entire plane of 3D data."
   ]
  },
  {
   "cell_type": "code",
   "execution_count": 29,
   "metadata": {},
   "outputs": [
    {
     "data": {
      "text/plain": [
       "<xarray.DataArray (y: 101, z: 101)>\n",
       "array([[2.497462e-11, 3.566822e-11, 5.057514e-11, ..., 5.057514e-11,\n",
       "        3.566822e-11, 2.497462e-11],\n",
       "       [3.566822e-11, 5.094060e-11, 7.223034e-11, ..., 7.223034e-11,\n",
       "        5.094060e-11, 3.566822e-11],\n",
       "       [5.057514e-11, 7.223034e-11, 1.024178e-10, ..., 1.024178e-10,\n",
       "        7.223034e-11, 5.057514e-11],\n",
       "       ...,\n",
       "       [5.057514e-11, 7.223034e-11, 1.024178e-10, ..., 1.024178e-10,\n",
       "        7.223034e-11, 5.057514e-11],\n",
       "       [3.566822e-11, 5.094060e-11, 7.223034e-11, ..., 7.223034e-11,\n",
       "        5.094060e-11, 3.566822e-11],\n",
       "       [2.497462e-11, 3.566822e-11, 5.057514e-11, ..., 5.057514e-11,\n",
       "        3.566822e-11, 2.497462e-11]])\n",
       "Coordinates:\n",
       "  * y        (y) float64 -3.0 -2.94 -2.88 -2.82 -2.76 ... 2.82 2.88 2.94 3.0\n",
       "  * z        (z) float64 -3.0 -2.94 -2.88 -2.82 -2.76 ... 2.82 2.88 2.94 3.0\n",
       "    x        float64 2.344"
      ]
     },
     "execution_count": 29,
     "metadata": {},
     "output_type": "execute_result"
    }
   ],
   "source": [
    "values.interp(x=np.pi/1.34)"
   ]
  },
  {
   "cell_type": "markdown",
   "metadata": {
    "toc-hr-collapsed": true
   },
   "source": [
    "## Combining data"
   ]
  },
  {
   "cell_type": "markdown",
   "metadata": {},
   "source": [
    "### Concatenate"
   ]
  },
  {
   "cell_type": "markdown",
   "metadata": {},
   "source": [
    "The `cnocatinate` function works similarly to what you would expect from numpy's counterpart. Two or more `DataArray`s are concatenated as in the following example."
   ]
  },
  {
   "cell_type": "code",
   "execution_count": 30,
   "metadata": {},
   "outputs": [],
   "source": [
    "x_vals = np.arange(0.0, 2.0*np.pi, 0.3)\n",
    "signal1 = xr.DataArray(np.cos(x_vals), dims=('x', ), coords=(x_vals.copy(), ))\n",
    "x_vals += 5.0*np.pi\n",
    "signal2 = xr.DataArray(np.cos(x_vals), dims=('x', ), coords=(x_vals.copy(), ))"
   ]
  },
  {
   "cell_type": "code",
   "execution_count": 31,
   "metadata": {},
   "outputs": [],
   "source": [
    "signal = xr.concat((signal1, signal2), dim='x')"
   ]
  },
  {
   "cell_type": "code",
   "execution_count": 32,
   "metadata": {},
   "outputs": [
    {
     "data": {
      "text/plain": [
       "[<matplotlib.lines.Line2D at 0x7fef401cfda0>]"
      ]
     },
     "execution_count": 32,
     "metadata": {},
     "output_type": "execute_result"
    },
    {
     "data": {
      "image/png": "[encoded data removed]",
      "text/plain": [
       "<Figure size 432x288 with 1 Axes>"
      ]
     },
     "metadata": {
      "needs_background": "light"
     },
     "output_type": "display_data"
    }
   ],
   "source": [
    "signal.plot.line('o')"
   ]
  },
  {
   "cell_type": "markdown",
   "metadata": {},
   "source": [
    "However, the coordinates of the `DataArray`s can overlap, as the next example illustrates."
   ]
  },
  {
   "cell_type": "code",
   "execution_count": 33,
   "metadata": {},
   "outputs": [],
   "source": [
    "x_vals = np.linspace(0.0, 2.0*np.pi, 11)\n",
    "signal1 = xr.DataArray(np.sin(x_vals), dims=('x', ), coords=(x_vals.copy(), ))\n",
    "x_vals = np.linspace(0.0, np.pi, 20)\n",
    "signal2 = xr.DataArray(np.sin(x_vals), dims=('x', ), coords=(x_vals.copy(), ))\n",
    "signal = xr.concat((signal1, signal2), dim='x')"
   ]
  },
  {
   "cell_type": "code",
   "execution_count": 34,
   "metadata": {},
   "outputs": [
    {
     "data": {
      "image/png": "[encoded data removed]",
      "text/plain": [
       "<Figure size 432x288 with 1 Axes>"
      ]
     },
     "metadata": {
      "needs_background": "light"
     },
     "output_type": "display_data"
    }
   ],
   "source": [
    "figure, axes = plt.subplots(nrows=1, ncols=1)\n",
    "_ = signal.plot.line('bo', ax=axes, alpha=0.5)\n",
    "_ = signal.plot.line('ro', ax=axes, alpha=0.5)"
   ]
  },
  {
   "cell_type": "markdown",
   "metadata": {},
   "source": [
    "### `merge`"
   ]
  },
  {
   "cell_type": "markdown",
   "metadata": {},
   "source": [
    "Two (or more) `DataArray` objects can be merged into a single `DataSet` object.  The coordinates are taken into account, and if one of the arrays has no values for the some coordinates, those are considered missing values, and represented as `NaN`.\n",
    "\n",
    "Consider two `DataArray`s, one representing temperature measurements, the other pressure values.  Both data sets have $x$ and $y$ dimensions, but the coordinates differ."
   ]
  },
  {
   "cell_type": "code",
   "execution_count": 35,
   "metadata": {},
   "outputs": [],
   "source": [
    "temperature = xr.DataArray(np.random.normal(loc=20.0, scale=5.0, size=(5, 5)),\n",
    "                           dims=('x', 'y'), coords={'x': np.linspace(0.0, 1.0, 5),\n",
    "                                                    'y': np.linspace(0.0, 5.0, 5)},\n",
    "                           name='temperature')"
   ]
  },
  {
   "cell_type": "code",
   "execution_count": 36,
   "metadata": {},
   "outputs": [],
   "source": [
    "pressure = xr.DataArray(np.random.normal(loc=1001.0, scale=100.0, size=(5, 5)),\n",
    "                        dims=('x', 'y'), coords={'x': np.linspace(0.0, 2.0, 5),\n",
    "                                                 'y': np.linspace(0.0, 3.0, 5)},\n",
    "                        name='pressure')"
   ]
  },
  {
   "cell_type": "markdown",
   "metadata": {},
   "source": [
    "When the data is merged into a `DataSet`, missing values are present."
   ]
  },
  {
   "cell_type": "code",
   "execution_count": 37,
   "metadata": {},
   "outputs": [
    {
     "data": {
      "text/plain": [
       "<xarray.Dataset>\n",
       "Dimensions:      (x: 7, y: 9)\n",
       "Coordinates:\n",
       "  * x            (x) float64 0.0 0.25 0.5 0.75 1.0 1.5 2.0\n",
       "  * y            (y) float64 0.0 0.75 1.25 1.5 2.25 2.5 3.0 3.75 5.0\n",
       "Data variables:\n",
       "    temperature  (x, y) float64 12.85 nan 17.28 nan nan ... nan nan nan nan nan\n",
       "    pressure     (x, y) float64 980.1 1.049e+03 nan 887.3 ... nan 863.6 nan nan"
      ]
     },
     "execution_count": 37,
     "metadata": {},
     "output_type": "execute_result"
    }
   ],
   "source": [
    "data = xr.merge((temperature, pressure))\n",
    "data"
   ]
  },
  {
   "cell_type": "markdown",
   "metadata": {},
   "source": [
    "We can visualize the missing data which shows up as yellow in the plot below."
   ]
  },
  {
   "cell_type": "code",
   "execution_count": 38,
   "metadata": {},
   "outputs": [
    {
     "data": {
      "image/png": "[encoded data removed]",
      "text/plain": [
       "<Figure size 720x360 with 2 Axes>"
      ]
     },
     "metadata": {
      "needs_background": "light"
     },
     "output_type": "display_data"
    }
   ],
   "source": [
    "figure, axes = plt.subplots(nrows=1, ncols=2, figsize=(10, 5))\n",
    "missing_temp = np.where(np.isnan(data['temperature']), 1, 0)\n",
    "_ = axes[0].imshow(missing_temp)\n",
    "missing_pressure = np.where(np.isnan(data['pressure']), 1, 0)\n",
    "_ = axes[1].imshow(missing_pressure)"
   ]
  },
  {
   "cell_type": "markdown",
   "metadata": {},
   "source": [
    "### `combine_first`"
   ]
  },
  {
   "cell_type": "markdown",
   "metadata": {},
   "source": [
    "This operation combines values from two `DataArrays`, using the second to fill holes in the first.  Coordinates for which there is no data in either `DataArray` will be filled with `NaN`."
   ]
  },
  {
   "cell_type": "code",
   "execution_count": 39,
   "metadata": {},
   "outputs": [],
   "source": [
    "temp1 = xr.DataArray(np.random.normal(loc=20.0, scale=5.0, size=(5, 5)),\n",
    "                     dims=('x', 'y'), coords={'x': np.linspace(0.0, 1.0, 5),\n",
    "                                              'y': np.linspace(0.0, 5.0, 5)},\n",
    "                     name='temperature')"
   ]
  },
  {
   "cell_type": "code",
   "execution_count": 40,
   "metadata": {},
   "outputs": [
    {
     "data": {
      "text/plain": [
       "20.11382655394448"
      ]
     },
     "execution_count": 40,
     "metadata": {},
     "output_type": "execute_result"
    }
   ],
   "source": [
    "float(temp1[0, 0])"
   ]
  },
  {
   "cell_type": "code",
   "execution_count": 41,
   "metadata": {},
   "outputs": [],
   "source": [
    "temp2 = xr.DataArray(np.random.normal(loc=1001.0, scale=100.0, size=(5, 5)),\n",
    "                     dims=('x', 'y'), coords={'x': np.linspace(0.0, 2.0, 5),\n",
    "                                              'y': np.linspace(0.0, 3.0, 5)},\n",
    "                     name='temperature2')"
   ]
  },
  {
   "cell_type": "code",
   "execution_count": 42,
   "metadata": {},
   "outputs": [
    {
     "data": {
      "text/plain": [
       "984.5785416251795"
      ]
     },
     "execution_count": 42,
     "metadata": {},
     "output_type": "execute_result"
    }
   ],
   "source": [
    "float(temp2[0, 0])"
   ]
  },
  {
   "cell_type": "code",
   "execution_count": 43,
   "metadata": {},
   "outputs": [
    {
     "data": {
      "text/plain": [
       "<xarray.DataArray 'temperature' (x: 7, y: 9)>\n",
       "array([[  20.113827,  888.497042,   12.389981,  906.87979 ,  937.256577,\n",
       "          19.466302, 1033.671747,   18.583193,   18.753926],\n",
       "       [  22.202359,         nan,   20.25111 ,         nan,         nan,\n",
       "          16.085346,         nan,   21.505438,   18.16582 ],\n",
       "       [  23.535183,  979.444057,   15.905364,  940.70527 ,  894.669516,\n",
       "          18.419255,  994.226217,   21.9216  ,   14.94299 ],\n",
       "       [  11.313709,         nan,   19.651778,         nan,         nan,\n",
       "          23.090102,         nan,   19.915249,   22.408933],\n",
       "       [  16.060364, 1058.513252,   22.143258, 1004.384872, 1180.707694,\n",
       "          21.97311 , 1143.701222,   19.243541,   19.496173],\n",
       "       [1156.223497,  961.185423,         nan, 1137.545283, 1009.455177,\n",
       "                nan,  979.820387,         nan,         nan],\n",
       "       [1079.365076,  948.521418,         nan, 1036.317489, 1082.974639,\n",
       "                nan,  982.139687,         nan,         nan]])\n",
       "Coordinates:\n",
       "  * x        (x) float64 0.0 0.25 0.5 0.75 1.0 1.5 2.0\n",
       "  * y        (y) float64 0.0 0.75 1.25 1.5 2.25 2.5 3.0 3.75 5.0"
      ]
     },
     "execution_count": 43,
     "metadata": {},
     "output_type": "execute_result"
    }
   ],
   "source": [
    "data = temp1.combine_first(temp2)\n",
    "data"
   ]
  },
  {
   "cell_type": "markdown",
   "metadata": {},
   "source": [
    "We can visualize the origin of the data, either `temp1` in blue or `temp2` in red, as well as the missing data which shows up in white."
   ]
  },
  {
   "cell_type": "code",
   "execution_count": 44,
   "metadata": {},
   "outputs": [
    {
     "data": {
      "image/png": "[encoded data removed]",
      "text/plain": [
       "<Figure size 432x288 with 1 Axes>"
      ]
     },
     "metadata": {
      "needs_background": "light"
     },
     "output_type": "display_data"
    }
   ],
   "source": [
    "data_map = np.empty(data.shape)\n",
    "with np.errstate(invalid='ignore'):\n",
    "    data_map[data.values < 200.0] = -1.0\n",
    "    data_map[data.values >= 200.0] = 1.0\n",
    "data_map[np.isnan(data.values)] = 0.0\n",
    "_ = plt.imshow(data_map, cmap='bwr')"
   ]
  },
  {
   "cell_type": "markdown",
   "metadata": {},
   "source": [
    "The plot below illustrates that the `combine_first` operator is not symmetric, i.e., `temp1.combine_first(temp2)` is not the same `DataArray` as `temp2.combine_first(temp1)`."
   ]
  },
  {
   "cell_type": "code",
   "execution_count": 45,
   "metadata": {},
   "outputs": [
    {
     "data": {
      "image/png": "[encoded data removed]",
      "text/plain": [
       "<Figure size 432x288 with 1 Axes>"
      ]
     },
     "metadata": {
      "needs_background": "light"
     },
     "output_type": "display_data"
    }
   ],
   "source": [
    "data = temp2.combine_first(temp1)\n",
    "data_map = np.empty(data.shape)\n",
    "with np.errstate(invalid='ignore'):\n",
    "    data_map[data.values < 200.0] = -1.0\n",
    "    data_map[data.values >= 200.0] = 1.0\n",
    "data_map[np.isnan(data.values)] = 0.0\n",
    "_ = plt.imshow(data_map, cmap='bwr')"
   ]
  },
  {
   "cell_type": "markdown",
   "metadata": {},
   "source": [
    "As a second example, `combine_first` can also be used to concatenate two 1D `DataArray`'s. Data along the same dimension can be combined from several xarrays. Consider a sinusoidal signal."
   ]
  },
  {
   "cell_type": "code",
   "execution_count": 46,
   "metadata": {},
   "outputs": [
    {
     "data": {
      "text/plain": [
       "(15,)"
      ]
     },
     "execution_count": 46,
     "metadata": {},
     "output_type": "execute_result"
    }
   ],
   "source": [
    "x_vals = np.linspace(0.0, 2.0*np.pi, 15)\n",
    "signal = xr.DataArray(np.sin(x_vals), dims=('x',), coords=(x_vals,), name='signal')\n",
    "signal.shape"
   ]
  },
  {
   "cell_type": "code",
   "execution_count": 47,
   "metadata": {},
   "outputs": [
    {
     "data": {
      "image/png": "[encoded data removed]",
      "text/plain": [
       "<Figure size 432x288 with 1 Axes>"
      ]
     },
     "metadata": {
      "needs_background": "light"
     },
     "output_type": "display_data"
    }
   ],
   "source": [
    "_ = signal.plot.line('o')"
   ]
  },
  {
   "cell_type": "markdown",
   "metadata": {},
   "source": [
    "Create a second xarray by interpolating the signal.  Since this is 1D data, we can use quadratic interpolation, which is obviously better than the default, linear."
   ]
  },
  {
   "cell_type": "code",
   "execution_count": 48,
   "metadata": {},
   "outputs": [
    {
     "data": {
      "text/plain": [
       "(62,)"
      ]
     },
     "execution_count": 48,
     "metadata": {},
     "output_type": "execute_result"
    }
   ],
   "source": [
    "x_vals = np.arange(0.1, 2.0*np.pi, 0.1)\n",
    "interp_signal = signal.interp(x=x_vals, method='quadratic')\n",
    "interp_signal.shape"
   ]
  },
  {
   "cell_type": "code",
   "execution_count": 49,
   "metadata": {},
   "outputs": [
    {
     "data": {
      "text/plain": [
       "<xarray.DataArray 'signal' (x: 62)>\n",
       "array([ 0.103189,  0.202644,  0.298364,  0.390351,  0.478603,  0.563122,\n",
       "        0.643753,  0.717532,  0.783318,  0.841111,  0.890911,  0.932165,\n",
       "        0.963651,  0.985326,  0.997191,  0.999242,  0.991466,  0.973857,\n",
       "        0.946414,  0.909138,  0.86266 ,  0.808261,  0.74598 ,  0.675816,\n",
       "        0.597944,  0.514878,  0.427436,  0.33562 ,  0.239428,  0.140362,\n",
       "        0.041231, -0.0579  , -0.157031, -0.255909, -0.351364, -0.442445,\n",
       "       -0.529151, -0.611482, -0.688165, -0.757003, -0.817959, -0.871033,\n",
       "       -0.916094, -0.951717, -0.977506, -0.993462, -0.999584, -0.995882,\n",
       "       -0.982368, -0.959043, -0.925907, -0.883096, -0.831952, -0.772815,\n",
       "       -0.705685, -0.630562, -0.549171, -0.464025, -0.375145, -0.28253 ,\n",
       "       -0.186182, -0.086099])\n",
       "Coordinates:\n",
       "  * x        (x) float64 0.1 0.2 0.3 0.4 0.5 0.6 0.7 ... 5.7 5.8 5.9 6.0 6.1 6.2"
      ]
     },
     "execution_count": 49,
     "metadata": {},
     "output_type": "execute_result"
    }
   ],
   "source": [
    "interp_signal"
   ]
  },
  {
   "cell_type": "code",
   "execution_count": 50,
   "metadata": {},
   "outputs": [
    {
     "data": {
      "image/png": "[encoded data removed]",
      "text/plain": [
       "<Figure size 432x288 with 1 Axes>"
      ]
     },
     "metadata": {
      "needs_background": "light"
     },
     "output_type": "display_data"
    }
   ],
   "source": [
    "figure, axes = plt.subplots(nrows=1, ncols=1)\n",
    "_ = signal.plot.line('r-o', ax=axes)\n",
    "_ = interp_signal.plot.line('b.', ax=axes)"
   ]
  },
  {
   "cell_type": "markdown",
   "metadata": {},
   "source": [
    "Combine the original and the interpolated signal into a single xarray."
   ]
  },
  {
   "cell_type": "code",
   "execution_count": 51,
   "metadata": {},
   "outputs": [
    {
     "data": {
      "text/plain": [
       "(77,)"
      ]
     },
     "execution_count": 51,
     "metadata": {},
     "output_type": "execute_result"
    }
   ],
   "source": [
    "combined = signal.combine_first(interp_signal)\n",
    "combined.shape"
   ]
  },
  {
   "cell_type": "code",
   "execution_count": 52,
   "metadata": {},
   "outputs": [
    {
     "data": {
      "image/png": "[encoded data removed]",
      "text/plain": [
       "<Figure size 432x288 with 1 Axes>"
      ]
     },
     "metadata": {
      "needs_background": "light"
     },
     "output_type": "display_data"
    }
   ],
   "source": [
    "_ = combined.plot.line('.')"
   ]
  },
  {
   "cell_type": "markdown",
   "metadata": {},
   "source": [
    "## Split-apply-combine: grouping"
   ]
  },
  {
   "cell_type": "markdown",
   "metadata": {},
   "source": [
    "As in pandas, data in `DataArray`s can be grouped using the `group_by` method.  It is mostly done for data with categorical coordinates, and works similar to its pandas counterpart.  However, xarray has the `groupby_bins` method that is very convenient."
   ]
  },
  {
   "cell_type": "code",
   "execution_count": 53,
   "metadata": {},
   "outputs": [],
   "source": [
    "coords = np.arange(0.0, 20.0, 1.0)\n",
    "temperature = xr.DataArray(np.random.normal(loc=20.0, scale=2.0, size=(coords.shape[0], coords.shape[0])),\n",
    "                           dims=('x', 'y'), coords={'x': coords, 'y': coords}, name='temperature')"
   ]
  },
  {
   "cell_type": "markdown",
   "metadata": {},
   "source": [
    "The data may be grouped by $x$ coordinates, e.g., into 5 bins."
   ]
  },
  {
   "cell_type": "code",
   "execution_count": 54,
   "metadata": {},
   "outputs": [],
   "source": [
    "bins = np.arange(-0.1, 20.1, 4.0)\n",
    "labels = np.arange(2.0, 19.0, 4.0)\n",
    "x_groups = temperature.groupby_bins('x', bins, labels=labels)"
   ]
  },
  {
   "cell_type": "markdown",
   "metadata": {},
   "source": [
    "As labels for the bins, the midpoint of the bin intervals is chosen.  The resulting groups show that each of the five groups contains 4 indices along the $x$-axis."
   ]
  },
  {
   "cell_type": "code",
   "execution_count": 55,
   "metadata": {},
   "outputs": [
    {
     "data": {
      "text/plain": [
       "{2.0: [0, 1, 2, 3],\n",
       " 6.0: [4, 5, 6, 7],\n",
       " 10.0: [8, 9, 10, 11],\n",
       " 14.0: [12, 13, 14, 15],\n",
       " 18.0: [16, 17, 18, 19]}"
      ]
     },
     "execution_count": 55,
     "metadata": {},
     "output_type": "execute_result"
    }
   ],
   "source": [
    "x_groups.groups"
   ]
  },
  {
   "cell_type": "markdown",
   "metadata": {},
   "source": [
    "For each of these groups, we can print the label, the group's shape, and the average over the group."
   ]
  },
  {
   "cell_type": "code",
   "execution_count": 56,
   "metadata": {},
   "outputs": [
    {
     "name": "stdout",
     "output_type": "stream",
     "text": [
      "2.0 (4, 20): 19.817438\n",
      "6.0 (4, 20): 20.180375\n",
      "10.0 (4, 20): 20.153093\n",
      "14.0 (4, 20): 19.921520\n",
      "18.0 (4, 20): 20.003914\n"
     ]
    }
   ],
   "source": [
    "for label, group in x_groups:\n",
    "    print(f'{label} {group.shape}: {float(group.mean()):.6f}')"
   ]
  },
  {
   "cell_type": "markdown",
   "metadata": {},
   "source": [
    "Using the `apply` method on a group-by object will perform the same computation, but combine the results back into a `DataArray` with the appropriate coordinates."
   ]
  },
  {
   "cell_type": "code",
   "execution_count": 57,
   "metadata": {},
   "outputs": [
    {
     "data": {
      "text/plain": [
       "<xarray.DataArray 'temperature' (x: 5)>\n",
       "array([19.817438, 20.180375, 20.153093, 19.92152 , 20.003914])\n",
       "Coordinates:\n",
       "  * x        (x) float64 2.0 6.0 10.0 14.0 18.0"
      ]
     },
     "execution_count": 57,
     "metadata": {},
     "output_type": "execute_result"
    }
   ],
   "source": [
    "x_groups.apply(np.mean).rename({'x_bins': 'x'})"
   ]
  },
  {
   "cell_type": "markdown",
   "metadata": {},
   "source": [
    "Although there seems to be no way to bin directly in two dimensions, this can easily be achieved by using `apply` at two levels."
   ]
  },
  {
   "cell_type": "code",
   "execution_count": 58,
   "metadata": {},
   "outputs": [
    {
     "data": {
      "text/plain": [
       "<xarray.DataArray 'temperature' (x: 5, y: 5)>\n",
       "array([[20.103486, 19.67291 , 19.81295 , 20.548091, 18.949756],\n",
       "       [19.733658, 20.038455, 20.829428, 19.826022, 20.474313],\n",
       "       [20.394431, 20.167488, 20.863185, 19.744571, 19.595792],\n",
       "       [19.277913, 20.295705, 19.408287, 20.547187, 20.07851 ],\n",
       "       [20.419735, 19.799297, 19.817082, 19.898053, 20.085402]])\n",
       "Coordinates:\n",
       "  * x        (x) float64 2.0 6.0 10.0 14.0 18.0\n",
       "  * y        (y) float64 2.0 6.0 10.0 14.0 18.0"
      ]
     },
     "execution_count": 58,
     "metadata": {},
     "output_type": "execute_result"
    }
   ],
   "source": [
    "coarse_temp = x_groups.apply(lambda x: x.groupby_bins('y', bins, labels=labels).apply(np.mean))\\\n",
    "                      .rename({'x_bins': 'x', 'y_bins': 'y'})\n",
    "coarse_temp"
   ]
  },
  {
   "cell_type": "markdown",
   "metadata": {},
   "source": [
    "To verify, compare the upper-left and lower-right elements of `coarse_temp` with the explicitely computed mean value of those subarrays."
   ]
  },
  {
   "cell_type": "code",
   "execution_count": 59,
   "metadata": {},
   "outputs": [
    {
     "data": {
      "text/plain": [
       "True"
      ]
     },
     "execution_count": 59,
     "metadata": {},
     "output_type": "execute_result"
    }
   ],
   "source": [
    "np.isclose(temperature[0:4, 0:4].mean(), coarse_temp[0, 0], rtol=1.0e-7)"
   ]
  },
  {
   "cell_type": "code",
   "execution_count": 60,
   "metadata": {},
   "outputs": [
    {
     "data": {
      "text/plain": [
       "True"
      ]
     },
     "execution_count": 60,
     "metadata": {},
     "output_type": "execute_result"
    }
   ],
   "source": [
    "np.isclose(temperature[-4:, -4:].mean(), coarse_temp[-1, -1], rtol=1.0e-7)"
   ]
  },
  {
   "cell_type": "markdown",
   "metadata": {},
   "source": [
    "We can visualize the coarsening process by plotting a heatmap of the original and the coarsened data."
   ]
  },
  {
   "cell_type": "code",
   "execution_count": 61,
   "metadata": {},
   "outputs": [
    {
     "data": {
      "image/png": "[encoded data removed]",
      "text/plain": [
       "<Figure size 720x360 with 3 Axes>"
      ]
     },
     "metadata": {
      "needs_background": "light"
     },
     "output_type": "display_data"
    }
   ],
   "source": [
    "vmin = float(temperature.min())\n",
    "vmax = float(temperature.max())\n",
    "figure, axes = plt.subplots(nrows=1, ncols=2, figsize=(10, 5))\n",
    "# plot of tempeature\n",
    "t_plot = axes[0].imshow(temperature, cmap='coolwarm', origin='lower',\n",
    "                        vmin=vmin, vmax=vmax)\n",
    "axes[0].set_xlabel('$x$')\n",
    "tick_pos = list(range(0, 20, 5))\n",
    "axes[0].set_xticks(tick_pos)\n",
    "axes[0].set_xticklabels(f'{float(x):.1f}' for x in temperature.coords['x'][tick_pos])\n",
    "axes[0].set_ylabel('$y$')\n",
    "axes[0].set_yticks(tick_pos)\n",
    "axes[0].set_yticklabels(f'{float(x):.1f}' for x in temperature.coords['y'][tick_pos])\n",
    "figure.colorbar(t_plot)\n",
    "# plot of coarse_temp\n",
    "c_plot = axes[1].imshow(coarse_temp, cmap='coolwarm', origin='lower',\n",
    "                        vmin=vmin, vmax=vmax)\n",
    "axes[1].set_xlabel('$x$')\n",
    "axes[1].set_xticks(range(len(coarse_temp.coords['x'])))\n",
    "axes[1].set_xticklabels(f'{float(x):.1f}' for x in coarse_temp.coords['x'])\n",
    "axes[1].set_ylabel('$y$')\n",
    "axes[1].set_yticks(range(len(coarse_temp.coords['y'])))\n",
    "axes[1].set_yticklabels(f'{float(x):.1f}' for x in coarse_temp.coords['y'])\n",
    "plt.tight_layout()"
   ]
  },
  {
   "cell_type": "markdown",
   "metadata": {},
   "source": [
    "## Time series"
   ]
  },
  {
   "cell_type": "markdown",
   "metadata": {},
   "source": [
    "Working with multi-dimensional time series data is straightforward with xarray.  A sequence of timestamps can be created using pandas. We will use this to index a 3D array, where the third dimension represents time."
   ]
  },
  {
   "cell_type": "code",
   "execution_count": 6,
   "metadata": {},
   "outputs": [],
   "source": [
    "x_coords = np.linspace(-2.0, 2.0, 5)\n",
    "y_coords = np.linspace(-3.0, 3.0, 7)\n",
    "timestamps = pd.date_range('2019-07-01', freq='6H', periods=10)\n",
    "data = xr.DataArray(np.empty((len(x_coords), len(y_coords), len(timestamps))),\n",
    "                    dims=('x', 'y', 't'), coords=(x_coords, y_coords, timestamps))"
   ]
  },
  {
   "cell_type": "markdown",
   "metadata": {},
   "source": [
    "We initialize the data, starting from random values at $t = 0$, and computing the data at $t + 1$ from the data at time $t$."
   ]
  },
  {
   "cell_type": "code",
   "execution_count": 7,
   "metadata": {},
   "outputs": [],
   "source": [
    "data[:, :, 0] = np.random.normal(loc=0.0, scale=1.0,\n",
    "                                 size=(data.coords['x'].shape[0], data.coords['y'].shape[0]))\n",
    "for t in range(1, data.coords['t'].shape[0]):\n",
    "    data[:, :, t] = data[:, :, t - 1] + np.random.normal(loc=0.0, scale=0.1, size=data[:, :, 0].shape)"
   ]
  },
  {
   "cell_type": "markdown",
   "metadata": {},
   "source": [
    "For each timestamp, we can print the mean and standard deviation over the data."
   ]
  },
  {
   "cell_type": "code",
   "execution_count": 64,
   "metadata": {},
   "outputs": [
    {
     "name": "stdout",
     "output_type": "stream",
     "text": [
      "mean: -0.011, stddev: 0.095\n",
      "mean: +0.025, stddev: 0.077\n",
      "mean: -0.038, stddev: 0.079\n",
      "mean: -0.028, stddev: 0.104\n",
      "mean: +0.013, stddev: 0.102\n",
      "mean: +0.035, stddev: 0.098\n",
      "mean: +0.011, stddev: 0.072\n",
      "mean: +0.011, stddev: 0.101\n",
      "mean: -0.007, stddev: 0.105\n"
     ]
    }
   ],
   "source": [
    "for t in range(1, data.coords['t'].shape[0]):\n",
    "    diff = data.isel(t=t) - data.isel(t=t - 1)\n",
    "    print(f'mean: {float(diff.mean()):+0.3f}, stddev: {float(diff.std()):0.3f}')"
   ]
  },
  {
   "cell_type": "code",
   "execution_count": 65,
   "metadata": {},
   "outputs": [],
   "source": [
    "mean_data = data.mean(dim=('x', 'y'))\n",
    "mean_data.name = 'mean values'"
   ]
  },
  {
   "cell_type": "code",
   "execution_count": 66,
   "metadata": {},
   "outputs": [
    {
     "data": {
      "image/png": "[encoded data removed]",
      "text/plain": [
       "<Figure size 432x288 with 1 Axes>"
      ]
     },
     "metadata": {
      "needs_background": "light"
     },
     "output_type": "display_data"
    }
   ],
   "source": [
    "_ = mean_data.plot()"
   ]
  },
  {
   "cell_type": "markdown",
   "metadata": {},
   "source": [
    "Note that the plot's $x$-axis is labeled appropriately, i.e, with the date and time only."
   ]
  },
  {
   "cell_type": "markdown",
   "metadata": {},
   "source": [
    "The data can be indexed by a string representing a timestamp."
   ]
  },
  {
   "cell_type": "code",
   "execution_count": 67,
   "metadata": {},
   "outputs": [
    {
     "data": {
      "text/plain": [
       "<xarray.DataArray (x: 5, y: 7)>\n",
       "array([[ 0.134522,  0.139882, -0.783935,  0.527992,  0.083225,  1.209003,\n",
       "         0.298935],\n",
       "       [-1.443417,  0.726843,  0.218782, -0.407327,  0.174149,  1.049454,\n",
       "        -1.040939],\n",
       "       [-2.765147,  0.304767,  0.215509, -0.338329, -0.321164, -1.759763,\n",
       "         1.325458],\n",
       "       [ 1.215391, -0.014276,  1.304747, -1.2291  ,  1.705403,  0.70838 ,\n",
       "        -0.539714],\n",
       "       [ 0.60679 ,  0.672704,  0.441869, -0.112825,  0.324842,  1.150895,\n",
       "        -0.648897]])\n",
       "Coordinates:\n",
       "  * x        (x) float64 -2.0 -1.0 0.0 1.0 2.0\n",
       "  * y        (y) float64 -3.0 -2.0 -1.0 0.0 1.0 2.0 3.0\n",
       "    t        datetime64[ns] 2019-07-02T06:00:00"
      ]
     },
     "execution_count": 67,
     "metadata": {},
     "output_type": "execute_result"
    }
   ],
   "source": [
    "data.sel(t='2019-07-02 06:00:00')"
   ]
  },
  {
   "cell_type": "markdown",
   "metadata": {},
   "source": [
    "When indexing with a data, all data for that date is returned."
   ]
  },
  {
   "cell_type": "code",
   "execution_count": 68,
   "metadata": {},
   "outputs": [
    {
     "data": {
      "text/plain": [
       "<xarray.DataArray 't' (t: 4)>\n",
       "array(['2019-07-02T00:00:00.000000000', '2019-07-02T06:00:00.000000000',\n",
       "       '2019-07-02T12:00:00.000000000', '2019-07-02T18:00:00.000000000'],\n",
       "      dtype='datetime64[ns]')\n",
       "Coordinates:\n",
       "  * t        (t) datetime64[ns] 2019-07-02 ... 2019-07-02T18:00:00"
      ]
     },
     "execution_count": 68,
     "metadata": {},
     "output_type": "execute_result"
    }
   ],
   "source": [
    "data.sel(t='2019-07-02').coords['t']"
   ]
  },
  {
   "cell_type": "markdown",
   "metadata": {},
   "source": [
    "The data can also be sliced along the time coordinate."
   ]
  },
  {
   "cell_type": "code",
   "execution_count": 69,
   "metadata": {},
   "outputs": [
    {
     "data": {
      "text/plain": [
       "<xarray.DataArray 't' (t: 3)>\n",
       "array(['2019-07-02T06:00:00.000000000', '2019-07-02T12:00:00.000000000',\n",
       "       '2019-07-02T18:00:00.000000000'], dtype='datetime64[ns]')\n",
       "Coordinates:\n",
       "  * t        (t) datetime64[ns] 2019-07-02T06:00:00 ... 2019-07-02T18:00:00"
      ]
     },
     "execution_count": 69,
     "metadata": {},
     "output_type": "execute_result"
    }
   ],
   "source": [
    "data.sel(t=slice('2019-07-02 02:00:00', '2019-07-02 20:00:00')).coords['t']"
   ]
  },
  {
   "cell_type": "markdown",
   "metadata": {},
   "source": [
    "Plotting the values at some point in time is now easy."
   ]
  },
  {
   "cell_type": "code",
   "execution_count": 70,
   "metadata": {},
   "outputs": [
    {
     "data": {
      "image/png": "[encoded data removed]",
      "text/plain": [
       "<Figure size 432x288 with 2 Axes>"
      ]
     },
     "metadata": {
      "needs_background": "light"
     },
     "output_type": "display_data"
    }
   ],
   "source": [
    "_ = data.sel(t='2019-07-02 06:00:00').plot()"
   ]
  }
 ],
 "metadata": {
  "kernelspec": {
   "display_name": "Python 3",
   "language": "python",
   "name": "python3"
  },
  "language_info": {
   "codemirror_mode": {
    "name": "ipython",
    "version": 3
   },
   "file_extension": ".py",
   "mimetype": "text/x-python",
   "name": "python",
   "nbconvert_exporter": "python",
   "pygments_lexer": "ipython3",
   "version": "3.7.6"
  },
  "toc-autonumbering": false,
  "toc-showcode": false,
  "toc-showmarkdowntxt": false
 },
 "nbformat": 4,
 "nbformat_minor": 4
}

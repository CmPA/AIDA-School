{
 "cells": [
  {
   "cell_type": "markdown",
   "metadata": {},
   "source": [
    "# Data generation with numpy and pandas"
   ]
  },
  {
   "cell_type": "markdown",
   "metadata": {},
   "source": [
    "Imports and settings:"
   ]
  },
  {
   "cell_type": "code",
   "execution_count": 5,
   "metadata": {
    "collapsed": false
   },
   "outputs": [],
   "source": [
    "import pandas as pd\n",
    "import numpy as np\n",
    "import matplotlib.pyplot as plt\n",
    "import string\n",
    "%matplotlib inline"
   ]
  },
  {
   "cell_type": "markdown",
   "metadata": {},
   "source": [
    "Generate data, the second array is correlated with the first one, which is random. The third is random, and independent, and the first half of the fourth array is correlated with the first array\n",
    ", the second half with the third array."
   ]
  },
  {
   "cell_type": "code",
   "execution_count": 9,
   "metadata": {
    "collapsed": true
   },
   "outputs": [],
   "source": [
    "p1 = np.random.uniform(size=20)"
   ]
  },
  {
   "cell_type": "code",
   "execution_count": 15,
   "metadata": {
    "collapsed": true
   },
   "outputs": [],
   "source": [
    "p2 = p1 + np.random.uniform(-0.05, 0.05, 20)"
   ]
  },
  {
   "cell_type": "code",
   "execution_count": 20,
   "metadata": {
    "collapsed": true
   },
   "outputs": [],
   "source": [
    "p3 = np.random.uniform(size=20)"
   ]
  },
  {
   "cell_type": "code",
   "execution_count": 21,
   "metadata": {
    "collapsed": true
   },
   "outputs": [],
   "source": [
    "p4 = np.append(p1[:10] + np.random.uniform(-0.1, 0.1, 10), p3[10:] + np.random.uniform(-0.05, 0.05, 10))"
   ]
  },
  {
   "cell_type": "code",
   "execution_count": 45,
   "metadata": {
    "collapsed": false
   },
   "outputs": [
    {
     "data": {
      "image/png": "[encoded data removed]",
      "text/plain": [
       "<matplotlib.figure.Figure at 0xaf099f6c>"
      ]
     },
     "metadata": {},
     "output_type": "display_data"
    }
   ],
   "source": [
    "plt.plot(p1, p2, 'o');"
   ]
  },
  {
   "cell_type": "code",
   "execution_count": 23,
   "metadata": {
    "collapsed": false
   },
   "outputs": [
    {
     "data": {
      "image/png": "[encoded data removed]",
      "text/plain": [
       "<matplotlib.figure.Figure at 0xaf10e1ec>"
      ]
     },
     "metadata": {},
     "output_type": "display_data"
    }
   ],
   "source": [
    "plt.plot(p1, p4, 'o');"
   ]
  },
  {
   "cell_type": "code",
   "execution_count": 47,
   "metadata": {
    "collapsed": false
   },
   "outputs": [
    {
     "data": {
      "image/png": "[encoded data removed]",
      "text/plain": [
       "<matplotlib.figure.Figure at 0xaf0175ac>"
      ]
     },
     "metadata": {},
     "output_type": "display_data"
    }
   ],
   "source": [
    "plt.plot(p3, p4, 'o');"
   ]
  },
  {
   "cell_type": "markdown",
   "metadata": {},
   "source": [
    "Create a data frame out of the arrays, the columns are patient IDs."
   ]
  },
  {
   "cell_type": "code",
   "execution_count": 24,
   "metadata": {
    "collapsed": true
   },
   "outputs": [],
   "source": [
    "ge = pd.DataFrame({1: p1, 2: p2, 3: p3, 4: p4})\n",
    "ge"
   ]
  },
  {
   "cell_type": "markdown",
   "metadata": {},
   "source": [
    "As an index, random gene names are generated."
   ]
  },
  {
   "cell_type": "code",
   "execution_count": 48,
   "metadata": {
    "collapsed": false
   },
   "outputs": [
    {
     "data": {
      "text/plain": [
       "['FXDG',\n",
       " 'VTUR',\n",
       " 'OVAH',\n",
       " 'AKSE',\n",
       " 'SJNN',\n",
       " 'LVKM',\n",
       " 'GBDZ',\n",
       " 'FVEW',\n",
       " 'ZNYZ',\n",
       " 'GTKJ',\n",
       " 'HPOA',\n",
       " 'OXLP',\n",
       " 'NZTK',\n",
       " 'RMDV',\n",
       " 'KGIZ',\n",
       " 'LUFL',\n",
       " 'HOON',\n",
       " 'CXYA',\n",
       " 'OBEK',\n",
       " 'AJJU']"
      ]
     },
     "execution_count": 48,
     "metadata": {},
     "output_type": "execute_result"
    }
   ],
   "source": [
    "letters = [a for a in string.ascii_uppercase]\n",
    "name_chars = np.random.choice(letters, size=(20, 4))\n",
    "names = [''.join(x) for x in name_chars]\n",
    "names"
   ]
  },
  {
   "cell_type": "code",
   "execution_count": 49,
   "metadata": {
    "collapsed": false
   },
   "outputs": [
    {
     "data": {
      "text/html": [
       "<div>\n",
       "<table border=\"1\" class=\"dataframe\">\n",
       "  <thead>\n",
       "    <tr style=\"text-align: right;\">\n",
       "      <th></th>\n",
       "      <th>1</th>\n",
       "      <th>2</th>\n",
       "      <th>3</th>\n",
       "      <th>4</th>\n",
       "    </tr>\n",
       "  </thead>\n",
       "  <tbody>\n",
       "    <tr>\n",
       "      <th>FXDG</th>\n",
       "      <td>0.010199</td>\n",
       "      <td>0.042988</td>\n",
       "      <td>0.831946</td>\n",
       "      <td>-0.023656</td>\n",
       "    </tr>\n",
       "    <tr>\n",
       "      <th>VTUR</th>\n",
       "      <td>0.466012</td>\n",
       "      <td>0.494679</td>\n",
       "      <td>0.806661</td>\n",
       "      <td>0.518115</td>\n",
       "    </tr>\n",
       "    <tr>\n",
       "      <th>OVAH</th>\n",
       "      <td>0.783847</td>\n",
       "      <td>0.754150</td>\n",
       "      <td>0.208352</td>\n",
       "      <td>0.826368</td>\n",
       "    </tr>\n",
       "    <tr>\n",
       "      <th>AKSE</th>\n",
       "      <td>0.922433</td>\n",
       "      <td>0.929716</td>\n",
       "      <td>0.662824</td>\n",
       "      <td>0.959443</td>\n",
       "    </tr>\n",
       "    <tr>\n",
       "      <th>SJNN</th>\n",
       "      <td>0.325089</td>\n",
       "      <td>0.302198</td>\n",
       "      <td>0.522847</td>\n",
       "      <td>0.356346</td>\n",
       "    </tr>\n",
       "    <tr>\n",
       "      <th>LVKM</th>\n",
       "      <td>0.554702</td>\n",
       "      <td>0.531044</td>\n",
       "      <td>0.138988</td>\n",
       "      <td>0.600229</td>\n",
       "    </tr>\n",
       "    <tr>\n",
       "      <th>GBDZ</th>\n",
       "      <td>0.138237</td>\n",
       "      <td>0.175223</td>\n",
       "      <td>0.454214</td>\n",
       "      <td>0.166761</td>\n",
       "    </tr>\n",
       "    <tr>\n",
       "      <th>FVEW</th>\n",
       "      <td>0.541489</td>\n",
       "      <td>0.586018</td>\n",
       "      <td>0.823917</td>\n",
       "      <td>0.529811</td>\n",
       "    </tr>\n",
       "    <tr>\n",
       "      <th>ZNYZ</th>\n",
       "      <td>0.182592</td>\n",
       "      <td>0.180604</td>\n",
       "      <td>0.187386</td>\n",
       "      <td>0.117254</td>\n",
       "    </tr>\n",
       "    <tr>\n",
       "      <th>GTKJ</th>\n",
       "      <td>0.309138</td>\n",
       "      <td>0.261196</td>\n",
       "      <td>0.219769</td>\n",
       "      <td>0.276605</td>\n",
       "    </tr>\n",
       "    <tr>\n",
       "      <th>HPOA</th>\n",
       "      <td>0.367957</td>\n",
       "      <td>0.399811</td>\n",
       "      <td>0.000427</td>\n",
       "      <td>-0.041688</td>\n",
       "    </tr>\n",
       "    <tr>\n",
       "      <th>OXLP</th>\n",
       "      <td>0.077841</td>\n",
       "      <td>0.066921</td>\n",
       "      <td>0.086414</td>\n",
       "      <td>0.099641</td>\n",
       "    </tr>\n",
       "    <tr>\n",
       "      <th>NZTK</th>\n",
       "      <td>0.087888</td>\n",
       "      <td>0.076691</td>\n",
       "      <td>0.134658</td>\n",
       "      <td>0.118467</td>\n",
       "    </tr>\n",
       "    <tr>\n",
       "      <th>RMDV</th>\n",
       "      <td>0.794379</td>\n",
       "      <td>0.751075</td>\n",
       "      <td>0.353276</td>\n",
       "      <td>0.310774</td>\n",
       "    </tr>\n",
       "    <tr>\n",
       "      <th>KGIZ</th>\n",
       "      <td>0.654509</td>\n",
       "      <td>0.627586</td>\n",
       "      <td>0.212393</td>\n",
       "      <td>0.228329</td>\n",
       "    </tr>\n",
       "    <tr>\n",
       "      <th>LUFL</th>\n",
       "      <td>0.304366</td>\n",
       "      <td>0.259825</td>\n",
       "      <td>0.606764</td>\n",
       "      <td>0.567738</td>\n",
       "    </tr>\n",
       "    <tr>\n",
       "      <th>HOON</th>\n",
       "      <td>0.113327</td>\n",
       "      <td>0.067178</td>\n",
       "      <td>0.744009</td>\n",
       "      <td>0.697235</td>\n",
       "    </tr>\n",
       "    <tr>\n",
       "      <th>CXYA</th>\n",
       "      <td>0.728105</td>\n",
       "      <td>0.690268</td>\n",
       "      <td>0.919824</td>\n",
       "      <td>0.880541</td>\n",
       "    </tr>\n",
       "    <tr>\n",
       "      <th>OBEK</th>\n",
       "      <td>0.016503</td>\n",
       "      <td>0.056242</td>\n",
       "      <td>0.571821</td>\n",
       "      <td>0.536120</td>\n",
       "    </tr>\n",
       "    <tr>\n",
       "      <th>AJJU</th>\n",
       "      <td>0.020338</td>\n",
       "      <td>0.063423</td>\n",
       "      <td>0.544185</td>\n",
       "      <td>0.500571</td>\n",
       "    </tr>\n",
       "  </tbody>\n",
       "</table>\n",
       "</div>"
      ],
      "text/plain": [
       "             1         2         3         4\n",
       "FXDG  0.010199  0.042988  0.831946 -0.023656\n",
       "VTUR  0.466012  0.494679  0.806661  0.518115\n",
       "OVAH  0.783847  0.754150  0.208352  0.826368\n",
       "AKSE  0.922433  0.929716  0.662824  0.959443\n",
       "SJNN  0.325089  0.302198  0.522847  0.356346\n",
       "LVKM  0.554702  0.531044  0.138988  0.600229\n",
       "GBDZ  0.138237  0.175223  0.454214  0.166761\n",
       "FVEW  0.541489  0.586018  0.823917  0.529811\n",
       "ZNYZ  0.182592  0.180604  0.187386  0.117254\n",
       "GTKJ  0.309138  0.261196  0.219769  0.276605\n",
       "HPOA  0.367957  0.399811  0.000427 -0.041688\n",
       "OXLP  0.077841  0.066921  0.086414  0.099641\n",
       "NZTK  0.087888  0.076691  0.134658  0.118467\n",
       "RMDV  0.794379  0.751075  0.353276  0.310774\n",
       "KGIZ  0.654509  0.627586  0.212393  0.228329\n",
       "LUFL  0.304366  0.259825  0.606764  0.567738\n",
       "HOON  0.113327  0.067178  0.744009  0.697235\n",
       "CXYA  0.728105  0.690268  0.919824  0.880541\n",
       "OBEK  0.016503  0.056242  0.571821  0.536120\n",
       "AJJU  0.020338  0.063423  0.544185  0.500571"
      ]
     },
     "execution_count": 49,
     "metadata": {},
     "output_type": "execute_result"
    }
   ],
   "source": [
    "ge.index = names\n",
    "ge"
   ]
  },
  {
   "cell_type": "markdown",
   "metadata": {},
   "source": [
    "For the fun, save this as HTML."
   ]
  },
  {
   "cell_type": "code",
   "execution_count": 50,
   "metadata": {
    "collapsed": true
   },
   "outputs": [],
   "source": [
    "ge.to_html('genes_table.html')"
   ]
  },
  {
   "cell_type": "markdown",
   "metadata": {},
   "source": [
    "Show data as scatter matrix."
   ]
  },
  {
   "cell_type": "code",
   "execution_count": 51,
   "metadata": {
    "collapsed": false
   },
   "outputs": [
    {
     "data": {
      "image/png": "[encoded data removed]",
      "text/plain": [
       "<matplotlib.figure.Figure at 0xaf025d8c>"
      ]
     },
     "metadata": {},
     "output_type": "display_data"
    }
   ],
   "source": [
    "pd.tools.plotting.scatter_matrix(ge, figsize=(14,10));"
   ]
  },
  {
   "cell_type": "code",
   "execution_count": null,
   "metadata": {
    "collapsed": true
   },
   "outputs": [],
   "source": []
  }
 ],
 "metadata": {
  "kernelspec": {
   "display_name": "Python 3",
   "language": "python",
   "name": "python3"
  },
  "language_info": {
   "codemirror_mode": {
    "name": "ipython",
    "version": 3
   },
   "file_extension": ".py",
   "mimetype": "text/x-python",
   "name": "python",
   "nbconvert_exporter": "python",
   "pygments_lexer": "ipython3",
   "version": "3.4.3"
  }
 },
 "nbformat": 4,
 "nbformat_minor": 0
}

{
 "cells": [
  {
   "cell_type": "markdown",
   "metadata": {},
   "source": [
    "# pandas and data types"
   ]
  },
  {
   "cell_type": "markdown",
   "metadata": {},
   "source": [
    "## Data generation"
   ]
  },
  {
   "cell_type": "markdown",
   "metadata": {},
   "source": [
    "In order to do some experiments, we generate a data set.  We want to experiment with various types of floating point numbers, integers and categorical data, so we will create a text file that has some columns of each of those types."
   ]
  },
  {
   "cell_type": "code",
   "execution_count": 1,
   "metadata": {
    "ExecuteTime": {
     "end_time": "2019-12-18T05:48:14.919153Z",
     "start_time": "2019-12-18T05:48:14.908715Z"
    }
   },
   "outputs": [],
   "source": [
    "import random"
   ]
  },
  {
   "cell_type": "code",
   "execution_count": 19,
   "metadata": {
    "ExecuteTime": {
     "end_time": "2019-12-18T06:04:55.554953Z",
     "start_time": "2019-12-18T06:04:55.547464Z"
    }
   },
   "outputs": [],
   "source": [
    "nr_lines = 100_000"
   ]
  },
  {
   "cell_type": "code",
   "execution_count": 20,
   "metadata": {
    "ExecuteTime": {
     "end_time": "2019-12-18T06:05:00.341081Z",
     "start_time": "2019-12-18T06:04:57.802601Z"
    }
   },
   "outputs": [],
   "source": [
    "with open('random_data.csv', 'w') as file:\n",
    "    categories = ''.join(chr(ord('A') + i) for i in range(26))\n",
    "    print('float1,float2,int1,int2,binary1,binary2,cat1,cat2', file=file)\n",
    "    for _ in range(nr_lines):\n",
    "        print(f'{random.random()},{random.random()},'\n",
    "              f'{random.randrange(0, 255)},{random.randrange(0, 255)},'\n",
    "              f'{random.randint(0, 1)},{random.randint(0, 1)},'\n",
    "              f'{random.choice(categories)},{random.choice(categories)}',\n",
    "              file=file)"
   ]
  },
  {
   "cell_type": "code",
   "execution_count": 21,
   "metadata": {
    "ExecuteTime": {
     "end_time": "2019-12-18T06:05:00.692215Z",
     "start_time": "2019-12-18T06:05:00.402969Z"
    }
   },
   "outputs": [
    {
     "name": "stdout",
     "output_type": "stream",
     "text": [
      " 100001  100001 5367829 random_data.csv\r\n"
     ]
    }
   ],
   "source": [
    "!wc random_data.csv"
   ]
  },
  {
   "cell_type": "markdown",
   "metadata": {},
   "source": [
    "## Dataframes"
   ]
  },
  {
   "cell_type": "code",
   "execution_count": 25,
   "metadata": {
    "ExecuteTime": {
     "end_time": "2019-12-18T06:13:06.514271Z",
     "start_time": "2019-12-18T06:13:06.500519Z"
    }
   },
   "outputs": [],
   "source": [
    "import numpy as np\n",
    "import pandas as pd"
   ]
  },
  {
   "cell_type": "markdown",
   "metadata": {},
   "source": [
    "When simply using defaults to read the CSV file, pandas will use 64-bit floating point and integer values, even though that might not be required."
   ]
  },
  {
   "cell_type": "code",
   "execution_count": 49,
   "metadata": {
    "ExecuteTime": {
     "end_time": "2019-12-18T07:45:49.759782Z",
     "start_time": "2019-12-18T07:45:49.351006Z"
    }
   },
   "outputs": [],
   "source": [
    "data = pd.read_csv('random_data.csv')"
   ]
  },
  {
   "cell_type": "code",
   "execution_count": 50,
   "metadata": {
    "ExecuteTime": {
     "end_time": "2019-12-18T07:45:50.305526Z",
     "start_time": "2019-12-18T07:45:50.246243Z"
    }
   },
   "outputs": [
    {
     "name": "stdout",
     "output_type": "stream",
     "text": [
      "<class 'pandas.core.frame.DataFrame'>\n",
      "RangeIndex: 100000 entries, 0 to 99999\n",
      "Data columns (total 8 columns):\n",
      "float1     100000 non-null float64\n",
      "float2     100000 non-null float64\n",
      "int1       100000 non-null int64\n",
      "int2       100000 non-null int64\n",
      "binary1    100000 non-null int64\n",
      "binary2    100000 non-null int64\n",
      "cat1       100000 non-null object\n",
      "cat2       100000 non-null object\n",
      "dtypes: float64(2), int64(4), object(2)\n",
      "memory usage: 6.1+ MB\n"
     ]
    }
   ],
   "source": [
    "data.info()"
   ]
  },
  {
   "cell_type": "markdown",
   "metadata": {},
   "source": [
    "Of course one can convert columns of an existing dataframe info more frugal data types, e.g.,"
   ]
  },
  {
   "cell_type": "code",
   "execution_count": 52,
   "metadata": {
    "ExecuteTime": {
     "end_time": "2019-12-18T07:46:09.376399Z",
     "start_time": "2019-12-18T07:46:09.366193Z"
    }
   },
   "outputs": [],
   "source": [
    "data['float1'] = data['float1'].astype(np.float32)"
   ]
  },
  {
   "cell_type": "code",
   "execution_count": 53,
   "metadata": {
    "ExecuteTime": {
     "end_time": "2019-12-18T07:46:21.456107Z",
     "start_time": "2019-12-18T07:46:21.341030Z"
    },
    "scrolled": true
   },
   "outputs": [
    {
     "name": "stdout",
     "output_type": "stream",
     "text": [
      "<class 'pandas.core.frame.DataFrame'>\n",
      "RangeIndex: 100000 entries, 0 to 99999\n",
      "Data columns (total 8 columns):\n",
      "float1     100000 non-null float32\n",
      "float2     100000 non-null float64\n",
      "int1       100000 non-null int64\n",
      "int2       100000 non-null int64\n",
      "binary1    100000 non-null int64\n",
      "binary2    100000 non-null int64\n",
      "cat1       100000 non-null object\n",
      "cat2       100000 non-null object\n",
      "dtypes: float32(1), float64(1), int64(4), object(2)\n",
      "memory usage: 5.7+ MB\n"
     ]
    }
   ],
   "source": [
    "data.info()"
   ]
  },
  {
   "cell_type": "markdown",
   "metadata": {},
   "source": [
    "However, it is faster to specify a dictionary of data types when reading the file. Not only will this reduce the execution time, but it will also allow to deal with larger data sets since they do not require the initial (overlarge) memory footprint."
   ]
  },
  {
   "cell_type": "markdown",
   "metadata": {},
   "source": [
    "Specifying the type of the floating point values as single precesion reduces the size of the dataframe considerably."
   ]
  },
  {
   "cell_type": "code",
   "execution_count": 26,
   "metadata": {
    "ExecuteTime": {
     "end_time": "2019-12-18T06:13:16.918569Z",
     "start_time": "2019-12-18T06:13:16.583615Z"
    }
   },
   "outputs": [],
   "source": [
    "data = pd.read_csv('random_data.csv',\n",
    "                   dtype={'float1': np.float32, 'float2': np.float32})"
   ]
  },
  {
   "cell_type": "code",
   "execution_count": 27,
   "metadata": {
    "ExecuteTime": {
     "end_time": "2019-12-18T06:13:17.832093Z",
     "start_time": "2019-12-18T06:13:17.771427Z"
    }
   },
   "outputs": [
    {
     "name": "stdout",
     "output_type": "stream",
     "text": [
      "<class 'pandas.core.frame.DataFrame'>\n",
      "RangeIndex: 100000 entries, 0 to 99999\n",
      "Data columns (total 8 columns):\n",
      "float1     100000 non-null float32\n",
      "float2     100000 non-null float32\n",
      "int1       100000 non-null int64\n",
      "int2       100000 non-null int64\n",
      "binary1    100000 non-null int64\n",
      "binary2    100000 non-null int64\n",
      "cat1       100000 non-null object\n",
      "cat2       100000 non-null object\n",
      "dtypes: float32(2), int64(4), object(2)\n",
      "memory usage: 5.3+ MB\n"
     ]
    }
   ],
   "source": [
    "data.info()"
   ]
  },
  {
   "cell_type": "markdown",
   "metadata": {},
   "source": [
    "Similarly, the type of the integer data can be reduced to `np.uint8`, further reducing the size of the dataframe."
   ]
  },
  {
   "cell_type": "code",
   "execution_count": 54,
   "metadata": {
    "ExecuteTime": {
     "end_time": "2019-12-18T07:47:17.362142Z",
     "start_time": "2019-12-18T07:47:16.038397Z"
    }
   },
   "outputs": [],
   "source": [
    "data = pd.read_csv('random_data.csv',\n",
    "                   dtype={'float1': np.float32, 'float2': np.float32,\n",
    "                          'int1': np.uint8, 'int2': np.uint8})"
   ]
  },
  {
   "cell_type": "code",
   "execution_count": 55,
   "metadata": {
    "ExecuteTime": {
     "end_time": "2019-12-18T07:47:19.823447Z",
     "start_time": "2019-12-18T07:47:19.631797Z"
    },
    "scrolled": true
   },
   "outputs": [
    {
     "name": "stdout",
     "output_type": "stream",
     "text": [
      "<class 'pandas.core.frame.DataFrame'>\n",
      "RangeIndex: 100000 entries, 0 to 99999\n",
      "Data columns (total 8 columns):\n",
      "float1     100000 non-null float32\n",
      "float2     100000 non-null float32\n",
      "int1       100000 non-null uint8\n",
      "int2       100000 non-null uint8\n",
      "binary1    100000 non-null int64\n",
      "binary2    100000 non-null int64\n",
      "cat1       100000 non-null object\n",
      "cat2       100000 non-null object\n",
      "dtypes: float32(2), int64(2), object(2), uint8(2)\n",
      "memory usage: 4.0+ MB\n"
     ]
    }
   ],
   "source": [
    "data.info()"
   ]
  },
  {
   "cell_type": "markdown",
   "metadata": {},
   "source": [
    "Futhermore, both the columns with binary data and the categorical data can be explicitly represented as such, further reducing the memory footprint of the dataframe."
   ]
  },
  {
   "cell_type": "code",
   "execution_count": 36,
   "metadata": {
    "ExecuteTime": {
     "end_time": "2019-12-18T07:26:16.613180Z",
     "start_time": "2019-12-18T07:26:16.278759Z"
    }
   },
   "outputs": [],
   "source": [
    "data = pd.read_csv('random_data.csv',\n",
    "                   dtype={'float1': np.float32, 'float2': np.float32,\n",
    "                          'int1': np.uint8, 'int2': np.uint8,\n",
    "                          'binary1': 'category', 'binary2': 'category',\n",
    "                          'cat1': 'category', 'cat2': 'category'})"
   ]
  },
  {
   "cell_type": "code",
   "execution_count": 37,
   "metadata": {
    "ExecuteTime": {
     "end_time": "2019-12-18T07:26:17.495934Z",
     "start_time": "2019-12-18T07:26:17.430303Z"
    },
    "scrolled": true
   },
   "outputs": [
    {
     "name": "stdout",
     "output_type": "stream",
     "text": [
      "<class 'pandas.core.frame.DataFrame'>\n",
      "RangeIndex: 100000 entries, 0 to 99999\n",
      "Data columns (total 8 columns):\n",
      "float1     100000 non-null float32\n",
      "float2     100000 non-null float32\n",
      "int1       100000 non-null uint8\n",
      "int2       100000 non-null uint8\n",
      "binary1    100000 non-null category\n",
      "binary2    100000 non-null category\n",
      "cat1       100000 non-null category\n",
      "cat2       100000 non-null category\n",
      "dtypes: category(4), float32(2), uint8(2)\n",
      "memory usage: 1.3 MB\n"
     ]
    }
   ],
   "source": [
    "data.info()"
   ]
  },
  {
   "cell_type": "markdown",
   "metadata": {},
   "source": [
    "Just to see how efficiently categories are represented, we load only a single binary column, and check the size of the dataframe."
   ]
  },
  {
   "cell_type": "code",
   "execution_count": 39,
   "metadata": {
    "ExecuteTime": {
     "end_time": "2019-12-18T07:29:24.138213Z",
     "start_time": "2019-12-18T07:29:23.874220Z"
    }
   },
   "outputs": [],
   "source": [
    "data = pd.read_csv('random_data.csv',\n",
    "                   usecols=('binary1',),\n",
    "                   dtype={'float1': np.float32, 'float2': np.float32,\n",
    "                          'int1': np.uint8, 'int2': np.uint8,\n",
    "                          'binary1': 'category', 'binary2': 'category',\n",
    "                          'cat1': 'category', 'cat2': 'category'})"
   ]
  },
  {
   "cell_type": "code",
   "execution_count": 40,
   "metadata": {
    "ExecuteTime": {
     "end_time": "2019-12-18T07:29:29.802312Z",
     "start_time": "2019-12-18T07:29:29.764378Z"
    }
   },
   "outputs": [
    {
     "name": "stdout",
     "output_type": "stream",
     "text": [
      "<class 'pandas.core.frame.DataFrame'>\n",
      "RangeIndex: 100000 entries, 0 to 99999\n",
      "Data columns (total 1 columns):\n",
      "binary1    100000 non-null category\n",
      "dtypes: category(1)\n",
      "memory usage: 97.8 KB\n"
     ]
    }
   ],
   "source": [
    "data.info()"
   ]
  },
  {
   "cell_type": "markdown",
   "metadata": {},
   "source": [
    "The memory footprint of a dataframe with a single categorical column is similar."
   ]
  },
  {
   "cell_type": "code",
   "execution_count": 41,
   "metadata": {
    "ExecuteTime": {
     "end_time": "2019-12-18T07:39:58.016156Z",
     "start_time": "2019-12-18T07:39:57.722857Z"
    }
   },
   "outputs": [],
   "source": [
    "data = pd.read_csv('random_data.csv',\n",
    "                   usecols=('cat1',),\n",
    "                   dtype={'float1': np.float32, 'float2': np.float32,\n",
    "                          'int1': np.uint8, 'int2': np.uint8,\n",
    "                          'binary1': 'category', 'binary2': 'category',\n",
    "                          'cat1': 'category', 'cat2': 'category'})"
   ]
  },
  {
   "cell_type": "code",
   "execution_count": 42,
   "metadata": {
    "ExecuteTime": {
     "end_time": "2019-12-18T07:39:58.091033Z",
     "start_time": "2019-12-18T07:39:58.031243Z"
    }
   },
   "outputs": [
    {
     "name": "stdout",
     "output_type": "stream",
     "text": [
      "<class 'pandas.core.frame.DataFrame'>\n",
      "RangeIndex: 100000 entries, 0 to 99999\n",
      "Data columns (total 1 columns):\n",
      "cat1    100000 non-null category\n",
      "dtypes: category(1)\n",
      "memory usage: 99.2 KB\n"
     ]
    }
   ],
   "source": [
    "data.info()"
   ]
  },
  {
   "cell_type": "markdown",
   "metadata": {},
   "source": [
    "Loading just an integer column as `np.uint8` shows that again, the memory footprint is the same, so this is the data type used to represent categorical data with less than 256 categories."
   ]
  },
  {
   "cell_type": "code",
   "execution_count": 43,
   "metadata": {
    "ExecuteTime": {
     "end_time": "2019-12-18T07:40:33.758112Z",
     "start_time": "2019-12-18T07:40:33.210016Z"
    }
   },
   "outputs": [],
   "source": [
    "data = pd.read_csv('random_data.csv',\n",
    "                   usecols=('int1',),\n",
    "                   dtype={'float1': np.float32, 'float2': np.float32,\n",
    "                          'int1': np.uint8, 'int2': np.uint8,\n",
    "                          'binary1': 'category', 'binary2': 'category',\n",
    "                          'cat1': 'category', 'cat2': 'category'})"
   ]
  },
  {
   "cell_type": "code",
   "execution_count": 44,
   "metadata": {
    "ExecuteTime": {
     "end_time": "2019-12-18T07:40:34.814479Z",
     "start_time": "2019-12-18T07:40:34.770900Z"
    }
   },
   "outputs": [
    {
     "name": "stdout",
     "output_type": "stream",
     "text": [
      "<class 'pandas.core.frame.DataFrame'>\n",
      "RangeIndex: 100000 entries, 0 to 99999\n",
      "Data columns (total 1 columns):\n",
      "int1    100000 non-null uint8\n",
      "dtypes: uint8(1)\n",
      "memory usage: 97.8 KB\n"
     ]
    }
   ],
   "source": [
    "data.info()"
   ]
  }
 ],
 "metadata": {
  "kernelspec": {
   "display_name": "Python 3",
   "language": "python",
   "name": "python3"
  },
  "language_info": {
   "codemirror_mode": {
    "name": "ipython",
    "version": 3
   },
   "file_extension": ".py",
   "mimetype": "text/x-python",
   "name": "python",
   "nbconvert_exporter": "python",
   "pygments_lexer": "ipython3",
   "version": "3.7.5"
  }
 },
 "nbformat": 4,
 "nbformat_minor": 2
}

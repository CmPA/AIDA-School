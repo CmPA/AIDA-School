{
  "nbformat": 4,
  "nbformat_minor": 0,
  "metadata": {
    "colab": {
      "name": "060_mnist_cnn_complete.ipynb",
      "version": "0.3.2",
      "provenance": []
    },
    "language_info": {
      "codemirror_mode": {
        "name": "ipython",
        "version": 3
      },
      "file_extension": ".py",
      "mimetype": "text/x-python",
      "name": "python",
      "nbconvert_exporter": "python",
      "pygments_lexer": "ipython3",
      "version": "3.7.3"
    },
    "kernelspec": {
      "name": "python3",
      "display_name": "Python 3"
    },
    "accelerator": "GPU"
  },
  "cells": [
    {
      "cell_type": "markdown",
      "metadata": {
        "id": "xX05QJuPqxDU",
        "colab_type": "text"
      },
      "source": [
        "# MNIST: convolutional neural networks"
      ]
    },
    {
      "cell_type": "markdown",
      "metadata": {
        "id": "FeBuk0jpqxDX",
        "colab_type": "text"
      },
      "source": [
        "We define and train a convolutional neural network (CNN) model to recognize handwritten digits.  Although CNNs can be used in many contexts, they are probably most often used in the context of image processing."
      ]
    },
    {
      "cell_type": "markdown",
      "metadata": {
        "id": "dsSGP2BzqxDY",
        "colab_type": "text"
      },
      "source": [
        "## Required imports"
      ]
    },
    {
      "cell_type": "code",
      "metadata": {
        "id": "vntuf5EzqxDZ",
        "colab_type": "code",
        "colab": {}
      },
      "source": [
        "import keras\n",
        "from keras import backend as K\n",
        "from keras.datasets import mnist\n",
        "import matplotlib.pyplot as plt\n",
        "%matplotlib inline\n",
        "import numpy as np\n",
        "from sklearn.model_selection import train_test_split\n",
        "from sklearn.pipeline import Pipeline\n",
        "from sklearn.preprocessing import FunctionTransformer, OneHotEncoder"
      ],
      "execution_count": 0,
      "outputs": []
    },
    {
      "cell_type": "markdown",
      "metadata": {
        "id": "hah5lmFZqxDh",
        "colab_type": "text"
      },
      "source": [
        "## Data preparation"
      ]
    },
    {
      "cell_type": "markdown",
      "metadata": {
        "id": "42NZmGBzqxDh",
        "colab_type": "text"
      },
      "source": [
        "Depending on the backend keras uses, the input format slightly differs. Either the number of color channels is the first, or the last dimension.  Our input data is grayscale, so there is only a single color channel"
      ]
    },
    {
      "cell_type": "code",
      "metadata": {
        "id": "TsnEMyYyqxDi",
        "colab_type": "code",
        "colab": {}
      },
      "source": [
        "img_channels, img_rows, img_cols = 1, 28, 28\n",
        "\n",
        "if K.image_data_format() == 'channels_first':\n",
        "    shape_ord = (img_channels, img_rows, img_cols)\n",
        "else:  # channel_last\n",
        "    shape_ord = (img_rows, img_cols, img_channels)"
      ],
      "execution_count": 0,
      "outputs": []
    },
    {
      "cell_type": "markdown",
      "metadata": {
        "id": "ylfYzQarqxDn",
        "colab_type": "text"
      },
      "source": [
        "Load the data again."
      ]
    },
    {
      "cell_type": "code",
      "metadata": {
        "id": "11Jz611EqxDo",
        "colab_type": "code",
        "colab": {
          "base_uri": "https://localhost:8080/",
          "height": 51
        },
        "outputId": "54e8ead8-841e-4efb-8158-0b951252efc5"
      },
      "source": [
        "(x_train, y_train), (x_test, y_test) = mnist.load_data()"
      ],
      "execution_count": 3,
      "outputs": [
        {
          "output_type": "stream",
          "text": [
            "Downloading data from https://s3.amazonaws.com/img-datasets/mnist.npz\n",
            "11493376/11490434 [==============================] - 1s 0us/step\n"
          ],
          "name": "stdout"
        }
      ]
    },
    {
      "cell_type": "markdown",
      "metadata": {
        "id": "LBUQOrUAqxDr",
        "colab_type": "text"
      },
      "source": [
        "### Data preprocessing"
      ]
    },
    {
      "cell_type": "markdown",
      "metadata": {
        "id": "cg4Mp1wpqxDs",
        "colab_type": "text"
      },
      "source": [
        "First, reshape the input data to take into account the color channels of the images."
      ]
    },
    {
      "cell_type": "code",
      "metadata": {
        "id": "06kp5tg0qxDt",
        "colab_type": "code",
        "colab": {}
      },
      "source": [
        "input_pipeline = FunctionTransformer(lambda x: x.reshape((x.shape[0], ) + shape_ord).astype(np.float32)/255.0,\n",
        "                                     validate=False)"
      ],
      "execution_count": 0,
      "outputs": []
    },
    {
      "cell_type": "code",
      "metadata": {
        "id": "udYsweBCqxDy",
        "colab_type": "code",
        "colab": {}
      },
      "source": [
        "x_train = input_pipeline.fit_transform(x_train)\n",
        "x_test = input_pipeline.transform(x_test)"
      ],
      "execution_count": 0,
      "outputs": []
    },
    {
      "cell_type": "markdown",
      "metadata": {
        "id": "xYA9075OqxD6",
        "colab_type": "text"
      },
      "source": [
        "Most learning algorithms work better when the input data is normalized to the interval $[0, 1]$."
      ]
    },
    {
      "cell_type": "markdown",
      "metadata": {
        "id": "csQt9IsVqxD7",
        "colab_type": "text"
      },
      "source": [
        "The output can be transformed using the pipeline defined for the multilayer network and can be imported from the `mnist_utils` module."
      ]
    },
    {
      "cell_type": "code",
      "metadata": {
        "id": "F2VFCAP1qxD-",
        "colab_type": "code",
        "colab": {}
      },
      "source": [
        "output_reshaper = FunctionTransformer(lambda x: x.reshape(-1, 1),                                                                                                                                        \n",
        "                                      validate=False)                                                                                                                                                    \n",
        "output_encoder = OneHotEncoder(categories='auto')\n",
        "output_type_changer = FunctionTransformer(lambda x: x.astype(np.float32),\n",
        "                                          validate=False)\n",
        "output_pipeline = Pipeline([\n",
        "    ('reshaper', output_reshaper),\n",
        "    ('binarizer', output_encoder),\n",
        "    ('type_changer', output_type_changer),\n",
        "])"
      ],
      "execution_count": 0,
      "outputs": []
    },
    {
      "cell_type": "code",
      "metadata": {
        "id": "jMcnEXJlqxEF",
        "colab_type": "code",
        "colab": {}
      },
      "source": [
        "y_train = output_pipeline.fit_transform(y_train)\n",
        "y_test = output_pipeline.transform(y_test)"
      ],
      "execution_count": 0,
      "outputs": []
    },
    {
      "cell_type": "markdown",
      "metadata": {
        "id": "DnsXw5Z3qxEK",
        "colab_type": "text"
      },
      "source": [
        "### Validation data"
      ]
    },
    {
      "cell_type": "markdown",
      "metadata": {
        "id": "W6AX8PY2qxEL",
        "colab_type": "text"
      },
      "source": [
        "In order to make this reproducible, we have to seed the random number generator."
      ]
    },
    {
      "cell_type": "code",
      "metadata": {
        "id": "1Q8hDaQTqxEM",
        "colab_type": "code",
        "colab": {}
      },
      "source": [
        "np.random.seed(1234)"
      ],
      "execution_count": 0,
      "outputs": []
    },
    {
      "cell_type": "markdown",
      "metadata": {
        "id": "azWUAholqxEP",
        "colab_type": "text"
      },
      "source": [
        "During the training, we will require a validation set, so we split the training data into two sets, one for actual training, the other for validation.  Note, we don't touch the test data set at all during the training process.  The default is using 75 % of the data for training, 25 % for validation. This function will also shuffle the data set prior to splitting (hence seeding the random number generator)."
      ]
    },
    {
      "cell_type": "code",
      "metadata": {
        "id": "W464pK-sqxEQ",
        "colab_type": "code",
        "colab": {}
      },
      "source": [
        "x_train, x_val, y_train, y_val = train_test_split(x_train, y_train)"
      ],
      "execution_count": 0,
      "outputs": []
    },
    {
      "cell_type": "code",
      "metadata": {
        "id": "05cdUzOMqxES",
        "colab_type": "code",
        "colab": {
          "base_uri": "https://localhost:8080/",
          "height": 119
        },
        "outputId": "5f2caffc-5f3b-4611-e537-4dfa5f728a87"
      },
      "source": [
        "x_train.shape, x_val.shape, x_train.dtype, y_train.shape, y_val.shape, y_train.dtype"
      ],
      "execution_count": 15,
      "outputs": [
        {
          "output_type": "execute_result",
          "data": {
            "text/plain": [
              "((45000, 28, 28, 1),\n",
              " (15000, 28, 28, 1),\n",
              " dtype('float32'),\n",
              " (45000, 10),\n",
              " (15000, 10),\n",
              " dtype('float32'))"
            ]
          },
          "metadata": {
            "tags": []
          },
          "execution_count": 15
        }
      ]
    },
    {
      "cell_type": "markdown",
      "metadata": {
        "id": "LMyrPzoHqxEY",
        "colab_type": "text"
      },
      "source": [
        "### Verification"
      ]
    },
    {
      "cell_type": "markdown",
      "metadata": {
        "id": "EzRTwDngqxEZ",
        "colab_type": "text"
      },
      "source": [
        "Since we've done quite some transformations, let's verify whether we didn't mess up."
      ]
    },
    {
      "cell_type": "code",
      "metadata": {
        "id": "v_Ysyp8wqxEa",
        "colab_type": "code",
        "colab": {
          "base_uri": "https://localhost:8080/",
          "height": 248
        },
        "outputId": "e4c9069f-05c0-4910-9cc2-054ed147d96d"
      },
      "source": [
        "frame = plt.gca()\n",
        "frame.axes.get_xaxis().set_visible(False)\n",
        "frame.axes.get_yaxis().set_visible(False)\n",
        "plt.imshow(x_train[0, :, :, 0], cmap='gray');"
      ],
      "execution_count": 16,
      "outputs": [
        {
          "output_type": "display_data",
          "data": {
            "image/png": "[encoded data removed]",
            "text/plain": [
              "<Figure size 432x288 with 1 Axes>"
            ]
          },
          "metadata": {
            "tags": []
          }
        }
      ]
    },
    {
      "cell_type": "code",
      "metadata": {
        "id": "u7P_nqh1qxEd",
        "colab_type": "code",
        "colab": {
          "base_uri": "https://localhost:8080/",
          "height": 34
        },
        "outputId": "3c56d844-372a-4545-bc23-e9f7254eb037"
      },
      "source": [
        "print(y_train[0])"
      ],
      "execution_count": 17,
      "outputs": [
        {
          "output_type": "stream",
          "text": [
            "  (0, 6)\t1.0\n"
          ],
          "name": "stdout"
        }
      ]
    },
    {
      "cell_type": "markdown",
      "metadata": {
        "id": "VhxpRIIFqxEh",
        "colab_type": "text"
      },
      "source": [
        "## Simple CNN"
      ]
    },
    {
      "cell_type": "markdown",
      "metadata": {
        "id": "i5xRRWjfqxEi",
        "colab_type": "text"
      },
      "source": [
        "We start with a very straightforward network with a single convolutional layer."
      ]
    },
    {
      "cell_type": "markdown",
      "metadata": {
        "id": "_99OaC-iqxEi",
        "colab_type": "text"
      },
      "source": [
        "### Required imports"
      ]
    },
    {
      "cell_type": "code",
      "metadata": {
        "id": "pXEYDCjhqxEj",
        "colab_type": "code",
        "colab": {}
      },
      "source": [
        "from keras.models import Sequential\n",
        "from keras.layers import Activation, Conv2D, Dense, Dropout, Flatten\n",
        "from keras.optimizers import SGD\n",
        "import tensorflow as tf"
      ],
      "execution_count": 0,
      "outputs": []
    },
    {
      "cell_type": "markdown",
      "metadata": {
        "id": "CVq32ELKqxEr",
        "colab_type": "text"
      },
      "source": [
        "Seed TensorFlow's random number generator."
      ]
    },
    {
      "cell_type": "code",
      "metadata": {
        "id": "AaZS1YfNqxEs",
        "colab_type": "code",
        "colab": {}
      },
      "source": [
        "tf.set_random_seed(40580)"
      ],
      "execution_count": 0,
      "outputs": []
    },
    {
      "cell_type": "markdown",
      "metadata": {
        "id": "IOlV7_JWqxEv",
        "colab_type": "text"
      },
      "source": [
        "### Model definition"
      ]
    },
    {
      "cell_type": "markdown",
      "metadata": {
        "id": "UT_I9oGsqxEv",
        "colab_type": "text"
      },
      "source": [
        "The network has 32 filters, each 3 $\\times$ 3 pixels in its convolutional layer, and a ReLU activation function. For the second, dense layer, the output of the convolutional layer is first flattened. The dense layer's activation function is SoftMax to determine the category for the image."
      ]
    },
    {
      "cell_type": "code",
      "metadata": {
        "id": "FipbpBIzqxEw",
        "colab_type": "code",
        "colab": {
          "base_uri": "https://localhost:8080/",
          "height": 88
        },
        "outputId": "1f315761-95cc-4fc3-fea9-821a232e70c1"
      },
      "source": [
        "nr_filters = 32\n",
        "nr_classes = 10\n",
        "conv_x_size, conv_y_size = 3, 3\n",
        "cnn_model = Sequential()\n",
        "cnn_model.add(Conv2D(nr_filters, (conv_x_size, conv_y_size), padding='valid',\n",
        "                     input_shape=shape_ord))\n",
        "cnn_model.add(Activation('relu'))\n",
        "cnn_model.add(Flatten())\n",
        "cnn_model.add(Dense(nr_classes))\n",
        "cnn_model.add(Activation('softmax'))"
      ],
      "execution_count": 20,
      "outputs": [
        {
          "output_type": "stream",
          "text": [
            "WARNING:tensorflow:From /usr/local/lib/python3.6/dist-packages/tensorflow/python/framework/op_def_library.py:263: colocate_with (from tensorflow.python.framework.ops) is deprecated and will be removed in a future version.\n",
            "Instructions for updating:\n",
            "Colocations handled automatically by placer.\n"
          ],
          "name": "stdout"
        }
      ]
    },
    {
      "cell_type": "code",
      "metadata": {
        "id": "MV5FFC-IqxE0",
        "colab_type": "code",
        "colab": {
          "base_uri": "https://localhost:8080/",
          "height": 306
        },
        "outputId": "1b4d9328-30c7-4e5b-af40-b17298cbf8dc"
      },
      "source": [
        "cnn_model.summary()"
      ],
      "execution_count": 21,
      "outputs": [
        {
          "output_type": "stream",
          "text": [
            "_________________________________________________________________\n",
            "Layer (type)                 Output Shape              Param #   \n",
            "=================================================================\n",
            "conv2d_1 (Conv2D)            (None, 26, 26, 32)        320       \n",
            "_________________________________________________________________\n",
            "activation_1 (Activation)    (None, 26, 26, 32)        0         \n",
            "_________________________________________________________________\n",
            "flatten_1 (Flatten)          (None, 21632)             0         \n",
            "_________________________________________________________________\n",
            "dense_1 (Dense)              (None, 10)                216330    \n",
            "_________________________________________________________________\n",
            "activation_2 (Activation)    (None, 10)                0         \n",
            "=================================================================\n",
            "Total params: 216,650\n",
            "Trainable params: 216,650\n",
            "Non-trainable params: 0\n",
            "_________________________________________________________________\n"
          ],
          "name": "stdout"
        }
      ]
    },
    {
      "cell_type": "code",
      "metadata": {
        "id": "HES92ClZqxE6",
        "colab_type": "code",
        "colab": {}
      },
      "source": [
        "cnn_hist = cnn_model.compile(loss='categorical_crossentropy',\n",
        "                             optimizer=SGD(lr=0.1, decay=1.0e-6, \n",
        "                                           momentum=0.9, nesterov=True),\n",
        "                             metrics=['accuracy'])"
      ],
      "execution_count": 0,
      "outputs": []
    },
    {
      "cell_type": "markdown",
      "metadata": {
        "id": "4pVlMkXYqxE9",
        "colab_type": "text"
      },
      "source": [
        "### Training"
      ]
    },
    {
      "cell_type": "code",
      "metadata": {
        "scrolled": false,
        "id": "0Xwz6yHPqxE-",
        "colab_type": "code",
        "colab": {
          "base_uri": "https://localhost:8080/",
          "height": 445
        },
        "outputId": "e9e0d701-b892-4457-9f51-f787ba746ffb"
      },
      "source": [
        "cnn_hist = cnn_model.fit(x_train, y_train, batch_size=32, epochs=10,\n",
        "                         verbose=1, validation_data=(x_val, y_val))"
      ],
      "execution_count": 23,
      "outputs": [
        {
          "output_type": "stream",
          "text": [
            "WARNING:tensorflow:From /usr/local/lib/python3.6/dist-packages/tensorflow/python/ops/math_ops.py:3066: to_int32 (from tensorflow.python.ops.math_ops) is deprecated and will be removed in a future version.\n",
            "Instructions for updating:\n",
            "Use tf.cast instead.\n",
            "Train on 45000 samples, validate on 15000 samples\n",
            "Epoch 1/10\n",
            "45000/45000 [==============================] - 11s 239us/step - loss: 0.1902 - acc: 0.9426 - val_loss: 0.1158 - val_acc: 0.9663\n",
            "Epoch 2/10\n",
            "45000/45000 [==============================] - 5s 122us/step - loss: 0.0866 - acc: 0.9729 - val_loss: 0.1407 - val_acc: 0.9615\n",
            "Epoch 3/10\n",
            "45000/45000 [==============================] - 5s 121us/step - loss: 0.0606 - acc: 0.9811 - val_loss: 0.1298 - val_acc: 0.9688\n",
            "Epoch 4/10\n",
            "45000/45000 [==============================] - 5s 122us/step - loss: 0.0425 - acc: 0.9868 - val_loss: 0.1076 - val_acc: 0.9701\n",
            "Epoch 5/10\n",
            "45000/45000 [==============================] - 5s 121us/step - loss: 0.0343 - acc: 0.9886 - val_loss: 0.1287 - val_acc: 0.9705\n",
            "Epoch 6/10\n",
            "45000/45000 [==============================] - 5s 122us/step - loss: 0.0289 - acc: 0.9908 - val_loss: 0.1297 - val_acc: 0.9711\n",
            "Epoch 7/10\n",
            "45000/45000 [==============================] - 5s 121us/step - loss: 0.0233 - acc: 0.9928 - val_loss: 0.1433 - val_acc: 0.9733\n",
            "Epoch 8/10\n",
            "45000/45000 [==============================] - 5s 121us/step - loss: 0.0202 - acc: 0.9940 - val_loss: 0.1451 - val_acc: 0.9721\n",
            "Epoch 9/10\n",
            "45000/45000 [==============================] - 5s 121us/step - loss: 0.0163 - acc: 0.9948 - val_loss: 0.1514 - val_acc: 0.9705\n",
            "Epoch 10/10\n",
            "45000/45000 [==============================] - 6s 122us/step - loss: 0.0179 - acc: 0.9942 - val_loss: 0.1469 - val_acc: 0.9751\n"
          ],
          "name": "stdout"
        }
      ]
    },
    {
      "cell_type": "code",
      "metadata": {
        "id": "eZtRIW2qqxFB",
        "colab_type": "code",
        "colab": {}
      },
      "source": [
        "def plot_history(network_history):\n",
        "    plt.figure()\n",
        "    plt.xlabel('Epochs')\n",
        "    plt.ylabel('Loss')\n",
        "    plt.plot(network_history.history['loss'])\n",
        "    plt.plot(network_history.history['val_loss'])\n",
        "    plt.legend(['Training', 'Validation'])\n",
        "    plt.figure()\n",
        "    plt.xlabel('Epochs')\n",
        "    plt.ylabel('Accuracy')\n",
        "    plt.plot(network_history.history['acc'])\n",
        "    plt.plot(network_history.history['val_acc'])\n",
        "    plt.legend(['Training', 'Validation'], loc='lower right')"
      ],
      "execution_count": 0,
      "outputs": []
    },
    {
      "cell_type": "code",
      "metadata": {
        "id": "BjTXFIJ2qxFE",
        "colab_type": "code",
        "colab": {
          "base_uri": "https://localhost:8080/",
          "height": 549
        },
        "outputId": "dfc8ddcd-038e-418a-abbf-6702bc92b467"
      },
      "source": [
        "plot_history(cnn_hist)"
      ],
      "execution_count": 25,
      "outputs": [
        {
          "output_type": "display_data",
          "data": {
            "image/png": "[encoded data removed]",
            "text/plain": [
              "<Figure size 432x288 with 1 Axes>"
            ]
          },
          "metadata": {
            "tags": []
          }
        },
        {
          "output_type": "display_data",
          "data": {
            "image/png": "[encoded data removed]",
            "text/plain": [
              "<Figure size 432x288 with 1 Axes>"
            ]
          },
          "metadata": {
            "tags": []
          }
        }
      ]
    },
    {
      "cell_type": "code",
      "metadata": {
        "id": "fkJuL7MoqxFG",
        "colab_type": "code",
        "colab": {
          "base_uri": "https://localhost:8080/",
          "height": 51
        },
        "outputId": "f6fabc84-85d3-434d-8e8d-a0947e5e2e4c"
      },
      "source": [
        "cnn_model.evaluate(x_test, y_test)"
      ],
      "execution_count": 26,
      "outputs": [
        {
          "output_type": "stream",
          "text": [
            "10000/10000 [==============================] - 1s 63us/step\n"
          ],
          "name": "stdout"
        },
        {
          "output_type": "execute_result",
          "data": {
            "text/plain": [
              "[0.14751214716108985, 0.974]"
            ]
          },
          "metadata": {
            "tags": []
          },
          "execution_count": 26
        }
      ]
    },
    {
      "cell_type": "markdown",
      "metadata": {
        "id": "pAvvRVrDqxFK",
        "colab_type": "text"
      },
      "source": [
        "Although the test accuracy is quite acceptable, the training accuracy is a lot higher, so most likely there is some overfitting."
      ]
    },
    {
      "cell_type": "code",
      "metadata": {
        "id": "ooIrcGprqxFL",
        "colab_type": "code",
        "colab": {}
      },
      "source": [
        "cnn_model.save('mnist_cnn.h5')"
      ],
      "execution_count": 0,
      "outputs": []
    },
    {
      "cell_type": "markdown",
      "metadata": {
        "id": "WEQaS5VrqxFN",
        "colab_type": "text"
      },
      "source": [
        "## More layers & dropout"
      ]
    },
    {
      "cell_type": "markdown",
      "metadata": {
        "id": "JXwuZrIgqxFO",
        "colab_type": "text"
      },
      "source": [
        "This model has an additional hidden layer to improve accuracy."
      ]
    },
    {
      "cell_type": "code",
      "metadata": {
        "id": "RTdZNqJgqxFO",
        "colab_type": "code",
        "colab": {
          "base_uri": "https://localhost:8080/",
          "height": 88
        },
        "outputId": "38f7b9a8-9576-4c1a-fec2-0667601b6f4d"
      },
      "source": [
        "nr_filters = 32\n",
        "nr_classes = 10\n",
        "conv_x_size, conv_y_size = 3, 3\n",
        "cnn_do_model = Sequential()\n",
        "cnn_do_model.add(Conv2D(nr_filters, (conv_x_size, conv_y_size), padding='valid',\n",
        "                     input_shape=shape_ord))\n",
        "cnn_do_model.add(Activation('relu'))\n",
        "cnn_do_model.add(Flatten())\n",
        "cnn_do_model.add(Dense(128))\n",
        "cnn_do_model.add(Activation('relu'))\n",
        "cnn_do_model.add(Dropout(0.1))\n",
        "cnn_do_model.add(Dense(nr_classes))\n",
        "cnn_do_model.add(Activation('softmax'))"
      ],
      "execution_count": 28,
      "outputs": [
        {
          "output_type": "stream",
          "text": [
            "WARNING:tensorflow:From /usr/local/lib/python3.6/dist-packages/keras/backend/tensorflow_backend.py:3445: calling dropout (from tensorflow.python.ops.nn_ops) with keep_prob is deprecated and will be removed in a future version.\n",
            "Instructions for updating:\n",
            "Please use `rate` instead of `keep_prob`. Rate should be set to `rate = 1 - keep_prob`.\n"
          ],
          "name": "stdout"
        }
      ]
    },
    {
      "cell_type": "code",
      "metadata": {
        "id": "kqufPbwhqxFR",
        "colab_type": "code",
        "colab": {
          "base_uri": "https://localhost:8080/",
          "height": 408
        },
        "outputId": "fbe13086-19e1-42df-b364-b66398d25fea"
      },
      "source": [
        "cnn_do_model.summary()"
      ],
      "execution_count": 29,
      "outputs": [
        {
          "output_type": "stream",
          "text": [
            "_________________________________________________________________\n",
            "Layer (type)                 Output Shape              Param #   \n",
            "=================================================================\n",
            "conv2d_2 (Conv2D)            (None, 26, 26, 32)        320       \n",
            "_________________________________________________________________\n",
            "activation_3 (Activation)    (None, 26, 26, 32)        0         \n",
            "_________________________________________________________________\n",
            "flatten_2 (Flatten)          (None, 21632)             0         \n",
            "_________________________________________________________________\n",
            "dense_2 (Dense)              (None, 128)               2769024   \n",
            "_________________________________________________________________\n",
            "activation_4 (Activation)    (None, 128)               0         \n",
            "_________________________________________________________________\n",
            "dropout_1 (Dropout)          (None, 128)               0         \n",
            "_________________________________________________________________\n",
            "dense_3 (Dense)              (None, 10)                1290      \n",
            "_________________________________________________________________\n",
            "activation_5 (Activation)    (None, 10)                0         \n",
            "=================================================================\n",
            "Total params: 2,770,634\n",
            "Trainable params: 2,770,634\n",
            "Non-trainable params: 0\n",
            "_________________________________________________________________\n"
          ],
          "name": "stdout"
        }
      ]
    },
    {
      "cell_type": "code",
      "metadata": {
        "id": "O-96Tt2-qxFU",
        "colab_type": "code",
        "colab": {}
      },
      "source": [
        "cnn_do_model.compile(loss='categorical_crossentropy',\n",
        "                     optimizer=SGD(),\n",
        "                     metrics=['accuracy'])"
      ],
      "execution_count": 0,
      "outputs": []
    },
    {
      "cell_type": "code",
      "metadata": {
        "id": "IkvW4CAMqxFX",
        "colab_type": "code",
        "colab": {
          "base_uri": "https://localhost:8080/",
          "height": 374
        },
        "outputId": "e1bdb278-6f08-4bb0-c66d-01a1da6b8946"
      },
      "source": [
        "cnn_do_hist = cnn_do_model.fit(x_train, y_train, batch_size=32, epochs=10,\n",
        "                               verbose=1, validation_data=(x_val, y_val))"
      ],
      "execution_count": 31,
      "outputs": [
        {
          "output_type": "stream",
          "text": [
            "Train on 45000 samples, validate on 15000 samples\n",
            "Epoch 1/10\n",
            "45000/45000 [==============================] - 7s 147us/step - loss: 0.4521 - acc: 0.8761 - val_loss: 0.2451 - val_acc: 0.9266\n",
            "Epoch 2/10\n",
            "45000/45000 [==============================] - 6s 139us/step - loss: 0.2088 - acc: 0.9395 - val_loss: 0.2071 - val_acc: 0.9371\n",
            "Epoch 3/10\n",
            "45000/45000 [==============================] - 7s 151us/step - loss: 0.1592 - acc: 0.9540 - val_loss: 0.1383 - val_acc: 0.9597\n",
            "Epoch 4/10\n",
            "45000/45000 [==============================] - 7s 155us/step - loss: 0.1357 - acc: 0.9599 - val_loss: 0.1281 - val_acc: 0.9613\n",
            "Epoch 5/10\n",
            "45000/45000 [==============================] - 6s 139us/step - loss: 0.1172 - acc: 0.9645 - val_loss: 0.1095 - val_acc: 0.9678\n",
            "Epoch 6/10\n",
            "45000/45000 [==============================] - 7s 150us/step - loss: 0.1043 - acc: 0.9685 - val_loss: 0.1065 - val_acc: 0.9676\n",
            "Epoch 7/10\n",
            "45000/45000 [==============================] - 7s 145us/step - loss: 0.0943 - acc: 0.9715 - val_loss: 0.0915 - val_acc: 0.9723\n",
            "Epoch 8/10\n",
            "45000/45000 [==============================] - 6s 139us/step - loss: 0.0863 - acc: 0.9738 - val_loss: 0.0885 - val_acc: 0.9739\n",
            "Epoch 9/10\n",
            "45000/45000 [==============================] - 6s 139us/step - loss: 0.0814 - acc: 0.9751 - val_loss: 0.0822 - val_acc: 0.9748\n",
            "Epoch 10/10\n",
            "45000/45000 [==============================] - 6s 139us/step - loss: 0.0738 - acc: 0.9768 - val_loss: 0.0826 - val_acc: 0.9749\n"
          ],
          "name": "stdout"
        }
      ]
    },
    {
      "cell_type": "code",
      "metadata": {
        "id": "DDRwiauZqxFe",
        "colab_type": "code",
        "colab": {
          "base_uri": "https://localhost:8080/",
          "height": 549
        },
        "outputId": "90d889e0-dee5-43bb-a4d1-ee5f9fc4cd7f"
      },
      "source": [
        "plot_history(cnn_do_hist)"
      ],
      "execution_count": 32,
      "outputs": [
        {
          "output_type": "display_data",
          "data": {
            "image/png": "[encoded data removed]",
            "text/plain": [
              "<Figure size 432x288 with 1 Axes>"
            ]
          },
          "metadata": {
            "tags": []
          }
        },
        {
          "output_type": "display_data",
          "data": {
            "image/png": "[encoded data removed]",
            "text/plain": [
              "<Figure size 432x288 with 1 Axes>"
            ]
          },
          "metadata": {
            "tags": []
          }
        }
      ]
    },
    {
      "cell_type": "code",
      "metadata": {
        "scrolled": true,
        "id": "k3-V9sFuqxFh",
        "colab_type": "code",
        "colab": {
          "base_uri": "https://localhost:8080/",
          "height": 51
        },
        "outputId": "49a6da9e-5859-4db6-a23b-f342680f695c"
      },
      "source": [
        "cnn_do_model.evaluate(x_test, y_test)"
      ],
      "execution_count": 33,
      "outputs": [
        {
          "output_type": "stream",
          "text": [
            "10000/10000 [==============================] - 1s 56us/step\n"
          ],
          "name": "stdout"
        },
        {
          "output_type": "execute_result",
          "data": {
            "text/plain": [
              "[0.0775438034596853, 0.9767]"
            ]
          },
          "metadata": {
            "tags": []
          },
          "execution_count": 33
        }
      ]
    },
    {
      "cell_type": "markdown",
      "metadata": {
        "id": "nwud0IKlqxFk",
        "colab_type": "text"
      },
      "source": [
        "Now the accuracies for training, validation and test data are more in line."
      ]
    },
    {
      "cell_type": "code",
      "metadata": {
        "id": "4feXt0MbqxFk",
        "colab_type": "code",
        "colab": {}
      },
      "source": [
        "cnn_do_model.save('mnist_cnn_do.h5')"
      ],
      "execution_count": 0,
      "outputs": []
    }
  ]
}
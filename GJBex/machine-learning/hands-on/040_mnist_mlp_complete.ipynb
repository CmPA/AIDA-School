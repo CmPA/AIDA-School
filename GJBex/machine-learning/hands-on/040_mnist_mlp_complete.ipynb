{
 "cells": [
  {
   "cell_type": "markdown",
   "metadata": {},
   "source": [
    "# MNIST: multilayer perceptrons"
   ]
  },
  {
   "cell_type": "markdown",
   "metadata": {},
   "source": [
    "Multilayer perceptrons (MLP) have been around for more than 25 years. They are suited to both regression and classification tasks. Here we will use a classic MLP to recognize handwritten digits (MNIST data set), as well as an MLP with a number of more recent twists."
   ]
  },
  {
   "cell_type": "markdown",
   "metadata": {},
   "source": [
    "## Data preparation"
   ]
  },
  {
   "cell_type": "markdown",
   "metadata": {},
   "source": [
    "### Required imports"
   ]
  },
  {
   "cell_type": "code",
   "execution_count": 24,
   "metadata": {},
   "outputs": [],
   "source": [
    "import keras\n",
    "from keras.datasets import mnist\n",
    "from sklearn.model_selection import train_test_split\n",
    "from sklearn.pipeline import Pipeline\n",
    "from sklearn.preprocessing import FunctionTransformer, OneHotEncoder\n",
    "import matplotlib.pyplot as plt\n",
    "%matplotlib inline\n",
    "import numpy as np"
   ]
  },
  {
   "cell_type": "markdown",
   "metadata": {},
   "source": [
    "### Obtaining the dataset"
   ]
  },
  {
   "cell_type": "markdown",
   "metadata": {},
   "source": [
    "In Keras' datasets module we have a handle to the MNIST dataset we want to use in this notebook.  Download the training and test set for this data."
   ]
  },
  {
   "cell_type": "code",
   "execution_count": 40,
   "metadata": {},
   "outputs": [],
   "source": [
    "(x_train, y_train), (x_test, y_test) = mnist.load_data()"
   ]
  },
  {
   "cell_type": "markdown",
   "metadata": {},
   "source": [
    "Before we can start doing machine learning on the data, some preparations are required.  In this case, the data set is clean, which simplifies this step considerably.  Although it would be better to create a pipeline using the scikit-learn framework, we'll do the preparation by hand in this case."
   ]
  },
  {
   "cell_type": "markdown",
   "metadata": {},
   "source": [
    "### Transforming the data"
   ]
  },
  {
   "cell_type": "markdown",
   "metadata": {},
   "source": [
    "Rather than use the 28 $\\times$ 28 images as input directly, we reshape each image to a 784 array."
   ]
  },
  {
   "cell_type": "code",
   "execution_count": 48,
   "metadata": {},
   "outputs": [],
   "source": [
    "input_reshaper = FunctionTransformer(lambda x: x.reshape(x.shape[0], -1),\n",
    "                                     validate=False)"
   ]
  },
  {
   "cell_type": "markdown",
   "metadata": {},
   "source": [
    "Most training algorithms work better if the input is normalized between 0 and 1."
   ]
  },
  {
   "cell_type": "code",
   "execution_count": 49,
   "metadata": {},
   "outputs": [],
   "source": [
    "input_normalizer = FunctionTransformer(lambda x: x.astype(np.float32)/255.0,\n",
    "                                       validate=True)"
   ]
  },
  {
   "cell_type": "markdown",
   "metadata": {},
   "source": [
    "Both preprocessing steps can be combined into a single pipeline."
   ]
  },
  {
   "cell_type": "code",
   "execution_count": 50,
   "metadata": {},
   "outputs": [],
   "source": [
    "input_pipeline = Pipeline([\n",
    "    ('reshaper', input_reshaper),\n",
    "    ('normalizer', input_normalizer),\n",
    "])"
   ]
  },
  {
   "cell_type": "markdown",
   "metadata": {},
   "source": [
    "We can now fit and transform the training input, and transform the testing input."
   ]
  },
  {
   "cell_type": "code",
   "execution_count": 76,
   "metadata": {},
   "outputs": [],
   "source": [
    "x_train = input_pipeline.fit_transform(x_train)\n",
    "x_test = input_pipeline.transform(x_test)"
   ]
  },
  {
   "cell_type": "markdown",
   "metadata": {},
   "source": [
    "The output can be transformed to categorical data, i.e., one category for each digit, rather than a `uint8`. This is a one-hot encoding, so the output is now an array consisting of a single 1.0 value, and nine 0.0 values.  Before calling the `OneHotEncoder`, the output array has to be reshaped.  Note that the type of the output is now `float64`, which we can reduce to `float32` to reduce memory requirements and speed up computations."
   ]
  },
  {
   "cell_type": "code",
   "execution_count": 62,
   "metadata": {},
   "outputs": [],
   "source": [
    "output_reshaper = FunctionTransformer(lambda x: x.reshape(-1, 1),\n",
    "                                      validate=False)"
   ]
  },
  {
   "cell_type": "code",
   "execution_count": 70,
   "metadata": {},
   "outputs": [],
   "source": [
    "output_encoder = OneHotEncoder(categories='auto')"
   ]
  },
  {
   "cell_type": "code",
   "execution_count": 71,
   "metadata": {},
   "outputs": [],
   "source": [
    "output_type_changer = FunctionTransformer(lambda x: x.astype(np.float32),\n",
    "                                          validate=False)"
   ]
  },
  {
   "cell_type": "code",
   "execution_count": 72,
   "metadata": {},
   "outputs": [],
   "source": [
    "output_pipeline = Pipeline([\n",
    "    ('reshaper', output_reshaper),\n",
    "    ('binarizer', output_encoder),\n",
    "    ('type_changer', output_type_changer),\n",
    "])"
   ]
  },
  {
   "cell_type": "markdown",
   "metadata": {},
   "source": [
    "Now the training output can be fit and transformed, and the testing output transformed accordingly."
   ]
  },
  {
   "cell_type": "code",
   "execution_count": 77,
   "metadata": {},
   "outputs": [],
   "source": [
    "y_train = output_pipeline.fit_transform(y_train)\n",
    "y_test = output_pipeline.transform(y_test)"
   ]
  },
  {
   "cell_type": "code",
   "execution_count": 78,
   "metadata": {},
   "outputs": [
    {
     "data": {
      "text/plain": [
       "(60000, 10)"
      ]
     },
     "execution_count": 78,
     "metadata": {},
     "output_type": "execute_result"
    }
   ],
   "source": [
    "y_train.shape"
   ]
  },
  {
   "cell_type": "code",
   "execution_count": 80,
   "metadata": {},
   "outputs": [
    {
     "name": "stdout",
     "output_type": "stream",
     "text": [
      "  (0, 5)\t1.0\n"
     ]
    }
   ],
   "source": [
    "print(y_train[0])"
   ]
  },
  {
   "cell_type": "markdown",
   "metadata": {},
   "source": [
    "Note that the encoding of the output is now a sparse array."
   ]
  },
  {
   "cell_type": "markdown",
   "metadata": {},
   "source": [
    "### Validation set"
   ]
  },
  {
   "cell_type": "markdown",
   "metadata": {},
   "source": [
    "In order to make this reproducible, we have to seed the random number generator."
   ]
  },
  {
   "cell_type": "code",
   "execution_count": 81,
   "metadata": {},
   "outputs": [],
   "source": [
    "np.random.seed(1234)"
   ]
  },
  {
   "cell_type": "markdown",
   "metadata": {},
   "source": [
    "During the training, we will require a validation set, so we split the training data into two sets, one for actual training, the other for validation.  Note, we don't touch the test data set at all during the training process.  The default is using 75 % of the data for training, 25 % for validation. This function will also shuffle the data set prior to splitting (hence seeding the random number generator)."
   ]
  },
  {
   "cell_type": "code",
   "execution_count": 82,
   "metadata": {},
   "outputs": [],
   "source": [
    "x_train, x_val, y_train, y_val = train_test_split(x_train, y_train)"
   ]
  },
  {
   "cell_type": "code",
   "execution_count": 83,
   "metadata": {},
   "outputs": [
    {
     "data": {
      "text/plain": [
       "((45000, 784), (15000, 784), (45000, 10), (15000, 10))"
      ]
     },
     "execution_count": 83,
     "metadata": {},
     "output_type": "execute_result"
    }
   ],
   "source": [
    "x_train.shape, x_val.shape, y_train.shape, y_val.shape"
   ]
  },
  {
   "cell_type": "markdown",
   "metadata": {},
   "source": [
    "### Verification"
   ]
  },
  {
   "cell_type": "markdown",
   "metadata": {},
   "source": [
    "Since we've done quite some transformations, let's verify whether we didn't mess up."
   ]
  },
  {
   "cell_type": "code",
   "execution_count": 84,
   "metadata": {},
   "outputs": [
    {
     "data": {
      "image/png": "[encoded data removed]",
      "text/plain": [
       "<Figure size 432x288 with 1 Axes>"
      ]
     },
     "metadata": {
      "needs_background": "light"
     },
     "output_type": "display_data"
    }
   ],
   "source": [
    "frame = plt.gca()\n",
    "frame.axes.get_xaxis().set_visible(False)\n",
    "frame.axes.get_yaxis().set_visible(False)\n",
    "plt.imshow(x_train[0].reshape(28, 28), cmap='gray');"
   ]
  },
  {
   "cell_type": "code",
   "execution_count": 86,
   "metadata": {},
   "outputs": [
    {
     "name": "stdout",
     "output_type": "stream",
     "text": [
      "  (0, 6)\t1.0\n"
     ]
    }
   ],
   "source": [
    "print(y_train[0])"
   ]
  },
  {
   "cell_type": "markdown",
   "metadata": {},
   "source": [
    "Everything seems fine, input/output are as expected, and we can start doing some machine learning."
   ]
  },
  {
   "cell_type": "markdown",
   "metadata": {},
   "source": [
    "## Classic multilayer perceptron (MLP)"
   ]
  },
  {
   "cell_type": "markdown",
   "metadata": {},
   "source": [
    "We start off training a classic multilayer neural network to familiarie ourselves with the keras framework."
   ]
  },
  {
   "cell_type": "markdown",
   "metadata": {},
   "source": [
    "### Required imports"
   ]
  },
  {
   "cell_type": "code",
   "execution_count": 87,
   "metadata": {},
   "outputs": [],
   "source": [
    "from keras.models import Sequential\n",
    "from keras.layers.core import Dense, Dropout\n",
    "from keras.optimizers import SGD\n",
    "from sklearn.metrics import confusion_matrix\n",
    "import tensorflow as tf"
   ]
  },
  {
   "cell_type": "markdown",
   "metadata": {},
   "source": [
    "### Model definition"
   ]
  },
  {
   "cell_type": "markdown",
   "metadata": {},
   "source": [
    "We will create a fully connected neural network with 784 input units (28 $\\times$ 28 pixels), two hidden layers with 512 units each, and an output layter with 10 units (ten categories, one per digit). For the two hidden layers, we will use a ReLU activation function, and a SoftMax for the output layer.\n",
    "\n",
    "To obtain repeatable results, we need to seed the random number generator, taking into account that TensorFlow uses its own."
   ]
  },
  {
   "cell_type": "code",
   "execution_count": 88,
   "metadata": {},
   "outputs": [],
   "source": [
    "np.random.seed(1234)\n",
    "tf.set_random_seed(4958)"
   ]
  },
  {
   "cell_type": "code",
   "execution_count": 89,
   "metadata": {},
   "outputs": [
    {
     "name": "stdout",
     "output_type": "stream",
     "text": [
      "WARNING:tensorflow:From /home/gjb/miniconda3/envs/prace_ml_cpu/lib/python3.7/site-packages/tensorflow/python/framework/op_def_library.py:263: colocate_with (from tensorflow.python.framework.ops) is deprecated and will be removed in a future version.\n",
      "Instructions for updating:\n",
      "Colocations handled automatically by placer.\n"
     ]
    }
   ],
   "source": [
    "model = Sequential()\n",
    "model.add(Dense(512, activation='relu', input_shape=(784,)))\n",
    "model.add(Dense(512, activation='relu'))\n",
    "model.add(Dense(10, activation='softmax'))"
   ]
  },
  {
   "cell_type": "code",
   "execution_count": 90,
   "metadata": {
    "scrolled": true
   },
   "outputs": [
    {
     "name": "stdout",
     "output_type": "stream",
     "text": [
      "_________________________________________________________________\n",
      "Layer (type)                 Output Shape              Param #   \n",
      "=================================================================\n",
      "dense_1 (Dense)              (None, 512)               401920    \n",
      "_________________________________________________________________\n",
      "dense_2 (Dense)              (None, 512)               262656    \n",
      "_________________________________________________________________\n",
      "dense_3 (Dense)              (None, 10)                5130      \n",
      "=================================================================\n",
      "Total params: 669,706\n",
      "Trainable params: 669,706\n",
      "Non-trainable params: 0\n",
      "_________________________________________________________________\n"
     ]
    }
   ],
   "source": [
    "model.summary()"
   ]
  },
  {
   "cell_type": "markdown",
   "metadata": {},
   "source": [
    "Now we can can compile the model, specifying the loss function (categorical cross-entropy), the optimizer (SGD, Stochastic Gradient Descent), and the metrics (accuracy) we want to use."
   ]
  },
  {
   "cell_type": "code",
   "execution_count": 91,
   "metadata": {},
   "outputs": [],
   "source": [
    "model.compile(loss='categorical_crossentropy', optimizer=SGD(), metrics=['accuracy'])"
   ]
  },
  {
   "cell_type": "markdown",
   "metadata": {},
   "source": [
    "### Training"
   ]
  },
  {
   "cell_type": "code",
   "execution_count": 92,
   "metadata": {
    "scrolled": true
   },
   "outputs": [
    {
     "name": "stdout",
     "output_type": "stream",
     "text": [
      "WARNING:tensorflow:From /home/gjb/miniconda3/envs/prace_ml_cpu/lib/python3.7/site-packages/tensorflow/python/ops/math_ops.py:3066: to_int32 (from tensorflow.python.ops.math_ops) is deprecated and will be removed in a future version.\n",
      "Instructions for updating:\n",
      "Use tf.cast instead.\n",
      "Train on 45000 samples, validate on 15000 samples\n",
      "Epoch 1/100\n",
      "45000/45000 [==============================] - 12s 266us/step - loss: 1.3129 - acc: 0.7310 - val_loss: 0.6717 - val_acc: 0.8516\n",
      "Epoch 2/100\n",
      "45000/45000 [==============================] - 9s 201us/step - loss: 0.5235 - acc: 0.8744 - val_loss: 0.4443 - val_acc: 0.8839\n",
      "Epoch 3/100\n",
      "45000/45000 [==============================] - 9s 209us/step - loss: 0.3984 - acc: 0.8934 - val_loss: 0.3751 - val_acc: 0.8960\n",
      "Epoch 4/100\n",
      "45000/45000 [==============================] - 9s 203us/step - loss: 0.3487 - acc: 0.9038 - val_loss: 0.3398 - val_acc: 0.9047\n",
      "Epoch 5/100\n",
      "45000/45000 [==============================] - 8s 187us/step - loss: 0.3189 - acc: 0.9112 - val_loss: 0.3179 - val_acc: 0.9081\n",
      "Epoch 6/100\n",
      "45000/45000 [==============================] - 10s 219us/step - loss: 0.2978 - acc: 0.9163 - val_loss: 0.2977 - val_acc: 0.9150\n",
      "Epoch 7/100\n",
      "45000/45000 [==============================] - 9s 200us/step - loss: 0.2811 - acc: 0.9213 - val_loss: 0.2847 - val_acc: 0.9189\n",
      "Epoch 8/100\n",
      "45000/45000 [==============================] - 9s 197us/step - loss: 0.2672 - acc: 0.9250 - val_loss: 0.2732 - val_acc: 0.9223\n",
      "Epoch 9/100\n",
      "45000/45000 [==============================] - 9s 197us/step - loss: 0.2554 - acc: 0.9286 - val_loss: 0.2619 - val_acc: 0.9255\n",
      "Epoch 10/100\n",
      "45000/45000 [==============================] - 9s 205us/step - loss: 0.2448 - acc: 0.9321 - val_loss: 0.2543 - val_acc: 0.9255\n",
      "Epoch 11/100\n",
      "45000/45000 [==============================] - 9s 200us/step - loss: 0.2354 - acc: 0.9340 - val_loss: 0.2451 - val_acc: 0.9287\n",
      "Epoch 12/100\n",
      "45000/45000 [==============================] - 9s 200us/step - loss: 0.2269 - acc: 0.9373 - val_loss: 0.2377 - val_acc: 0.9309\n",
      "Epoch 13/100\n",
      "45000/45000 [==============================] - 9s 202us/step - loss: 0.2187 - acc: 0.9395 - val_loss: 0.2312 - val_acc: 0.9328\n",
      "Epoch 14/100\n",
      "45000/45000 [==============================] - 10s 233us/step - loss: 0.2114 - acc: 0.9414 - val_loss: 0.2245 - val_acc: 0.9345\n",
      "Epoch 15/100\n",
      "45000/45000 [==============================] - 13s 278us/step - loss: 0.2046 - acc: 0.9430 - val_loss: 0.2182 - val_acc: 0.9357\n",
      "Epoch 16/100\n",
      "45000/45000 [==============================] - 10s 221us/step - loss: 0.1981 - acc: 0.9446 - val_loss: 0.2135 - val_acc: 0.9376\n",
      "Epoch 17/100\n",
      "45000/45000 [==============================] - 10s 233us/step - loss: 0.1921 - acc: 0.9463 - val_loss: 0.2075 - val_acc: 0.9399\n",
      "Epoch 18/100\n",
      "45000/45000 [==============================] - 10s 223us/step - loss: 0.1863 - acc: 0.9482 - val_loss: 0.2022 - val_acc: 0.9430\n",
      "Epoch 19/100\n",
      "45000/45000 [==============================] - 10s 216us/step - loss: 0.1810 - acc: 0.9491 - val_loss: 0.1976 - val_acc: 0.9444\n",
      "Epoch 20/100\n",
      "45000/45000 [==============================] - 10s 216us/step - loss: 0.1758 - acc: 0.9512 - val_loss: 0.1931 - val_acc: 0.9447\n",
      "Epoch 21/100\n",
      "45000/45000 [==============================] - 9s 209us/step - loss: 0.1709 - acc: 0.9523 - val_loss: 0.1900 - val_acc: 0.9451\n",
      "Epoch 22/100\n",
      "45000/45000 [==============================] - 9s 204us/step - loss: 0.1663 - acc: 0.9536 - val_loss: 0.1850 - val_acc: 0.9485\n",
      "Epoch 23/100\n",
      "45000/45000 [==============================] - 9s 200us/step - loss: 0.1617 - acc: 0.9546 - val_loss: 0.1807 - val_acc: 0.9491\n",
      "Epoch 24/100\n",
      "45000/45000 [==============================] - 10s 219us/step - loss: 0.1576 - acc: 0.9561 - val_loss: 0.1773 - val_acc: 0.9499\n",
      "Epoch 25/100\n",
      "45000/45000 [==============================] - 9s 199us/step - loss: 0.1535 - acc: 0.9570 - val_loss: 0.1745 - val_acc: 0.9497\n",
      "Epoch 26/100\n",
      "45000/45000 [==============================] - 9s 195us/step - loss: 0.1496 - acc: 0.9582 - val_loss: 0.1704 - val_acc: 0.9511\n",
      "Epoch 27/100\n",
      "45000/45000 [==============================] - 9s 192us/step - loss: 0.1457 - acc: 0.9596 - val_loss: 0.1674 - val_acc: 0.9519\n",
      "Epoch 28/100\n",
      "45000/45000 [==============================] - 9s 190us/step - loss: 0.1421 - acc: 0.9610 - val_loss: 0.1651 - val_acc: 0.9521\n",
      "Epoch 29/100\n",
      "45000/45000 [==============================] - 8s 189us/step - loss: 0.1389 - acc: 0.9617 - val_loss: 0.1613 - val_acc: 0.9531\n",
      "Epoch 30/100\n",
      "45000/45000 [==============================] - 8s 185us/step - loss: 0.1352 - acc: 0.9627 - val_loss: 0.1588 - val_acc: 0.9539\n",
      "Epoch 31/100\n",
      "45000/45000 [==============================] - 8s 189us/step - loss: 0.1324 - acc: 0.9642 - val_loss: 0.1552 - val_acc: 0.9547\n",
      "Epoch 32/100\n",
      "45000/45000 [==============================] - 9s 196us/step - loss: 0.1293 - acc: 0.9645 - val_loss: 0.1529 - val_acc: 0.9554\n",
      "Epoch 33/100\n",
      "45000/45000 [==============================] - 9s 209us/step - loss: 0.1263 - acc: 0.9652 - val_loss: 0.1504 - val_acc: 0.9563\n",
      "Epoch 34/100\n",
      "45000/45000 [==============================] - 8s 185us/step - loss: 0.1235 - acc: 0.9662 - val_loss: 0.1483 - val_acc: 0.9561\n",
      "Epoch 35/100\n",
      "45000/45000 [==============================] - 18s 401us/step - loss: 0.1207 - acc: 0.9669 - val_loss: 0.1470 - val_acc: 0.9573\n",
      "Epoch 36/100\n",
      "45000/45000 [==============================] - 14s 304us/step - loss: 0.1179 - acc: 0.9681 - val_loss: 0.1449 - val_acc: 0.9574\n",
      "Epoch 37/100\n",
      "45000/45000 [==============================] - 9s 197us/step - loss: 0.1157 - acc: 0.9683 - val_loss: 0.1411 - val_acc: 0.9586\n",
      "Epoch 38/100\n",
      "45000/45000 [==============================] - 15s 338us/step - loss: 0.1132 - acc: 0.9689 - val_loss: 0.1395 - val_acc: 0.9590\n",
      "Epoch 39/100\n",
      "45000/45000 [==============================] - 10s 219us/step - loss: 0.1107 - acc: 0.9695 - val_loss: 0.1378 - val_acc: 0.9597\n",
      "Epoch 40/100\n",
      "45000/45000 [==============================] - 8s 176us/step - loss: 0.1085 - acc: 0.9705 - val_loss: 0.1354 - val_acc: 0.9594\n",
      "Epoch 41/100\n",
      "45000/45000 [==============================] - 9s 199us/step - loss: 0.1063 - acc: 0.9714 - val_loss: 0.1337 - val_acc: 0.9610\n",
      "Epoch 42/100\n",
      "45000/45000 [==============================] - 10s 217us/step - loss: 0.1042 - acc: 0.9722 - val_loss: 0.1316 - val_acc: 0.9615\n",
      "Epoch 43/100\n",
      "45000/45000 [==============================] - 9s 193us/step - loss: 0.1021 - acc: 0.9723 - val_loss: 0.1306 - val_acc: 0.9611\n",
      "Epoch 44/100\n",
      "45000/45000 [==============================] - 8s 175us/step - loss: 0.0999 - acc: 0.9731 - val_loss: 0.1286 - val_acc: 0.9619\n",
      "Epoch 45/100\n",
      "45000/45000 [==============================] - 8s 188us/step - loss: 0.0980 - acc: 0.9738 - val_loss: 0.1268 - val_acc: 0.9622\n",
      "Epoch 46/100\n",
      "45000/45000 [==============================] - 9s 190us/step - loss: 0.0961 - acc: 0.9739 - val_loss: 0.1251 - val_acc: 0.9629\n",
      "Epoch 47/100\n",
      "45000/45000 [==============================] - 11s 238us/step - loss: 0.0943 - acc: 0.9743 - val_loss: 0.1230 - val_acc: 0.9641\n",
      "Epoch 48/100\n",
      "45000/45000 [==============================] - 15s 338us/step - loss: 0.0923 - acc: 0.9751 - val_loss: 0.1221 - val_acc: 0.9641\n",
      "Epoch 49/100\n",
      "45000/45000 [==============================] - 18s 400us/step - loss: 0.0906 - acc: 0.9760 - val_loss: 0.1202 - val_acc: 0.9641\n",
      "Epoch 50/100\n",
      "45000/45000 [==============================] - 10s 214us/step - loss: 0.0888 - acc: 0.9762 - val_loss: 0.1193 - val_acc: 0.9642\n",
      "Epoch 51/100\n",
      "45000/45000 [==============================] - 10s 225us/step - loss: 0.0872 - acc: 0.9769 - val_loss: 0.1183 - val_acc: 0.9648\n",
      "Epoch 52/100\n",
      "45000/45000 [==============================] - 8s 185us/step - loss: 0.0858 - acc: 0.9768 - val_loss: 0.1171 - val_acc: 0.9651\n",
      "Epoch 53/100\n",
      "45000/45000 [==============================] - 8s 180us/step - loss: 0.0841 - acc: 0.9773 - val_loss: 0.1154 - val_acc: 0.9656\n",
      "Epoch 54/100\n",
      "45000/45000 [==============================] - 9s 205us/step - loss: 0.0824 - acc: 0.9777 - val_loss: 0.1141 - val_acc: 0.9661\n",
      "Epoch 55/100\n",
      "45000/45000 [==============================] - 8s 178us/step - loss: 0.0810 - acc: 0.9786 - val_loss: 0.1126 - val_acc: 0.9670\n",
      "Epoch 56/100\n",
      "45000/45000 [==============================] - 8s 188us/step - loss: 0.0795 - acc: 0.9785 - val_loss: 0.1113 - val_acc: 0.9673\n",
      "Epoch 57/100\n",
      "45000/45000 [==============================] - 9s 203us/step - loss: 0.0781 - acc: 0.9791 - val_loss: 0.1112 - val_acc: 0.9674\n",
      "Epoch 58/100\n",
      "45000/45000 [==============================] - 9s 202us/step - loss: 0.0767 - acc: 0.9794 - val_loss: 0.1102 - val_acc: 0.9675\n",
      "Epoch 59/100\n",
      "45000/45000 [==============================] - 8s 182us/step - loss: 0.0753 - acc: 0.9798 - val_loss: 0.1087 - val_acc: 0.9673\n",
      "Epoch 60/100\n",
      "45000/45000 [==============================] - 9s 200us/step - loss: 0.0740 - acc: 0.9799 - val_loss: 0.1074 - val_acc: 0.9673\n",
      "Epoch 61/100\n",
      "45000/45000 [==============================] - 10s 212us/step - loss: 0.0727 - acc: 0.9802 - val_loss: 0.1068 - val_acc: 0.9678\n",
      "Epoch 62/100\n",
      "45000/45000 [==============================] - 9s 209us/step - loss: 0.0714 - acc: 0.9810 - val_loss: 0.1051 - val_acc: 0.9685\n",
      "Epoch 63/100\n",
      "45000/45000 [==============================] - 9s 191us/step - loss: 0.0702 - acc: 0.9813 - val_loss: 0.1048 - val_acc: 0.9684\n",
      "Epoch 64/100\n",
      "45000/45000 [==============================] - 9s 197us/step - loss: 0.0691 - acc: 0.9818 - val_loss: 0.1035 - val_acc: 0.9690\n",
      "Epoch 65/100\n",
      "45000/45000 [==============================] - 8s 186us/step - loss: 0.0678 - acc: 0.9819 - val_loss: 0.1022 - val_acc: 0.9684\n",
      "Epoch 66/100\n",
      "45000/45000 [==============================] - 8s 180us/step - loss: 0.0667 - acc: 0.9825 - val_loss: 0.1016 - val_acc: 0.9691\n",
      "Epoch 67/100\n",
      "45000/45000 [==============================] - 8s 177us/step - loss: 0.0655 - acc: 0.9831 - val_loss: 0.1011 - val_acc: 0.9699\n",
      "Epoch 68/100\n",
      "45000/45000 [==============================] - 8s 178us/step - loss: 0.0645 - acc: 0.9830 - val_loss: 0.0999 - val_acc: 0.9704\n",
      "Epoch 69/100\n",
      "45000/45000 [==============================] - 8s 184us/step - loss: 0.0633 - acc: 0.9837 - val_loss: 0.0995 - val_acc: 0.9699\n",
      "Epoch 70/100\n",
      "45000/45000 [==============================] - 9s 196us/step - loss: 0.0623 - acc: 0.9837 - val_loss: 0.0987 - val_acc: 0.9696\n",
      "Epoch 71/100\n",
      "45000/45000 [==============================] - 9s 194us/step - loss: 0.0612 - acc: 0.9840 - val_loss: 0.0983 - val_acc: 0.9707\n",
      "Epoch 72/100\n",
      "45000/45000 [==============================] - 9s 195us/step - loss: 0.0602 - acc: 0.9845 - val_loss: 0.0973 - val_acc: 0.9709\n",
      "Epoch 73/100\n",
      "45000/45000 [==============================] - 9s 208us/step - loss: 0.0593 - acc: 0.9846 - val_loss: 0.0968 - val_acc: 0.9711\n",
      "Epoch 74/100\n",
      "45000/45000 [==============================] - 12s 264us/step - loss: 0.0583 - acc: 0.9853 - val_loss: 0.0955 - val_acc: 0.9711\n",
      "Epoch 75/100\n",
      "45000/45000 [==============================] - 11s 254us/step - loss: 0.0573 - acc: 0.9855 - val_loss: 0.0948 - val_acc: 0.9713\n",
      "Epoch 76/100\n",
      "45000/45000 [==============================] - 12s 265us/step - loss: 0.0563 - acc: 0.9856 - val_loss: 0.0946 - val_acc: 0.9717\n",
      "Epoch 77/100\n",
      "45000/45000 [==============================] - 8s 184us/step - loss: 0.0555 - acc: 0.9858 - val_loss: 0.0933 - val_acc: 0.9713\n",
      "Epoch 78/100\n",
      "45000/45000 [==============================] - 9s 198us/step - loss: 0.0545 - acc: 0.9862 - val_loss: 0.0939 - val_acc: 0.9708\n",
      "Epoch 79/100\n",
      "45000/45000 [==============================] - 10s 212us/step - loss: 0.0537 - acc: 0.9867 - val_loss: 0.0924 - val_acc: 0.9712\n",
      "Epoch 80/100\n",
      "45000/45000 [==============================] - 12s 256us/step - loss: 0.0528 - acc: 0.9866 - val_loss: 0.0914 - val_acc: 0.9717\n",
      "Epoch 81/100\n",
      "45000/45000 [==============================] - 12s 269us/step - loss: 0.0521 - acc: 0.9873 - val_loss: 0.0910 - val_acc: 0.9719\n",
      "Epoch 82/100\n",
      "45000/45000 [==============================] - 12s 256us/step - loss: 0.0511 - acc: 0.9874 - val_loss: 0.0914 - val_acc: 0.9724\n",
      "Epoch 83/100\n",
      "45000/45000 [==============================] - 11s 245us/step - loss: 0.0503 - acc: 0.9878 - val_loss: 0.0908 - val_acc: 0.9721\n",
      "Epoch 84/100\n",
      "45000/45000 [==============================] - 11s 244us/step - loss: 0.0496 - acc: 0.9877 - val_loss: 0.0897 - val_acc: 0.9725\n",
      "Epoch 85/100\n",
      "45000/45000 [==============================] - 10s 233us/step - loss: 0.0488 - acc: 0.9882 - val_loss: 0.0889 - val_acc: 0.9722\n",
      "Epoch 86/100\n",
      "45000/45000 [==============================] - 8s 183us/step - loss: 0.0480 - acc: 0.9884 - val_loss: 0.0883 - val_acc: 0.9728\n",
      "Epoch 87/100\n",
      "45000/45000 [==============================] - 9s 197us/step - loss: 0.0472 - acc: 0.9886 - val_loss: 0.0881 - val_acc: 0.9727\n",
      "Epoch 88/100\n",
      "45000/45000 [==============================] - 8s 182us/step - loss: 0.0466 - acc: 0.9887 - val_loss: 0.0873 - val_acc: 0.9730\n",
      "Epoch 89/100\n",
      "45000/45000 [==============================] - 8s 180us/step - loss: 0.0459 - acc: 0.9888 - val_loss: 0.0870 - val_acc: 0.9729\n",
      "Epoch 90/100\n",
      "45000/45000 [==============================] - 8s 179us/step - loss: 0.0451 - acc: 0.9892 - val_loss: 0.0867 - val_acc: 0.9733\n",
      "Epoch 91/100\n",
      "45000/45000 [==============================] - 8s 184us/step - loss: 0.0444 - acc: 0.9896 - val_loss: 0.0865 - val_acc: 0.9735\n",
      "Epoch 92/100\n",
      "45000/45000 [==============================] - 8s 180us/step - loss: 0.0437 - acc: 0.9897 - val_loss: 0.0862 - val_acc: 0.9734\n",
      "Epoch 93/100\n",
      "45000/45000 [==============================] - 8s 177us/step - loss: 0.0430 - acc: 0.9896 - val_loss: 0.0852 - val_acc: 0.9730\n",
      "Epoch 94/100\n",
      "45000/45000 [==============================] - 8s 189us/step - loss: 0.0424 - acc: 0.9900 - val_loss: 0.0849 - val_acc: 0.9735\n",
      "Epoch 95/100\n",
      "45000/45000 [==============================] - 8s 186us/step - loss: 0.0417 - acc: 0.9901 - val_loss: 0.0852 - val_acc: 0.9734\n",
      "Epoch 96/100\n",
      "45000/45000 [==============================] - 8s 182us/step - loss: 0.0411 - acc: 0.9902 - val_loss: 0.0846 - val_acc: 0.9733\n",
      "Epoch 97/100\n",
      "45000/45000 [==============================] - 8s 173us/step - loss: 0.0405 - acc: 0.9906 - val_loss: 0.0847 - val_acc: 0.9736\n",
      "Epoch 98/100\n",
      "45000/45000 [==============================] - 8s 181us/step - loss: 0.0398 - acc: 0.9909 - val_loss: 0.0838 - val_acc: 0.9737\n",
      "Epoch 99/100\n",
      "45000/45000 [==============================] - 8s 183us/step - loss: 0.0391 - acc: 0.9909 - val_loss: 0.0846 - val_acc: 0.9741\n",
      "Epoch 100/100\n",
      "45000/45000 [==============================] - 8s 179us/step - loss: 0.0387 - acc: 0.9913 - val_loss: 0.0832 - val_acc: 0.9737\n"
     ]
    }
   ],
   "source": [
    "model_history = model.fit(x_train, y_train, batch_size=128, epochs=100,\n",
    "                          verbose=1, validation_data=(x_val, y_val))"
   ]
  },
  {
   "cell_type": "markdown",
   "metadata": {},
   "source": [
    "Plot the history of the training process."
   ]
  },
  {
   "cell_type": "code",
   "execution_count": 93,
   "metadata": {},
   "outputs": [],
   "source": [
    "def plot_history(network_history):\n",
    "    plt.figure()\n",
    "    plt.xlabel('Epochs')\n",
    "    plt.ylabel('Loss')\n",
    "    plt.plot(network_history.history['loss'])\n",
    "    plt.plot(network_history.history['val_loss'])\n",
    "    plt.legend(['Training', 'Validation'])\n",
    "\n",
    "    plt.figure()\n",
    "    plt.xlabel('Epochs')\n",
    "    plt.ylabel('Accuracy')\n",
    "    plt.plot(network_history.history['acc'])\n",
    "    plt.plot(network_history.history['val_acc'])\n",
    "    plt.legend(['Training', 'Validation'], loc='lower right')"
   ]
  },
  {
   "cell_type": "code",
   "execution_count": 94,
   "metadata": {
    "scrolled": true
   },
   "outputs": [
    {
     "data": {
      "image/png": "[encoded data removed]",
      "text/plain": [
       "<Figure size 432x288 with 1 Axes>"
      ]
     },
     "metadata": {
      "needs_background": "light"
     },
     "output_type": "display_data"
    },
    {
     "data": {
      "image/png": "[encoded data removed]",
      "text/plain": [
       "<Figure size 432x288 with 1 Axes>"
      ]
     },
     "metadata": {
      "needs_background": "light"
     },
     "output_type": "display_data"
    }
   ],
   "source": [
    "plot_history(model_history)"
   ]
  },
  {
   "cell_type": "markdown",
   "metadata": {},
   "source": [
    "Let's compare the performance of the model on the training, validation and test set."
   ]
  },
  {
   "cell_type": "code",
   "execution_count": 96,
   "metadata": {},
   "outputs": [
    {
     "name": "stdout",
     "output_type": "stream",
     "text": [
      "45000/45000 [==============================] - 7s 146us/step\n"
     ]
    },
    {
     "data": {
      "text/plain": [
       "[0.03747614946882758, 0.9914888888888889]"
      ]
     },
     "execution_count": 96,
     "metadata": {},
     "output_type": "execute_result"
    }
   ],
   "source": [
    "model.evaluate(x_train, y_train)"
   ]
  },
  {
   "cell_type": "code",
   "execution_count": 97,
   "metadata": {},
   "outputs": [
    {
     "name": "stdout",
     "output_type": "stream",
     "text": [
      "15000/15000 [==============================] - 2s 138us/step\n"
     ]
    },
    {
     "data": {
      "text/plain": [
       "[0.08315356532086929, 0.9736666666666667]"
      ]
     },
     "execution_count": 97,
     "metadata": {},
     "output_type": "execute_result"
    }
   ],
   "source": [
    "model.evaluate(x_val, y_val)"
   ]
  },
  {
   "cell_type": "code",
   "execution_count": 98,
   "metadata": {
    "scrolled": false
   },
   "outputs": [
    {
     "name": "stdout",
     "output_type": "stream",
     "text": [
      "10000/10000 [==============================] - 2s 157us/step\n"
     ]
    },
    {
     "data": {
      "text/plain": [
       "[0.08021378223784267, 0.9755]"
      ]
     },
     "execution_count": 98,
     "metadata": {},
     "output_type": "execute_result"
    }
   ],
   "source": [
    "model.evaluate(x_test, y_test)"
   ]
  },
  {
   "cell_type": "markdown",
   "metadata": {},
   "source": [
    "### Save model"
   ]
  },
  {
   "cell_type": "markdown",
   "metadata": {},
   "source": [
    "We can save the model as an HDF5 file so that it can later be reloaded."
   ]
  },
  {
   "cell_type": "code",
   "execution_count": 99,
   "metadata": {},
   "outputs": [],
   "source": [
    "model.save('mnist_mlp.h5')"
   ]
  },
  {
   "cell_type": "markdown",
   "metadata": {},
   "source": [
    "### Dropout layers"
   ]
  },
  {
   "cell_type": "markdown",
   "metadata": {},
   "source": [
    "In order to reduce overfitting, drop out can be applied, i.e., randomly setting input values to 0 during training. We add a drop-out layer between the hidden layers, and between the last hidden layer and the output layer."
   ]
  },
  {
   "cell_type": "code",
   "execution_count": 24,
   "metadata": {},
   "outputs": [],
   "source": [
    "np.random.seed(1234)"
   ]
  },
  {
   "cell_type": "code",
   "execution_count": 25,
   "metadata": {},
   "outputs": [],
   "source": [
    "dropout_model = Sequential()\n",
    "dropout_model.add(Dense(512, activation='relu', input_shape=(784,)))\n",
    "dropout_model.add(Dropout(0.2))\n",
    "dropout_model.add(Dense(512, activation='relu'))\n",
    "dropout_model.add(Dropout(0.2))\n",
    "dropout_model.add(Dense(10, activation='softmax'))"
   ]
  },
  {
   "cell_type": "code",
   "execution_count": 26,
   "metadata": {
    "scrolled": true
   },
   "outputs": [
    {
     "name": "stdout",
     "output_type": "stream",
     "text": [
      "_________________________________________________________________\n",
      "Layer (type)                 Output Shape              Param #   \n",
      "=================================================================\n",
      "dense_4 (Dense)              (None, 512)               401920    \n",
      "_________________________________________________________________\n",
      "dropout_1 (Dropout)          (None, 512)               0         \n",
      "_________________________________________________________________\n",
      "dense_5 (Dense)              (None, 512)               262656    \n",
      "_________________________________________________________________\n",
      "dropout_2 (Dropout)          (None, 512)               0         \n",
      "_________________________________________________________________\n",
      "dense_6 (Dense)              (None, 10)                5130      \n",
      "=================================================================\n",
      "Total params: 669,706\n",
      "Trainable params: 669,706\n",
      "Non-trainable params: 0\n",
      "_________________________________________________________________\n"
     ]
    }
   ],
   "source": [
    "dropout_model.summary()"
   ]
  },
  {
   "cell_type": "code",
   "execution_count": 27,
   "metadata": {},
   "outputs": [],
   "source": [
    "dropout_model.compile(loss='categorical_crossentropy', optimizer=SGD(),\n",
    "                      metrics=['accuracy'])"
   ]
  },
  {
   "cell_type": "code",
   "execution_count": 28,
   "metadata": {
    "scrolled": true
   },
   "outputs": [
    {
     "name": "stdout",
     "output_type": "stream",
     "text": [
      "Train on 45000 samples, validate on 15000 samples\n",
      "Epoch 1/100\n",
      "45000/45000 [==============================] - 2s 33us/step - loss: 1.4015 - acc: 0.6426 - val_loss: 0.6975 - val_acc: 0.8425\n",
      "Epoch 2/100\n",
      "45000/45000 [==============================] - 1s 16us/step - loss: 0.6182 - acc: 0.8328 - val_loss: 0.4562 - val_acc: 0.8774\n",
      "Epoch 3/100\n",
      "45000/45000 [==============================] - 1s 16us/step - loss: 0.4764 - acc: 0.8641 - val_loss: 0.3831 - val_acc: 0.8941\n",
      "Epoch 4/100\n",
      "45000/45000 [==============================] - 1s 16us/step - loss: 0.4160 - acc: 0.8804 - val_loss: 0.3465 - val_acc: 0.9018\n",
      "Epoch 5/100\n",
      "45000/45000 [==============================] - 1s 16us/step - loss: 0.3787 - acc: 0.8913 - val_loss: 0.3224 - val_acc: 0.9059\n",
      "Epoch 6/100\n",
      "45000/45000 [==============================] - 1s 16us/step - loss: 0.3541 - acc: 0.8979 - val_loss: 0.3022 - val_acc: 0.9123\n",
      "Epoch 7/100\n",
      "45000/45000 [==============================] - 1s 16us/step - loss: 0.3328 - acc: 0.9042 - val_loss: 0.2879 - val_acc: 0.9155\n",
      "Epoch 8/100\n",
      "45000/45000 [==============================] - 1s 16us/step - loss: 0.3159 - acc: 0.9084 - val_loss: 0.2753 - val_acc: 0.9198\n",
      "Epoch 9/100\n",
      "45000/45000 [==============================] - 1s 16us/step - loss: 0.2999 - acc: 0.9129 - val_loss: 0.2643 - val_acc: 0.9218\n",
      "Epoch 10/100\n",
      "45000/45000 [==============================] - 1s 16us/step - loss: 0.2878 - acc: 0.9174 - val_loss: 0.2537 - val_acc: 0.9257\n",
      "Epoch 11/100\n",
      "45000/45000 [==============================] - 1s 16us/step - loss: 0.2744 - acc: 0.9201 - val_loss: 0.2452 - val_acc: 0.9276\n",
      "Epoch 12/100\n",
      "45000/45000 [==============================] - 1s 16us/step - loss: 0.2641 - acc: 0.9252 - val_loss: 0.2368 - val_acc: 0.9302\n",
      "Epoch 13/100\n",
      "45000/45000 [==============================] - 1s 16us/step - loss: 0.2554 - acc: 0.9271 - val_loss: 0.2301 - val_acc: 0.9324\n",
      "Epoch 14/100\n",
      "45000/45000 [==============================] - 1s 16us/step - loss: 0.2467 - acc: 0.9290 - val_loss: 0.2220 - val_acc: 0.9345\n",
      "Epoch 15/100\n",
      "45000/45000 [==============================] - 1s 16us/step - loss: 0.2377 - acc: 0.9316 - val_loss: 0.2153 - val_acc: 0.9371\n",
      "Epoch 16/100\n",
      "45000/45000 [==============================] - 1s 16us/step - loss: 0.2295 - acc: 0.9336 - val_loss: 0.2096 - val_acc: 0.9383\n",
      "Epoch 17/100\n",
      "45000/45000 [==============================] - 1s 16us/step - loss: 0.2226 - acc: 0.9359 - val_loss: 0.2039 - val_acc: 0.9405\n",
      "Epoch 18/100\n",
      "45000/45000 [==============================] - 1s 16us/step - loss: 0.2174 - acc: 0.9383 - val_loss: 0.1980 - val_acc: 0.9421\n",
      "Epoch 19/100\n",
      "45000/45000 [==============================] - 1s 16us/step - loss: 0.2088 - acc: 0.9406 - val_loss: 0.1933 - val_acc: 0.9428\n",
      "Epoch 20/100\n",
      "45000/45000 [==============================] - 1s 16us/step - loss: 0.2028 - acc: 0.9431 - val_loss: 0.1884 - val_acc: 0.9442\n",
      "Epoch 21/100\n",
      "45000/45000 [==============================] - 1s 16us/step - loss: 0.1990 - acc: 0.9432 - val_loss: 0.1849 - val_acc: 0.9452\n",
      "Epoch 22/100\n",
      "45000/45000 [==============================] - 1s 16us/step - loss: 0.1906 - acc: 0.9454 - val_loss: 0.1800 - val_acc: 0.9463\n",
      "Epoch 23/100\n",
      "45000/45000 [==============================] - 1s 16us/step - loss: 0.1860 - acc: 0.9466 - val_loss: 0.1758 - val_acc: 0.9485\n",
      "Epoch 24/100\n",
      "45000/45000 [==============================] - 1s 16us/step - loss: 0.1826 - acc: 0.9475 - val_loss: 0.1724 - val_acc: 0.9487\n",
      "Epoch 25/100\n",
      "45000/45000 [==============================] - 1s 17us/step - loss: 0.1800 - acc: 0.9484 - val_loss: 0.1691 - val_acc: 0.9499\n",
      "Epoch 26/100\n",
      "45000/45000 [==============================] - 1s 17us/step - loss: 0.1732 - acc: 0.9497 - val_loss: 0.1654 - val_acc: 0.9506\n",
      "Epoch 27/100\n",
      "45000/45000 [==============================] - 1s 17us/step - loss: 0.1704 - acc: 0.9508 - val_loss: 0.1621 - val_acc: 0.9516\n",
      "Epoch 28/100\n",
      "45000/45000 [==============================] - 1s 17us/step - loss: 0.1667 - acc: 0.9522 - val_loss: 0.1585 - val_acc: 0.9522\n",
      "Epoch 29/100\n",
      "45000/45000 [==============================] - 1s 16us/step - loss: 0.1641 - acc: 0.9510 - val_loss: 0.1560 - val_acc: 0.9538\n",
      "Epoch 30/100\n",
      "45000/45000 [==============================] - 1s 16us/step - loss: 0.1599 - acc: 0.9543 - val_loss: 0.1534 - val_acc: 0.9539\n",
      "Epoch 31/100\n",
      "45000/45000 [==============================] - 1s 16us/step - loss: 0.1562 - acc: 0.9558 - val_loss: 0.1502 - val_acc: 0.9557\n",
      "Epoch 32/100\n",
      "45000/45000 [==============================] - 1s 16us/step - loss: 0.1536 - acc: 0.9555 - val_loss: 0.1483 - val_acc: 0.9554\n",
      "Epoch 33/100\n",
      "45000/45000 [==============================] - 1s 16us/step - loss: 0.1492 - acc: 0.9566 - val_loss: 0.1455 - val_acc: 0.9566\n",
      "Epoch 34/100\n",
      "45000/45000 [==============================] - 1s 16us/step - loss: 0.1492 - acc: 0.9566 - val_loss: 0.1431 - val_acc: 0.9569\n",
      "Epoch 35/100\n",
      "45000/45000 [==============================] - 1s 16us/step - loss: 0.1461 - acc: 0.9584 - val_loss: 0.1414 - val_acc: 0.9578\n",
      "Epoch 36/100\n",
      "45000/45000 [==============================] - 1s 16us/step - loss: 0.1416 - acc: 0.9596 - val_loss: 0.1391 - val_acc: 0.9581\n",
      "Epoch 37/100\n",
      "45000/45000 [==============================] - 1s 16us/step - loss: 0.1387 - acc: 0.9603 - val_loss: 0.1366 - val_acc: 0.9586\n",
      "Epoch 38/100\n",
      "45000/45000 [==============================] - 1s 16us/step - loss: 0.1361 - acc: 0.9606 - val_loss: 0.1349 - val_acc: 0.9593\n",
      "Epoch 39/100\n",
      "45000/45000 [==============================] - 1s 16us/step - loss: 0.1348 - acc: 0.9602 - val_loss: 0.1330 - val_acc: 0.9598\n",
      "Epoch 40/100\n",
      "45000/45000 [==============================] - 1s 16us/step - loss: 0.1320 - acc: 0.9620 - val_loss: 0.1311 - val_acc: 0.9597\n",
      "Epoch 41/100\n",
      "45000/45000 [==============================] - 1s 16us/step - loss: 0.1305 - acc: 0.9619 - val_loss: 0.1293 - val_acc: 0.9605\n",
      "Epoch 42/100\n",
      "45000/45000 [==============================] - 1s 16us/step - loss: 0.1290 - acc: 0.9630 - val_loss: 0.1273 - val_acc: 0.9605\n",
      "Epoch 43/100\n",
      "45000/45000 [==============================] - 1s 16us/step - loss: 0.1255 - acc: 0.9631 - val_loss: 0.1258 - val_acc: 0.9614\n",
      "Epoch 44/100\n",
      "45000/45000 [==============================] - 1s 16us/step - loss: 0.1243 - acc: 0.9644 - val_loss: 0.1243 - val_acc: 0.9616\n",
      "Epoch 45/100\n",
      "45000/45000 [==============================] - 1s 16us/step - loss: 0.1213 - acc: 0.9647 - val_loss: 0.1222 - val_acc: 0.9619\n",
      "Epoch 46/100\n",
      "45000/45000 [==============================] - 1s 16us/step - loss: 0.1188 - acc: 0.9658 - val_loss: 0.1210 - val_acc: 0.9623\n",
      "Epoch 47/100\n",
      "45000/45000 [==============================] - 1s 16us/step - loss: 0.1165 - acc: 0.9664 - val_loss: 0.1191 - val_acc: 0.9626\n",
      "Epoch 48/100\n",
      "45000/45000 [==============================] - 1s 16us/step - loss: 0.1171 - acc: 0.9663 - val_loss: 0.1183 - val_acc: 0.9635\n",
      "Epoch 49/100\n",
      "45000/45000 [==============================] - 1s 16us/step - loss: 0.1143 - acc: 0.9672 - val_loss: 0.1169 - val_acc: 0.9631\n",
      "Epoch 50/100\n",
      "45000/45000 [==============================] - 1s 16us/step - loss: 0.1116 - acc: 0.9676 - val_loss: 0.1160 - val_acc: 0.9639\n",
      "Epoch 51/100\n",
      "45000/45000 [==============================] - 1s 16us/step - loss: 0.1125 - acc: 0.9678 - val_loss: 0.1147 - val_acc: 0.9643\n",
      "Epoch 52/100\n",
      "45000/45000 [==============================] - 1s 17us/step - loss: 0.1091 - acc: 0.9687 - val_loss: 0.1129 - val_acc: 0.9645\n",
      "Epoch 53/100\n",
      "45000/45000 [==============================] - 1s 17us/step - loss: 0.1073 - acc: 0.9689 - val_loss: 0.1116 - val_acc: 0.9646\n",
      "Epoch 54/100\n",
      "45000/45000 [==============================] - 1s 17us/step - loss: 0.1056 - acc: 0.9699 - val_loss: 0.1101 - val_acc: 0.9650\n",
      "Epoch 55/100\n",
      "45000/45000 [==============================] - 1s 17us/step - loss: 0.1056 - acc: 0.9694 - val_loss: 0.1090 - val_acc: 0.9654\n",
      "Epoch 56/100\n",
      "45000/45000 [==============================] - 1s 16us/step - loss: 0.1026 - acc: 0.9712 - val_loss: 0.1077 - val_acc: 0.9664\n",
      "Epoch 57/100\n",
      "45000/45000 [==============================] - 1s 16us/step - loss: 0.1014 - acc: 0.9712 - val_loss: 0.1070 - val_acc: 0.9665\n",
      "Epoch 58/100\n",
      "45000/45000 [==============================] - 1s 16us/step - loss: 0.0991 - acc: 0.9710 - val_loss: 0.1059 - val_acc: 0.9665\n",
      "Epoch 59/100\n",
      "45000/45000 [==============================] - 1s 16us/step - loss: 0.0977 - acc: 0.9720 - val_loss: 0.1050 - val_acc: 0.9667\n",
      "Epoch 60/100\n",
      "45000/45000 [==============================] - 1s 16us/step - loss: 0.0985 - acc: 0.9708 - val_loss: 0.1034 - val_acc: 0.9675\n",
      "Epoch 61/100\n",
      "45000/45000 [==============================] - 1s 16us/step - loss: 0.0971 - acc: 0.9719 - val_loss: 0.1029 - val_acc: 0.9677\n",
      "Epoch 62/100\n",
      "45000/45000 [==============================] - 1s 16us/step - loss: 0.0960 - acc: 0.9726 - val_loss: 0.1016 - val_acc: 0.9679\n",
      "Epoch 63/100\n",
      "45000/45000 [==============================] - 1s 16us/step - loss: 0.0932 - acc: 0.9736 - val_loss: 0.1007 - val_acc: 0.9681\n",
      "Epoch 64/100\n",
      "45000/45000 [==============================] - 1s 16us/step - loss: 0.0922 - acc: 0.9730 - val_loss: 0.1001 - val_acc: 0.9687\n",
      "Epoch 65/100\n",
      "45000/45000 [==============================] - 1s 16us/step - loss: 0.0918 - acc: 0.9734 - val_loss: 0.0990 - val_acc: 0.9689\n",
      "Epoch 66/100\n",
      "45000/45000 [==============================] - 1s 16us/step - loss: 0.0903 - acc: 0.9733 - val_loss: 0.0983 - val_acc: 0.9691\n",
      "Epoch 67/100\n",
      "45000/45000 [==============================] - 1s 16us/step - loss: 0.0891 - acc: 0.9741 - val_loss: 0.0979 - val_acc: 0.9698\n",
      "Epoch 68/100\n",
      "45000/45000 [==============================] - 1s 16us/step - loss: 0.0878 - acc: 0.9750 - val_loss: 0.0967 - val_acc: 0.9693\n",
      "Epoch 69/100\n",
      "45000/45000 [==============================] - 1s 16us/step - loss: 0.0876 - acc: 0.9744 - val_loss: 0.0963 - val_acc: 0.9703\n",
      "Epoch 70/100\n",
      "45000/45000 [==============================] - 1s 16us/step - loss: 0.0852 - acc: 0.9757 - val_loss: 0.0953 - val_acc: 0.9698\n",
      "Epoch 71/100\n",
      "45000/45000 [==============================] - 1s 16us/step - loss: 0.0849 - acc: 0.9751 - val_loss: 0.0951 - val_acc: 0.9702\n",
      "Epoch 72/100\n",
      "45000/45000 [==============================] - 1s 16us/step - loss: 0.0840 - acc: 0.9754 - val_loss: 0.0937 - val_acc: 0.9703\n",
      "Epoch 73/100\n",
      "45000/45000 [==============================] - 1s 16us/step - loss: 0.0831 - acc: 0.9761 - val_loss: 0.0930 - val_acc: 0.9710\n",
      "Epoch 74/100\n",
      "45000/45000 [==============================] - 1s 16us/step - loss: 0.0821 - acc: 0.9758 - val_loss: 0.0922 - val_acc: 0.9710\n",
      "Epoch 75/100\n",
      "45000/45000 [==============================] - 1s 16us/step - loss: 0.0804 - acc: 0.9762 - val_loss: 0.0917 - val_acc: 0.9711\n",
      "Epoch 76/100\n",
      "45000/45000 [==============================] - 1s 16us/step - loss: 0.0792 - acc: 0.9769 - val_loss: 0.0914 - val_acc: 0.9717\n",
      "Epoch 77/100\n",
      "45000/45000 [==============================] - 1s 16us/step - loss: 0.0797 - acc: 0.9768 - val_loss: 0.0902 - val_acc: 0.9711\n",
      "Epoch 78/100\n",
      "45000/45000 [==============================] - 1s 16us/step - loss: 0.0771 - acc: 0.9774 - val_loss: 0.0899 - val_acc: 0.9718\n",
      "Epoch 79/100\n",
      "45000/45000 [==============================] - 1s 16us/step - loss: 0.0775 - acc: 0.9772 - val_loss: 0.0892 - val_acc: 0.9717\n",
      "Epoch 80/100\n",
      "45000/45000 [==============================] - 1s 16us/step - loss: 0.0768 - acc: 0.9773 - val_loss: 0.0885 - val_acc: 0.9723\n",
      "Epoch 81/100\n",
      "45000/45000 [==============================] - 1s 17us/step - loss: 0.0763 - acc: 0.9774 - val_loss: 0.0877 - val_acc: 0.9725\n",
      "Epoch 82/100\n",
      "45000/45000 [==============================] - 1s 16us/step - loss: 0.0741 - acc: 0.9781 - val_loss: 0.0874 - val_acc: 0.9724\n",
      "Epoch 83/100\n",
      "45000/45000 [==============================] - 1s 17us/step - loss: 0.0730 - acc: 0.9783 - val_loss: 0.0868 - val_acc: 0.9727\n",
      "Epoch 84/100\n",
      "45000/45000 [==============================] - 1s 17us/step - loss: 0.0724 - acc: 0.9792 - val_loss: 0.0863 - val_acc: 0.9731\n",
      "Epoch 85/100\n",
      "45000/45000 [==============================] - 1s 16us/step - loss: 0.0715 - acc: 0.9789 - val_loss: 0.0856 - val_acc: 0.9733\n",
      "Epoch 86/100\n",
      "45000/45000 [==============================] - 1s 16us/step - loss: 0.0705 - acc: 0.9802 - val_loss: 0.0848 - val_acc: 0.9729\n",
      "Epoch 87/100\n",
      "45000/45000 [==============================] - 1s 16us/step - loss: 0.0707 - acc: 0.9800 - val_loss: 0.0844 - val_acc: 0.9735\n",
      "Epoch 88/100\n",
      "45000/45000 [==============================] - 1s 16us/step - loss: 0.0694 - acc: 0.9799 - val_loss: 0.0837 - val_acc: 0.9739\n",
      "Epoch 89/100\n",
      "45000/45000 [==============================] - 1s 16us/step - loss: 0.0693 - acc: 0.9801 - val_loss: 0.0832 - val_acc: 0.9739\n",
      "Epoch 90/100\n",
      "45000/45000 [==============================] - 1s 16us/step - loss: 0.0688 - acc: 0.9799 - val_loss: 0.0828 - val_acc: 0.9743\n",
      "Epoch 91/100\n",
      "45000/45000 [==============================] - 1s 16us/step - loss: 0.0677 - acc: 0.9805 - val_loss: 0.0820 - val_acc: 0.9751\n",
      "Epoch 92/100\n",
      "45000/45000 [==============================] - 1s 16us/step - loss: 0.0657 - acc: 0.9808 - val_loss: 0.0823 - val_acc: 0.9747\n",
      "Epoch 93/100\n",
      "45000/45000 [==============================] - 1s 16us/step - loss: 0.0657 - acc: 0.9804 - val_loss: 0.0815 - val_acc: 0.9747\n",
      "Epoch 94/100\n",
      "45000/45000 [==============================] - 1s 16us/step - loss: 0.0648 - acc: 0.9808 - val_loss: 0.0815 - val_acc: 0.9745\n",
      "Epoch 95/100\n",
      "45000/45000 [==============================] - 1s 16us/step - loss: 0.0634 - acc: 0.9819 - val_loss: 0.0810 - val_acc: 0.9748\n",
      "Epoch 96/100\n",
      "45000/45000 [==============================] - 1s 16us/step - loss: 0.0617 - acc: 0.9821 - val_loss: 0.0809 - val_acc: 0.9746\n",
      "Epoch 97/100\n",
      "45000/45000 [==============================] - 1s 16us/step - loss: 0.0630 - acc: 0.9820 - val_loss: 0.0804 - val_acc: 0.9753\n",
      "Epoch 98/100\n",
      "45000/45000 [==============================] - 1s 16us/step - loss: 0.0619 - acc: 0.9821 - val_loss: 0.0798 - val_acc: 0.9755\n",
      "Epoch 99/100\n",
      "45000/45000 [==============================] - 1s 16us/step - loss: 0.0601 - acc: 0.9823 - val_loss: 0.0796 - val_acc: 0.9757\n",
      "Epoch 100/100\n",
      "45000/45000 [==============================] - 1s 16us/step - loss: 0.0620 - acc: 0.9823 - val_loss: 0.0792 - val_acc: 0.9756\n"
     ]
    }
   ],
   "source": [
    "dropout_model_history = dropout_model.fit(x_train, y_train, batch_size=128,\n",
    "                                          epochs=100, verbose=1,\n",
    "                                          validation_data=(x_val, y_val))"
   ]
  },
  {
   "cell_type": "code",
   "execution_count": 29,
   "metadata": {},
   "outputs": [
    {
     "data": {
      "image/png": "[encoded data removed]",
      "text/plain": [
       "<Figure size 432x288 with 1 Axes>"
      ]
     },
     "metadata": {},
     "output_type": "display_data"
    },
    {
     "data": {
      "image/png": "[encoded data removed]",
      "text/plain": [
       "<Figure size 432x288 with 1 Axes>"
      ]
     },
     "metadata": {},
     "output_type": "display_data"
    }
   ],
   "source": [
    "plot_history(dropout_model_history)"
   ]
  },
  {
   "cell_type": "markdown",
   "metadata": {},
   "source": [
    "Again, let's compare the performance of the model on the training, validation and test set."
   ]
  },
  {
   "cell_type": "code",
   "execution_count": 30,
   "metadata": {
    "scrolled": true
   },
   "outputs": [
    {
     "name": "stdout",
     "output_type": "stream",
     "text": [
      "45000/45000 [==============================] - 1s 18us/step\n"
     ]
    },
    {
     "data": {
      "text/plain": [
       "[0.041325319447306295, 0.9885333333333334]"
      ]
     },
     "execution_count": 30,
     "metadata": {},
     "output_type": "execute_result"
    }
   ],
   "source": [
    "dropout_model.evaluate(x_train, y_train)"
   ]
  },
  {
   "cell_type": "code",
   "execution_count": 31,
   "metadata": {
    "scrolled": true
   },
   "outputs": [
    {
     "name": "stdout",
     "output_type": "stream",
     "text": [
      "15000/15000 [==============================] - 0s 18us/step\n"
     ]
    },
    {
     "data": {
      "text/plain": [
       "[0.07918812505081296, 0.9756]"
      ]
     },
     "execution_count": 31,
     "metadata": {},
     "output_type": "execute_result"
    }
   ],
   "source": [
    "dropout_model.evaluate(x_val, y_val)"
   ]
  },
  {
   "cell_type": "code",
   "execution_count": 32,
   "metadata": {
    "scrolled": true
   },
   "outputs": [
    {
     "name": "stdout",
     "output_type": "stream",
     "text": [
      "10000/10000 [==============================] - 0s 18us/step\n"
     ]
    },
    {
     "data": {
      "text/plain": [
       "[0.0767060283403378, 0.9763]"
      ]
     },
     "execution_count": 32,
     "metadata": {},
     "output_type": "execute_result"
    }
   ],
   "source": [
    "dropout_model.evaluate(x_test, y_test)"
   ]
  },
  {
   "cell_type": "code",
   "execution_count": 33,
   "metadata": {},
   "outputs": [],
   "source": [
    "dropout_model.save('mnist_mlp_dropout.h5')"
   ]
  },
  {
   "cell_type": "markdown",
   "metadata": {},
   "source": [
    "## Understanding the model"
   ]
  },
  {
   "cell_type": "markdown",
   "metadata": {},
   "source": [
    "We should try to gain some insight into the model.  There are several ways to do this."
   ]
  },
  {
   "cell_type": "code",
   "execution_count": 101,
   "metadata": {},
   "outputs": [],
   "source": [
    "analysis_model = model"
   ]
  },
  {
   "cell_type": "markdown",
   "metadata": {},
   "source": [
    "Replace `model` by `dropout_model` in case you want to analyze the latter."
   ]
  },
  {
   "cell_type": "markdown",
   "metadata": {},
   "source": [
    "### Required imports"
   ]
  },
  {
   "cell_type": "code",
   "execution_count": 102,
   "metadata": {},
   "outputs": [],
   "source": [
    "import itertools\n",
    "import pandas as pd\n",
    "import seaborn as sns"
   ]
  },
  {
   "cell_type": "markdown",
   "metadata": {},
   "source": [
    "### Confusion matrix"
   ]
  },
  {
   "cell_type": "markdown",
   "metadata": {},
   "source": [
    "The model produces some classification errors, it would be interesting to see the type of errors.  Computing a confustion matrix is useful for that prupose."
   ]
  },
  {
   "cell_type": "code",
   "execution_count": 103,
   "metadata": {},
   "outputs": [],
   "source": [
    "y_predict_classes = analysis_model.predict_classes(x_test)"
   ]
  },
  {
   "cell_type": "code",
   "execution_count": 104,
   "metadata": {},
   "outputs": [],
   "source": [
    "y_test_classes = np.argmax(y_test, axis=1)"
   ]
  },
  {
   "cell_type": "code",
   "execution_count": 105,
   "metadata": {},
   "outputs": [
    {
     "data": {
      "text/plain": [
       "array([[ 968,    0,    0,    1,    1,    3,    1,    1,    4,    1],\n",
       "       [   0, 1122,    2,    1,    0,    1,    4,    1,    4,    0],\n",
       "       [   4,    2, 1003,    2,    3,    0,    3,    7,    8,    0],\n",
       "       [   0,    0,    1,  988,    0,    7,    0,    4,    7,    3],\n",
       "       [   3,    0,    3,    1,  951,    1,    5,    2,    1,   15],\n",
       "       [   4,    1,    0,    5,    1,  868,    7,    0,    2,    4],\n",
       "       [   6,    2,    1,    1,    4,    3,  938,    0,    3,    0],\n",
       "       [   1,    8,    9,    1,    0,    1,    0,  999,    2,    7],\n",
       "       [   4,    0,    3,    3,    3,    4,    4,    7,  945,    1],\n",
       "       [   3,    5,    0,    7,   12,    0,    1,    6,    2,  973]])"
      ]
     },
     "execution_count": 105,
     "metadata": {},
     "output_type": "execute_result"
    }
   ],
   "source": [
    "cm = confusion_matrix(y_test_classes, y_predict_classes)\n",
    "cm"
   ]
  },
  {
   "cell_type": "markdown",
   "metadata": {},
   "source": [
    "From the confusion matrix, it is clear that, e.g., 2 and 7 get confused, as well as 4 and 9.  Given the data, that should come as no surprise."
   ]
  },
  {
   "cell_type": "code",
   "execution_count": 106,
   "metadata": {},
   "outputs": [],
   "source": [
    "def plot_confusion_matrix(cm, classes,\n",
    "                          normalize=False,\n",
    "                          cmap=plt.cm.Blues):\n",
    "\n",
    "    log1p_cm = np.log1p(cm)\n",
    "    if normalize:\n",
    "        cm = cm.astype(np.float)/cm.sum(axis=1)[:, np.newaxis]\n",
    "    \n",
    "    figure, axes = plt.subplots(figsize=(6, 6))\n",
    "    axes.imshow(log1p_cm, interpolation='nearest', cmap=cmap)\n",
    "    axes.set_xticks(classes)\n",
    "    axes.set_yticks(classes)\n",
    "\n",
    "    fmt = '{0:.4f}' if normalize else '{0:d}'\n",
    "    thresh = 0.5*cm.max()\n",
    "    for i, j in itertools.product(range(cm.shape[0]), range(cm.shape[1])):\n",
    "        axes.text(j, i, fmt.format(cm[i, j]),\n",
    "                  horizontalalignment=\"center\",\n",
    "                  color=\"white\" if cm[i, j] > thresh else \"black\",\n",
    "                  fontsize=8)\n",
    "\n",
    "    figure.tight_layout()\n",
    "    axes.set_ylabel('True label')\n",
    "    axes.set_xlabel('Predicted label')"
   ]
  },
  {
   "cell_type": "code",
   "execution_count": 107,
   "metadata": {},
   "outputs": [
    {
     "data": {
      "image/png": "[encoded data removed]",
      "text/plain": [
       "<Figure size 432x432 with 1 Axes>"
      ]
     },
     "metadata": {
      "needs_background": "light"
     },
     "output_type": "display_data"
    }
   ],
   "source": [
    "plot_confusion_matrix(cm, range(10), normalize=True)"
   ]
  },
  {
   "cell_type": "markdown",
   "metadata": {},
   "source": [
    "### Sensitivity to initial conditions"
   ]
  },
  {
   "cell_type": "markdown",
   "metadata": {},
   "source": [
    "How sensitive is the training process to the initial values of the model?  Let's train and evaluate the model several times, and observe the outcomes."
   ]
  },
  {
   "cell_type": "code",
   "execution_count": 40,
   "metadata": {
    "scrolled": false
   },
   "outputs": [
    {
     "name": "stdout",
     "output_type": "stream",
     "text": [
      "training model 1\n",
      "45000/45000 [==============================] - 1s 19us/step\n",
      "15000/15000 [==============================] - 0s 19us/step\n",
      "10000/10000 [==============================] - 0s 18us/step\n",
      "training model 2\n",
      "45000/45000 [==============================] - 1s 20us/step\n",
      "15000/15000 [==============================] - 0s 19us/step\n",
      "10000/10000 [==============================] - 0s 20us/step\n",
      "training model 3\n",
      "45000/45000 [==============================] - 1s 19us/step\n",
      "15000/15000 [==============================] - 0s 19us/step\n",
      "10000/10000 [==============================] - 0s 19us/step\n",
      "training model 4\n",
      "45000/45000 [==============================] - 1s 19us/step\n",
      "15000/15000 [==============================] - 0s 19us/step\n",
      "10000/10000 [==============================] - 0s 19us/step\n",
      "training model 5\n",
      "45000/45000 [==============================] - 1s 20us/step\n",
      "15000/15000 [==============================] - 0s 19us/step\n",
      "10000/10000 [==============================] - 0s 20us/step\n",
      "training model 6\n",
      "45000/45000 [==============================] - 1s 19us/step\n",
      "15000/15000 [==============================] - 0s 19us/step\n",
      "10000/10000 [==============================] - 0s 19us/step\n",
      "training model 7\n",
      "45000/45000 [==============================] - 1s 19us/step\n",
      "15000/15000 [==============================] - 0s 19us/step\n",
      "10000/10000 [==============================] - 0s 19us/step\n",
      "training model 8\n",
      "45000/45000 [==============================] - 1s 20us/step\n",
      "15000/15000 [==============================] - 0s 20us/step\n",
      "10000/10000 [==============================] - 0s 19us/step\n",
      "training model 9\n",
      "45000/45000 [==============================] - 1s 20us/step\n",
      "15000/15000 [==============================] - 0s 19us/step\n",
      "10000/10000 [==============================] - 0s 19us/step\n",
      "training model 10\n",
      "45000/45000 [==============================] - 1s 20us/step\n",
      "15000/15000 [==============================] - 0s 20us/step\n",
      "10000/10000 [==============================] - 0s 20us/step\n"
     ]
    }
   ],
   "source": [
    "np.random.seed(1234)\n",
    "tf.set_random_seed(459845)\n",
    "names = ('train', 'val', 'test')\n",
    "inputs = (x_train, x_val, x_test)\n",
    "outputs = (y_train, y_val, y_test)\n",
    "losses = dict()\n",
    "accuracies = dict()\n",
    "for name in names:\n",
    "    losses[name] = []\n",
    "    accuracies[name] = []\n",
    "for i in range(10):\n",
    "    print(f'training model {i+ 1:d}')\n",
    "    mod = Sequential()\n",
    "    mod.add(Dense(512, activation='relu', input_shape=(784,)))\n",
    "    mod.add(Dropout(0.2))\n",
    "    mod.add(Dense(512, activation='relu'))\n",
    "    mod.add(Dropout(0.2))\n",
    "    mod.add(Dense(10, activation='softmax'))\n",
    "    mod.compile(loss='categorical_crossentropy', optimizer=SGD(),\n",
    "                metrics=['accuracy'])\n",
    "    _ = mod.fit(x_train, y_train, batch_size=128, epochs=100,\n",
    "                verbose=0, validation_data=(x_val, y_val))\n",
    "    for name, input, output in zip(names, inputs, outputs):\n",
    "        loss, accuracy = mod.evaluate(input, output)\n",
    "        losses[name].append(loss)\n",
    "        accuracies[name].append(accuracy)\n",
    "    mod.save(f'mnist_mpl_{i + 1:02d}.h5')"
   ]
  },
  {
   "cell_type": "markdown",
   "metadata": {},
   "source": [
    "Losses and accuracies are quite reproducible across runs with different initializations of the model."
   ]
  },
  {
   "cell_type": "code",
   "execution_count": 41,
   "metadata": {
    "scrolled": true
   },
   "outputs": [
    {
     "data": {
      "image/png": "[encoded data removed]",
      "text/plain": [
       "<Figure size 432x288 with 1 Axes>"
      ]
     },
     "metadata": {},
     "output_type": "display_data"
    }
   ],
   "source": [
    "sns.stripplot(data=pd.DataFrame(losses), jitter=0.1);"
   ]
  },
  {
   "cell_type": "code",
   "execution_count": 42,
   "metadata": {},
   "outputs": [
    {
     "data": {
      "image/png": "[encoded data removed]",
      "text/plain": [
       "<Figure size 432x288 with 1 Axes>"
      ]
     },
     "metadata": {},
     "output_type": "display_data"
    }
   ],
   "source": [
    "sns.stripplot(data=pd.DataFrame(accuracies), jitter=0.1);"
   ]
  }
 ],
 "metadata": {
  "kernelspec": {
   "display_name": "Python 3",
   "language": "python",
   "name": "python3"
  },
  "language_info": {
   "codemirror_mode": {
    "name": "ipython",
    "version": 3
   },
   "file_extension": ".py",
   "mimetype": "text/x-python",
   "name": "python",
   "nbconvert_exporter": "python",
   "pygments_lexer": "ipython3",
   "version": "3.7.3"
  }
 },
 "nbformat": 4,
 "nbformat_minor": 2
}

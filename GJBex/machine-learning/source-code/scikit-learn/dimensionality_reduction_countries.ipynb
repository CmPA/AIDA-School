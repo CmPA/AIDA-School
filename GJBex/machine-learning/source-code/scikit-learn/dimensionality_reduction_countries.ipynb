{
 "cells": [
  {
   "cell_type": "markdown",
   "metadata": {},
   "source": [
    "# Cluster countries"
   ]
  },
  {
   "cell_type": "markdown",
   "metadata": {},
   "source": [
    "Import the required modules."
   ]
  },
  {
   "cell_type": "code",
   "execution_count": 23,
   "metadata": {},
   "outputs": [
    {
     "data": {
      "text/html": [
       "\n",
       "    <div class=\"bk-root\">\n",
       "        <a href=\"https://bokeh.org\" target=\"_blank\" class=\"bk-logo bk-logo-small bk-logo-notebook\"></a>\n",
       "        <span id=\"1205\">Loading BokehJS ...</span>\n",
       "    </div>"
      ]
     },
     "metadata": {},
     "output_type": "display_data"
    },
    {
     "data": {
      "application/javascript": [
       "\n",
       "(function(root) {\n",
       "  function now() {\n",
       "    return new Date();\n",
       "  }\n",
       "\n",
       "  var force = true;\n",
       "\n",
       "  if (typeof root._bokeh_onload_callbacks === \"undefined\" || force === true) {\n",
       "    root._bokeh_onload_callbacks = [];\n",
       "    root._bokeh_is_loading = undefined;\n",
       "  }\n",
       "\n",
       "  var JS_MIME_TYPE = 'application/javascript';\n",
       "  var HTML_MIME_TYPE = 'text/html';\n",
       "  var EXEC_MIME_TYPE = 'application/vnd.bokehjs_exec.v0+json';\n",
       "  var CLASS_NAME = 'output_bokeh rendered_html';\n",
       "\n",
       "  /**\n",
       "   * Render data to the DOM node\n",
       "   */\n",
       "  function render(props, node) {\n",
       "    var script = document.createElement(\"script\");\n",
       "    node.appendChild(script);\n",
       "  }\n",
       "\n",
       "  /**\n",
       "   * Handle when an output is cleared or removed\n",
       "   */\n",
       "  function handleClearOutput(event, handle) {\n",
       "    var cell = handle.cell;\n",
       "\n",
       "    var id = cell.output_area._bokeh_element_id;\n",
       "    var server_id = cell.output_area._bokeh_server_id;\n",
       "    // Clean up Bokeh references\n",
       "    if (id != null && id in Bokeh.index) {\n",
       "      Bokeh.index[id].model.document.clear();\n",
       "      delete Bokeh.index[id];\n",
       "    }\n",
       "\n",
       "    if (server_id !== undefined) {\n",
       "      // Clean up Bokeh references\n",
       "      var cmd = \"from bokeh.io.state import curstate; print(curstate().uuid_to_server['\" + server_id + \"'].get_sessions()[0].document.roots[0]._id)\";\n",
       "      cell.notebook.kernel.execute(cmd, {\n",
       "        iopub: {\n",
       "          output: function(msg) {\n",
       "            var id = msg.content.text.trim();\n",
       "            if (id in Bokeh.index) {\n",
       "              Bokeh.index[id].model.document.clear();\n",
       "              delete Bokeh.index[id];\n",
       "            }\n",
       "          }\n",
       "        }\n",
       "      });\n",
       "      // Destroy server and session\n",
       "      var cmd = \"import bokeh.io.notebook as ion; ion.destroy_server('\" + server_id + \"')\";\n",
       "      cell.notebook.kernel.execute(cmd);\n",
       "    }\n",
       "  }\n",
       "\n",
       "  /**\n",
       "   * Handle when a new output is added\n",
       "   */\n",
       "  function handleAddOutput(event, handle) {\n",
       "    var output_area = handle.output_area;\n",
       "    var output = handle.output;\n",
       "\n",
       "    // limit handleAddOutput to display_data with EXEC_MIME_TYPE content only\n",
       "    if ((output.output_type != \"display_data\") || (!output.data.hasOwnProperty(EXEC_MIME_TYPE))) {\n",
       "      return\n",
       "    }\n",
       "\n",
       "    var toinsert = output_area.element.find(\".\" + CLASS_NAME.split(' ')[0]);\n",
       "\n",
       "    if (output.metadata[EXEC_MIME_TYPE][\"id\"] !== undefined) {\n",
       "      toinsert[toinsert.length - 1].firstChild.textContent = output.data[JS_MIME_TYPE];\n",
       "      // store reference to embed id on output_area\n",
       "      output_area._bokeh_element_id = output.metadata[EXEC_MIME_TYPE][\"id\"];\n",
       "    }\n",
       "    if (output.metadata[EXEC_MIME_TYPE][\"server_id\"] !== undefined) {\n",
       "      var bk_div = document.createElement(\"div\");\n",
       "      bk_div.innerHTML = output.data[HTML_MIME_TYPE];\n",
       "      var script_attrs = bk_div.children[0].attributes;\n",
       "      for (var i = 0; i < script_attrs.length; i++) {\n",
       "        toinsert[toinsert.length - 1].firstChild.setAttribute(script_attrs[i].name, script_attrs[i].value);\n",
       "      }\n",
       "      // store reference to server id on output_area\n",
       "      output_area._bokeh_server_id = output.metadata[EXEC_MIME_TYPE][\"server_id\"];\n",
       "    }\n",
       "  }\n",
       "\n",
       "  function register_renderer(events, OutputArea) {\n",
       "\n",
       "    function append_mime(data, metadata, element) {\n",
       "      // create a DOM node to render to\n",
       "      var toinsert = this.create_output_subarea(\n",
       "        metadata,\n",
       "        CLASS_NAME,\n",
       "        EXEC_MIME_TYPE\n",
       "      );\n",
       "      this.keyboard_manager.register_events(toinsert);\n",
       "      // Render to node\n",
       "      var props = {data: data, metadata: metadata[EXEC_MIME_TYPE]};\n",
       "      render(props, toinsert[toinsert.length - 1]);\n",
       "      element.append(toinsert);\n",
       "      return toinsert\n",
       "    }\n",
       "\n",
       "    /* Handle when an output is cleared or removed */\n",
       "    events.on('clear_output.CodeCell', handleClearOutput);\n",
       "    events.on('delete.Cell', handleClearOutput);\n",
       "\n",
       "    /* Handle when a new output is added */\n",
       "    events.on('output_added.OutputArea', handleAddOutput);\n",
       "\n",
       "    /**\n",
       "     * Register the mime type and append_mime function with output_area\n",
       "     */\n",
       "    OutputArea.prototype.register_mime_type(EXEC_MIME_TYPE, append_mime, {\n",
       "      /* Is output safe? */\n",
       "      safe: true,\n",
       "      /* Index of renderer in `output_area.display_order` */\n",
       "      index: 0\n",
       "    });\n",
       "  }\n",
       "\n",
       "  // register the mime type if in Jupyter Notebook environment and previously unregistered\n",
       "  if (root.Jupyter !== undefined) {\n",
       "    var events = require('base/js/events');\n",
       "    var OutputArea = require('notebook/js/outputarea').OutputArea;\n",
       "\n",
       "    if (OutputArea.prototype.mime_types().indexOf(EXEC_MIME_TYPE) == -1) {\n",
       "      register_renderer(events, OutputArea);\n",
       "    }\n",
       "  }\n",
       "\n",
       "  \n",
       "  if (typeof (root._bokeh_timeout) === \"undefined\" || force === true) {\n",
       "    root._bokeh_timeout = Date.now() + 5000;\n",
       "    root._bokeh_failed_load = false;\n",
       "  }\n",
       "\n",
       "  var NB_LOAD_WARNING = {'data': {'text/html':\n",
       "     \"<div style='background-color: #fdd'>\\n\"+\n",
       "     \"<p>\\n\"+\n",
       "     \"BokehJS does not appear to have successfully loaded. If loading BokehJS from CDN, this \\n\"+\n",
       "     \"may be due to a slow or bad network connection. Possible fixes:\\n\"+\n",
       "     \"</p>\\n\"+\n",
       "     \"<ul>\\n\"+\n",
       "     \"<li>re-rerun `output_notebook()` to attempt to load from CDN again, or</li>\\n\"+\n",
       "     \"<li>use INLINE resources instead, as so:</li>\\n\"+\n",
       "     \"</ul>\\n\"+\n",
       "     \"<code>\\n\"+\n",
       "     \"from bokeh.resources import INLINE\\n\"+\n",
       "     \"output_notebook(resources=INLINE)\\n\"+\n",
       "     \"</code>\\n\"+\n",
       "     \"</div>\"}};\n",
       "\n",
       "  function display_loaded() {\n",
       "    var el = document.getElementById(\"1205\");\n",
       "    if (el != null) {\n",
       "      el.textContent = \"BokehJS is loading...\";\n",
       "    }\n",
       "    if (root.Bokeh !== undefined) {\n",
       "      if (el != null) {\n",
       "        el.textContent = \"BokehJS \" + root.Bokeh.version + \" successfully loaded.\";\n",
       "      }\n",
       "    } else if (Date.now() < root._bokeh_timeout) {\n",
       "      setTimeout(display_loaded, 100)\n",
       "    }\n",
       "  }\n",
       "\n",
       "\n",
       "  function run_callbacks() {\n",
       "    try {\n",
       "      root._bokeh_onload_callbacks.forEach(function(callback) {\n",
       "        if (callback != null)\n",
       "          callback();\n",
       "      });\n",
       "    } finally {\n",
       "      delete root._bokeh_onload_callbacks\n",
       "    }\n",
       "    console.debug(\"Bokeh: all callbacks have finished\");\n",
       "  }\n",
       "\n",
       "  function load_libs(css_urls, js_urls, callback) {\n",
       "    if (css_urls == null) css_urls = [];\n",
       "    if (js_urls == null) js_urls = [];\n",
       "\n",
       "    root._bokeh_onload_callbacks.push(callback);\n",
       "    if (root._bokeh_is_loading > 0) {\n",
       "      console.debug(\"Bokeh: BokehJS is being loaded, scheduling callback at\", now());\n",
       "      return null;\n",
       "    }\n",
       "    if (js_urls == null || js_urls.length === 0) {\n",
       "      run_callbacks();\n",
       "      return null;\n",
       "    }\n",
       "    console.debug(\"Bokeh: BokehJS not loaded, scheduling load and callback at\", now());\n",
       "    root._bokeh_is_loading = css_urls.length + js_urls.length;\n",
       "\n",
       "    function on_load() {\n",
       "      root._bokeh_is_loading--;\n",
       "      if (root._bokeh_is_loading === 0) {\n",
       "        console.debug(\"Bokeh: all BokehJS libraries/stylesheets loaded\");\n",
       "        run_callbacks()\n",
       "      }\n",
       "    }\n",
       "\n",
       "    function on_error() {\n",
       "      console.error(\"failed to load \" + url);\n",
       "    }\n",
       "\n",
       "    for (var i = 0; i < css_urls.length; i++) {\n",
       "      var url = css_urls[i];\n",
       "      const element = document.createElement(\"link\");\n",
       "      element.onload = on_load;\n",
       "      element.onerror = on_error;\n",
       "      element.rel = \"stylesheet\";\n",
       "      element.type = \"text/css\";\n",
       "      element.href = url;\n",
       "      console.debug(\"Bokeh: injecting link tag for BokehJS stylesheet: \", url);\n",
       "      document.body.appendChild(element);\n",
       "    }\n",
       "\n",
       "    for (var i = 0; i < js_urls.length; i++) {\n",
       "      var url = js_urls[i];\n",
       "      var element = document.createElement('script');\n",
       "      element.onload = on_load;\n",
       "      element.onerror = on_error;\n",
       "      element.async = false;\n",
       "      element.src = url;\n",
       "      console.debug(\"Bokeh: injecting script tag for BokehJS library: \", url);\n",
       "      document.head.appendChild(element);\n",
       "    }\n",
       "  };var element = document.getElementById(\"1205\");\n",
       "  if (element == null) {\n",
       "    console.error(\"Bokeh: ERROR: autoload.js configured with elementid '1205' but no matching script tag was found. \")\n",
       "    return false;\n",
       "  }\n",
       "\n",
       "  function inject_raw_css(css) {\n",
       "    const element = document.createElement(\"style\");\n",
       "    element.appendChild(document.createTextNode(css));\n",
       "    document.body.appendChild(element);\n",
       "  }\n",
       "\n",
       "  \n",
       "  var js_urls = [\"https://cdn.pydata.org/bokeh/release/bokeh-1.4.0.min.js\", \"https://cdn.pydata.org/bokeh/release/bokeh-widgets-1.4.0.min.js\", \"https://cdn.pydata.org/bokeh/release/bokeh-tables-1.4.0.min.js\", \"https://cdn.pydata.org/bokeh/release/bokeh-gl-1.4.0.min.js\"];\n",
       "  var css_urls = [];\n",
       "  \n",
       "\n",
       "  var inline_js = [\n",
       "    function(Bokeh) {\n",
       "      Bokeh.set_log_level(\"info\");\n",
       "    },\n",
       "    function(Bokeh) {\n",
       "    \n",
       "    \n",
       "    }\n",
       "  ];\n",
       "\n",
       "  function run_inline_js() {\n",
       "    \n",
       "    if (root.Bokeh !== undefined || force === true) {\n",
       "      \n",
       "    for (var i = 0; i < inline_js.length; i++) {\n",
       "      inline_js[i].call(root, root.Bokeh);\n",
       "    }\n",
       "    if (force === true) {\n",
       "        display_loaded();\n",
       "      }} else if (Date.now() < root._bokeh_timeout) {\n",
       "      setTimeout(run_inline_js, 100);\n",
       "    } else if (!root._bokeh_failed_load) {\n",
       "      console.log(\"Bokeh: BokehJS failed to load within specified timeout.\");\n",
       "      root._bokeh_failed_load = true;\n",
       "    } else if (force !== true) {\n",
       "      var cell = $(document.getElementById(\"1205\")).parents('.cell').data().cell;\n",
       "      cell.output_area.append_execute_result(NB_LOAD_WARNING)\n",
       "    }\n",
       "\n",
       "  }\n",
       "\n",
       "  if (root._bokeh_is_loading === 0) {\n",
       "    console.debug(\"Bokeh: BokehJS loaded, going straight to plotting\");\n",
       "    run_inline_js();\n",
       "  } else {\n",
       "    load_libs(css_urls, js_urls, function() {\n",
       "      console.debug(\"Bokeh: BokehJS plotting callback run at\", now());\n",
       "      run_inline_js();\n",
       "    });\n",
       "  }\n",
       "}(window));"
      ],
      "application/vnd.bokehjs_load.v0+json": "\n(function(root) {\n  function now() {\n    return new Date();\n  }\n\n  var force = true;\n\n  if (typeof root._bokeh_onload_callbacks === \"undefined\" || force === true) {\n    root._bokeh_onload_callbacks = [];\n    root._bokeh_is_loading = undefined;\n  }\n\n  \n\n  \n  if (typeof (root._bokeh_timeout) === \"undefined\" || force === true) {\n    root._bokeh_timeout = Date.now() + 5000;\n    root._bokeh_failed_load = false;\n  }\n\n  var NB_LOAD_WARNING = {'data': {'text/html':\n     \"<div style='background-color: #fdd'>\\n\"+\n     \"<p>\\n\"+\n     \"BokehJS does not appear to have successfully loaded. If loading BokehJS from CDN, this \\n\"+\n     \"may be due to a slow or bad network connection. Possible fixes:\\n\"+\n     \"</p>\\n\"+\n     \"<ul>\\n\"+\n     \"<li>re-rerun `output_notebook()` to attempt to load from CDN again, or</li>\\n\"+\n     \"<li>use INLINE resources instead, as so:</li>\\n\"+\n     \"</ul>\\n\"+\n     \"<code>\\n\"+\n     \"from bokeh.resources import INLINE\\n\"+\n     \"output_notebook(resources=INLINE)\\n\"+\n     \"</code>\\n\"+\n     \"</div>\"}};\n\n  function display_loaded() {\n    var el = document.getElementById(\"1205\");\n    if (el != null) {\n      el.textContent = \"BokehJS is loading...\";\n    }\n    if (root.Bokeh !== undefined) {\n      if (el != null) {\n        el.textContent = \"BokehJS \" + root.Bokeh.version + \" successfully loaded.\";\n      }\n    } else if (Date.now() < root._bokeh_timeout) {\n      setTimeout(display_loaded, 100)\n    }\n  }\n\n\n  function run_callbacks() {\n    try {\n      root._bokeh_onload_callbacks.forEach(function(callback) {\n        if (callback != null)\n          callback();\n      });\n    } finally {\n      delete root._bokeh_onload_callbacks\n    }\n    console.debug(\"Bokeh: all callbacks have finished\");\n  }\n\n  function load_libs(css_urls, js_urls, callback) {\n    if (css_urls == null) css_urls = [];\n    if (js_urls == null) js_urls = [];\n\n    root._bokeh_onload_callbacks.push(callback);\n    if (root._bokeh_is_loading > 0) {\n      console.debug(\"Bokeh: BokehJS is being loaded, scheduling callback at\", now());\n      return null;\n    }\n    if (js_urls == null || js_urls.length === 0) {\n      run_callbacks();\n      return null;\n    }\n    console.debug(\"Bokeh: BokehJS not loaded, scheduling load and callback at\", now());\n    root._bokeh_is_loading = css_urls.length + js_urls.length;\n\n    function on_load() {\n      root._bokeh_is_loading--;\n      if (root._bokeh_is_loading === 0) {\n        console.debug(\"Bokeh: all BokehJS libraries/stylesheets loaded\");\n        run_callbacks()\n      }\n    }\n\n    function on_error() {\n      console.error(\"failed to load \" + url);\n    }\n\n    for (var i = 0; i < css_urls.length; i++) {\n      var url = css_urls[i];\n      const element = document.createElement(\"link\");\n      element.onload = on_load;\n      element.onerror = on_error;\n      element.rel = \"stylesheet\";\n      element.type = \"text/css\";\n      element.href = url;\n      console.debug(\"Bokeh: injecting link tag for BokehJS stylesheet: \", url);\n      document.body.appendChild(element);\n    }\n\n    for (var i = 0; i < js_urls.length; i++) {\n      var url = js_urls[i];\n      var element = document.createElement('script');\n      element.onload = on_load;\n      element.onerror = on_error;\n      element.async = false;\n      element.src = url;\n      console.debug(\"Bokeh: injecting script tag for BokehJS library: \", url);\n      document.head.appendChild(element);\n    }\n  };var element = document.getElementById(\"1205\");\n  if (element == null) {\n    console.error(\"Bokeh: ERROR: autoload.js configured with elementid '1205' but no matching script tag was found. \")\n    return false;\n  }\n\n  function inject_raw_css(css) {\n    const element = document.createElement(\"style\");\n    element.appendChild(document.createTextNode(css));\n    document.body.appendChild(element);\n  }\n\n  \n  var js_urls = [\"https://cdn.pydata.org/bokeh/release/bokeh-1.4.0.min.js\", \"https://cdn.pydata.org/bokeh/release/bokeh-widgets-1.4.0.min.js\", \"https://cdn.pydata.org/bokeh/release/bokeh-tables-1.4.0.min.js\", \"https://cdn.pydata.org/bokeh/release/bokeh-gl-1.4.0.min.js\"];\n  var css_urls = [];\n  \n\n  var inline_js = [\n    function(Bokeh) {\n      Bokeh.set_log_level(\"info\");\n    },\n    function(Bokeh) {\n    \n    \n    }\n  ];\n\n  function run_inline_js() {\n    \n    if (root.Bokeh !== undefined || force === true) {\n      \n    for (var i = 0; i < inline_js.length; i++) {\n      inline_js[i].call(root, root.Bokeh);\n    }\n    if (force === true) {\n        display_loaded();\n      }} else if (Date.now() < root._bokeh_timeout) {\n      setTimeout(run_inline_js, 100);\n    } else if (!root._bokeh_failed_load) {\n      console.log(\"Bokeh: BokehJS failed to load within specified timeout.\");\n      root._bokeh_failed_load = true;\n    } else if (force !== true) {\n      var cell = $(document.getElementById(\"1205\")).parents('.cell').data().cell;\n      cell.output_area.append_execute_result(NB_LOAD_WARNING)\n    }\n\n  }\n\n  if (root._bokeh_is_loading === 0) {\n    console.debug(\"Bokeh: BokehJS loaded, going straight to plotting\");\n    run_inline_js();\n  } else {\n    load_libs(css_urls, js_urls, function() {\n      console.debug(\"Bokeh: BokehJS plotting callback run at\", now());\n      run_inline_js();\n    });\n  }\n}(window));"
     },
     "metadata": {},
     "output_type": "display_data"
    }
   ],
   "source": [
    "from bokeh.palettes import brewer\n",
    "from bokeh.io import output_notebook, show\n",
    "from bokeh.plotting import figure\n",
    "from bokeh.models import HoverTool, PanTool, ResetTool, BoxZoomTool\n",
    "import numpy as np\n",
    "import pandas as pd\n",
    "from sklearn.base import TransformerMixin\n",
    "from sklearn.cluster import KMeans\n",
    "from sklearn.compose import ColumnTransformer\n",
    "from sklearn.decomposition import PCA\n",
    "from sklearn.discriminant_analysis import LinearDiscriminantAnalysis\n",
    "from sklearn.manifold import TSNE\n",
    "from sklearn.pipeline import Pipeline, FeatureUnion\n",
    "from sklearn.preprocessing import MinMaxScaler, OneHotEncoder\n",
    "output_notebook()"
   ]
  },
  {
   "cell_type": "markdown",
   "metadata": {},
   "source": [
    "## Problem setting"
   ]
  },
  {
   "cell_type": "markdown",
   "metadata": {},
   "source": [
    "Let's try to cluster the countries baased on the indicators of happiness."
   ]
  },
  {
   "cell_type": "markdown",
   "metadata": {},
   "source": [
    "## Import data"
   ]
  },
  {
   "cell_type": "code",
   "execution_count": 2,
   "metadata": {},
   "outputs": [],
   "source": [
    "data_2015 = pd.read_csv('Data/world_happiness_2015.csv')"
   ]
  },
  {
   "cell_type": "code",
   "execution_count": 3,
   "metadata": {},
   "outputs": [
    {
     "data": {
      "text/html": [
       "<div>\n",
       "<style scoped>\n",
       "    .dataframe tbody tr th:only-of-type {\n",
       "        vertical-align: middle;\n",
       "    }\n",
       "\n",
       "    .dataframe tbody tr th {\n",
       "        vertical-align: top;\n",
       "    }\n",
       "\n",
       "    .dataframe thead th {\n",
       "        text-align: right;\n",
       "    }\n",
       "</style>\n",
       "<table border=\"1\" class=\"dataframe\">\n",
       "  <thead>\n",
       "    <tr style=\"text-align: right;\">\n",
       "      <th></th>\n",
       "      <th>Country</th>\n",
       "      <th>Region</th>\n",
       "      <th>Happiness Rank</th>\n",
       "      <th>Happiness Score</th>\n",
       "      <th>Standard Error</th>\n",
       "      <th>Economy (GDP per Capita)</th>\n",
       "      <th>Family</th>\n",
       "      <th>Health (Life Expectancy)</th>\n",
       "      <th>Freedom</th>\n",
       "      <th>Trust (Government Corruption)</th>\n",
       "      <th>Generosity</th>\n",
       "      <th>Dystopia Residual</th>\n",
       "    </tr>\n",
       "  </thead>\n",
       "  <tbody>\n",
       "    <tr>\n",
       "      <th>0</th>\n",
       "      <td>Switzerland</td>\n",
       "      <td>Western Europe</td>\n",
       "      <td>1</td>\n",
       "      <td>7.587</td>\n",
       "      <td>0.03411</td>\n",
       "      <td>1.39651</td>\n",
       "      <td>1.34951</td>\n",
       "      <td>0.94143</td>\n",
       "      <td>0.66557</td>\n",
       "      <td>0.41978</td>\n",
       "      <td>0.29678</td>\n",
       "      <td>2.51738</td>\n",
       "    </tr>\n",
       "    <tr>\n",
       "      <th>1</th>\n",
       "      <td>Iceland</td>\n",
       "      <td>Western Europe</td>\n",
       "      <td>2</td>\n",
       "      <td>7.561</td>\n",
       "      <td>0.04884</td>\n",
       "      <td>1.30232</td>\n",
       "      <td>1.40223</td>\n",
       "      <td>0.94784</td>\n",
       "      <td>0.62877</td>\n",
       "      <td>0.14145</td>\n",
       "      <td>0.43630</td>\n",
       "      <td>2.70201</td>\n",
       "    </tr>\n",
       "    <tr>\n",
       "      <th>2</th>\n",
       "      <td>Denmark</td>\n",
       "      <td>Western Europe</td>\n",
       "      <td>3</td>\n",
       "      <td>7.527</td>\n",
       "      <td>0.03328</td>\n",
       "      <td>1.32548</td>\n",
       "      <td>1.36058</td>\n",
       "      <td>0.87464</td>\n",
       "      <td>0.64938</td>\n",
       "      <td>0.48357</td>\n",
       "      <td>0.34139</td>\n",
       "      <td>2.49204</td>\n",
       "    </tr>\n",
       "    <tr>\n",
       "      <th>3</th>\n",
       "      <td>Norway</td>\n",
       "      <td>Western Europe</td>\n",
       "      <td>4</td>\n",
       "      <td>7.522</td>\n",
       "      <td>0.03880</td>\n",
       "      <td>1.45900</td>\n",
       "      <td>1.33095</td>\n",
       "      <td>0.88521</td>\n",
       "      <td>0.66973</td>\n",
       "      <td>0.36503</td>\n",
       "      <td>0.34699</td>\n",
       "      <td>2.46531</td>\n",
       "    </tr>\n",
       "    <tr>\n",
       "      <th>4</th>\n",
       "      <td>Canada</td>\n",
       "      <td>North America</td>\n",
       "      <td>5</td>\n",
       "      <td>7.427</td>\n",
       "      <td>0.03553</td>\n",
       "      <td>1.32629</td>\n",
       "      <td>1.32261</td>\n",
       "      <td>0.90563</td>\n",
       "      <td>0.63297</td>\n",
       "      <td>0.32957</td>\n",
       "      <td>0.45811</td>\n",
       "      <td>2.45176</td>\n",
       "    </tr>\n",
       "  </tbody>\n",
       "</table>\n",
       "</div>"
      ],
      "text/plain": [
       "       Country          Region  Happiness Rank  Happiness Score  \\\n",
       "0  Switzerland  Western Europe               1            7.587   \n",
       "1      Iceland  Western Europe               2            7.561   \n",
       "2      Denmark  Western Europe               3            7.527   \n",
       "3       Norway  Western Europe               4            7.522   \n",
       "4       Canada   North America               5            7.427   \n",
       "\n",
       "   Standard Error  Economy (GDP per Capita)   Family  \\\n",
       "0         0.03411                   1.39651  1.34951   \n",
       "1         0.04884                   1.30232  1.40223   \n",
       "2         0.03328                   1.32548  1.36058   \n",
       "3         0.03880                   1.45900  1.33095   \n",
       "4         0.03553                   1.32629  1.32261   \n",
       "\n",
       "   Health (Life Expectancy)  Freedom  Trust (Government Corruption)  \\\n",
       "0                   0.94143  0.66557                        0.41978   \n",
       "1                   0.94784  0.62877                        0.14145   \n",
       "2                   0.87464  0.64938                        0.48357   \n",
       "3                   0.88521  0.66973                        0.36503   \n",
       "4                   0.90563  0.63297                        0.32957   \n",
       "\n",
       "   Generosity  Dystopia Residual  \n",
       "0     0.29678            2.51738  \n",
       "1     0.43630            2.70201  \n",
       "2     0.34139            2.49204  \n",
       "3     0.34699            2.46531  \n",
       "4     0.45811            2.45176  "
      ]
     },
     "execution_count": 3,
     "metadata": {},
     "output_type": "execute_result"
    }
   ],
   "source": [
    "data_2015.head()"
   ]
  },
  {
   "cell_type": "code",
   "execution_count": 4,
   "metadata": {},
   "outputs": [
    {
     "data": {
      "text/html": [
       "<div>\n",
       "<style scoped>\n",
       "    .dataframe tbody tr th:only-of-type {\n",
       "        vertical-align: middle;\n",
       "    }\n",
       "\n",
       "    .dataframe tbody tr th {\n",
       "        vertical-align: top;\n",
       "    }\n",
       "\n",
       "    .dataframe thead th {\n",
       "        text-align: right;\n",
       "    }\n",
       "</style>\n",
       "<table border=\"1\" class=\"dataframe\">\n",
       "  <thead>\n",
       "    <tr style=\"text-align: right;\">\n",
       "      <th></th>\n",
       "      <th>Happiness Rank</th>\n",
       "      <th>Happiness Score</th>\n",
       "      <th>Standard Error</th>\n",
       "      <th>Economy (GDP per Capita)</th>\n",
       "      <th>Family</th>\n",
       "      <th>Health (Life Expectancy)</th>\n",
       "      <th>Freedom</th>\n",
       "      <th>Trust (Government Corruption)</th>\n",
       "      <th>Generosity</th>\n",
       "      <th>Dystopia Residual</th>\n",
       "    </tr>\n",
       "  </thead>\n",
       "  <tbody>\n",
       "    <tr>\n",
       "      <th>count</th>\n",
       "      <td>158.000000</td>\n",
       "      <td>158.000000</td>\n",
       "      <td>158.000000</td>\n",
       "      <td>158.000000</td>\n",
       "      <td>158.000000</td>\n",
       "      <td>158.000000</td>\n",
       "      <td>158.000000</td>\n",
       "      <td>158.000000</td>\n",
       "      <td>158.000000</td>\n",
       "      <td>158.000000</td>\n",
       "    </tr>\n",
       "    <tr>\n",
       "      <th>mean</th>\n",
       "      <td>79.493671</td>\n",
       "      <td>5.375734</td>\n",
       "      <td>0.047885</td>\n",
       "      <td>0.846137</td>\n",
       "      <td>0.991046</td>\n",
       "      <td>0.630259</td>\n",
       "      <td>0.428615</td>\n",
       "      <td>0.143422</td>\n",
       "      <td>0.237296</td>\n",
       "      <td>2.098977</td>\n",
       "    </tr>\n",
       "    <tr>\n",
       "      <th>std</th>\n",
       "      <td>45.754363</td>\n",
       "      <td>1.145010</td>\n",
       "      <td>0.017146</td>\n",
       "      <td>0.403121</td>\n",
       "      <td>0.272369</td>\n",
       "      <td>0.247078</td>\n",
       "      <td>0.150693</td>\n",
       "      <td>0.120034</td>\n",
       "      <td>0.126685</td>\n",
       "      <td>0.553550</td>\n",
       "    </tr>\n",
       "    <tr>\n",
       "      <th>min</th>\n",
       "      <td>1.000000</td>\n",
       "      <td>2.839000</td>\n",
       "      <td>0.018480</td>\n",
       "      <td>0.000000</td>\n",
       "      <td>0.000000</td>\n",
       "      <td>0.000000</td>\n",
       "      <td>0.000000</td>\n",
       "      <td>0.000000</td>\n",
       "      <td>0.000000</td>\n",
       "      <td>0.328580</td>\n",
       "    </tr>\n",
       "    <tr>\n",
       "      <th>25%</th>\n",
       "      <td>40.250000</td>\n",
       "      <td>4.526000</td>\n",
       "      <td>0.037268</td>\n",
       "      <td>0.545808</td>\n",
       "      <td>0.856823</td>\n",
       "      <td>0.439185</td>\n",
       "      <td>0.328330</td>\n",
       "      <td>0.061675</td>\n",
       "      <td>0.150553</td>\n",
       "      <td>1.759410</td>\n",
       "    </tr>\n",
       "    <tr>\n",
       "      <th>50%</th>\n",
       "      <td>79.500000</td>\n",
       "      <td>5.232500</td>\n",
       "      <td>0.043940</td>\n",
       "      <td>0.910245</td>\n",
       "      <td>1.029510</td>\n",
       "      <td>0.696705</td>\n",
       "      <td>0.435515</td>\n",
       "      <td>0.107220</td>\n",
       "      <td>0.216130</td>\n",
       "      <td>2.095415</td>\n",
       "    </tr>\n",
       "    <tr>\n",
       "      <th>75%</th>\n",
       "      <td>118.750000</td>\n",
       "      <td>6.243750</td>\n",
       "      <td>0.052300</td>\n",
       "      <td>1.158448</td>\n",
       "      <td>1.214405</td>\n",
       "      <td>0.811013</td>\n",
       "      <td>0.549092</td>\n",
       "      <td>0.180255</td>\n",
       "      <td>0.309883</td>\n",
       "      <td>2.462415</td>\n",
       "    </tr>\n",
       "    <tr>\n",
       "      <th>max</th>\n",
       "      <td>158.000000</td>\n",
       "      <td>7.587000</td>\n",
       "      <td>0.136930</td>\n",
       "      <td>1.690420</td>\n",
       "      <td>1.402230</td>\n",
       "      <td>1.025250</td>\n",
       "      <td>0.669730</td>\n",
       "      <td>0.551910</td>\n",
       "      <td>0.795880</td>\n",
       "      <td>3.602140</td>\n",
       "    </tr>\n",
       "  </tbody>\n",
       "</table>\n",
       "</div>"
      ],
      "text/plain": [
       "       Happiness Rank  Happiness Score  Standard Error  \\\n",
       "count      158.000000       158.000000      158.000000   \n",
       "mean        79.493671         5.375734        0.047885   \n",
       "std         45.754363         1.145010        0.017146   \n",
       "min          1.000000         2.839000        0.018480   \n",
       "25%         40.250000         4.526000        0.037268   \n",
       "50%         79.500000         5.232500        0.043940   \n",
       "75%        118.750000         6.243750        0.052300   \n",
       "max        158.000000         7.587000        0.136930   \n",
       "\n",
       "       Economy (GDP per Capita)      Family  Health (Life Expectancy)  \\\n",
       "count                158.000000  158.000000                158.000000   \n",
       "mean                   0.846137    0.991046                  0.630259   \n",
       "std                    0.403121    0.272369                  0.247078   \n",
       "min                    0.000000    0.000000                  0.000000   \n",
       "25%                    0.545808    0.856823                  0.439185   \n",
       "50%                    0.910245    1.029510                  0.696705   \n",
       "75%                    1.158448    1.214405                  0.811013   \n",
       "max                    1.690420    1.402230                  1.025250   \n",
       "\n",
       "          Freedom  Trust (Government Corruption)  Generosity  \\\n",
       "count  158.000000                     158.000000  158.000000   \n",
       "mean     0.428615                       0.143422    0.237296   \n",
       "std      0.150693                       0.120034    0.126685   \n",
       "min      0.000000                       0.000000    0.000000   \n",
       "25%      0.328330                       0.061675    0.150553   \n",
       "50%      0.435515                       0.107220    0.216130   \n",
       "75%      0.549092                       0.180255    0.309883   \n",
       "max      0.669730                       0.551910    0.795880   \n",
       "\n",
       "       Dystopia Residual  \n",
       "count         158.000000  \n",
       "mean            2.098977  \n",
       "std             0.553550  \n",
       "min             0.328580  \n",
       "25%             1.759410  \n",
       "50%             2.095415  \n",
       "75%             2.462415  \n",
       "max             3.602140  "
      ]
     },
     "execution_count": 4,
     "metadata": {},
     "output_type": "execute_result"
    }
   ],
   "source": [
    "data_2015.describe()"
   ]
  },
  {
   "cell_type": "markdown",
   "metadata": {},
   "source": [
    "## Preprocess data"
   ]
  },
  {
   "cell_type": "markdown",
   "metadata": {},
   "source": [
    "Define a class to extract data from a pandas DataFrame."
   ]
  },
  {
   "cell_type": "code",
   "execution_count": 5,
   "metadata": {},
   "outputs": [],
   "source": [
    "class FeatureSelector(BaseException, TransformerMixin):\n",
    "    def __init__(self, feature_names):\n",
    "        self._feature_names = feature_names\n",
    "    def fit(self, X, Y=None):\n",
    "        return self\n",
    "    def transform(self, X):\n",
    "        return X[self._feature_names].values"
   ]
  },
  {
   "cell_type": "markdown",
   "metadata": {},
   "source": [
    "Define a transformer for the region names into one-hot encoding."
   ]
  },
  {
   "cell_type": "code",
   "execution_count": 6,
   "metadata": {
    "ExecuteTime": {
     "end_time": "2019-05-08T08:42:03.390053Z",
     "start_time": "2019-05-08T08:42:03.366247Z"
    }
   },
   "outputs": [],
   "source": [
    "region_transformer = ColumnTransformer([('one_hot_encoder',\n",
    "                                         OneHotEncoder(categories='auto'),\n",
    "                                         ['Region'])])"
   ]
  },
  {
   "cell_type": "markdown",
   "metadata": {},
   "source": [
    "Define the names of the columns that hold numerical data."
   ]
  },
  {
   "cell_type": "code",
   "execution_count": 7,
   "metadata": {},
   "outputs": [],
   "source": [
    "num_attr_names = ['Economy (GDP per Capita)',\n",
    "                  'Family', 'Health (Life Expectancy)', 'Freedom',\n",
    "                  'Trust (Government Corruption)', 'Generosity',\n",
    "                  'Dystopia Residual']"
   ]
  },
  {
   "cell_type": "markdown",
   "metadata": {},
   "source": [
    "Create a pipeline for the numerical attributes, rescaling them after selection."
   ]
  },
  {
   "cell_type": "code",
   "execution_count": 8,
   "metadata": {},
   "outputs": [],
   "source": [
    "num_attrs_pipeline = Pipeline([\n",
    "    ('select_num_attrs', FeatureSelector(num_attr_names)),\n",
    "    ('scaler', MinMaxScaler()),\n",
    "])"
   ]
  },
  {
   "cell_type": "code",
   "execution_count": 9,
   "metadata": {
    "ExecuteTime": {
     "end_time": "2019-05-08T08:42:13.381128Z",
     "start_time": "2019-05-08T08:42:13.373341Z"
    }
   },
   "outputs": [],
   "source": [
    "preparation_pipeline = FeatureUnion(transformer_list=[\n",
    "    ('region_attr', region_transformer),\n",
    "    ('num_attrs', num_attrs_pipeline),\n",
    "])"
   ]
  },
  {
   "cell_type": "markdown",
   "metadata": {},
   "source": [
    "Run the pipeline to prepare the data."
   ]
  },
  {
   "cell_type": "code",
   "execution_count": 10,
   "metadata": {},
   "outputs": [],
   "source": [
    "prepared_data = num_attrs_pipeline.fit_transform(data_2015)"
   ]
  },
  {
   "cell_type": "code",
   "execution_count": 11,
   "metadata": {},
   "outputs": [
    {
     "data": {
      "text/plain": [
       "(158, 7)"
      ]
     },
     "execution_count": 11,
     "metadata": {},
     "output_type": "execute_result"
    }
   ],
   "source": [
    "prepared_data.shape"
   ]
  },
  {
   "cell_type": "markdown",
   "metadata": {},
   "source": [
    "## Dimensionality reduction"
   ]
  },
  {
   "cell_type": "markdown",
   "metadata": {},
   "source": [
    "### Principal Component Analysis (PCA)"
   ]
  },
  {
   "cell_type": "markdown",
   "metadata": {},
   "source": [
    "Perform a principal Component Analysis on the data."
   ]
  },
  {
   "cell_type": "code",
   "execution_count": 12,
   "metadata": {},
   "outputs": [],
   "source": [
    "pca = PCA()\n",
    "pca_data = pd.DataFrame(pca.fit_transform(prepared_data))\n",
    "pca_data.columns = [f'PC{i}' for i in range(1, 8)]"
   ]
  },
  {
   "cell_type": "markdown",
   "metadata": {},
   "source": [
    "We can check the variance ratio explained by each of the components."
   ]
  },
  {
   "cell_type": "code",
   "execution_count": 13,
   "metadata": {},
   "outputs": [
    {
     "data": {
      "text/plain": [
       "array([0.47835186, 0.18587618, 0.10516347, 0.08630442, 0.0645048 ,\n",
       "       0.0532306 , 0.02656866])"
      ]
     },
     "execution_count": 13,
     "metadata": {},
     "output_type": "execute_result"
    }
   ],
   "source": [
    "pca.explained_variance_ratio_"
   ]
  },
  {
   "cell_type": "markdown",
   "metadata": {},
   "source": [
    "It is clear that most of the variance in the data is explained by the first two components, since this amounts to 65 %.  We can visualize the data in two dimension using the two principal components that explain most of the varianace."
   ]
  },
  {
   "cell_type": "markdown",
   "metadata": {},
   "source": [
    "In order to assess the results, we want a plot that shows the country name, and the happiness score as well.  The country name can be added using a hover tool, the happiness score as the color of the glyphs."
   ]
  },
  {
   "cell_type": "markdown",
   "metadata": {},
   "source": [
    "We add the country name and the happiness score to the PCA dataframe, as well as an additional column that encodes the score as a color from a red-blue Brewer color scheme.  The happiness score is converted to categorical data for this purpose."
   ]
  },
  {
   "cell_type": "code",
   "execution_count": 14,
   "metadata": {},
   "outputs": [],
   "source": [
    "pca_data['Country'] = data_2015['Country']\n",
    "pca_data['Happiness Score'] = data_2015['Happiness Score']\n",
    "happiness_min = data_2015['Happiness Score'].min()\n",
    "happiness_max = data_2015['Happiness Score'].max()\n",
    "nr_colors = int(happiness_max) - int(happiness_min) + 1\n",
    "pca_data['Happiness Color'] = pd.cut(data_2015['Happiness Score'],\n",
    "                                     bins=np.linspace(np.floor(happiness_min),\n",
    "                                                      np.ceil(happiness_max),\n",
    "                                                      nr_colors + 1),\n",
    "                                     labels=brewer['RdBu'][nr_colors])"
   ]
  },
  {
   "cell_type": "code",
   "execution_count": 15,
   "metadata": {},
   "outputs": [
    {
     "data": {
      "text/html": [
       "<div>\n",
       "<style scoped>\n",
       "    .dataframe tbody tr th:only-of-type {\n",
       "        vertical-align: middle;\n",
       "    }\n",
       "\n",
       "    .dataframe tbody tr th {\n",
       "        vertical-align: top;\n",
       "    }\n",
       "\n",
       "    .dataframe thead th {\n",
       "        text-align: right;\n",
       "    }\n",
       "</style>\n",
       "<table border=\"1\" class=\"dataframe\">\n",
       "  <thead>\n",
       "    <tr style=\"text-align: right;\">\n",
       "      <th></th>\n",
       "      <th>PC1</th>\n",
       "      <th>PC2</th>\n",
       "      <th>PC3</th>\n",
       "      <th>PC4</th>\n",
       "      <th>PC5</th>\n",
       "      <th>PC6</th>\n",
       "      <th>PC7</th>\n",
       "      <th>Country</th>\n",
       "      <th>Happiness Score</th>\n",
       "      <th>Happiness Color</th>\n",
       "    </tr>\n",
       "  </thead>\n",
       "  <tbody>\n",
       "    <tr>\n",
       "      <th>0</th>\n",
       "      <td>-0.742560</td>\n",
       "      <td>0.255859</td>\n",
       "      <td>-0.046819</td>\n",
       "      <td>-0.200890</td>\n",
       "      <td>-0.005302</td>\n",
       "      <td>-0.030317</td>\n",
       "      <td>-0.030825</td>\n",
       "      <td>Switzerland</td>\n",
       "      <td>7.587</td>\n",
       "      <td>#b2182b</td>\n",
       "    </tr>\n",
       "    <tr>\n",
       "      <th>1</th>\n",
       "      <td>-0.573766</td>\n",
       "      <td>0.001956</td>\n",
       "      <td>-0.225616</td>\n",
       "      <td>0.182013</td>\n",
       "      <td>-0.140456</td>\n",
       "      <td>-0.083132</td>\n",
       "      <td>0.025860</td>\n",
       "      <td>Iceland</td>\n",
       "      <td>7.561</td>\n",
       "      <td>#b2182b</td>\n",
       "    </tr>\n",
       "    <tr>\n",
       "      <th>2</th>\n",
       "      <td>-0.717045</td>\n",
       "      <td>0.366585</td>\n",
       "      <td>-0.018777</td>\n",
       "      <td>-0.253232</td>\n",
       "      <td>0.000190</td>\n",
       "      <td>-0.112461</td>\n",
       "      <td>-0.032102</td>\n",
       "      <td>Denmark</td>\n",
       "      <td>7.527</td>\n",
       "      <td>#b2182b</td>\n",
       "    </tr>\n",
       "    <tr>\n",
       "      <th>3</th>\n",
       "      <td>-0.706379</td>\n",
       "      <td>0.232345</td>\n",
       "      <td>-0.063994</td>\n",
       "      <td>-0.109291</td>\n",
       "      <td>-0.012735</td>\n",
       "      <td>-0.043326</td>\n",
       "      <td>0.057998</td>\n",
       "      <td>Norway</td>\n",
       "      <td>7.522</td>\n",
       "      <td>#b2182b</td>\n",
       "    </tr>\n",
       "    <tr>\n",
       "      <th>4</th>\n",
       "      <td>-0.643131</td>\n",
       "      <td>0.236638</td>\n",
       "      <td>-0.055096</td>\n",
       "      <td>-0.007588</td>\n",
       "      <td>-0.114805</td>\n",
       "      <td>-0.131293</td>\n",
       "      <td>0.032526</td>\n",
       "      <td>Canada</td>\n",
       "      <td>7.427</td>\n",
       "      <td>#b2182b</td>\n",
       "    </tr>\n",
       "    <tr>\n",
       "      <th>...</th>\n",
       "      <td>...</td>\n",
       "      <td>...</td>\n",
       "      <td>...</td>\n",
       "      <td>...</td>\n",
       "      <td>...</td>\n",
       "      <td>...</td>\n",
       "      <td>...</td>\n",
       "      <td>...</td>\n",
       "      <td>...</td>\n",
       "      <td>...</td>\n",
       "    </tr>\n",
       "    <tr>\n",
       "      <th>153</th>\n",
       "      <td>0.065691</td>\n",
       "      <td>0.797183</td>\n",
       "      <td>0.437880</td>\n",
       "      <td>-0.209177</td>\n",
       "      <td>0.248768</td>\n",
       "      <td>0.066833</td>\n",
       "      <td>-0.235110</td>\n",
       "      <td>Rwanda</td>\n",
       "      <td>3.465</td>\n",
       "      <td>#67a9cf</td>\n",
       "    </tr>\n",
       "    <tr>\n",
       "      <th>154</th>\n",
       "      <td>0.531902</td>\n",
       "      <td>0.232314</td>\n",
       "      <td>0.097846</td>\n",
       "      <td>0.080434</td>\n",
       "      <td>-0.014925</td>\n",
       "      <td>0.311838</td>\n",
       "      <td>0.053203</td>\n",
       "      <td>Benin</td>\n",
       "      <td>3.340</td>\n",
       "      <td>#67a9cf</td>\n",
       "    </tr>\n",
       "    <tr>\n",
       "      <th>155</th>\n",
       "      <td>0.274434</td>\n",
       "      <td>0.029431</td>\n",
       "      <td>0.737073</td>\n",
       "      <td>0.132340</td>\n",
       "      <td>-0.209417</td>\n",
       "      <td>-0.158671</td>\n",
       "      <td>0.001287</td>\n",
       "      <td>Syria</td>\n",
       "      <td>3.006</td>\n",
       "      <td>#67a9cf</td>\n",
       "    </tr>\n",
       "    <tr>\n",
       "      <th>156</th>\n",
       "      <td>0.855529</td>\n",
       "      <td>0.047117</td>\n",
       "      <td>0.183211</td>\n",
       "      <td>-0.130877</td>\n",
       "      <td>-0.079312</td>\n",
       "      <td>-0.056171</td>\n",
       "      <td>-0.046203</td>\n",
       "      <td>Burundi</td>\n",
       "      <td>2.905</td>\n",
       "      <td>#2166ac</td>\n",
       "    </tr>\n",
       "    <tr>\n",
       "      <th>157</th>\n",
       "      <td>0.691626</td>\n",
       "      <td>0.207037</td>\n",
       "      <td>0.226032</td>\n",
       "      <td>-0.036469</td>\n",
       "      <td>-0.086903</td>\n",
       "      <td>0.294438</td>\n",
       "      <td>0.064564</td>\n",
       "      <td>Togo</td>\n",
       "      <td>2.839</td>\n",
       "      <td>#2166ac</td>\n",
       "    </tr>\n",
       "  </tbody>\n",
       "</table>\n",
       "<p>158 rows × 10 columns</p>\n",
       "</div>"
      ],
      "text/plain": [
       "          PC1       PC2       PC3       PC4       PC5       PC6       PC7  \\\n",
       "0   -0.742560  0.255859 -0.046819 -0.200890 -0.005302 -0.030317 -0.030825   \n",
       "1   -0.573766  0.001956 -0.225616  0.182013 -0.140456 -0.083132  0.025860   \n",
       "2   -0.717045  0.366585 -0.018777 -0.253232  0.000190 -0.112461 -0.032102   \n",
       "3   -0.706379  0.232345 -0.063994 -0.109291 -0.012735 -0.043326  0.057998   \n",
       "4   -0.643131  0.236638 -0.055096 -0.007588 -0.114805 -0.131293  0.032526   \n",
       "..        ...       ...       ...       ...       ...       ...       ...   \n",
       "153  0.065691  0.797183  0.437880 -0.209177  0.248768  0.066833 -0.235110   \n",
       "154  0.531902  0.232314  0.097846  0.080434 -0.014925  0.311838  0.053203   \n",
       "155  0.274434  0.029431  0.737073  0.132340 -0.209417 -0.158671  0.001287   \n",
       "156  0.855529  0.047117  0.183211 -0.130877 -0.079312 -0.056171 -0.046203   \n",
       "157  0.691626  0.207037  0.226032 -0.036469 -0.086903  0.294438  0.064564   \n",
       "\n",
       "         Country  Happiness Score Happiness Color  \n",
       "0    Switzerland            7.587         #b2182b  \n",
       "1        Iceland            7.561         #b2182b  \n",
       "2        Denmark            7.527         #b2182b  \n",
       "3         Norway            7.522         #b2182b  \n",
       "4         Canada            7.427         #b2182b  \n",
       "..           ...              ...             ...  \n",
       "153       Rwanda            3.465         #67a9cf  \n",
       "154        Benin            3.340         #67a9cf  \n",
       "155        Syria            3.006         #67a9cf  \n",
       "156      Burundi            2.905         #2166ac  \n",
       "157         Togo            2.839         #2166ac  \n",
       "\n",
       "[158 rows x 10 columns]"
      ]
     },
     "execution_count": 15,
     "metadata": {},
     "output_type": "execute_result"
    }
   ],
   "source": [
    "pca_data"
   ]
  },
  {
   "cell_type": "markdown",
   "metadata": {},
   "source": [
    "Now we can create a plot with the PCA dataframe as source for the glyphs and their color, as well as the tooltip information that shows the country name."
   ]
  },
  {
   "cell_type": "code",
   "execution_count": 16,
   "metadata": {},
   "outputs": [
    {
     "data": {
      "text/html": [
       "\n",
       "\n",
       "\n",
       "\n",
       "\n",
       "\n",
       "  <div class=\"bk-root\" id=\"114f6df7-df5d-48fc-be91-f72d5b82674e\" data-root-id=\"1006\"></div>\n"
      ]
     },
     "metadata": {},
     "output_type": "display_data"
    },
    {
     "data": {
      "application/javascript": [
       "(function(root) {\n",
       "  function embed_document(root) {\n",
       "    \n",
       "  var docs_json = {\"3e9e2e95-7823-4bbe-abae-3ef1890f6646\":{\"roots\":{\"references\":[{\"attributes\":{\"below\":[{\"id\":\"1015\",\"type\":\"LinearAxis\"}],\"center\":[{\"id\":\"1019\",\"type\":\"Grid\"},{\"id\":\"1024\",\"type\":\"Grid\"}],\"left\":[{\"id\":\"1020\",\"type\":\"LinearAxis\"}],\"plot_height\":400,\"plot_width\":500,\"renderers\":[{\"id\":\"1034\",\"type\":\"GlyphRenderer\"}],\"title\":{\"id\":\"1037\",\"type\":\"Title\"},\"toolbar\":{\"id\":\"1025\",\"type\":\"Toolbar\"},\"x_range\":{\"id\":\"1007\",\"type\":\"DataRange1d\"},\"x_scale\":{\"id\":\"1011\",\"type\":\"LinearScale\"},\"y_range\":{\"id\":\"1009\",\"type\":\"DataRange1d\"},\"y_scale\":{\"id\":\"1013\",\"type\":\"LinearScale\"}},\"id\":\"1006\",\"subtype\":\"Figure\",\"type\":\"Plot\"},{\"attributes\":{\"callback\":null},\"id\":\"1007\",\"type\":\"DataRange1d\"},{\"attributes\":{\"source\":{\"id\":\"1030\",\"type\":\"ColumnDataSource\"}},\"id\":\"1035\",\"type\":\"CDSView\"},{\"attributes\":{\"callback\":null},\"id\":\"1009\",\"type\":\"DataRange1d\"},{\"attributes\":{\"dimension\":1,\"ticker\":{\"id\":\"1021\",\"type\":\"BasicTicker\"}},\"id\":\"1024\",\"type\":\"Grid\"},{\"attributes\":{\"callback\":null,\"data\":{\"Country\":[\"Switzerland\",\"Iceland\",\"Denmark\",\"Norway\",\"Canada\",\"Finland\",\"Netherlands\",\"Sweden\",\"New Zealand\",\"Australia\",\"Israel\",\"Costa Rica\",\"Austria\",\"Mexico\",\"United States\",\"Brazil\",\"Luxembourg\",\"Ireland\",\"Belgium\",\"United Arab Emirates\",\"United Kingdom\",\"Oman\",\"Venezuela\",\"Singapore\",\"Panama\",\"Germany\",\"Chile\",\"Qatar\",\"France\",\"Argentina\",\"Czech Republic\",\"Uruguay\",\"Colombia\",\"Thailand\",\"Saudi Arabia\",\"Spain\",\"Malta\",\"Taiwan\",\"Kuwait\",\"Suriname\",\"Trinidad and Tobago\",\"El Salvador\",\"Guatemala\",\"Uzbekistan\",\"Slovakia\",\"Japan\",\"South Korea\",\"Ecuador\",\"Bahrain\",\"Italy\",\"Bolivia\",\"Moldova\",\"Paraguay\",\"Kazakhstan\",\"Slovenia\",\"Lithuania\",\"Nicaragua\",\"Peru\",\"Belarus\",\"Poland\",\"Malaysia\",\"Croatia\",\"Libya\",\"Russia\",\"Jamaica\",\"North Cyprus\",\"Cyprus\",\"Algeria\",\"Kosovo\",\"Turkmenistan\",\"Mauritius\",\"Hong Kong\",\"Estonia\",\"Indonesia\",\"Vietnam\",\"Turkey\",\"Kyrgyzstan\",\"Nigeria\",\"Bhutan\",\"Azerbaijan\",\"Pakistan\",\"Jordan\",\"Montenegro\",\"China\",\"Zambia\",\"Romania\",\"Serbia\",\"Portugal\",\"Latvia\",\"Philippines\",\"Somaliland region\",\"Morocco\",\"Macedonia\",\"Mozambique\",\"Albania\",\"Bosnia and Herzegovina\",\"Lesotho\",\"Dominican Republic\",\"Laos\",\"Mongolia\",\"Swaziland\",\"Greece\",\"Lebanon\",\"Hungary\",\"Honduras\",\"Tajikistan\",\"Tunisia\",\"Palestinian Territories\",\"Bangladesh\",\"Iran\",\"Ukraine\",\"Iraq\",\"South Africa\",\"Ghana\",\"Zimbabwe\",\"Liberia\",\"India\",\"Sudan\",\"Haiti\",\"Congo (Kinshasa)\",\"Nepal\",\"Ethiopia\",\"Sierra Leone\",\"Mauritania\",\"Kenya\",\"Djibouti\",\"Armenia\",\"Botswana\",\"Myanmar\",\"Georgia\",\"Malawi\",\"Sri Lanka\",\"Cameroon\",\"Bulgaria\",\"Egypt\",\"Yemen\",\"Angola\",\"Mali\",\"Congo (Brazzaville)\",\"Comoros\",\"Uganda\",\"Senegal\",\"Gabon\",\"Niger\",\"Cambodia\",\"Tanzania\",\"Madagascar\",\"Central African Republic\",\"Chad\",\"Guinea\",\"Ivory Coast\",\"Burkina Faso\",\"Afghanistan\",\"Rwanda\",\"Benin\",\"Syria\",\"Burundi\",\"Togo\"],\"Happiness Color\":[\"#b2182b\",\"#b2182b\",\"#b2182b\",\"#b2182b\",\"#b2182b\",\"#b2182b\",\"#b2182b\",\"#b2182b\",\"#b2182b\",\"#b2182b\",\"#b2182b\",\"#b2182b\",\"#b2182b\",\"#b2182b\",\"#b2182b\",\"#ef8a62\",\"#ef8a62\",\"#ef8a62\",\"#ef8a62\",\"#ef8a62\",\"#ef8a62\",\"#ef8a62\",\"#ef8a62\",\"#ef8a62\",\"#ef8a62\",\"#ef8a62\",\"#ef8a62\",\"#ef8a62\",\"#ef8a62\",\"#ef8a62\",\"#ef8a62\",\"#ef8a62\",\"#ef8a62\",\"#ef8a62\",\"#ef8a62\",\"#ef8a62\",\"#ef8a62\",\"#ef8a62\",\"#ef8a62\",\"#ef8a62\",\"#ef8a62\",\"#ef8a62\",\"#ef8a62\",\"#ef8a62\",\"#fddbc7\",\"#fddbc7\",\"#fddbc7\",\"#fddbc7\",\"#fddbc7\",\"#fddbc7\",\"#fddbc7\",\"#fddbc7\",\"#fddbc7\",\"#fddbc7\",\"#fddbc7\",\"#fddbc7\",\"#fddbc7\",\"#fddbc7\",\"#fddbc7\",\"#fddbc7\",\"#fddbc7\",\"#fddbc7\",\"#fddbc7\",\"#fddbc7\",\"#fddbc7\",\"#fddbc7\",\"#fddbc7\",\"#fddbc7\",\"#fddbc7\",\"#fddbc7\",\"#fddbc7\",\"#fddbc7\",\"#fddbc7\",\"#fddbc7\",\"#fddbc7\",\"#fddbc7\",\"#fddbc7\",\"#fddbc7\",\"#fddbc7\",\"#fddbc7\",\"#fddbc7\",\"#fddbc7\",\"#fddbc7\",\"#fddbc7\",\"#fddbc7\",\"#fddbc7\",\"#fddbc7\",\"#fddbc7\",\"#fddbc7\",\"#fddbc7\",\"#fddbc7\",\"#fddbc7\",\"#fddbc7\",\"#d1e5f0\",\"#d1e5f0\",\"#d1e5f0\",\"#d1e5f0\",\"#d1e5f0\",\"#d1e5f0\",\"#d1e5f0\",\"#d1e5f0\",\"#d1e5f0\",\"#d1e5f0\",\"#d1e5f0\",\"#d1e5f0\",\"#d1e5f0\",\"#d1e5f0\",\"#d1e5f0\",\"#d1e5f0\",\"#d1e5f0\",\"#d1e5f0\",\"#d1e5f0\",\"#d1e5f0\",\"#d1e5f0\",\"#d1e5f0\",\"#d1e5f0\",\"#d1e5f0\",\"#d1e5f0\",\"#d1e5f0\",\"#d1e5f0\",\"#d1e5f0\",\"#d1e5f0\",\"#d1e5f0\",\"#d1e5f0\",\"#d1e5f0\",\"#d1e5f0\",\"#d1e5f0\",\"#d1e5f0\",\"#d1e5f0\",\"#d1e5f0\",\"#d1e5f0\",\"#d1e5f0\",\"#d1e5f0\",\"#d1e5f0\",\"#d1e5f0\",\"#d1e5f0\",\"#d1e5f0\",\"#67a9cf\",\"#67a9cf\",\"#67a9cf\",\"#67a9cf\",\"#67a9cf\",\"#67a9cf\",\"#67a9cf\",\"#67a9cf\",\"#67a9cf\",\"#67a9cf\",\"#67a9cf\",\"#67a9cf\",\"#67a9cf\",\"#67a9cf\",\"#67a9cf\",\"#67a9cf\",\"#67a9cf\",\"#67a9cf\",\"#67a9cf\",\"#2166ac\",\"#2166ac\"],\"Happiness Score\":{\"__ndarray__\":\"DQIrhxZZHkBYObTIdj4eQM/3U+OlGx5ASgwCK4cWHkBpke18P7UdQDq0yHa+nx1AT42XbhKDHUDb+X5qvHQdQL+fGi/dJB1AiUFg5dAiHUDpJjEIrBwdQIGVQ4ts5xxAzczMzMzMHEBzaJHtfL8cQGDl0CLbeRxAO99PjZfuG0BjEFg5tMgbQMP1KFyPwhtAc2iR7Xy/G0C0yHa+n5obQCyHFtnOdxtAtvP91HhpG0A9CtejcD0bQP3UeOkmMRtAv58aL90kG0AAAAAAAAAbQK5H4XoUrhpAjGzn+6lxGkDNzMzMzEwaQLKd76fGSxpAhetRuB4FGkBxPQrXo/AZQJzEILBy6BlAUrgehevRGUC/nxov3aQZQDeJQWDlUBlAaZHtfD81GUD91HjpJjEZQK5H4XoULhlA+n5qvHQTGUB46SYxCKwYQIXrUbgehRhAyqFFtvN9GEBPjZduEgMYQHsUrkfh+hdAppvEILDyF0BWDi2yne8XQGZmZmZm5hdA16NwPQrXF0CXbhKDwMoXQI/C9ShcjxdAdJMYBFaOF0BPjZduEoMXQOxRuB6FaxdAMQisHFpkF0ChRbbz/VQXQBxaZDvfTxdAsp3vp8ZLF0CNl24Sg0AXQESLbOf7KRdAFK5H4XoUF0Dvp8ZLNwkXQGq8dJMYBBdAd76fGi/dFkC8dJMYBNYWQEjhehSuxxZAqMZLN4nBFkDsUbgehWsWQEFg5dAiWxZA/dR46SYxFkCcxCCwcugVQEw3iUFg5RVAne+nxku3FUB/arx0k5gVQHE9CtejcBVAiBbZzvdTFUC/nxov3SQVQN9PjZduEhVAT42XbhIDFUANAiuHFtkUQC2yne+nxhRA+FPjpZvEFED4U+Olm8QUQI/C9ShcjxRAarx0kxiEFEDl0CLb+X4UQMqhRbbzfRRAnMQgsHJoFEAxCKwcWmQUQJhuEoPAShRA7Xw/NV46FEBaZDvfTw0UQLpJDAIrBxRA/Knx0k3iE0C8dJMYBNYTQLKd76fGyxNAZDvfT42XE0AK16NwPYoTQBsv3SQGgRNA5dAi2/l+E0ArhxbZzncTQCGwcmiRbRNAQWDl0CJbE0AzMzMzMzMTQPT91HjpJhNAv58aL90kE0Db+X5qvPQSQFyPwvUo3BJALbKd76fGEkBYObTIdr4SQNNNYhBYuRJAaJHtfD+1EkDEILByaJESQNV46SYxiBJAcT0K16NwEkBjEFg5tEgSQMP1KFyPQhJAMzMzMzMzEkDfT42XbhISQMQgsHJoERJAdJMYBFYOEkA/NV66SQwSQLpJDAIrBxJAWDm0yHa+EUCTGARWDq0RQGDl0CLbeRFAZmZmZmZmEUCHFtnO91MRQO18PzVeOhFA46WbxCAwEUBeukkMAisRQC/dJAaBFRFANV66SQwCEUCsHFpkO98QQC2yne+nxhBAAiuHFtlOEEBvEoPAyiEQQPYoXI/C9Q9AtvP91HjpD0DazvdT46UPQKabxCCwcg9ACKwcWmQ7D0BfukkMAisPQMP1KFyPwg5AWmQ730+NDkBzaJHtfD8OQKabxCCwcg1ABoGVQ4tsDUC8dJMYBFYNQHNoke18Pw1APQrXo3A9DUAYBFYOLbIMQJqZmZmZmQxAuB6F61G4C0C4HoXrUbgKQEA1XrpJDAhAPQrXo3A9B0CDwMqhRbYGQA==\",\"dtype\":\"float64\",\"shape\":[158]},\"PC1\":{\"__ndarray__\":\"JLcAhgzD57804fBlSlziv6MVSEkJ8ua/8VIszKea5r+BrCush5Tkv6/Wo0ukuuS/OO3Yl0iU47+iDpE4TXbmv6vI/GKxquW/S4BWN4en5b9X/cayzg7Uv2AoyE1mg9W/R4sl09kd4b8d7vO5JVjKvzPtwAuEMt6/gknjSgVkyb9DxkX9miPmvy5nMqOQv+O/kuaVuQdN4L95CGj1XK7iv5Mb6MxH7+K/boKFh7Tx3r910YER6evDv/3CqZaYeea/tf1+CGjE0L9CeArL9iHhvxHFLiMkh9C/gfbQCA0557+NdE+QjWLev+3adT9rvMi/W272W44ozb+6IP4HzqrYv9/nqqhRXsG/6R93I8cAzb8ci/eMqonRv2tH8nndo9a/THRya7fM3b8cuYUqQwbQvxfYlUXMHN2/Z4MDKzQYwL80q8QgUPvGvzfC3+4D35w/jTLflUyOrr+rqxzLzKfNv0gmKn8bGcG/WzkvmDxa3L+feIpU4N7Jv/H4Y+0KgcG/Z/0Wnd7a178GDd+/u13Jv1eCiPtuP6g/96btLM9Ayj/SriP+q/S9v79KX+q0+sG/H52o3+go1785SEcd+U1sv2U0XhbTB8C/qiRqpDJ5fL+y55RyVA3Fv4ZsSfcAHc+/W5rWZSvqyr+6hQhA1EeyPzkDm3A6V8G/HHwkEQrtrb93BO1ZnUekv9B3FpgmF9W/1NRJXgUhyb9tZRUSKUqiP+9+45wp3Mo/qnRTfmt3xL/fj9JA2dfCvxZJHNZmB+S/vKm9bo7+zb+OchlSo7JeP2d1UQ4oLKS/fB2I487Ehz9zRomsBni8P3V8Z3athds/CPapWYoSsb+QC90dAUN1vxUOai6Uu94/5Fi85HOgpL96L2wxZqS1P3Noi8Qg47G/CTbgGuvL0j+KtjfslEiYP/pbAONvorw/VKRAaJqpzb/+tG/Yyzahv5wTEoD5zqW/Zc579TtiwT+3YJ6ULBzJP9clicQpjJs/5sAlntIP4j95ZVGHLNukP17/g0m3QMs/Y371UENg4D+UvsEpBqDEvwMXJ1pN3pg/ufnpdZYigL8/Vv9i5uPcP3ihTT+cDLc/ss7IzPBBdr+Ul13I7nyxvxxCXj2XSr4/psUaUJP1xz9UTKT88yrJPxQjc+9dZ8s/7tHvwbRf1T+ifAnAcdrBP0KxuOq3070/Uov5QcnV0T84w/9chGPLP38rF8ZhCNc/Oq6OGZsf3j/gUPjja6fiPzCOA4u4f9U/Hg7xZKbQ2z9qes8GkNjcP2/NLDA0iuY/9EslA4iZ0j/Q5uM22CbaP+XN1gK/tOE/EAMLnXaX2T+ZzXQd4qnTP3O6Z9x649I/oa9TH89Hzz9JV5u8dFHMPxA/djd9H9A/lNlocY47qz9mV7PN7kHlP6vnYAt2fLa/4H3fftj32D/X/KiYmf6JP9urwtFkitE/GK3vAR+b2T9AAXaFyLzhP0EuIHFqqdw/ZlKB7JaG1j8nnTEsaFnfP7KaDHmNKtY/G1gjCTIg1T9DFnRIvYzFP7otRwADjd0/+g9D23UwwD8M6RlzB2HaPyWJZZA69OE/2k3fnwfe6T8mIlEX3+HkP8MRr3amZeM/UsE7p5Ti2T/6owZ8LTndP5/n8lKOBuU/F8lVChzRsD98IYWJVwXhPz4zNxpSkNE/H2oL9X5g6z/E/K2wzSHmPw==\",\"dtype\":\"float64\",\"shape\":[158]},\"PC2\":{\"__ndarray__\":\"YcxG9P5f0D9ub6jeygVgP64t7R0hdtc/sHpGGH29zT89uJ8BK0rOP+RYBEmI1c4/vNeA2FzzzD+qebJBYUTVPwo6Gdvt6dc/1crdRJHs0D/guGwRoeLPv6wiVG9fKoe/15h6zV1SmD/w4VkIwH+nv/CrsbOg26C/IgsOXMEiq7+mWGo/vrLEP56hyOvG4sc//kSYGFpGgb+BLvI9EODPP8xZ8SI3888/pCNczKN5xz9urAqyloPNv0Ia6ddCx80/BYTMvj/Ct788qcgFVyyjP9E9zlORwby/fAzPDb8C2T9PJnFGIrS6v7UR3cyotc2/3xruFzCy1L+xLEGLSEK+P3PZtYEUWry/UKxO/xMhqD94D4Sxa165v+v+xB47C9O/Hvmz9voDtT+cSt0dAubQv/wrLebXxGU/eIJVGi6jrj9oQI7b3Oa2v2JnRXtcT8C/ItSDQyeJtD9jqPEAFr/XPw4Ze9A4RNi/agGTGBiVx7/Hv7ozsNTWv+ofoNQiX6K/zlUsN7YNkz8MFMjVYX7dvxJSZYrTJ7c/L6ZKUnwWyb/7teAcg9OnP2HWn5aOFb+/OlMJoAwYwL/uYL2DL//gv6l/+TAUQcU/Y83qzvB4yL8+NUAanerBvz9BUUB6jce/r6rs+K5mfb8VUlIeQwLcv4nPsexKrMS/UeAscSjX17/WPgKq4ze8v1sFEnI9E7u/elX5nqIozb98V1ABzzrHvw7MNZz1Rcu/tyjEML0rxj/lFCvu286mP9C+U0hdSc4/uIb6tL+7xL+J+CJEnnXavvdfWTR6XbE/EKtiHy0T0b+HjOkcweyYv8M4W7PJ9pY/2T7M+3otzj8jhuXsUtrAv3z545bkjr6/RGjsljT7u78/kH+fKcjRv47uuY9Dmse/eibliVL3xz8160cNYrvUv4kTpWCxNti/L8ke53560L9glyz4exHTv3bsipWJ1Mc/5FccHWfL4z8rQXYk6Z+3v0H9kdDHA8y/HVoot1kFzz/nPJNdO0XNvzkD3ElOAN2/bjNJVGyRvT/WY0mBtfW1P+CrXpZBcNs/NwPBNwJYs7+OF/W4cNuov5umK7Ov8uS/RBQk3YSR0L98Y2zY3MrWv+t2abDTPrG/zo99e8pxxD9dP0N5Qk/Tv+vduJ2/zMW/+m+vV9Q7uD/QD2/NXufAvxSEPsojB9S/ap1B5r6217+/M7nor8S4v8IGpg3rPac/gsXVo+/Ilr/1EJRposSsP75Z9w55XKw/NeSjMq2/wL9JIr57xpzJP6PvIKeLYbk/5M7rykuGpj+AWz9hjRvOP5IlvApP7Ms/ILWq6pg+rD+RmG+tG8XBP8sG5eFCgNY/R+h5LrG+1r/rHkUgPWvBP5yhFYPFcuA/Ba8zrEexyj8avNRy50jTP7t5/kz8g7w/upFoV/D/xT9IUF42et/Wv3+lhoYZGNS/n3wG9c3vmr+vMcN32LTJvyBXay+PTcc/rYXHH2fjtT+mUL4XLxy6P+DDbycaysg/pQIXJO/5sj+rReqJx6jCv82PorXfd9Q/bp4IlHut1D+lj6naPH61P95xgzUGV6m/t0WVtEt22T/qDZOlfWl/P/NoC2SiPtE/r9bW6kVx1D+GV6DFm6DKP8yAjsqg7MA/JkLHnYaC6T85V35jd7zNP+BNDndCI54/QiJtO8AfqD//hPc/L4DKPw==\",\"dtype\":\"float64\",\"shape\":[158]},\"PC3\":{\"__ndarray__\":\"+Q0wNLD4p7+4ldCV/ODMv5UDGqVWOpO/D2sc4O9hsL8XNFQDkjWsvw642tb6ZbS/J5OaGWOwp78Br0cYnX2EP60atEZITqI/PwrRNNS/YD9eR7HdOHjMvwq4cBa9O9i/Bra4vblvw78GKCaoDBLSvziK4X1AMbu/32oYYsNv1b94XH6lCArAPz9QZoknyp4/OORWIPxSt7+scCa6EMWjP6dvxoaLhrU/2/UsCHBDqr+FVmrN3NnUvxgb1CY9K9Q/Qt4Cjfec0L+wzP1Evoiiv9arfAzHX7u/WItNVtbJ0z+kJSqB9aGdv8up5WVIBM+/00a9MSfWyr/xZNFtgJu1v4oeP/8jHtW/AUWdo9Q0x79u6wgoFKW5P2ZCJrtfyai/6wrjXCPppz/kxbagxl9rv7ajtR7osLI/CMP6ieliz78FO1ZRVobIvz7Rt2j4q86/hXf6WAkE0b+C+0ON3vzFv+ZwDgNVjay/dUZATxRWvj+q8MHb1se3P+y83aaaoba/GWJ8oksTxD8BP1/KHXC2P6TTZwWcftO/ydACenRs0r9f94TSbsTGv9rbUonmh8C/VdCrErCHk799gs+AqLi2v2af4/YvHb6/mkbzerfmwL9HnxGddb54P9aeryVVrrK/l2h8UEHOhT98PnHCF/Wov31i3NDT1IK/zQ0L4VaKv7/a7Tg0DMDHvxgWjV2P4sQ/AlduB0kPwj/ndewidSiav6NmuJH9CrO/Akmg1JJVpD+GXZz62iWYPzywLt7TH+A/9WEdG/IHuT+7N1a93FSjv6Z3hb4P5bm/6kPGx68Cwz8R26qwM7jCv/p/S1Yo8dK/CYF2ZNfpoz+lnvSFg4mzP8M8Axth8kQ/6wKIBsEJrD8m4QM6UCzFP1szVeubK22/cYQHLY0s0L9EJ5S8kwKyP8VsjfVRKrc/u0ALddOHvj+y0iZdV57CPyaawGB6oqy/SgQyE1Gyqz+DhFv1ZeSnv39B66Zh97s/336CKfdY17/njR3M17u/P2D9VzqchMM/uV+cHGQ1078cT8Wh1ki6P6S8Z/FGg7k/zDZ6VxNXoj+lXTEePhnQvxdeYCJn6s8/iv5x15XnzD9Tf44X+1XHP4dDXug0RqQ/U1aYyRcZob/MyrBje2bCP1MS7IOB67Y/crIAlNv4YT9xiTgoDinRP3icMygd/rg/NXu8Gyko0j/jTvfFbaaYv31Zdl+tHri/DRLKT7raw7/t+vGN3CPKvwOPIzgqoa4/kCIdjwvlpT8yaKYXZa+sP/QG4TsaZNO/SVevn8SqYD9yU4rzfPuyvxdloZSSg9K/OAntZYS1pT/P85Rv8eGkvwNtwaSWM7M/8zSP4QcgyT+Z9KWGxIOpvz4NN7d10Mw/p2o6M4JC2j8w4YrYdSfKvwluEJraNNI/MMQiExSKwb8Wz/w7XtPRP5eBjbU+NdA/37dniG/Woj8FkaDshNCxP2BQZ/IHXbK/i3rmO5swtT8MyMvDGLO5P9HquiPG4qG/Dk5h9pTFtj836p33HcvRP6T7RMYpoKa/A3OiuOZCyD+vflvMgXu1P5Co7WL2wME/31Fqx2XMwb8YTS1CvRJ6v/4EpKDk1qQ/6Bo1jnVntD/59FaPzNaxPyYaga/9D8c/qKdD9jgG3D9nltc0Zwy5P7rMO/MZluc/kI31IHJzxz+KuWewn+7MPw==\",\"dtype\":\"float64\",\"shape\":[158]},\"PC4\":{\"__ndarray__\":\"ZJeiWr+2yb9QvSFrNkzHPx+qRkDzNNC/D66V9oL6u78DszLddxR/v13dkM5DXdC/CSyydDa4Or+nOr6exgvGv3zrhLYF77S/5Qmj8A7Bk7/y1C2ppYyPP7bAmpyfcK8/ml+hb4bjsD9oq+8XFhHUvxHRdflb67Y/Buu8tI3gx7+7qh4Vw+HCvzv3Yji3prk/c50aAeaHqL/tg/xXVifJvzlRt+tRJrU/lRlyRq9qyL/NQcw9AdHHv0LIonPuZdO/SsOvCtO1pz91rxNp/FOpP9Rs2IzU9ZI/mfpTCwy50L9NSeTTmZqyv+wKkIJu4q+/8JQopzuHkz8dHSfD7PGjv4OkrgxoLLA//Ii5rpCu2T+Gu8RaMxjav4Q+Cfx07Lo/NJB8VWRs1j/kgx9+JsueP8bahPlsHb2/+lCrBd7JqL9QZ47tVePOP8YnuhC+OsW/cPeogWU5tz/qbkZgOoClvyQ9w1jsuJ0/kGP7+jWqgb8VOIaqII2fv7bAWIetxMC/oVQYdlxMxr/iVVA8EU+xP0amd5KG+aE/TfsAwgklmr9hh423vPjMP7b2HY67D5Q/g0MDDjod1D++LIUmdYa8vzO46bbBfqk/0YF1qonplr/e7PD69/jBv8KtKESej8c/A4etDCthxj8K9PaVYM3Fv4K8p0yQgVW/N+OVfOcfq7+d0AtUbBjFPyMIBd/RIr0/CPoP0fZCwT8s/WQC0Y/Pv/ZqyQ57Ma2/Cp7BCNvBxb8jyzUiWS3RP6B/oC6QG7c/onoZnmB9g79eXS7M32jZP912G7sy37g/OXQwqtz8yb+Uv75QjsrIP2LT6N+J6qG/U/2c+kuS0D83iam3iYnDvyS1fF9U286/MI2QJOieqb+MpCKpuufHv7CHBrrzVcA/Z6PjjjgRpr8jejDee9uwP0Tel5Xkf30/o3nkdF6n0D9tPXAQ7E+qP///XXltpMg/pMyEGMqZt7/N3vFokCG9v88KB9YGS7k/aY/bP9Jixb/XU17N4JGQP1dhQll5Mns/zrWuMjOMxb+JN+l97KnJPx8+H8zVrbw/mei4dzsa1T9W3DZKgESivxJrX2FexcK/aH7gUZrMuj/lqYX06Z/BPxv6Lwld7r8/p036SIM3mj/d6Hva8JTBv6b+o76WwMC/NJQYaT5/tr8IFeojUzW8Pw+cKwpSQLc/CMSUFtsi0b8mq5ke3eOSvyeQIqKYh6w/XXq55O6wrb+Y6VB2G6umv+LXyJ5tLZC/Cezc/06vyr9kFIjSGEmPv8v/VQ5h5ba/23qk1z0xxT8nqEDkcHqqvxEuei1sEZa/ruHKPLdKw78RKJ+ahhrPPxFn8Tr7ZMq/2ik6k/Svrb/KJNNLgA6QP+h0s/w80Nc/79JPa3IS2b9QginVPp6XP9oqU6+IbNo/+C5p/NZfwD+g54aq2jTIP9rl696iubS/bS8Xqiu2q7/PGOSePbDGv4fz6aCe76A/3Ew8vlaPo78tN/nrJmvHv144uW6Oz9A/3YMiVnfWuT+le39mATGVvyO1B5ISdpo/VQ4zf+L62z9B4bMVys3NP7R0WK1N9J6/0irj4GgZsr+W9QZiM+ecv2PTUU9RKHs/rIF9JhDdjD+eQ8AYpBWzPysIJ3yV+Iy/tbD7hEzGyr9H5jBNWZe0P9dAHgyF8MA/8UVJ3I/AwL8VPORnB6yivw==\",\"dtype\":\"float64\",\"shape\":[158]},\"PC5\":{\"__ndarray__\":\"5ba7gWa3db9GFm7hd/rBv/jo0fbn9Sg/jGB9Hp0Uir/37Z5m3mO9v5JK2RqUPJg/9irX4HJOwr8Wkat579ikv5rW5L5JCrm/0jeW5gimtb+f3kN363vNv0oLjVR/HcC/+qYajjtwrL93Iz2RSVXNv3B3+XWh6b6/G27RI3zskb/ISo5Tu6ujP9YzL+17M6G/GAWloFn2kj9MG8brjnWZP4D/LkgSu72/eSO/Q1V9lT/xmR/YOPygP7lSWuSKJbq/Y6dZGXkSs7+rA7Mx/q6hP3Hd6XVkY8e/qsTg1Uw9tz/0Oe95HRayP9eu6v1IoY4/kKdSDQ+gdz+aJlUUf4CcPyyaXLa52o8/RFNaOSLIxr+e/nWdzhWeP8n/4t6Gn5o/dHvLQhTGsb9tW6u78xG8v4MafvROccY/tieXIVKTbb+rd3bq1r+jP80HadpqGrC/p9PDlMi9s78yB2fNBT/HPxwQb4Ce26Q//BWWqRlUvj97LzTiOmDDv/PesrhAAqG/H0G8vYsexT82y2u0FPazv4vxAZAff5e/ZFIew0JPw780VCcQZbmhPxkFoN3RuMA/r5ByuquNuT8Ym6Yxfpa6PyLDp+0dUaK/j4+OdKdYsb8GIETiHK2/P7Uzeb5T38I/Z2tACqReiL9rozcOUaLCv87S52PzOq8/2Fd+W/1xyT+2fP4++cmZP4jHa9sf5pK/RB45ucjDxr9GRQPZocmyP9APt0JQfs6/acznki/bzT+IuxVdr8qqv+xm+HsiJZw/js2x+mpwyz8pO6l9JLy/vz+njTM6mZy/d/cAvgE0kL8b2qWzhIeiv9Hs1LDR9oc/c9pmoVI8h78sNEXXrt+3P+2hfJ+swty/u+9UNEcjuz+1WQZ+q0myvydigMhjHak/mp9f5cpnsT97KueFo1mdvymb7BFJO6+/3JhXBTRgwz/MdnU6COSzP/ZtD9PPtbw/kp92C9E5vb8uYer9zDGyvyzTmTKth4C/NuIbOBOxsz+B6iF4ALG0v3tIU7lP2Me/2xmC91byxT8wWPuReDvMPyBOBjoIYrm/i9m8v/VoxD+FmcxkLnTMP9qUSjZAeYC/FNhEe9vZuL+sOwlN6r3IP20AullWi5y/NpeJgPsBor/5+JpdUcC+v9OoqG0C3FO/wUpsOy3l0L+j92Sr/rPQv1AaaUnSpsE/hBUKOPNFtL/7p6r9BtPVP0kLzA2rw66/LfMXN06Brz+m5XpUQJi+v9WqC1+NUM6/vMYF8ujAqz8QTcQ/ySjMvxtQ21GEVaM/q5aLq2YJub8PeP/wxh/Cv6kQJD6h+sg/nl2JQG4unT/SiAKj9JuTP0RFiJH7d4w/N3XFmW8fob985ngVlRngP7eyg6yMttW/9gUETeQLsr95mRWcyKbOv036I1SO9bM/6tcnJi6MxT9Mobwy1jjJP+VEx6ZV2H8/6Xc0DGklsz9qgIPD8qzGPybpV8MaFs8/VihmuPVXwj+H0EvauVGjPzPCZOrw08o/HQaXwZFfwz/U6jUiZKPTP0GT85jywrk/dqIeKrWrrL8WrJ1gS2W2P1mKojSJvLW/UO7IicFCzb+r4QOaBz69PxCjr/9dW7W/yDG5j6tczz+14s+LKyDGP8ybPeVNQc+/10J+9p3Xzz/YapuKzZCOv24V4cwuzsq/NHwgM8tNtL88/37ORj+2vw==\",\"dtype\":\"float64\",\"shape\":[158]},\"PC6\":{\"__ndarray__\":\"OmnD+VkLn7+hpSIQIUi1v/wul5E3yry/gIC85uEupr9Mb9KqNM7Av8oFRW0EAGu/f7/HDnHKwb/4bGWhQeSwv2p5jhbVl8W/NIhTHwcbub8UrPgVso27v+t6V73m0bk/ilUtedk/cT+zhtPhW0PBP6xjaXXASLW/aFuXKxBYdD82IAk8sfeDPxHnHxnkqcK/4sroP7qJoz90zOILoQmsP1zJVynwCse/b8I+eCPEuz8DCR03HPyfP2+H29K3/Ya/f4+oNYBEpz/e4N7D7ZWWP2/xkAr+lLG/cjgLNV2Zgb8HuQ8HXqq6P4Rj0PEMRqM/1q3vOCSmuj8LH0hXM7OsP1Co2QzMua0/tk1gpMsBx78mowI+hEy9vw5ThIPFe5I/ElLlpU3svb9IZa+R+MZ8v98t6o7WCLI/C96Avg3Vxz8cF+pk9SmTP+nZ93yUAa8/v9lqvja4tj9ilNan/AyFvwP0tIkvAri/nsXaO6P+tz8nX3tUTM+pPwBef/vCocE/2wRF6dsQrL8+XgIZQga+v6IAN0m0RMI/W0faYxY3p79BqhypWiO1vxlYpK3mtL8/EmtVYXAjvD/jh449IB21v/bSBnET4Yw/Wxz6mficuD+p7/tBaLWpvz4iUQ/VorQ/x+MUyZkzlz9v+aucexHAPyiNRPh971c/2X8F+poTrD+lHpsYwFSwP0LZsZ0Fg68/3esIExv5rT8RY/tW3oKvv1jHF6tzTrW/oDiA6QVytL+apXuL7TmuP0jbKll33og/va7UvjzKqj+YLlE2yG/Cvw+ilrZBvc8/4wySmLLTrL/8RghZS52xv+hSwhwVf72/PGgPIIMswb8of0Hhs2C0P7A6EM9cqLu/8E9/dXr5rD+VZZfkZt+5v9obrV43bdE/K40d+pkmqT+5JqRUQMG+P/2v7j9Twrq/XjwbKcHZxj86hPBjQHWwv0vSA5imvsE/pU5HpAWl0L8xnYUnC3jQP9E23VYGo5S/S+Y2GQF9yL8l5J0xqTXCP3ioIehHQMe/cYuS8VjpxL/GVwP+MYW0Pywz/GZzErI/s2GAOm8Wwr+PGv6oHX7Ev5z4EubqjYq/V8VysN64tz/0p3LQzsmcvyeDpiyHEaI/AfhsnUOotD+tGrGoOW3HP8SpjSbFvqC/Z9PJAwFczD8RJjK00jyYP1nKI8fx8b+/UFemr9C+z7/JEWY/4Ae+vx20EZxLAL4/9o9rZgH+xL9zLVkOX6Czv2XLmY6zssk/NsYU+0NB078e+2LBp9PQv5J/9Wuk5NC/mk7k/J1unb8IvMO6Ple9P12o67se3rW/vYubK0y5w7+hI0l97Wy8vzZdWM0G0sA/WuTg4XVqrj81PrBsj7eJP5GzBVRt2dK/ZWtwOWqU0j+m6fATUY29PzRiEXc6BYI/dAfllDt/sz/6PTEr8zOOP+TXkblqaVo/w1pz5NvPwj9024vwgejIv9Dl2qa39bW/JARPWlT4wz8i5BcOeHm8v7OXhhVqIri/aBZczNoepr8UQ+/JoQWpPxiC9FYTzrc/Veh9hh2f0D+akJMvedbFvyIEhXPRAK6/UyI3n1ZO1z8CVVLfrte1vyALehWn9rI/myyBfMHHrD/cdm5OpyuKv0v45zv2V4i/VXdYcPYbsT/kcRBAJ/XTPzGLMdVRT8S/53ci+WLCrL9T8JhGE9jSPw==\",\"dtype\":\"float64\",\"shape\":[158]},\"PC7\":{\"__ndarray__\":\"cFq8B5aQn7+4BOx+GnuaP0MZccKxb6C/D/o1sNqxrT/xU8EsT6egP2N0ImPi9a6/41Y2cf9orT/CVGEEhwWRv8SYpFdAoZe/LDGYU15Kgz/MaJnoGEqcP6eJyuVA87S/0v2CeJgNqD+9yCNkYUGXvxZCrIifDb8/HGt6VTmMpb9qs5xwZBmzPzaJFPRiNqE/A8BxI1SXjL+brnCWwbO3P6MnqMMnG5g/pnuiramwuT8Zyy3ilbSovxPckOoPwpQ/HVLPaCaYcb8Kp44P3+uGP0fyafddZYE/uWOFMCc5yT9pXnqdqiu0v4iFn8F4+K2/igTpQLdPj79BKjouWomvv+zR6iguU56/LZIt6r5mtD8vO29HEwO4P9cJyoEy4LG/5SwEsBJepz/LVQCrtWuxP+i07QP49cU/FvLKTIcdtT/AUGIeT5zIPwsAJS2lVLa/NjEk21Cvk7/u6+EzNObGvxAcemznx2W/d68gUbKZvb9nPDnSMwhDP4CxlEz+Pb2/7C32nQKeoD+mVe/rdriZv+EfSkbpeGs/Kku9spgAs7/Mf4uBb/awv/pzqQ08qLE/YixS1yXEgr/RygJc1qeUvxAcowL6Rsi/ApS1N34Vmb8mu/4l0be0v1PEX3MkCI6/Rdc8cF5VuD/h/dPF4ESiP1KxRJGGX6g/+FSFP5zVeT9qdNoUL9Spv5oUp52i7Ia/13GE8BlSrz+4HfXA6xmgv/d6CZ/9eq0/Ox/dbMCqkb952DZmiYG3P0NiGThAv2a/nGJYJ5jqqb8eYpRqP0K2P9a7bW2rhcG/QQHz3MEkVb+YoA4oI3HEvyS9Mq8N/Mw/KprGbST+pT9ZBZQgEv+YP2EF8VYkAr4/fSDw0BSBsb8x4XPA6SWLv785Bb1Ee7a/TuCvoLXanz+w2eoPNIufP5SEVDVIHaG/SR9skeGmoL+BUH2C6wCfPwQ9TlC4E5+/V0TSQZuew7+Xzeg7VD98P3b99T9lb5S/tYP2t7zkqr+9UEtiYvutv/Kz1g7T/Ky/p0J7kvr1rz+Y5GMbHNqpv86rai1OVJg//hNjuk21jr+dOuH1zrfMPwyWj54G8aq/T3VzeyIKjD/ocbNgn1yVv464FlRbv7+/ChC7TAPcwb+/tiIU1o87v9q+q3dE4cO/fS0HLnIPrL/w/54Y83LHPxJ3P5gVZLu/0mIik8+DsT8+s/IQ5ODBPx/o2fQoSrU/PkdXzH1bu78jUSEmN6O9vxrV1GhnnMA/D9UU0KAipb9y9Qwg2f+PvwsqUhEhoLG/6Cyya6XHu79QODVeav+3vwVjQbDiMsA/LTjzAv9rmb8L930/HAGkv/xXAVkc5FA/uteZYi8Ltb9jcLvWYjbTP+TPYaKxD6U/k+80r0AJt788Gq7D5nCjP1pVGcQsCG6/zpB0Qj8prj8jB1svtoWsv4H1RxhH8qA/90FfkpzBlT+UjHb+HMfIP+uI3NnHJa6/rO7d4i2XwD/6QTCqCDzAv7aQX581hMC/MyQOzYMmvr+FmlUO94HCP46Mk1Qs4cC/0fTmsLn1jL8kKeocjVC0v3huuYVnt8C/6jcdrOOLyj8IDPznfCqzP7Myb8iSbqY/f0V3W9e1uj/VTKrFJV+qv8uGC5KGr8A/iqwLsxgYzr9to6CFYD2rP8AhdNJ6FVU/9KqZz++np7+D/LavSoewPw==\",\"dtype\":\"float64\",\"shape\":[158]},\"index\":[0,1,2,3,4,5,6,7,8,9,10,11,12,13,14,15,16,17,18,19,20,21,22,23,24,25,26,27,28,29,30,31,32,33,34,35,36,37,38,39,40,41,42,43,44,45,46,47,48,49,50,51,52,53,54,55,56,57,58,59,60,61,62,63,64,65,66,67,68,69,70,71,72,73,74,75,76,77,78,79,80,81,82,83,84,85,86,87,88,89,90,91,92,93,94,95,96,97,98,99,100,101,102,103,104,105,106,107,108,109,110,111,112,113,114,115,116,117,118,119,120,121,122,123,124,125,126,127,128,129,130,131,132,133,134,135,136,137,138,139,140,141,142,143,144,145,146,147,148,149,150,151,152,153,154,155,156,157]},\"selected\":{\"id\":\"1043\",\"type\":\"Selection\"},\"selection_policy\":{\"id\":\"1042\",\"type\":\"UnionRenderers\"}},\"id\":\"1030\",\"type\":\"ColumnDataSource\"},{\"attributes\":{\"bottom_units\":\"screen\",\"fill_alpha\":{\"value\":0.5},\"fill_color\":{\"value\":\"lightgrey\"},\"left_units\":\"screen\",\"level\":\"overlay\",\"line_alpha\":{\"value\":1.0},\"line_color\":{\"value\":\"black\"},\"line_dash\":[4,4],\"line_width\":{\"value\":2},\"render_mode\":\"css\",\"right_units\":\"screen\",\"top_units\":\"screen\"},\"id\":\"1044\",\"type\":\"BoxAnnotation\"},{\"attributes\":{\"formatter\":{\"id\":\"1038\",\"type\":\"BasicTickFormatter\"},\"ticker\":{\"id\":\"1021\",\"type\":\"BasicTicker\"}},\"id\":\"1020\",\"type\":\"LinearAxis\"},{\"attributes\":{\"overlay\":{\"id\":\"1044\",\"type\":\"BoxAnnotation\"}},\"id\":\"1004\",\"type\":\"BoxZoomTool\"},{\"attributes\":{\"ticker\":{\"id\":\"1016\",\"type\":\"BasicTicker\"}},\"id\":\"1019\",\"type\":\"Grid\"},{\"attributes\":{},\"id\":\"1003\",\"type\":\"PanTool\"},{\"attributes\":{},\"id\":\"1011\",\"type\":\"LinearScale\"},{\"attributes\":{\"fill_alpha\":{\"value\":0.85},\"fill_color\":{\"field\":\"Happiness Color\"},\"line_alpha\":{\"value\":0.85},\"line_color\":{\"value\":\"#1f77b4\"},\"size\":{\"units\":\"screen\",\"value\":8},\"x\":{\"field\":\"PC1\"},\"y\":{\"field\":\"PC2\"}},\"id\":\"1032\",\"type\":\"Circle\"},{\"attributes\":{},\"id\":\"1043\",\"type\":\"Selection\"},{\"attributes\":{},\"id\":\"1040\",\"type\":\"BasicTickFormatter\"},{\"attributes\":{\"callback\":null,\"tooltips\":[[\"Country\",\"@Country\"]]},\"id\":\"1002\",\"type\":\"HoverTool\"},{\"attributes\":{\"fill_alpha\":{\"value\":0.1},\"fill_color\":{\"value\":\"#1f77b4\"},\"line_alpha\":{\"value\":0.1},\"line_color\":{\"value\":\"#1f77b4\"},\"size\":{\"units\":\"screen\",\"value\":8},\"x\":{\"field\":\"PC1\"},\"y\":{\"field\":\"PC2\"}},\"id\":\"1033\",\"type\":\"Circle\"},{\"attributes\":{},\"id\":\"1038\",\"type\":\"BasicTickFormatter\"},{\"attributes\":{},\"id\":\"1005\",\"type\":\"ResetTool\"},{\"attributes\":{},\"id\":\"1042\",\"type\":\"UnionRenderers\"},{\"attributes\":{\"active_drag\":\"auto\",\"active_inspect\":\"auto\",\"active_multi\":null,\"active_scroll\":\"auto\",\"active_tap\":\"auto\",\"tools\":[{\"id\":\"1003\",\"type\":\"PanTool\"},{\"id\":\"1004\",\"type\":\"BoxZoomTool\"},{\"id\":\"1002\",\"type\":\"HoverTool\"},{\"id\":\"1005\",\"type\":\"ResetTool\"}]},\"id\":\"1025\",\"type\":\"Toolbar\"},{\"attributes\":{},\"id\":\"1016\",\"type\":\"BasicTicker\"},{\"attributes\":{\"formatter\":{\"id\":\"1040\",\"type\":\"BasicTickFormatter\"},\"ticker\":{\"id\":\"1016\",\"type\":\"BasicTicker\"}},\"id\":\"1015\",\"type\":\"LinearAxis\"},{\"attributes\":{},\"id\":\"1013\",\"type\":\"LinearScale\"},{\"attributes\":{},\"id\":\"1021\",\"type\":\"BasicTicker\"},{\"attributes\":{\"data_source\":{\"id\":\"1030\",\"type\":\"ColumnDataSource\"},\"glyph\":{\"id\":\"1032\",\"type\":\"Circle\"},\"hover_glyph\":null,\"muted_glyph\":null,\"nonselection_glyph\":{\"id\":\"1033\",\"type\":\"Circle\"},\"selection_glyph\":null,\"view\":{\"id\":\"1035\",\"type\":\"CDSView\"}},\"id\":\"1034\",\"type\":\"GlyphRenderer\"},{\"attributes\":{\"text\":\"\"},\"id\":\"1037\",\"type\":\"Title\"}],\"root_ids\":[\"1006\"]},\"title\":\"Bokeh Application\",\"version\":\"1.4.0\"}};\n",
       "  var render_items = [{\"docid\":\"3e9e2e95-7823-4bbe-abae-3ef1890f6646\",\"roots\":{\"1006\":\"114f6df7-df5d-48fc-be91-f72d5b82674e\"}}];\n",
       "  root.Bokeh.embed.embed_items_notebook(docs_json, render_items);\n",
       "\n",
       "  }\n",
       "  if (root.Bokeh !== undefined) {\n",
       "    embed_document(root);\n",
       "  } else {\n",
       "    var attempts = 0;\n",
       "    var timer = setInterval(function(root) {\n",
       "      if (root.Bokeh !== undefined) {\n",
       "        clearInterval(timer);\n",
       "        embed_document(root);\n",
       "      } else {\n",
       "        attempts++;\n",
       "        if (attempts > 100) {\n",
       "          clearInterval(timer);\n",
       "          console.log(\"Bokeh: ERROR: Unable to run BokehJS code because BokehJS library is missing\");\n",
       "        }\n",
       "      }\n",
       "    }, 10, root)\n",
       "  }\n",
       "})(window);"
      ],
      "application/vnd.bokehjs_exec.v0+json": ""
     },
     "metadata": {
      "application/vnd.bokehjs_exec.v0+json": {
       "id": "1006"
      }
     },
     "output_type": "display_data"
    }
   ],
   "source": [
    "hovertool = HoverTool(tooltips=[('Country', '@Country')])\n",
    "fig = figure(tools=[PanTool(), BoxZoomTool(), hovertool, ResetTool()],\n",
    "             plot_width=500, plot_height=400)\n",
    "fig.circle('PC1', 'PC2', source=pca_data, fill_color='Happiness Color',\n",
    "           size=8, alpha=0.85)\n",
    "show(fig)"
   ]
  },
  {
   "cell_type": "markdown",
   "metadata": {},
   "source": [
    "It is clear from the plot above that the first principal component seems to be a good indicator for the countries with a high happiness score (colored red)."
   ]
  },
  {
   "cell_type": "markdown",
   "metadata": {},
   "source": [
    "### Linear Discriminant Analysis (LDA)"
   ]
  },
  {
   "cell_type": "markdown",
   "metadata": {},
   "source": [
    "Linear Discriminant Analysis is a supervised learning technique that maximizes the between-category distances, while minimizing the within-category-distance."
   ]
  },
  {
   "cell_type": "markdown",
   "metadata": {},
   "source": [
    "We create labels for the data by introducing categories based on the happiness score."
   ]
  },
  {
   "cell_type": "code",
   "execution_count": 17,
   "metadata": {},
   "outputs": [],
   "source": [
    "happiness = pd.DataFrame()\n",
    "happiness['Country'] = data_2015.Country\n",
    "happiness['Happiness Label'] = pd.cut(data_2015['Happiness Score'],\n",
    "                                      bins=[0.0, 4.0, 7.0, 10.0],\n",
    "                                      labels=['unhappy', 'neutral', 'happy'])"
   ]
  },
  {
   "cell_type": "markdown",
   "metadata": {},
   "source": [
    "Most countries are in the 'neutral' category, few in 'happy' or 'unhappy'.  Note that the label names are not normative."
   ]
  },
  {
   "cell_type": "code",
   "execution_count": 18,
   "metadata": {},
   "outputs": [
    {
     "data": {
      "text/html": [
       "<div>\n",
       "<style scoped>\n",
       "    .dataframe tbody tr th:only-of-type {\n",
       "        vertical-align: middle;\n",
       "    }\n",
       "\n",
       "    .dataframe tbody tr th {\n",
       "        vertical-align: top;\n",
       "    }\n",
       "\n",
       "    .dataframe thead th {\n",
       "        text-align: right;\n",
       "    }\n",
       "</style>\n",
       "<table border=\"1\" class=\"dataframe\">\n",
       "  <thead>\n",
       "    <tr style=\"text-align: right;\">\n",
       "      <th></th>\n",
       "      <th>Country</th>\n",
       "    </tr>\n",
       "    <tr>\n",
       "      <th>Happiness Label</th>\n",
       "      <th></th>\n",
       "    </tr>\n",
       "  </thead>\n",
       "  <tbody>\n",
       "    <tr>\n",
       "      <th>unhappy</th>\n",
       "      <td>21</td>\n",
       "    </tr>\n",
       "    <tr>\n",
       "      <th>neutral</th>\n",
       "      <td>122</td>\n",
       "    </tr>\n",
       "    <tr>\n",
       "      <th>happy</th>\n",
       "      <td>15</td>\n",
       "    </tr>\n",
       "  </tbody>\n",
       "</table>\n",
       "</div>"
      ],
      "text/plain": [
       "                 Country\n",
       "Happiness Label         \n",
       "unhappy               21\n",
       "neutral              122\n",
       "happy                 15"
      ]
     },
     "execution_count": 18,
     "metadata": {},
     "output_type": "execute_result"
    }
   ],
   "source": [
    "happiness.groupby('Happiness Label').count()"
   ]
  },
  {
   "cell_type": "markdown",
   "metadata": {},
   "source": [
    "LDA is a supervised method, so we use the happiness label as output."
   ]
  },
  {
   "cell_type": "code",
   "execution_count": 19,
   "metadata": {},
   "outputs": [],
   "source": [
    "target = happiness['Happiness Label'].values"
   ]
  },
  {
   "cell_type": "code",
   "execution_count": 20,
   "metadata": {},
   "outputs": [],
   "source": [
    "lda = LinearDiscriminantAnalysis(n_components=2)\n",
    "lda_data = pd.DataFrame(lda.fit(prepared_data, target) \\\n",
    "                           .transform(prepared_data))\n",
    "lda_data.columns = ['C1', 'C2']"
   ]
  },
  {
   "cell_type": "markdown",
   "metadata": {},
   "source": [
    "The LDA produces two components for each country, and we can plot the countries using those similar as we did for the PCA."
   ]
  },
  {
   "cell_type": "code",
   "execution_count": 21,
   "metadata": {},
   "outputs": [],
   "source": [
    "lda_data['Country'] = data_2015['Country']\n",
    "lda_data['Happiness Score'] = data_2015['Happiness Score']\n",
    "lda_data['Happiness Color'] = pd.cut(data_2015['Happiness Score'],\n",
    "                                     bins=[0.0, 4.0, 7.0, 10.0],\n",
    "                                     labels=['blue', 'yellow', 'red'])"
   ]
  },
  {
   "cell_type": "code",
   "execution_count": 22,
   "metadata": {},
   "outputs": [
    {
     "data": {
      "text/html": [
       "\n",
       "\n",
       "\n",
       "\n",
       "\n",
       "\n",
       "  <div class=\"bk-root\" id=\"133f2fa2-4d2f-4bf2-a4d6-2d5c94bc5df7\" data-root-id=\"1103\"></div>\n"
      ]
     },
     "metadata": {},
     "output_type": "display_data"
    },
    {
     "data": {
      "application/javascript": [
       "(function(root) {\n",
       "  function embed_document(root) {\n",
       "    \n",
       "  var docs_json = {\"208ae2d9-3d3c-4831-b9ab-d99d8696391b\":{\"roots\":{\"references\":[{\"attributes\":{\"below\":[{\"id\":\"1112\",\"type\":\"LinearAxis\"}],\"center\":[{\"id\":\"1116\",\"type\":\"Grid\"},{\"id\":\"1121\",\"type\":\"Grid\"}],\"left\":[{\"id\":\"1117\",\"type\":\"LinearAxis\"}],\"plot_height\":400,\"plot_width\":500,\"renderers\":[{\"id\":\"1131\",\"type\":\"GlyphRenderer\"}],\"title\":{\"id\":\"1143\",\"type\":\"Title\"},\"toolbar\":{\"id\":\"1122\",\"type\":\"Toolbar\"},\"x_range\":{\"id\":\"1104\",\"type\":\"DataRange1d\"},\"x_scale\":{\"id\":\"1108\",\"type\":\"LinearScale\"},\"y_range\":{\"id\":\"1106\",\"type\":\"DataRange1d\"},\"y_scale\":{\"id\":\"1110\",\"type\":\"LinearScale\"}},\"id\":\"1103\",\"subtype\":\"Figure\",\"type\":\"Plot\"},{\"attributes\":{\"data_source\":{\"id\":\"1127\",\"type\":\"ColumnDataSource\"},\"glyph\":{\"id\":\"1129\",\"type\":\"Circle\"},\"hover_glyph\":null,\"muted_glyph\":null,\"nonselection_glyph\":{\"id\":\"1130\",\"type\":\"Circle\"},\"selection_glyph\":null,\"view\":{\"id\":\"1132\",\"type\":\"CDSView\"}},\"id\":\"1131\",\"type\":\"GlyphRenderer\"},{\"attributes\":{},\"id\":\"1110\",\"type\":\"LinearScale\"},{\"attributes\":{\"formatter\":{\"id\":\"1146\",\"type\":\"BasicTickFormatter\"},\"ticker\":{\"id\":\"1113\",\"type\":\"BasicTicker\"}},\"id\":\"1112\",\"type\":\"LinearAxis\"},{\"attributes\":{},\"id\":\"1118\",\"type\":\"BasicTicker\"},{\"attributes\":{\"text\":\"\"},\"id\":\"1143\",\"type\":\"Title\"},{\"attributes\":{},\"id\":\"1113\",\"type\":\"BasicTicker\"},{\"attributes\":{\"fill_alpha\":{\"value\":0.85},\"fill_color\":{\"field\":\"Happiness Color\"},\"line_alpha\":{\"value\":0.85},\"line_color\":{\"value\":\"#1f77b4\"},\"size\":{\"units\":\"screen\",\"value\":8},\"x\":{\"field\":\"C1\"},\"y\":{\"field\":\"C2\"}},\"id\":\"1129\",\"type\":\"Circle\"},{\"attributes\":{\"ticker\":{\"id\":\"1113\",\"type\":\"BasicTicker\"}},\"id\":\"1116\",\"type\":\"Grid\"},{\"attributes\":{\"source\":{\"id\":\"1127\",\"type\":\"ColumnDataSource\"}},\"id\":\"1132\",\"type\":\"CDSView\"},{\"attributes\":{\"dimension\":1,\"ticker\":{\"id\":\"1118\",\"type\":\"BasicTicker\"}},\"id\":\"1121\",\"type\":\"Grid\"},{\"attributes\":{\"formatter\":{\"id\":\"1144\",\"type\":\"BasicTickFormatter\"},\"ticker\":{\"id\":\"1118\",\"type\":\"BasicTicker\"}},\"id\":\"1117\",\"type\":\"LinearAxis\"},{\"attributes\":{},\"id\":\"1144\",\"type\":\"BasicTickFormatter\"},{\"attributes\":{},\"id\":\"1100\",\"type\":\"PanTool\"},{\"attributes\":{\"callback\":null,\"tooltips\":[[\"Country\",\"@Country\"]]},\"id\":\"1099\",\"type\":\"HoverTool\"},{\"attributes\":{},\"id\":\"1148\",\"type\":\"UnionRenderers\"},{\"attributes\":{},\"id\":\"1146\",\"type\":\"BasicTickFormatter\"},{\"attributes\":{\"callback\":null,\"data\":{\"C1\":{\"__ndarray__\":\"A8Q6fCW3B8DOXp8TaK4JwHZ0ReAV/QfADQoGkWJBB8BPhy1oNlAIwBLRaLWxUwXA64Tb295BCMBrSuihUvIFwB3rAFRlzAbAkJdLiUfVBcBxTQCsQg4JwPqJ5pUDFQTAE7odkp7cA8A7ph2JqmkFwGX5UM3dAwXAg4kHRGo/AsAAecsJbIL/vzokOXq6EALA9gmBArje/78bviP6GAz+v73gGtYmiQLAmFIOq1lU/L+tY/98n5v/v9+uerTL5v+/KWydbCtQ/7/jNQvkSx77vxUzOcLEDAHA6NoGuR3/9r+SECEkvFX1v2S1WOSj3Pm/79ffvWK99r8AZzj+fQH1vwpNxWUBk/a/Cw01uilH/r+jLXm9xHT6v7+Vi6GYcvO/r1y8zuvc9b+JRPhFpin3v/4jfQkb1uu/QvqBB7NC7r+Dii9KUBnvv9UyU8we4vG/z0g/jlDP7r9nqobE0UHgvylA2HObDvC/jIm/AtyG3b+h8CgTaR/wv5QoujK1J+W/X83Cxo8P5L+71Xa8HvLxv/mpn4FEk+C/sj8e40GF8b8zPGT+ODDmv9kTCCwa5NK/Y7BDnY4Oy79kc751JZ3ov/YAtPvUD+K/AnLm0RCa478I/CiM8DPhv/3WMnyA/8e/FmfwaRHg3L/ILKpgLh3mvwcRpdoP8dy/TKqNWymsyb8NJBFvmXzTv9mbt+LtDtK/HU+vmE7R4b/lPcUKMBTbv6Y/gPut+Ou/rm5iokisjL9PJqMf3peSv7r7A0V5mcQ/anuKNIQr1T8Qi3fxkh/Wv2ITEZXmGNw/+qOY09a7w7+L9rmEfQl2v7iw3P6Vp8S/sFzp/fxvsT+/qQ+au9XaP6WO5BTSx+e/fKMNi0hx3j+iA8xB8n++v5QPilmAMOs/KYHdkVmS3T/zzT6kI4TcP4i769MbDXc/faD7z91S7j8Wqc1aXIbWP29X6GIqp+w/XPrr7rcwnr+3hYRDHS3nP0ANopfV1Nw/IF21c9DXzT9hubP2aAPlP/ac6Gj6UrS/KUX5BLr63j8BIP50a7PzP+iuvVmnR+k/IU/FkTNr6D8xHknjFBXjP7jo2pQJaOA/x2fkusPY5z+kcfKGECPwP5Nr51kkBus/HsHSSJFL7T+4Qbm67S3sP/VTtwntuug/cZ8/X2Ls6z8ZTVuKLkTjP3uQqQDS9+w/1jT0f5D60D9fAZjVGV3zP3hQbPJkFPE/dB7UW32Z6D/it6EGgaHmPxn4TSs2wPA/z4t04hlL4j8HZQUt+5TaPxjrKSdlEuU/juVszxBN8D8bZtwwFlPyP7TUHAEEpPM/Y27pQpa77z8rtYPiw0jzP+JIWcYLfPk/51AYxMKm9T9wQnIypt4AQLoGeTPHl+Y/+1sd5vRo/T/EWcm6pVj0P9qW+zllK/0/RuTygIQq/j+m+KRXa1T+P9WlPTEFUfg/qd+u2etNAEA7D3Of9yH5P0HjL0FajgBA0PK6Cn1gAkDUOHmDHtH7P7VAQVSPigFAlhbX1lJmAUBx2pU5Rd0DQO6+lIisOwNAFa4SWX1bBUBT8mS3iIgAQE2zOXNnPQBAqIQGJKbpA0AkwEJU6+kBQKIlsNFWkAJAVtWlmv9dBkBXte0iPW8FQJLdKCoDNwBAYKDe3nwdCkA9DU+FQR0KQPtu6l2CNgZAuUa7NoBbCED7ZWyFZSoOQA==\",\"dtype\":\"float64\",\"shape\":[158]},\"C2\":{\"__ndarray__\":\"MEH/qBY19z8ad9k45VShP3MnUe7qLwBAcCGupTwD9D/zUoRnB8L1P9gZFhXQWfU/V0DgOdKP9T/vhDkCP8D9P3TODWVk0wBAFrBjZ6He9z8DDfT5h93qv980YY8aE8i/BwsMdz+Ivj/YkLA7za/DP5jcIe5ErHe/xtXLx4NA0b9TBE2qdXnwP60t8OuSEvA/kiJ5r5K7gz+LrTKWvqX1P0eAIJNDcPc/O2ecW1FC7j96hk9oRg/yv7WU8PeVg/0/pYzQfM9K4L/6PgZgnz3EP8Fs3E56fM+/LNnCBJyeAUCSgGyeMwbcv9RQV+gVP/K/gR2f4C6G+b9CtjzwFYDgPxMdZlgLLuq/ZoowyLCJtT9oSbNw/FyvP95SX3ucDva/XvZ36KlB1j9rVRP+gBzvvybPY1j1api/F3Rgsby1pj9xqVTuPZnpv2L2c0tqVuG/bbrjB0cEwj/HC2KoD3X1P07pzPqzU/u/fTB78Jwn6b9WWJ1mpmzzvy7vtUrN8bS/Hc9Y1SkNzj/2tY83Y4z8v66loChExbI/DMuFr3b767/Ekq/4i/e8v5l+GehrtOu/15bkcErv7b9xXkG3IjEDwD625/h55eU/XkImBtCl678dvUUuKcjiv9TJd9F6QPO/08UHN5CEwL9/SzugC8X6v8DrHhSMrui/yLEsOqmE/7/ddtruYEbqvxYsn5s5M9a/kXX8P1hi578zK8dXnMjlv8Iawp0nDeS/Pjv/X07H5T8bgbJcxDKrP45iAwGXh/c/U2rWd8wq7L+eW/V+yc/CvytaOn9mlbY/1bsKrelU6r/TEQLR+znUv3yV42zkNsu/uC84ckl+7T8PMsuLz4zhv+6V68BhYs4/yVaYVUFn4b/tcqpe0D/pvw2B8cTBN/G/RxGDTe8r3T/5rYc/ee72vwaz6mCkjfe/tdOAiJ2v978oubc84tL0v1kqaOX1W9k/fa42tPSpCEBRwS8C2MHZvw0JVlBd3e2/VjygeS8F6D895YQ3RYLrv1rq9rTq7Pi/IvLdvJt1uj/nFx4wf1mOv9COGl+oQ/8/pZhVY73A57+cb7rv/ofov4LQsEJoKwTADFxmsTUH7r+OKZ+JeTP8v9xgd9QOyda/nMSngdhX5D/XtLLUKpjwvxkItNP3QeK/k31u1ggt5j/kMKBZp3PDvymozh9GPvi/w95FUkIj8L+1Mk+4f47tv00PyoZkTYQ/9W5uInVN0r9BCFpbtv3IP2O6u1xO9tw/pAxlfiWA2b9l0GuUiQT0P5DFwzenQMU/02F3oxHVwj9Gil05YzDxP+XYbhjlQNY/3TqBLN7M1T+oeDTEg0vUPyvB/5Fi/fk/Lgfis7DV9b+XoR2HzBjRv0TWU90NKwVA2WanuVLa+D/k3lnolQP0P6hnMEwNWtE/k9kI9kAUxD9linJuUlr8v4NQghHnxPK/CAIldWGG07/rAJygFJzvv4KLuywVedM/NqBrb51Luj+eJwmuh5TiP0Q0l56JYtE/+0E3eOkGqz8Tu5Q6m+Psv8jrrn2g/vA/XXdaR0cA8j84a7k+iVy5PxjElFmP0Ke/qjkFpyj/+T9SoQleUCXOv35bDvHjNPI/Qp2zYY3t7j+f5RB0BfThP09pRzcGLO0/K5oKN5gzDUBC9Ay35s/oPwz/6Z9pUe0/jSDSjrcV2j/LjzmowxTuPw==\",\"dtype\":\"float64\",\"shape\":[158]},\"Country\":[\"Switzerland\",\"Iceland\",\"Denmark\",\"Norway\",\"Canada\",\"Finland\",\"Netherlands\",\"Sweden\",\"New Zealand\",\"Australia\",\"Israel\",\"Costa Rica\",\"Austria\",\"Mexico\",\"United States\",\"Brazil\",\"Luxembourg\",\"Ireland\",\"Belgium\",\"United Arab Emirates\",\"United Kingdom\",\"Oman\",\"Venezuela\",\"Singapore\",\"Panama\",\"Germany\",\"Chile\",\"Qatar\",\"France\",\"Argentina\",\"Czech Republic\",\"Uruguay\",\"Colombia\",\"Thailand\",\"Saudi Arabia\",\"Spain\",\"Malta\",\"Taiwan\",\"Kuwait\",\"Suriname\",\"Trinidad and Tobago\",\"El Salvador\",\"Guatemala\",\"Uzbekistan\",\"Slovakia\",\"Japan\",\"South Korea\",\"Ecuador\",\"Bahrain\",\"Italy\",\"Bolivia\",\"Moldova\",\"Paraguay\",\"Kazakhstan\",\"Slovenia\",\"Lithuania\",\"Nicaragua\",\"Peru\",\"Belarus\",\"Poland\",\"Malaysia\",\"Croatia\",\"Libya\",\"Russia\",\"Jamaica\",\"North Cyprus\",\"Cyprus\",\"Algeria\",\"Kosovo\",\"Turkmenistan\",\"Mauritius\",\"Hong Kong\",\"Estonia\",\"Indonesia\",\"Vietnam\",\"Turkey\",\"Kyrgyzstan\",\"Nigeria\",\"Bhutan\",\"Azerbaijan\",\"Pakistan\",\"Jordan\",\"Montenegro\",\"China\",\"Zambia\",\"Romania\",\"Serbia\",\"Portugal\",\"Latvia\",\"Philippines\",\"Somaliland region\",\"Morocco\",\"Macedonia\",\"Mozambique\",\"Albania\",\"Bosnia and Herzegovina\",\"Lesotho\",\"Dominican Republic\",\"Laos\",\"Mongolia\",\"Swaziland\",\"Greece\",\"Lebanon\",\"Hungary\",\"Honduras\",\"Tajikistan\",\"Tunisia\",\"Palestinian Territories\",\"Bangladesh\",\"Iran\",\"Ukraine\",\"Iraq\",\"South Africa\",\"Ghana\",\"Zimbabwe\",\"Liberia\",\"India\",\"Sudan\",\"Haiti\",\"Congo (Kinshasa)\",\"Nepal\",\"Ethiopia\",\"Sierra Leone\",\"Mauritania\",\"Kenya\",\"Djibouti\",\"Armenia\",\"Botswana\",\"Myanmar\",\"Georgia\",\"Malawi\",\"Sri Lanka\",\"Cameroon\",\"Bulgaria\",\"Egypt\",\"Yemen\",\"Angola\",\"Mali\",\"Congo (Brazzaville)\",\"Comoros\",\"Uganda\",\"Senegal\",\"Gabon\",\"Niger\",\"Cambodia\",\"Tanzania\",\"Madagascar\",\"Central African Republic\",\"Chad\",\"Guinea\",\"Ivory Coast\",\"Burkina Faso\",\"Afghanistan\",\"Rwanda\",\"Benin\",\"Syria\",\"Burundi\",\"Togo\"],\"Happiness Color\":[\"red\",\"red\",\"red\",\"red\",\"red\",\"red\",\"red\",\"red\",\"red\",\"red\",\"red\",\"red\",\"red\",\"red\",\"red\",\"yellow\",\"yellow\",\"yellow\",\"yellow\",\"yellow\",\"yellow\",\"yellow\",\"yellow\",\"yellow\",\"yellow\",\"yellow\",\"yellow\",\"yellow\",\"yellow\",\"yellow\",\"yellow\",\"yellow\",\"yellow\",\"yellow\",\"yellow\",\"yellow\",\"yellow\",\"yellow\",\"yellow\",\"yellow\",\"yellow\",\"yellow\",\"yellow\",\"yellow\",\"yellow\",\"yellow\",\"yellow\",\"yellow\",\"yellow\",\"yellow\",\"yellow\",\"yellow\",\"yellow\",\"yellow\",\"yellow\",\"yellow\",\"yellow\",\"yellow\",\"yellow\",\"yellow\",\"yellow\",\"yellow\",\"yellow\",\"yellow\",\"yellow\",\"yellow\",\"yellow\",\"yellow\",\"yellow\",\"yellow\",\"yellow\",\"yellow\",\"yellow\",\"yellow\",\"yellow\",\"yellow\",\"yellow\",\"yellow\",\"yellow\",\"yellow\",\"yellow\",\"yellow\",\"yellow\",\"yellow\",\"yellow\",\"yellow\",\"yellow\",\"yellow\",\"yellow\",\"yellow\",\"yellow\",\"yellow\",\"yellow\",\"yellow\",\"yellow\",\"yellow\",\"yellow\",\"yellow\",\"yellow\",\"yellow\",\"yellow\",\"yellow\",\"yellow\",\"yellow\",\"yellow\",\"yellow\",\"yellow\",\"yellow\",\"yellow\",\"yellow\",\"yellow\",\"yellow\",\"yellow\",\"yellow\",\"yellow\",\"yellow\",\"yellow\",\"yellow\",\"yellow\",\"yellow\",\"yellow\",\"yellow\",\"yellow\",\"yellow\",\"yellow\",\"yellow\",\"yellow\",\"yellow\",\"yellow\",\"yellow\",\"yellow\",\"yellow\",\"yellow\",\"yellow\",\"yellow\",\"yellow\",\"yellow\",\"blue\",\"blue\",\"blue\",\"blue\",\"blue\",\"blue\",\"blue\",\"blue\",\"blue\",\"blue\",\"blue\",\"blue\",\"blue\",\"blue\",\"blue\",\"blue\",\"blue\",\"blue\",\"blue\",\"blue\",\"blue\"],\"Happiness Score\":{\"__ndarray__\":\"DQIrhxZZHkBYObTIdj4eQM/3U+OlGx5ASgwCK4cWHkBpke18P7UdQDq0yHa+nx1AT42XbhKDHUDb+X5qvHQdQL+fGi/dJB1AiUFg5dAiHUDpJjEIrBwdQIGVQ4ts5xxAzczMzMzMHEBzaJHtfL8cQGDl0CLbeRxAO99PjZfuG0BjEFg5tMgbQMP1KFyPwhtAc2iR7Xy/G0C0yHa+n5obQCyHFtnOdxtAtvP91HhpG0A9CtejcD0bQP3UeOkmMRtAv58aL90kG0AAAAAAAAAbQK5H4XoUrhpAjGzn+6lxGkDNzMzMzEwaQLKd76fGSxpAhetRuB4FGkBxPQrXo/AZQJzEILBy6BlAUrgehevRGUC/nxov3aQZQDeJQWDlUBlAaZHtfD81GUD91HjpJjEZQK5H4XoULhlA+n5qvHQTGUB46SYxCKwYQIXrUbgehRhAyqFFtvN9GEBPjZduEgMYQHsUrkfh+hdAppvEILDyF0BWDi2yne8XQGZmZmZm5hdA16NwPQrXF0CXbhKDwMoXQI/C9ShcjxdAdJMYBFaOF0BPjZduEoMXQOxRuB6FaxdAMQisHFpkF0ChRbbz/VQXQBxaZDvfTxdAsp3vp8ZLF0CNl24Sg0AXQESLbOf7KRdAFK5H4XoUF0Dvp8ZLNwkXQGq8dJMYBBdAd76fGi/dFkC8dJMYBNYWQEjhehSuxxZAqMZLN4nBFkDsUbgehWsWQEFg5dAiWxZA/dR46SYxFkCcxCCwcugVQEw3iUFg5RVAne+nxku3FUB/arx0k5gVQHE9CtejcBVAiBbZzvdTFUC/nxov3SQVQN9PjZduEhVAT42XbhIDFUANAiuHFtkUQC2yne+nxhRA+FPjpZvEFED4U+Olm8QUQI/C9ShcjxRAarx0kxiEFEDl0CLb+X4UQMqhRbbzfRRAnMQgsHJoFEAxCKwcWmQUQJhuEoPAShRA7Xw/NV46FEBaZDvfTw0UQLpJDAIrBxRA/Knx0k3iE0C8dJMYBNYTQLKd76fGyxNAZDvfT42XE0AK16NwPYoTQBsv3SQGgRNA5dAi2/l+E0ArhxbZzncTQCGwcmiRbRNAQWDl0CJbE0AzMzMzMzMTQPT91HjpJhNAv58aL90kE0Db+X5qvPQSQFyPwvUo3BJALbKd76fGEkBYObTIdr4SQNNNYhBYuRJAaJHtfD+1EkDEILByaJESQNV46SYxiBJAcT0K16NwEkBjEFg5tEgSQMP1KFyPQhJAMzMzMzMzEkDfT42XbhISQMQgsHJoERJAdJMYBFYOEkA/NV66SQwSQLpJDAIrBxJAWDm0yHa+EUCTGARWDq0RQGDl0CLbeRFAZmZmZmZmEUCHFtnO91MRQO18PzVeOhFA46WbxCAwEUBeukkMAisRQC/dJAaBFRFANV66SQwCEUCsHFpkO98QQC2yne+nxhBAAiuHFtlOEEBvEoPAyiEQQPYoXI/C9Q9AtvP91HjpD0DazvdT46UPQKabxCCwcg9ACKwcWmQ7D0BfukkMAisPQMP1KFyPwg5AWmQ730+NDkBzaJHtfD8OQKabxCCwcg1ABoGVQ4tsDUC8dJMYBFYNQHNoke18Pw1APQrXo3A9DUAYBFYOLbIMQJqZmZmZmQxAuB6F61G4C0C4HoXrUbgKQEA1XrpJDAhAPQrXo3A9B0CDwMqhRbYGQA==\",\"dtype\":\"float64\",\"shape\":[158]},\"index\":[0,1,2,3,4,5,6,7,8,9,10,11,12,13,14,15,16,17,18,19,20,21,22,23,24,25,26,27,28,29,30,31,32,33,34,35,36,37,38,39,40,41,42,43,44,45,46,47,48,49,50,51,52,53,54,55,56,57,58,59,60,61,62,63,64,65,66,67,68,69,70,71,72,73,74,75,76,77,78,79,80,81,82,83,84,85,86,87,88,89,90,91,92,93,94,95,96,97,98,99,100,101,102,103,104,105,106,107,108,109,110,111,112,113,114,115,116,117,118,119,120,121,122,123,124,125,126,127,128,129,130,131,132,133,134,135,136,137,138,139,140,141,142,143,144,145,146,147,148,149,150,151,152,153,154,155,156,157]},\"selected\":{\"id\":\"1149\",\"type\":\"Selection\"},\"selection_policy\":{\"id\":\"1148\",\"type\":\"UnionRenderers\"}},\"id\":\"1127\",\"type\":\"ColumnDataSource\"},{\"attributes\":{},\"id\":\"1149\",\"type\":\"Selection\"},{\"attributes\":{\"active_drag\":\"auto\",\"active_inspect\":\"auto\",\"active_multi\":null,\"active_scroll\":\"auto\",\"active_tap\":\"auto\",\"tools\":[{\"id\":\"1100\",\"type\":\"PanTool\"},{\"id\":\"1101\",\"type\":\"BoxZoomTool\"},{\"id\":\"1099\",\"type\":\"HoverTool\"},{\"id\":\"1102\",\"type\":\"ResetTool\"}]},\"id\":\"1122\",\"type\":\"Toolbar\"},{\"attributes\":{\"overlay\":{\"id\":\"1150\",\"type\":\"BoxAnnotation\"}},\"id\":\"1101\",\"type\":\"BoxZoomTool\"},{\"attributes\":{},\"id\":\"1102\",\"type\":\"ResetTool\"},{\"attributes\":{\"bottom_units\":\"screen\",\"fill_alpha\":{\"value\":0.5},\"fill_color\":{\"value\":\"lightgrey\"},\"left_units\":\"screen\",\"level\":\"overlay\",\"line_alpha\":{\"value\":1.0},\"line_color\":{\"value\":\"black\"},\"line_dash\":[4,4],\"line_width\":{\"value\":2},\"render_mode\":\"css\",\"right_units\":\"screen\",\"top_units\":\"screen\"},\"id\":\"1150\",\"type\":\"BoxAnnotation\"},{\"attributes\":{\"fill_alpha\":{\"value\":0.1},\"fill_color\":{\"value\":\"#1f77b4\"},\"line_alpha\":{\"value\":0.1},\"line_color\":{\"value\":\"#1f77b4\"},\"size\":{\"units\":\"screen\",\"value\":8},\"x\":{\"field\":\"C1\"},\"y\":{\"field\":\"C2\"}},\"id\":\"1130\",\"type\":\"Circle\"},{\"attributes\":{\"callback\":null},\"id\":\"1104\",\"type\":\"DataRange1d\"},{\"attributes\":{},\"id\":\"1108\",\"type\":\"LinearScale\"},{\"attributes\":{\"callback\":null},\"id\":\"1106\",\"type\":\"DataRange1d\"}],\"root_ids\":[\"1103\"]},\"title\":\"Bokeh Application\",\"version\":\"1.4.0\"}};\n",
       "  var render_items = [{\"docid\":\"208ae2d9-3d3c-4831-b9ab-d99d8696391b\",\"roots\":{\"1103\":\"133f2fa2-4d2f-4bf2-a4d6-2d5c94bc5df7\"}}];\n",
       "  root.Bokeh.embed.embed_items_notebook(docs_json, render_items);\n",
       "\n",
       "  }\n",
       "  if (root.Bokeh !== undefined) {\n",
       "    embed_document(root);\n",
       "  } else {\n",
       "    var attempts = 0;\n",
       "    var timer = setInterval(function(root) {\n",
       "      if (root.Bokeh !== undefined) {\n",
       "        clearInterval(timer);\n",
       "        embed_document(root);\n",
       "      } else {\n",
       "        attempts++;\n",
       "        if (attempts > 100) {\n",
       "          clearInterval(timer);\n",
       "          console.log(\"Bokeh: ERROR: Unable to run BokehJS code because BokehJS library is missing\");\n",
       "        }\n",
       "      }\n",
       "    }, 10, root)\n",
       "  }\n",
       "})(window);"
      ],
      "application/vnd.bokehjs_exec.v0+json": ""
     },
     "metadata": {
      "application/vnd.bokehjs_exec.v0+json": {
       "id": "1103"
      }
     },
     "output_type": "display_data"
    }
   ],
   "source": [
    "hovertool = HoverTool(tooltips=[('Country', '@Country')])\n",
    "fig = figure(tools=[PanTool(), BoxZoomTool(), hovertool, ResetTool()],\n",
    "             plot_width=500, plot_height=400)\n",
    "fig.circle('C1', 'C2', source=lda_data, fill_color='Happiness Color',\n",
    "           size=8, alpha=0.85)\n",
    "show(fig)"
   ]
  },
  {
   "cell_type": "markdown",
   "metadata": {},
   "source": [
    "### t-SNE"
   ]
  },
  {
   "cell_type": "code",
   "execution_count": 39,
   "metadata": {},
   "outputs": [],
   "source": [
    "tsne_data = pd.DataFrame(TSNE(learning_rate=70).fit_transform(prepared_data))\n",
    "tsne_data.columns = ['C1', 'C2']"
   ]
  },
  {
   "cell_type": "code",
   "execution_count": 42,
   "metadata": {},
   "outputs": [],
   "source": [
    "tsne_data['Country'] = data_2015['Country']\n",
    "tsne_data['Happiness Score'] = data_2015['Happiness Score']\n",
    "tsne_data['Happiness Color'] = pd.cut(data_2015['Happiness Score'],\n",
    "                                      bins=[0.0, 4.0, 7.0, 10.0],\n",
    "                                      labels=['blue', 'yellow', 'red'])"
   ]
  },
  {
   "cell_type": "code",
   "execution_count": 43,
   "metadata": {},
   "outputs": [
    {
     "data": {
      "text/html": [
       "\n",
       "\n",
       "\n",
       "\n",
       "\n",
       "\n",
       "  <div class=\"bk-root\" id=\"fd0fe6ec-3e88-4dad-b0b9-d9d274a27b2e\" data-root-id=\"1875\"></div>\n"
      ]
     },
     "metadata": {},
     "output_type": "display_data"
    },
    {
     "data": {
      "application/javascript": [
       "(function(root) {\n",
       "  function embed_document(root) {\n",
       "    \n",
       "  var docs_json = {\"199dd818-5fb6-41a3-928c-9af95e3ef9d2\":{\"roots\":{\"references\":[{\"attributes\":{\"below\":[{\"id\":\"1884\",\"type\":\"LinearAxis\"}],\"center\":[{\"id\":\"1888\",\"type\":\"Grid\"},{\"id\":\"1893\",\"type\":\"Grid\"}],\"left\":[{\"id\":\"1889\",\"type\":\"LinearAxis\"}],\"plot_height\":400,\"plot_width\":500,\"renderers\":[{\"id\":\"1903\",\"type\":\"GlyphRenderer\"}],\"title\":{\"id\":\"1969\",\"type\":\"Title\"},\"toolbar\":{\"id\":\"1894\",\"type\":\"Toolbar\"},\"x_range\":{\"id\":\"1876\",\"type\":\"DataRange1d\"},\"x_scale\":{\"id\":\"1880\",\"type\":\"LinearScale\"},\"y_range\":{\"id\":\"1878\",\"type\":\"DataRange1d\"},\"y_scale\":{\"id\":\"1882\",\"type\":\"LinearScale\"}},\"id\":\"1875\",\"subtype\":\"Figure\",\"type\":\"Plot\"},{\"attributes\":{},\"id\":\"1975\",\"type\":\"Selection\"},{\"attributes\":{\"dimension\":1,\"ticker\":{\"id\":\"1890\",\"type\":\"BasicTicker\"}},\"id\":\"1893\",\"type\":\"Grid\"},{\"attributes\":{\"ticker\":{\"id\":\"1885\",\"type\":\"BasicTicker\"}},\"id\":\"1888\",\"type\":\"Grid\"},{\"attributes\":{},\"id\":\"1872\",\"type\":\"PanTool\"},{\"attributes\":{\"fill_alpha\":{\"value\":0.1},\"fill_color\":{\"value\":\"#1f77b4\"},\"line_alpha\":{\"value\":0.1},\"line_color\":{\"value\":\"#1f77b4\"},\"size\":{\"units\":\"screen\",\"value\":8},\"x\":{\"field\":\"C1\"},\"y\":{\"field\":\"C2\"}},\"id\":\"1902\",\"type\":\"Circle\"},{\"attributes\":{\"formatter\":{\"id\":\"1972\",\"type\":\"BasicTickFormatter\"},\"ticker\":{\"id\":\"1885\",\"type\":\"BasicTicker\"}},\"id\":\"1884\",\"type\":\"LinearAxis\"},{\"attributes\":{},\"id\":\"1882\",\"type\":\"LinearScale\"},{\"attributes\":{\"fill_alpha\":{\"value\":0.85},\"fill_color\":{\"field\":\"Happiness Color\"},\"line_alpha\":{\"value\":0.85},\"line_color\":{\"value\":\"#1f77b4\"},\"size\":{\"units\":\"screen\",\"value\":8},\"x\":{\"field\":\"C1\"},\"y\":{\"field\":\"C2\"}},\"id\":\"1901\",\"type\":\"Circle\"},{\"attributes\":{\"active_drag\":\"auto\",\"active_inspect\":\"auto\",\"active_multi\":null,\"active_scroll\":\"auto\",\"active_tap\":\"auto\",\"tools\":[{\"id\":\"1872\",\"type\":\"PanTool\"},{\"id\":\"1873\",\"type\":\"BoxZoomTool\"},{\"id\":\"1871\",\"type\":\"HoverTool\"},{\"id\":\"1874\",\"type\":\"ResetTool\"}]},\"id\":\"1894\",\"type\":\"Toolbar\"},{\"attributes\":{},\"id\":\"1880\",\"type\":\"LinearScale\"},{\"attributes\":{\"text\":\"\"},\"id\":\"1969\",\"type\":\"Title\"},{\"attributes\":{},\"id\":\"1974\",\"type\":\"UnionRenderers\"},{\"attributes\":{\"data_source\":{\"id\":\"1899\",\"type\":\"ColumnDataSource\"},\"glyph\":{\"id\":\"1901\",\"type\":\"Circle\"},\"hover_glyph\":null,\"muted_glyph\":null,\"nonselection_glyph\":{\"id\":\"1902\",\"type\":\"Circle\"},\"selection_glyph\":null,\"view\":{\"id\":\"1904\",\"type\":\"CDSView\"}},\"id\":\"1903\",\"type\":\"GlyphRenderer\"},{\"attributes\":{\"formatter\":{\"id\":\"1970\",\"type\":\"BasicTickFormatter\"},\"ticker\":{\"id\":\"1890\",\"type\":\"BasicTicker\"}},\"id\":\"1889\",\"type\":\"LinearAxis\"},{\"attributes\":{\"callback\":null,\"tooltips\":[[\"Country\",\"@Country\"]]},\"id\":\"1871\",\"type\":\"HoverTool\"},{\"attributes\":{},\"id\":\"1972\",\"type\":\"BasicTickFormatter\"},{\"attributes\":{\"overlay\":{\"id\":\"1976\",\"type\":\"BoxAnnotation\"}},\"id\":\"1873\",\"type\":\"BoxZoomTool\"},{\"attributes\":{},\"id\":\"1885\",\"type\":\"BasicTicker\"},{\"attributes\":{\"source\":{\"id\":\"1899\",\"type\":\"ColumnDataSource\"}},\"id\":\"1904\",\"type\":\"CDSView\"},{\"attributes\":{},\"id\":\"1890\",\"type\":\"BasicTicker\"},{\"attributes\":{\"callback\":null},\"id\":\"1876\",\"type\":\"DataRange1d\"},{\"attributes\":{\"callback\":null,\"data\":{\"C1\":{\"__ndarray__\":\"7rsnQYb2+0Ac7jFBGCceQU3AHUHgpiBBKkwbQUFcLEFWbC9BM4klQQWsokBIzJZAXkj8QFekakAkee9ArbFSQApSJkF9+BdBe9r0QL4xHEHROyNBiu0PQVwROEDu/jZBleiFQBpBAEG2a6BAavQ0QR6k2EAvMztA6zRFQJ2t8EBZCyxAAPOUQNdo20CMKW1AySwCQcSqM0BjivxAKEgcQP+2gkCGVh4/l4j+P9+Ekz4se5s/It+2QCrQDEAYyrQ/LdbtQM4Avj/sVNo/KvzzvzlaIEAB/ANAGMOLQPy2Fz+tT4s/XUQjP3CSjD+gE2NAO+BoQO5fBMC0mco/LWJ8P0Hb2D+dr5dAuEU1QBp6Sb+2dh3AVME9vhE/W0DDe0RBtPIWQNtOc0DTVoo/TSMDwJE8u780IgzBTmQWQEfpTr6cuQDBBu/APr8KH8DdG4g/oiTrwF6IQ79SQwrAoY1vQKPSB7/ROLU/4QHpv4UEh8CeEV2/MuwVwb82lL/rwjzAzikQwbpF6j+B1+i+44tEQNWGDMHrRDbAro2Nv6mcvb7tKPy/ZixowJxTQsCNk0jA7+iuwAVwnsABlaq/M3l6wK/+7sCMdczAOrb+wAz1CMGjW7XAuQLUwECB8sCP4xLB49J+wBbD58AdKwrBMHXgwN8wjcBWiZjAzTdLwIqv9sDkic+/TnVzwPYSIsGbh/8/yGzUwGIhJb9gEGHAc97AwKCLysCwgM7Aiae+wAmZ5cBMy57AqhCpwIk80sDCC9PAwQ3/PjKxnsDsjvjABj4swZ8y+8C01BLBl2q8wMTrv8BeZRDBAbYCwAZHHcFXKrPAzVMKwagHH8E=\",\"dtype\":\"float32\",\"shape\":[158]},\"C2\":{\"__ndarray__\":\"FrBMQMABoT/SwjxAzx45QMh8B0DJbVxAEmr7P/evOkA4agtAZ2sNQBvd6z/5NBU/nfEBQCYO/D7RFMY/4UqDP4zmfUCE+sQ/H29BQCKxd0CXnLc/7H90QPlDyj9AR3tASXuQPxouLUB5P+g/NQWMQOFvakCEefc/BH8lQCFnQkCKJDY/Fj41wOYkvEBpo5JA8iFdPqsnqkBTZ5BAZ7Ctvao5nb+0fp8/a3cov0zU77+JfbBAkRuLQJWiv0DQiKo/NCyeQAI8y0A5lQS/+R2nP6GP8b+aZSFARwBsQGTEsEBpP86/ZxveP4bAZED9W2RAR7zqvxV7W0Cx4WJAiFCYQKZ3oT4XmJZApsi+QNKPSUDH9PI/FRvkvo/iE8D3NHVAMfx/QFrjUsA363C/86aLQGhWwb8rMbO/qj9jwObyVkA+senAqYJUQHPPlECMwiJAsw3qv3y/mUC7iLJAsxyEQGoSvUAXlyPAlZGVwATmJT9Sy6lA9XEfwDTzjUAPnrtADZIHwJsaPsCTsYnAstpnwFlGkb/ObNZAah+kQOWu1kCldV+/mDMawPoDgEAA41xA2YkEv1tBi0Bwb8tAifG4QMK9iz/S4LK/CqJrwAsZZMBaMvi+gqqwwES6vcBZoTrAoNxFwMVGKMA1SQTAvRqZwBz0c8DSA/G/2JqZQObzPD+Vh7XAETlPv7V8gMBhLYXAiQAdwP/P30C0qZtAI1fTv6sRv8BMWGTARQjrv9uvmcBFm4HAtExrwPIyDUD6NEzAzluSwHgsiMAjS6XA0uqNwM4nisAo2ZXAqK0zwHNZZMDOu7fAu2F9wN1YnMCBnY5AVeC2wBnoqsA=\",\"dtype\":\"float32\",\"shape\":[158]},\"Country\":[\"Switzerland\",\"Iceland\",\"Denmark\",\"Norway\",\"Canada\",\"Finland\",\"Netherlands\",\"Sweden\",\"New Zealand\",\"Australia\",\"Israel\",\"Costa Rica\",\"Austria\",\"Mexico\",\"United States\",\"Brazil\",\"Luxembourg\",\"Ireland\",\"Belgium\",\"United Arab Emirates\",\"United Kingdom\",\"Oman\",\"Venezuela\",\"Singapore\",\"Panama\",\"Germany\",\"Chile\",\"Qatar\",\"France\",\"Argentina\",\"Czech Republic\",\"Uruguay\",\"Colombia\",\"Thailand\",\"Saudi Arabia\",\"Spain\",\"Malta\",\"Taiwan\",\"Kuwait\",\"Suriname\",\"Trinidad and Tobago\",\"El Salvador\",\"Guatemala\",\"Uzbekistan\",\"Slovakia\",\"Japan\",\"South Korea\",\"Ecuador\",\"Bahrain\",\"Italy\",\"Bolivia\",\"Moldova\",\"Paraguay\",\"Kazakhstan\",\"Slovenia\",\"Lithuania\",\"Nicaragua\",\"Peru\",\"Belarus\",\"Poland\",\"Malaysia\",\"Croatia\",\"Libya\",\"Russia\",\"Jamaica\",\"North Cyprus\",\"Cyprus\",\"Algeria\",\"Kosovo\",\"Turkmenistan\",\"Mauritius\",\"Hong Kong\",\"Estonia\",\"Indonesia\",\"Vietnam\",\"Turkey\",\"Kyrgyzstan\",\"Nigeria\",\"Bhutan\",\"Azerbaijan\",\"Pakistan\",\"Jordan\",\"Montenegro\",\"China\",\"Zambia\",\"Romania\",\"Serbia\",\"Portugal\",\"Latvia\",\"Philippines\",\"Somaliland region\",\"Morocco\",\"Macedonia\",\"Mozambique\",\"Albania\",\"Bosnia and Herzegovina\",\"Lesotho\",\"Dominican Republic\",\"Laos\",\"Mongolia\",\"Swaziland\",\"Greece\",\"Lebanon\",\"Hungary\",\"Honduras\",\"Tajikistan\",\"Tunisia\",\"Palestinian Territories\",\"Bangladesh\",\"Iran\",\"Ukraine\",\"Iraq\",\"South Africa\",\"Ghana\",\"Zimbabwe\",\"Liberia\",\"India\",\"Sudan\",\"Haiti\",\"Congo (Kinshasa)\",\"Nepal\",\"Ethiopia\",\"Sierra Leone\",\"Mauritania\",\"Kenya\",\"Djibouti\",\"Armenia\",\"Botswana\",\"Myanmar\",\"Georgia\",\"Malawi\",\"Sri Lanka\",\"Cameroon\",\"Bulgaria\",\"Egypt\",\"Yemen\",\"Angola\",\"Mali\",\"Congo (Brazzaville)\",\"Comoros\",\"Uganda\",\"Senegal\",\"Gabon\",\"Niger\",\"Cambodia\",\"Tanzania\",\"Madagascar\",\"Central African Republic\",\"Chad\",\"Guinea\",\"Ivory Coast\",\"Burkina Faso\",\"Afghanistan\",\"Rwanda\",\"Benin\",\"Syria\",\"Burundi\",\"Togo\"],\"Happiness Color\":[\"red\",\"red\",\"red\",\"red\",\"red\",\"red\",\"red\",\"red\",\"red\",\"red\",\"red\",\"red\",\"red\",\"red\",\"red\",\"yellow\",\"yellow\",\"yellow\",\"yellow\",\"yellow\",\"yellow\",\"yellow\",\"yellow\",\"yellow\",\"yellow\",\"yellow\",\"yellow\",\"yellow\",\"yellow\",\"yellow\",\"yellow\",\"yellow\",\"yellow\",\"yellow\",\"yellow\",\"yellow\",\"yellow\",\"yellow\",\"yellow\",\"yellow\",\"yellow\",\"yellow\",\"yellow\",\"yellow\",\"yellow\",\"yellow\",\"yellow\",\"yellow\",\"yellow\",\"yellow\",\"yellow\",\"yellow\",\"yellow\",\"yellow\",\"yellow\",\"yellow\",\"yellow\",\"yellow\",\"yellow\",\"yellow\",\"yellow\",\"yellow\",\"yellow\",\"yellow\",\"yellow\",\"yellow\",\"yellow\",\"yellow\",\"yellow\",\"yellow\",\"yellow\",\"yellow\",\"yellow\",\"yellow\",\"yellow\",\"yellow\",\"yellow\",\"yellow\",\"yellow\",\"yellow\",\"yellow\",\"yellow\",\"yellow\",\"yellow\",\"yellow\",\"yellow\",\"yellow\",\"yellow\",\"yellow\",\"yellow\",\"yellow\",\"yellow\",\"yellow\",\"yellow\",\"yellow\",\"yellow\",\"yellow\",\"yellow\",\"yellow\",\"yellow\",\"yellow\",\"yellow\",\"yellow\",\"yellow\",\"yellow\",\"yellow\",\"yellow\",\"yellow\",\"yellow\",\"yellow\",\"yellow\",\"yellow\",\"yellow\",\"yellow\",\"yellow\",\"yellow\",\"yellow\",\"yellow\",\"yellow\",\"yellow\",\"yellow\",\"yellow\",\"yellow\",\"yellow\",\"yellow\",\"yellow\",\"yellow\",\"yellow\",\"yellow\",\"yellow\",\"yellow\",\"yellow\",\"yellow\",\"yellow\",\"yellow\",\"yellow\",\"yellow\",\"blue\",\"blue\",\"blue\",\"blue\",\"blue\",\"blue\",\"blue\",\"blue\",\"blue\",\"blue\",\"blue\",\"blue\",\"blue\",\"blue\",\"blue\",\"blue\",\"blue\",\"blue\",\"blue\",\"blue\",\"blue\"],\"Happiness Score\":{\"__ndarray__\":\"DQIrhxZZHkBYObTIdj4eQM/3U+OlGx5ASgwCK4cWHkBpke18P7UdQDq0yHa+nx1AT42XbhKDHUDb+X5qvHQdQL+fGi/dJB1AiUFg5dAiHUDpJjEIrBwdQIGVQ4ts5xxAzczMzMzMHEBzaJHtfL8cQGDl0CLbeRxAO99PjZfuG0BjEFg5tMgbQMP1KFyPwhtAc2iR7Xy/G0C0yHa+n5obQCyHFtnOdxtAtvP91HhpG0A9CtejcD0bQP3UeOkmMRtAv58aL90kG0AAAAAAAAAbQK5H4XoUrhpAjGzn+6lxGkDNzMzMzEwaQLKd76fGSxpAhetRuB4FGkBxPQrXo/AZQJzEILBy6BlAUrgehevRGUC/nxov3aQZQDeJQWDlUBlAaZHtfD81GUD91HjpJjEZQK5H4XoULhlA+n5qvHQTGUB46SYxCKwYQIXrUbgehRhAyqFFtvN9GEBPjZduEgMYQHsUrkfh+hdAppvEILDyF0BWDi2yne8XQGZmZmZm5hdA16NwPQrXF0CXbhKDwMoXQI/C9ShcjxdAdJMYBFaOF0BPjZduEoMXQOxRuB6FaxdAMQisHFpkF0ChRbbz/VQXQBxaZDvfTxdAsp3vp8ZLF0CNl24Sg0AXQESLbOf7KRdAFK5H4XoUF0Dvp8ZLNwkXQGq8dJMYBBdAd76fGi/dFkC8dJMYBNYWQEjhehSuxxZAqMZLN4nBFkDsUbgehWsWQEFg5dAiWxZA/dR46SYxFkCcxCCwcugVQEw3iUFg5RVAne+nxku3FUB/arx0k5gVQHE9CtejcBVAiBbZzvdTFUC/nxov3SQVQN9PjZduEhVAT42XbhIDFUANAiuHFtkUQC2yne+nxhRA+FPjpZvEFED4U+Olm8QUQI/C9ShcjxRAarx0kxiEFEDl0CLb+X4UQMqhRbbzfRRAnMQgsHJoFEAxCKwcWmQUQJhuEoPAShRA7Xw/NV46FEBaZDvfTw0UQLpJDAIrBxRA/Knx0k3iE0C8dJMYBNYTQLKd76fGyxNAZDvfT42XE0AK16NwPYoTQBsv3SQGgRNA5dAi2/l+E0ArhxbZzncTQCGwcmiRbRNAQWDl0CJbE0AzMzMzMzMTQPT91HjpJhNAv58aL90kE0Db+X5qvPQSQFyPwvUo3BJALbKd76fGEkBYObTIdr4SQNNNYhBYuRJAaJHtfD+1EkDEILByaJESQNV46SYxiBJAcT0K16NwEkBjEFg5tEgSQMP1KFyPQhJAMzMzMzMzEkDfT42XbhISQMQgsHJoERJAdJMYBFYOEkA/NV66SQwSQLpJDAIrBxJAWDm0yHa+EUCTGARWDq0RQGDl0CLbeRFAZmZmZmZmEUCHFtnO91MRQO18PzVeOhFA46WbxCAwEUBeukkMAisRQC/dJAaBFRFANV66SQwCEUCsHFpkO98QQC2yne+nxhBAAiuHFtlOEEBvEoPAyiEQQPYoXI/C9Q9AtvP91HjpD0DazvdT46UPQKabxCCwcg9ACKwcWmQ7D0BfukkMAisPQMP1KFyPwg5AWmQ730+NDkBzaJHtfD8OQKabxCCwcg1ABoGVQ4tsDUC8dJMYBFYNQHNoke18Pw1APQrXo3A9DUAYBFYOLbIMQJqZmZmZmQxAuB6F61G4C0C4HoXrUbgKQEA1XrpJDAhAPQrXo3A9B0CDwMqhRbYGQA==\",\"dtype\":\"float64\",\"shape\":[158]},\"index\":[0,1,2,3,4,5,6,7,8,9,10,11,12,13,14,15,16,17,18,19,20,21,22,23,24,25,26,27,28,29,30,31,32,33,34,35,36,37,38,39,40,41,42,43,44,45,46,47,48,49,50,51,52,53,54,55,56,57,58,59,60,61,62,63,64,65,66,67,68,69,70,71,72,73,74,75,76,77,78,79,80,81,82,83,84,85,86,87,88,89,90,91,92,93,94,95,96,97,98,99,100,101,102,103,104,105,106,107,108,109,110,111,112,113,114,115,116,117,118,119,120,121,122,123,124,125,126,127,128,129,130,131,132,133,134,135,136,137,138,139,140,141,142,143,144,145,146,147,148,149,150,151,152,153,154,155,156,157]},\"selected\":{\"id\":\"1975\",\"type\":\"Selection\"},\"selection_policy\":{\"id\":\"1974\",\"type\":\"UnionRenderers\"}},\"id\":\"1899\",\"type\":\"ColumnDataSource\"},{\"attributes\":{\"callback\":null},\"id\":\"1878\",\"type\":\"DataRange1d\"},{\"attributes\":{\"bottom_units\":\"screen\",\"fill_alpha\":{\"value\":0.5},\"fill_color\":{\"value\":\"lightgrey\"},\"left_units\":\"screen\",\"level\":\"overlay\",\"line_alpha\":{\"value\":1.0},\"line_color\":{\"value\":\"black\"},\"line_dash\":[4,4],\"line_width\":{\"value\":2},\"render_mode\":\"css\",\"right_units\":\"screen\",\"top_units\":\"screen\"},\"id\":\"1976\",\"type\":\"BoxAnnotation\"},{\"attributes\":{},\"id\":\"1874\",\"type\":\"ResetTool\"},{\"attributes\":{},\"id\":\"1970\",\"type\":\"BasicTickFormatter\"}],\"root_ids\":[\"1875\"]},\"title\":\"Bokeh Application\",\"version\":\"1.4.0\"}};\n",
       "  var render_items = [{\"docid\":\"199dd818-5fb6-41a3-928c-9af95e3ef9d2\",\"roots\":{\"1875\":\"fd0fe6ec-3e88-4dad-b0b9-d9d274a27b2e\"}}];\n",
       "  root.Bokeh.embed.embed_items_notebook(docs_json, render_items);\n",
       "\n",
       "  }\n",
       "  if (root.Bokeh !== undefined) {\n",
       "    embed_document(root);\n",
       "  } else {\n",
       "    var attempts = 0;\n",
       "    var timer = setInterval(function(root) {\n",
       "      if (root.Bokeh !== undefined) {\n",
       "        clearInterval(timer);\n",
       "        embed_document(root);\n",
       "      } else {\n",
       "        attempts++;\n",
       "        if (attempts > 100) {\n",
       "          clearInterval(timer);\n",
       "          console.log(\"Bokeh: ERROR: Unable to run BokehJS code because BokehJS library is missing\");\n",
       "        }\n",
       "      }\n",
       "    }, 10, root)\n",
       "  }\n",
       "})(window);"
      ],
      "application/vnd.bokehjs_exec.v0+json": ""
     },
     "metadata": {
      "application/vnd.bokehjs_exec.v0+json": {
       "id": "1875"
      }
     },
     "output_type": "display_data"
    }
   ],
   "source": [
    "hovertool = HoverTool(tooltips=[('Country', '@Country')])\n",
    "fig = figure(tools=[PanTool(), BoxZoomTool(), hovertool, ResetTool()],\n",
    "             plot_width=500, plot_height=400)\n",
    "fig.circle('C1', 'C2', source=tsne_data, fill_color='Happiness Color',\n",
    "           size=8, alpha=0.85)\n",
    "show(fig)"
   ]
  }
 ],
 "metadata": {
  "kernelspec": {
   "display_name": "Python 3",
   "language": "python",
   "name": "python3"
  },
  "language_info": {
   "codemirror_mode": {
    "name": "ipython",
    "version": 3
   },
   "file_extension": ".py",
   "mimetype": "text/x-python",
   "name": "python",
   "nbconvert_exporter": "python",
   "pygments_lexer": "ipython3",
   "version": "3.7.6"
  }
 },
 "nbformat": 4,
 "nbformat_minor": 4
}

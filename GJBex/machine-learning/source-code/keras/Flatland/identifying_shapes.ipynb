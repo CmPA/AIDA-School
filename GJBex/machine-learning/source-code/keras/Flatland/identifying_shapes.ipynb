{
 "cells": [
  {
   "cell_type": "markdown",
   "metadata": {},
   "source": [
    "# Recognizing Flatlanders"
   ]
  },
  {
   "cell_type": "markdown",
   "metadata": {},
   "source": [
    "## Data preprocessing"
   ]
  },
  {
   "cell_type": "code",
   "execution_count": 1,
   "metadata": {},
   "outputs": [
    {
     "name": "stderr",
     "output_type": "stream",
     "text": [
      "Using TensorFlow backend.\n"
     ]
    }
   ],
   "source": [
    "import h5py\n",
    "from keras import backend as K\n",
    "from sklearn.model_selection import train_test_split\n",
    "import numpy as np"
   ]
  },
  {
   "cell_type": "markdown",
   "metadata": {},
   "source": [
    "Read the training and test data from the HDF5 files."
   ]
  },
  {
   "cell_type": "code",
   "execution_count": 2,
   "metadata": {},
   "outputs": [],
   "source": [
    "with h5py.File('train_data.h5', 'r') as h5_file:\n",
    "    x_train = np.array(h5_file['x_values'])\n",
    "    y_train = np.array(h5_file['y_values'])\n",
    "with h5py.File('test_data.h5', 'r') as h5_file:\n",
    "    x_test = np.array(h5_file['x_values'])\n",
    "    y_test = np.array(h5_file['y_values'])"
   ]
  },
  {
   "cell_type": "markdown",
   "metadata": {},
   "source": [
    "Determine whether the backend expects the channel to come first or last in the input shape."
   ]
  },
  {
   "cell_type": "code",
   "execution_count": 3,
   "metadata": {},
   "outputs": [],
   "source": [
    "img_channels, img_rows, img_cols = 1, x_train.shape[1], x_train.shape[2]\n",
    "\n",
    "if K.image_data_format() == 'channels_first':\n",
    "    shape_ord = (img_channels, img_rows, img_cols)\n",
    "else:  # channel_last\n",
    "    shape_ord = (img_rows, img_cols, img_channels)"
   ]
  },
  {
   "cell_type": "markdown",
   "metadata": {},
   "source": [
    "Reshape the data accordingly."
   ]
  },
  {
   "cell_type": "code",
   "execution_count": 4,
   "metadata": {},
   "outputs": [],
   "source": [
    "x_train = x_train.reshape((x_train.shape[0], ) + shape_ord)\n",
    "x_test = x_test.reshape((x_test.shape[0], ) + shape_ord)"
   ]
  },
  {
   "cell_type": "markdown",
   "metadata": {},
   "source": [
    "Convert the input data to single precision floating point, and scale between 0 and 1."
   ]
  },
  {
   "cell_type": "code",
   "execution_count": 5,
   "metadata": {},
   "outputs": [],
   "source": [
    "x_train = x_train.astype(np.float32)/255.0\n",
    "x_test = x_test.astype(np.float32)/255.0"
   ]
  },
  {
   "cell_type": "markdown",
   "metadata": {},
   "source": [
    "Verify input data format and shape."
   ]
  },
  {
   "cell_type": "code",
   "execution_count": 6,
   "metadata": {},
   "outputs": [
    {
     "name": "stdout",
     "output_type": "stream",
     "text": [
      "(60000, 100, 100, 1) float32 0.0 1.0\n",
      "(20000, 100, 100, 1) float32 0.0 1.0\n"
     ]
    }
   ],
   "source": [
    "print(x_train.shape, x_train.dtype, x_train.min(), x_train.max())\n",
    "print(x_test.shape, x_test.dtype, x_test.min(), x_test.max())"
   ]
  },
  {
   "cell_type": "markdown",
   "metadata": {},
   "source": [
    "Verify output data format and shape."
   ]
  },
  {
   "cell_type": "code",
   "execution_count": 7,
   "metadata": {},
   "outputs": [
    {
     "name": "stdout",
     "output_type": "stream",
     "text": [
      "(60000, 3) uint8 0 1\n",
      "(20000, 3) uint8 0 1\n"
     ]
    }
   ],
   "source": [
    "print(y_train.shape, y_train.dtype, y_train.min(), y_train.max())\n",
    "print(y_test.shape, y_test.dtype, y_test.min(), y_test.max())"
   ]
  },
  {
   "cell_type": "markdown",
   "metadata": {},
   "source": [
    "Seed the random number generator to ensure reproducible results in this notebook."
   ]
  },
  {
   "cell_type": "code",
   "execution_count": null,
   "metadata": {},
   "outputs": [],
   "source": [
    "np.random.seed(1234)"
   ]
  },
  {
   "cell_type": "code",
   "execution_count": 8,
   "metadata": {
    "scrolled": true
   },
   "outputs": [],
   "source": [
    "x_train, x_val, y_train, y_val = train_test_split(x_train, y_train)"
   ]
  },
  {
   "cell_type": "code",
   "execution_count": 9,
   "metadata": {},
   "outputs": [
    {
     "name": "stdout",
     "output_type": "stream",
     "text": [
      "(45000, 100, 100, 1) float32 0.0 1.0\n",
      "(15000, 100, 100, 1) float32 0.0 1.0\n"
     ]
    }
   ],
   "source": [
    "print(x_train.shape, x_train.dtype, x_train.min(), x_train.max())\n",
    "print(x_val.shape, x_val.dtype, x_val.min(), x_val.max())"
   ]
  },
  {
   "cell_type": "code",
   "execution_count": 10,
   "metadata": {},
   "outputs": [
    {
     "name": "stdout",
     "output_type": "stream",
     "text": [
      "(45000, 3) uint8 0 1\n",
      "(15000, 3) uint8 0 1\n"
     ]
    }
   ],
   "source": [
    "print(y_train.shape, y_train.dtype, y_train.min(), y_train.max())\n",
    "print(y_val.shape, y_val.dtype, y_val.min(), y_val.max())"
   ]
  },
  {
   "cell_type": "markdown",
   "metadata": {},
   "source": [
    "## Model definition"
   ]
  },
  {
   "cell_type": "markdown",
   "metadata": {},
   "source": [
    "Import modules requred for CNN defintion."
   ]
  },
  {
   "cell_type": "code",
   "execution_count": 11,
   "metadata": {},
   "outputs": [],
   "source": [
    "from keras.layers import Activation, Conv2D, Dense, Dropout, Flatten, LeakyReLU\n",
    "from keras.models import Sequential\n",
    "from keras.optimizers import Adam\n",
    "from history_utils import plot_history"
   ]
  },
  {
   "cell_type": "markdown",
   "metadata": {},
   "source": [
    "Define the CNN's architecture."
   ]
  },
  {
   "cell_type": "code",
   "execution_count": 17,
   "metadata": {},
   "outputs": [],
   "source": [
    "nr_filters = 32\n",
    "nr_classes = y_train.shape[-1]\n",
    "conv_x_size, conv_y_size = 5, 5\n",
    "model = Sequential()\n",
    "model.add(Conv2D(nr_filters, (conv_x_size, conv_y_size), strides=2,\n",
    "                 padding='valid', input_shape=shape_ord))\n",
    "model.add(LeakyReLU(0.1))\n",
    "model.add(Dropout(0.4))\n",
    "model.add(Conv2D(nr_filters*2, (conv_x_size, conv_y_size), strides=2,\n",
    "                 padding='valid'))\n",
    "model.add(LeakyReLU(0.1))\n",
    "model.add(Dropout(0.4))\n",
    "model.add(Conv2D(nr_filters*4, (conv_x_size, conv_y_size), strides=2,\n",
    "                 padding='valid'))\n",
    "model.add(LeakyReLU(0.1))\n",
    "model.add(Dropout(0.4))\n",
    "model.add(Flatten())\n",
    "model.add(Dense(nr_classes))\n",
    "model.add(Activation('softmax'))"
   ]
  },
  {
   "cell_type": "code",
   "execution_count": 18,
   "metadata": {},
   "outputs": [
    {
     "name": "stdout",
     "output_type": "stream",
     "text": [
      "_________________________________________________________________\n",
      "Layer (type)                 Output Shape              Param #   \n",
      "=================================================================\n",
      "conv2d_4 (Conv2D)            (None, 48, 48, 32)        832       \n",
      "_________________________________________________________________\n",
      "leaky_re_lu_4 (LeakyReLU)    (None, 48, 48, 32)        0         \n",
      "_________________________________________________________________\n",
      "dropout_4 (Dropout)          (None, 48, 48, 32)        0         \n",
      "_________________________________________________________________\n",
      "conv2d_5 (Conv2D)            (None, 22, 22, 64)        51264     \n",
      "_________________________________________________________________\n",
      "leaky_re_lu_5 (LeakyReLU)    (None, 22, 22, 64)        0         \n",
      "_________________________________________________________________\n",
      "dropout_5 (Dropout)          (None, 22, 22, 64)        0         \n",
      "_________________________________________________________________\n",
      "conv2d_6 (Conv2D)            (None, 9, 9, 128)         204928    \n",
      "_________________________________________________________________\n",
      "leaky_re_lu_6 (LeakyReLU)    (None, 9, 9, 128)         0         \n",
      "_________________________________________________________________\n",
      "dropout_6 (Dropout)          (None, 9, 9, 128)         0         \n",
      "_________________________________________________________________\n",
      "flatten_2 (Flatten)          (None, 10368)             0         \n",
      "_________________________________________________________________\n",
      "dense_2 (Dense)              (None, 3)                 31107     \n",
      "_________________________________________________________________\n",
      "activation_2 (Activation)    (None, 3)                 0         \n",
      "=================================================================\n",
      "Total params: 288,131\n",
      "Trainable params: 288,131\n",
      "Non-trainable params: 0\n",
      "_________________________________________________________________\n"
     ]
    }
   ],
   "source": [
    "model.summary()"
   ]
  },
  {
   "cell_type": "markdown",
   "metadata": {},
   "source": [
    "Compile the CNN, specifying the loss function."
   ]
  },
  {
   "cell_type": "code",
   "execution_count": 19,
   "metadata": {},
   "outputs": [],
   "source": [
    "model.compile(loss='categorical_crossentropy', optimizer=Adam(),\n",
    "              metrics=['accuracy'])"
   ]
  },
  {
   "cell_type": "markdown",
   "metadata": {},
   "source": [
    "Train the network."
   ]
  },
  {
   "cell_type": "code",
   "execution_count": 20,
   "metadata": {},
   "outputs": [
    {
     "name": "stdout",
     "output_type": "stream",
     "text": [
      "Train on 45000 samples, validate on 15000 samples\n",
      "Epoch 1/100\n",
      "45000/45000 [==============================] - 8s 181us/step - loss: 0.8608 - acc: 0.5504 - val_loss: 0.5470 - val_acc: 0.7399\n",
      "Epoch 2/100\n",
      "45000/45000 [==============================] - 8s 171us/step - loss: 0.4403 - acc: 0.8055 - val_loss: 0.1920 - val_acc: 0.9422\n",
      "Epoch 3/100\n",
      "45000/45000 [==============================] - 8s 171us/step - loss: 0.2768 - acc: 0.8881 - val_loss: 0.1290 - val_acc: 0.9642\n",
      "Epoch 4/100\n",
      "45000/45000 [==============================] - 8s 171us/step - loss: 0.2162 - acc: 0.9157 - val_loss: 0.1581 - val_acc: 0.9364\n",
      "Epoch 5/100\n",
      "45000/45000 [==============================] - 8s 171us/step - loss: 0.1764 - acc: 0.9318 - val_loss: 0.0868 - val_acc: 0.9630\n",
      "Epoch 6/100\n",
      "45000/45000 [==============================] - 8s 171us/step - loss: 0.1588 - acc: 0.9385 - val_loss: 0.0722 - val_acc: 0.9728\n",
      "Epoch 7/100\n",
      "45000/45000 [==============================] - 8s 171us/step - loss: 0.1413 - acc: 0.9448 - val_loss: 0.0980 - val_acc: 0.9602\n",
      "Epoch 8/100\n",
      "45000/45000 [==============================] - 8s 171us/step - loss: 0.1399 - acc: 0.9465 - val_loss: 0.0653 - val_acc: 0.9792\n",
      "Epoch 9/100\n",
      "45000/45000 [==============================] - 8s 171us/step - loss: 0.1324 - acc: 0.9484 - val_loss: 0.0734 - val_acc: 0.9731\n",
      "Epoch 10/100\n",
      "45000/45000 [==============================] - 8s 171us/step - loss: 0.1221 - acc: 0.9548 - val_loss: 0.0581 - val_acc: 0.9784\n",
      "Epoch 11/100\n",
      "45000/45000 [==============================] - 8s 171us/step - loss: 0.1195 - acc: 0.9540 - val_loss: 0.0810 - val_acc: 0.9685\n",
      "Epoch 12/100\n",
      "45000/45000 [==============================] - 8s 171us/step - loss: 0.1177 - acc: 0.9564 - val_loss: 0.0577 - val_acc: 0.9736\n",
      "Epoch 13/100\n",
      "45000/45000 [==============================] - 8s 172us/step - loss: 0.1174 - acc: 0.9569 - val_loss: 0.0706 - val_acc: 0.9681\n",
      "Epoch 14/100\n",
      "45000/45000 [==============================] - 8s 171us/step - loss: 0.1144 - acc: 0.9583 - val_loss: 0.0487 - val_acc: 0.9793\n",
      "Epoch 15/100\n",
      "45000/45000 [==============================] - 8s 171us/step - loss: 0.1083 - acc: 0.9602 - val_loss: 0.0506 - val_acc: 0.9803\n",
      "Epoch 16/100\n",
      "45000/45000 [==============================] - 8s 171us/step - loss: 0.1083 - acc: 0.9602 - val_loss: 0.0487 - val_acc: 0.9801\n",
      "Epoch 17/100\n",
      "45000/45000 [==============================] - 8s 171us/step - loss: 0.1048 - acc: 0.9615 - val_loss: 0.0446 - val_acc: 0.9810\n",
      "Epoch 18/100\n",
      "45000/45000 [==============================] - 8s 171us/step - loss: 0.1049 - acc: 0.9617 - val_loss: 0.0488 - val_acc: 0.9807\n",
      "Epoch 19/100\n",
      "45000/45000 [==============================] - 8s 171us/step - loss: 0.1017 - acc: 0.9630 - val_loss: 0.0411 - val_acc: 0.9851\n",
      "Epoch 20/100\n",
      "45000/45000 [==============================] - 8s 171us/step - loss: 0.1003 - acc: 0.9642 - val_loss: 0.0496 - val_acc: 0.9826\n",
      "Epoch 21/100\n",
      "45000/45000 [==============================] - 8s 171us/step - loss: 0.1004 - acc: 0.9649 - val_loss: 0.0579 - val_acc: 0.9809\n",
      "Epoch 22/100\n",
      "45000/45000 [==============================] - 8s 171us/step - loss: 0.0991 - acc: 0.9644 - val_loss: 0.0357 - val_acc: 0.9881\n",
      "Epoch 23/100\n",
      "45000/45000 [==============================] - 8s 171us/step - loss: 0.0923 - acc: 0.9666 - val_loss: 0.0406 - val_acc: 0.9849\n",
      "Epoch 24/100\n",
      "45000/45000 [==============================] - 8s 172us/step - loss: 0.0965 - acc: 0.9662 - val_loss: 0.0437 - val_acc: 0.9863\n",
      "Epoch 25/100\n",
      "45000/45000 [==============================] - 8s 171us/step - loss: 0.0933 - acc: 0.9674 - val_loss: 0.0366 - val_acc: 0.9870\n",
      "Epoch 26/100\n",
      "45000/45000 [==============================] - 8s 171us/step - loss: 0.0907 - acc: 0.9687 - val_loss: 0.0593 - val_acc: 0.9789\n",
      "Epoch 27/100\n",
      "45000/45000 [==============================] - 8s 171us/step - loss: 0.0874 - acc: 0.9698 - val_loss: 0.0471 - val_acc: 0.9816\n",
      "Epoch 28/100\n",
      "45000/45000 [==============================] - 8s 170us/step - loss: 0.0913 - acc: 0.9686 - val_loss: 0.0401 - val_acc: 0.9837\n",
      "Epoch 29/100\n",
      "45000/45000 [==============================] - 8s 171us/step - loss: 0.0915 - acc: 0.9686 - val_loss: 0.0496 - val_acc: 0.9822\n",
      "Epoch 30/100\n",
      "45000/45000 [==============================] - 8s 171us/step - loss: 0.0838 - acc: 0.9705 - val_loss: 0.0535 - val_acc: 0.9797\n",
      "Epoch 31/100\n",
      "45000/45000 [==============================] - 8s 171us/step - loss: 0.0889 - acc: 0.9702 - val_loss: 0.0391 - val_acc: 0.9875\n",
      "Epoch 32/100\n",
      "45000/45000 [==============================] - 8s 171us/step - loss: 0.0927 - acc: 0.9699 - val_loss: 0.0454 - val_acc: 0.9847\n",
      "Epoch 33/100\n",
      "45000/45000 [==============================] - 8s 171us/step - loss: 0.0947 - acc: 0.9688 - val_loss: 0.0404 - val_acc: 0.9829\n",
      "Epoch 34/100\n",
      "45000/45000 [==============================] - 8s 172us/step - loss: 0.0851 - acc: 0.9711 - val_loss: 0.0380 - val_acc: 0.9863\n",
      "Epoch 35/100\n",
      "45000/45000 [==============================] - 8s 171us/step - loss: 0.0883 - acc: 0.9703 - val_loss: 0.0376 - val_acc: 0.9866\n",
      "Epoch 36/100\n",
      "45000/45000 [==============================] - 8s 171us/step - loss: 0.0884 - acc: 0.9707 - val_loss: 0.0520 - val_acc: 0.9842\n",
      "Epoch 37/100\n",
      "45000/45000 [==============================] - 8s 170us/step - loss: 0.0848 - acc: 0.9715 - val_loss: 0.0398 - val_acc: 0.9855\n",
      "Epoch 38/100\n",
      "45000/45000 [==============================] - 8s 170us/step - loss: 0.0893 - acc: 0.9712 - val_loss: 0.0391 - val_acc: 0.9869\n",
      "Epoch 39/100\n",
      "45000/45000 [==============================] - 8s 171us/step - loss: 0.0916 - acc: 0.9711 - val_loss: 0.0553 - val_acc: 0.9779\n",
      "Epoch 40/100\n",
      "45000/45000 [==============================] - 8s 171us/step - loss: 0.0862 - acc: 0.9722 - val_loss: 0.0468 - val_acc: 0.9827\n",
      "Epoch 41/100\n",
      "45000/45000 [==============================] - 8s 171us/step - loss: 0.0819 - acc: 0.9734 - val_loss: 0.0442 - val_acc: 0.9823\n",
      "Epoch 42/100\n",
      "45000/45000 [==============================] - 8s 171us/step - loss: 0.0874 - acc: 0.9723 - val_loss: 0.0345 - val_acc: 0.9890\n",
      "Epoch 43/100\n",
      "45000/45000 [==============================] - 8s 171us/step - loss: 0.0847 - acc: 0.9737 - val_loss: 0.0534 - val_acc: 0.9789\n",
      "Epoch 44/100\n",
      "45000/45000 [==============================] - 8s 171us/step - loss: 0.0902 - acc: 0.9712 - val_loss: 0.0525 - val_acc: 0.9805\n",
      "Epoch 45/100\n",
      "45000/45000 [==============================] - 8s 171us/step - loss: 0.0838 - acc: 0.9736 - val_loss: 0.0488 - val_acc: 0.9850\n",
      "Epoch 46/100\n",
      "45000/45000 [==============================] - 8s 171us/step - loss: 0.0795 - acc: 0.9750 - val_loss: 0.0555 - val_acc: 0.9808\n",
      "Epoch 47/100\n",
      "45000/45000 [==============================] - 8s 171us/step - loss: 0.0936 - acc: 0.9720 - val_loss: 0.0417 - val_acc: 0.9871\n",
      "Epoch 48/100\n",
      "45000/45000 [==============================] - 8s 171us/step - loss: 0.0857 - acc: 0.9730 - val_loss: 0.0462 - val_acc: 0.9831\n",
      "Epoch 49/100\n",
      "45000/45000 [==============================] - 8s 171us/step - loss: 0.0893 - acc: 0.9736 - val_loss: 0.0498 - val_acc: 0.9865\n",
      "Epoch 50/100\n",
      "45000/45000 [==============================] - 8s 172us/step - loss: 0.0917 - acc: 0.9720 - val_loss: 0.0351 - val_acc: 0.9894\n",
      "Epoch 51/100\n",
      "45000/45000 [==============================] - 8s 171us/step - loss: 0.0793 - acc: 0.9760 - val_loss: 0.0513 - val_acc: 0.9817\n",
      "Epoch 52/100\n",
      "45000/45000 [==============================] - 8s 170us/step - loss: 0.0893 - acc: 0.9723 - val_loss: 0.0495 - val_acc: 0.9819\n",
      "Epoch 53/100\n",
      "45000/45000 [==============================] - 8s 170us/step - loss: 0.0897 - acc: 0.9732 - val_loss: 0.0446 - val_acc: 0.9849\n",
      "Epoch 54/100\n",
      "45000/45000 [==============================] - 8s 170us/step - loss: 0.0845 - acc: 0.9740 - val_loss: 0.0624 - val_acc: 0.9762\n",
      "Epoch 55/100\n",
      "45000/45000 [==============================] - 8s 173us/step - loss: 0.0842 - acc: 0.9748 - val_loss: 0.0487 - val_acc: 0.9845\n",
      "Epoch 56/100\n",
      "45000/45000 [==============================] - 8s 171us/step - loss: 0.0889 - acc: 0.9729 - val_loss: 0.0414 - val_acc: 0.9854\n",
      "Epoch 57/100\n",
      "45000/45000 [==============================] - 8s 171us/step - loss: 0.0935 - acc: 0.9734 - val_loss: 0.0393 - val_acc: 0.9873\n",
      "Epoch 58/100\n",
      "45000/45000 [==============================] - 8s 171us/step - loss: 0.0868 - acc: 0.9749 - val_loss: 0.0400 - val_acc: 0.9883\n",
      "Epoch 59/100\n",
      "45000/45000 [==============================] - 8s 171us/step - loss: 0.0804 - acc: 0.9771 - val_loss: 0.0698 - val_acc: 0.9823\n",
      "Epoch 60/100\n",
      "45000/45000 [==============================] - 8s 171us/step - loss: 0.0853 - acc: 0.9751 - val_loss: 0.0343 - val_acc: 0.9891\n",
      "Epoch 61/100\n",
      "45000/45000 [==============================] - 8s 171us/step - loss: 0.0887 - acc: 0.9754 - val_loss: 0.0404 - val_acc: 0.9863\n",
      "Epoch 62/100\n",
      "45000/45000 [==============================] - 8s 170us/step - loss: 0.0893 - acc: 0.9737 - val_loss: 0.0440 - val_acc: 0.9869\n",
      "Epoch 63/100\n",
      "45000/45000 [==============================] - 8s 171us/step - loss: 0.0943 - acc: 0.9735 - val_loss: 0.0416 - val_acc: 0.9840\n",
      "Epoch 64/100\n",
      "45000/45000 [==============================] - 8s 171us/step - loss: 0.0845 - acc: 0.9758 - val_loss: 0.0370 - val_acc: 0.9880\n",
      "Epoch 65/100\n",
      "45000/45000 [==============================] - 8s 171us/step - loss: 0.0795 - acc: 0.9763 - val_loss: 0.0481 - val_acc: 0.9867\n",
      "Epoch 66/100\n",
      "45000/45000 [==============================] - 8s 171us/step - loss: 0.0902 - acc: 0.9747 - val_loss: 0.0484 - val_acc: 0.9845\n",
      "Epoch 67/100\n",
      "45000/45000 [==============================] - 8s 171us/step - loss: 0.0917 - acc: 0.9746 - val_loss: 0.0485 - val_acc: 0.9865\n",
      "Epoch 68/100\n",
      "45000/45000 [==============================] - 8s 171us/step - loss: 0.0892 - acc: 0.9749 - val_loss: 0.0414 - val_acc: 0.9860\n",
      "Epoch 69/100\n",
      "45000/45000 [==============================] - 8s 171us/step - loss: 0.0924 - acc: 0.9734 - val_loss: 0.0378 - val_acc: 0.9892\n",
      "Epoch 70/100\n",
      "45000/45000 [==============================] - 8s 171us/step - loss: 0.0823 - acc: 0.9758 - val_loss: 0.0420 - val_acc: 0.9859\n",
      "Epoch 71/100\n",
      "45000/45000 [==============================] - 8s 171us/step - loss: 0.0936 - acc: 0.9742 - val_loss: 0.0422 - val_acc: 0.9868\n",
      "Epoch 72/100\n",
      "45000/45000 [==============================] - 8s 171us/step - loss: 0.0942 - acc: 0.9742 - val_loss: 0.0501 - val_acc: 0.9862\n",
      "Epoch 73/100\n",
      "45000/45000 [==============================] - 8s 171us/step - loss: 0.0872 - acc: 0.9762 - val_loss: 0.0475 - val_acc: 0.9884\n",
      "Epoch 74/100\n",
      "45000/45000 [==============================] - 8s 171us/step - loss: 0.0848 - acc: 0.9758 - val_loss: 0.0374 - val_acc: 0.9891\n",
      "Epoch 75/100\n",
      "45000/45000 [==============================] - 8s 171us/step - loss: 0.0830 - acc: 0.9770 - val_loss: 0.0411 - val_acc: 0.9883\n",
      "Epoch 76/100\n",
      "45000/45000 [==============================] - 8s 171us/step - loss: 0.0888 - acc: 0.9760 - val_loss: 0.0399 - val_acc: 0.9887\n",
      "Epoch 77/100\n",
      "45000/45000 [==============================] - 8s 171us/step - loss: 0.0874 - acc: 0.9764 - val_loss: 0.0367 - val_acc: 0.9877\n",
      "Epoch 78/100\n",
      "45000/45000 [==============================] - 8s 171us/step - loss: 0.0918 - acc: 0.9752 - val_loss: 0.0461 - val_acc: 0.9863\n",
      "Epoch 79/100\n",
      "45000/45000 [==============================] - 8s 171us/step - loss: 0.0941 - acc: 0.9743 - val_loss: 0.0572 - val_acc: 0.9793\n",
      "Epoch 80/100\n",
      "45000/45000 [==============================] - 8s 171us/step - loss: 0.0902 - acc: 0.9761 - val_loss: 0.0432 - val_acc: 0.9897\n",
      "Epoch 81/100\n",
      "45000/45000 [==============================] - 8s 171us/step - loss: 0.1008 - acc: 0.9741 - val_loss: 0.0523 - val_acc: 0.9890\n",
      "Epoch 82/100\n",
      "45000/45000 [==============================] - 8s 172us/step - loss: 0.0878 - acc: 0.9765 - val_loss: 0.0471 - val_acc: 0.9897\n",
      "Epoch 83/100\n",
      "45000/45000 [==============================] - 8s 171us/step - loss: 0.0840 - acc: 0.9770 - val_loss: 0.0521 - val_acc: 0.9849\n",
      "Epoch 84/100\n",
      "45000/45000 [==============================] - 8s 171us/step - loss: 0.0913 - acc: 0.9754 - val_loss: 0.0472 - val_acc: 0.9866\n",
      "Epoch 85/100\n",
      "45000/45000 [==============================] - 8s 171us/step - loss: 0.0901 - acc: 0.9767 - val_loss: 0.0630 - val_acc: 0.9821\n",
      "Epoch 86/100\n",
      "45000/45000 [==============================] - 8s 171us/step - loss: 0.0964 - acc: 0.9745 - val_loss: 0.0501 - val_acc: 0.9861\n",
      "Epoch 87/100\n",
      "45000/45000 [==============================] - 8s 171us/step - loss: 0.0933 - acc: 0.9775 - val_loss: 0.0419 - val_acc: 0.9903\n",
      "Epoch 88/100\n",
      "45000/45000 [==============================] - 8s 171us/step - loss: 0.0919 - acc: 0.9760 - val_loss: 0.0525 - val_acc: 0.9862\n",
      "Epoch 89/100\n",
      "45000/45000 [==============================] - 8s 171us/step - loss: 0.0875 - acc: 0.9780 - val_loss: 0.0644 - val_acc: 0.9847\n",
      "Epoch 90/100\n",
      "45000/45000 [==============================] - 8s 173us/step - loss: 0.0867 - acc: 0.9774 - val_loss: 0.0520 - val_acc: 0.9882\n",
      "Epoch 91/100\n",
      "45000/45000 [==============================] - 8s 172us/step - loss: 0.0875 - acc: 0.9772 - val_loss: 0.0449 - val_acc: 0.9871\n",
      "Epoch 92/100\n",
      "45000/45000 [==============================] - 8s 171us/step - loss: 0.0980 - acc: 0.9754 - val_loss: 0.0389 - val_acc: 0.9889\n",
      "Epoch 93/100\n",
      "45000/45000 [==============================] - 8s 171us/step - loss: 0.0899 - acc: 0.9769 - val_loss: 0.0408 - val_acc: 0.9898\n",
      "Epoch 94/100\n",
      "45000/45000 [==============================] - 8s 171us/step - loss: 0.0985 - acc: 0.9754 - val_loss: 0.0464 - val_acc: 0.9846\n",
      "Epoch 95/100\n",
      "45000/45000 [==============================] - 8s 171us/step - loss: 0.0874 - acc: 0.9770 - val_loss: 0.0708 - val_acc: 0.9860\n",
      "Epoch 96/100\n",
      "45000/45000 [==============================] - 8s 171us/step - loss: 0.0962 - acc: 0.9768 - val_loss: 0.0829 - val_acc: 0.9764\n",
      "Epoch 97/100\n",
      "45000/45000 [==============================] - 8s 171us/step - loss: 0.0950 - acc: 0.9772 - val_loss: 0.0437 - val_acc: 0.9899\n",
      "Epoch 98/100\n",
      "45000/45000 [==============================] - 8s 170us/step - loss: 0.0848 - acc: 0.9788 - val_loss: 0.0499 - val_acc: 0.9877\n",
      "Epoch 99/100\n",
      "45000/45000 [==============================] - 8s 171us/step - loss: 0.1009 - acc: 0.9763 - val_loss: 0.0602 - val_acc: 0.9836\n",
      "Epoch 100/100\n",
      "45000/45000 [==============================] - 8s 171us/step - loss: 0.0973 - acc: 0.9768 - val_loss: 0.0484 - val_acc: 0.9883\n"
     ]
    }
   ],
   "source": [
    "history = model.fit(x_train, y_train, epochs=100, batch_size=64,\n",
    "                    validation_data=(x_val, y_val))"
   ]
  },
  {
   "cell_type": "markdown",
   "metadata": {},
   "source": [
    "Save the trained CNN to an HDF5 file so that it can be reused."
   ]
  },
  {
   "cell_type": "code",
   "execution_count": null,
   "metadata": {},
   "outputs": [],
   "source": [
    "model.save('identify_individuals.h5')"
   ]
  },
  {
   "cell_type": "markdown",
   "metadata": {},
   "source": [
    "Show the evolution of the loss and accuracy during the trainnig."
   ]
  },
  {
   "cell_type": "code",
   "execution_count": null,
   "metadata": {},
   "outputs": [],
   "source": [
    "plot_history(history)"
   ]
  },
  {
   "cell_type": "markdown",
   "metadata": {},
   "source": [
    "Evaluate the CNN's performance on the test data set."
   ]
  },
  {
   "cell_type": "code",
   "execution_count": 21,
   "metadata": {},
   "outputs": [
    {
     "name": "stdout",
     "output_type": "stream",
     "text": [
      "20000/20000 [==============================] - 1s 65us/step\n"
     ]
    },
    {
     "data": {
      "text/plain": [
       "[0.04177384389367512, 0.9902]"
      ]
     },
     "execution_count": 21,
     "metadata": {},
     "output_type": "execute_result"
    }
   ],
   "source": [
    "model.evaluate(x_test, y_test)"
   ]
  }
 ],
 "metadata": {
  "kernelspec": {
   "display_name": "Python 3",
   "language": "python",
   "name": "python3"
  },
  "language_info": {
   "codemirror_mode": {
    "name": "ipython",
    "version": 3
   },
   "file_extension": ".py",
   "mimetype": "text/x-python",
   "name": "python",
   "nbconvert_exporter": "python",
   "pygments_lexer": "ipython3",
   "version": "3.6.6"
  }
 },
 "nbformat": 4,
 "nbformat_minor": 2
}
